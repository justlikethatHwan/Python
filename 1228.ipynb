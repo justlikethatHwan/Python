{
 "cells": [
  {
   "cell_type": "code",
   "execution_count": 1,
   "id": "80266739",
   "metadata": {},
   "outputs": [],
   "source": [
    "import pandas as pd\n",
    "from my_utils import *\n",
    "import matplotlib.pyplot as plt\n",
    "from matplotlib import font_manager, rc"
   ]
  },
  {
   "cell_type": "code",
   "execution_count": 2,
   "id": "51da2053",
   "metadata": {},
   "outputs": [],
   "source": [
    "#그래프를 그릴 때 한글로 설정해줌 # 윈도우-Fonts\n",
    "font_path = \"C:/Windows/Fonts/gulim.ttc\"\n",
    "font = font_manager.FontProperties(fname=font_path).get_name()\n",
    "rc('font', family=font) "
   ]
  },
  {
   "cell_type": "code",
   "execution_count": 219,
   "id": "1e1a9660",
   "metadata": {},
   "outputs": [],
   "source": [
    "conn = connect_mysql()\n",
    "query = 'select * from lol_datas'\n",
    "df = pd.DataFrame(sql_execute_dict(conn,query))\n",
    "conn.close()"
   ]
  },
  {
   "cell_type": "code",
   "execution_count": 220,
   "id": "fcfc8df0",
   "metadata": {},
   "outputs": [
    {
     "data": {
      "text/plain": [
       "Index(['gameId', 'gameDuration', 'gameVersion', 'summonerName',\n",
       "       'summonerLevel', 'participantId', 'championName', 'champExperience',\n",
       "       'teamPosition', 'teamId', 'win', 'kills', 'deaths', 'assists',\n",
       "       'totalDamageDealtToChampions', 'totalDamageTaken', 'g_5', 'g_6', 'g_7',\n",
       "       'g_8', 'g_9', 'g_10', 'g_11', 'g_12', 'g_13', 'g_14', 'g_15', 'g_16',\n",
       "       'g_17', 'g_18', 'g_19', 'g_20', 'g_21', 'g_22', 'g_23', 'g_24', 'g_25'],\n",
       "      dtype='object')"
      ]
     },
     "execution_count": 220,
     "metadata": {},
     "output_type": "execute_result"
    }
   ],
   "source": [
    "df.columns"
   ]
  },
  {
   "cell_type": "code",
   "execution_count": 5,
   "id": "e98f4433",
   "metadata": {},
   "outputs": [],
   "source": [
    "tmp = df[['teamPosition','totalDamageDealtToChampions','totalDamageTaken','g_15']]"
   ]
  },
  {
   "cell_type": "code",
   "execution_count": 7,
   "id": "49adbbdb",
   "metadata": {},
   "outputs": [],
   "source": [
    "tmp = tmp[tmp.teamPosition != '']"
   ]
  },
  {
   "cell_type": "code",
   "execution_count": 8,
   "id": "2418c410",
   "metadata": {},
   "outputs": [
    {
     "data": {
      "text/html": [
       "<div>\n",
       "<style scoped>\n",
       "    .dataframe tbody tr th:only-of-type {\n",
       "        vertical-align: middle;\n",
       "    }\n",
       "\n",
       "    .dataframe tbody tr th {\n",
       "        vertical-align: top;\n",
       "    }\n",
       "\n",
       "    .dataframe thead th {\n",
       "        text-align: right;\n",
       "    }\n",
       "</style>\n",
       "<table border=\"1\" class=\"dataframe\">\n",
       "  <thead>\n",
       "    <tr style=\"text-align: right;\">\n",
       "      <th></th>\n",
       "      <th>teamPosition</th>\n",
       "      <th>totalDamageDealtToChampions</th>\n",
       "      <th>totalDamageTaken</th>\n",
       "      <th>g_15</th>\n",
       "    </tr>\n",
       "  </thead>\n",
       "  <tbody>\n",
       "    <tr>\n",
       "      <th>0</th>\n",
       "      <td>TOP</td>\n",
       "      <td>26829</td>\n",
       "      <td>25034</td>\n",
       "      <td>7412</td>\n",
       "    </tr>\n",
       "    <tr>\n",
       "      <th>1</th>\n",
       "      <td>JUNGLE</td>\n",
       "      <td>26042</td>\n",
       "      <td>26732</td>\n",
       "      <td>6600</td>\n",
       "    </tr>\n",
       "    <tr>\n",
       "      <th>2</th>\n",
       "      <td>MIDDLE</td>\n",
       "      <td>17033</td>\n",
       "      <td>23842</td>\n",
       "      <td>5233</td>\n",
       "    </tr>\n",
       "    <tr>\n",
       "      <th>3</th>\n",
       "      <td>BOTTOM</td>\n",
       "      <td>29884</td>\n",
       "      <td>17827</td>\n",
       "      <td>8404</td>\n",
       "    </tr>\n",
       "    <tr>\n",
       "      <th>4</th>\n",
       "      <td>UTILITY</td>\n",
       "      <td>7470</td>\n",
       "      <td>18088</td>\n",
       "      <td>4614</td>\n",
       "    </tr>\n",
       "    <tr>\n",
       "      <th>...</th>\n",
       "      <td>...</td>\n",
       "      <td>...</td>\n",
       "      <td>...</td>\n",
       "      <td>...</td>\n",
       "    </tr>\n",
       "    <tr>\n",
       "      <th>10303</th>\n",
       "      <td>TOP</td>\n",
       "      <td>11270</td>\n",
       "      <td>28266</td>\n",
       "      <td>4663</td>\n",
       "    </tr>\n",
       "    <tr>\n",
       "      <th>10304</th>\n",
       "      <td>JUNGLE</td>\n",
       "      <td>10846</td>\n",
       "      <td>30488</td>\n",
       "      <td>6023</td>\n",
       "    </tr>\n",
       "    <tr>\n",
       "      <th>10305</th>\n",
       "      <td>MIDDLE</td>\n",
       "      <td>14583</td>\n",
       "      <td>15946</td>\n",
       "      <td>5698</td>\n",
       "    </tr>\n",
       "    <tr>\n",
       "      <th>10306</th>\n",
       "      <td>BOTTOM</td>\n",
       "      <td>14535</td>\n",
       "      <td>20360</td>\n",
       "      <td>5675</td>\n",
       "    </tr>\n",
       "    <tr>\n",
       "      <th>10307</th>\n",
       "      <td>UTILITY</td>\n",
       "      <td>4418</td>\n",
       "      <td>18487</td>\n",
       "      <td>3453</td>\n",
       "    </tr>\n",
       "  </tbody>\n",
       "</table>\n",
       "<p>9500 rows × 4 columns</p>\n",
       "</div>"
      ],
      "text/plain": [
       "      teamPosition  totalDamageDealtToChampions  totalDamageTaken  g_15\n",
       "0              TOP                        26829             25034  7412\n",
       "1           JUNGLE                        26042             26732  6600\n",
       "2           MIDDLE                        17033             23842  5233\n",
       "3           BOTTOM                        29884             17827  8404\n",
       "4          UTILITY                         7470             18088  4614\n",
       "...            ...                          ...               ...   ...\n",
       "10303          TOP                        11270             28266  4663\n",
       "10304       JUNGLE                        10846             30488  6023\n",
       "10305       MIDDLE                        14583             15946  5698\n",
       "10306       BOTTOM                        14535             20360  5675\n",
       "10307      UTILITY                         4418             18487  3453\n",
       "\n",
       "[9500 rows x 4 columns]"
      ]
     },
     "execution_count": 8,
     "metadata": {},
     "output_type": "execute_result"
    }
   ],
   "source": [
    "tmp"
   ]
  },
  {
   "cell_type": "code",
   "execution_count": 10,
   "id": "fc2cb9a7",
   "metadata": {},
   "outputs": [],
   "source": [
    "group_df = tmp.groupby('teamPosition').mean().round()"
   ]
  },
  {
   "cell_type": "code",
   "execution_count": 12,
   "id": "ba09fad8",
   "metadata": {},
   "outputs": [
    {
     "data": {
      "text/plain": [
       "totalDamageDealtToChampions    21463.0\n",
       "totalDamageTaken               19006.0\n",
       "g_15                            5970.0\n",
       "Name: BOTTOM, dtype: float64"
      ]
     },
     "execution_count": 12,
     "metadata": {},
     "output_type": "execute_result"
    }
   ],
   "source": [
    "group_df.loc['BOTTOM']\n",
    "group_df.iloc[0]\n"
   ]
  },
  {
   "cell_type": "code",
   "execution_count": 47,
   "id": "4ceb0ef7",
   "metadata": {},
   "outputs": [
    {
     "data": {
      "text/plain": [
       "Text(0.5, 1.0, '파이차트')"
      ]
     },
     "execution_count": 47,
     "metadata": {},
     "output_type": "execute_result"
    },
    {
     "data": {
      "image/png": "[encoded data removed]",
      "text/plain": [
       "<Figure size 640x480 with 1 Axes>"
      ]
     },
     "metadata": {},
     "output_type": "display_data"
    }
   ],
   "source": [
    "plt.figure()\n",
    "plt.pie(group_df.loc['BOTTOM'], labels = ['딜량','받은피해량','15분 골드'] ,shadow = False, autopct = '%1.1f%%',\n",
    "       explode = (0.03,0.03,0.03))\n",
    "plt.grid(True)\n",
    "plt.legend(loc=4)\n",
    "plt.title('파이차트')"
   ]
  },
  {
   "cell_type": "code",
   "execution_count": 42,
   "id": "dc285df0",
   "metadata": {},
   "outputs": [],
   "source": [
    "my_tmp = tmp[['teamPosition','totalDamageDealtToChampions']]"
   ]
  },
  {
   "cell_type": "code",
   "execution_count": 48,
   "id": "8b811d97",
   "metadata": {},
   "outputs": [],
   "source": [
    "my_tmp.set_index('teamPosition',inplace=True)"
   ]
  },
  {
   "cell_type": "code",
   "execution_count": 50,
   "id": "4f5eb48a",
   "metadata": {},
   "outputs": [
    {
     "data": {
      "text/html": [
       "<div>\n",
       "<style scoped>\n",
       "    .dataframe tbody tr th:only-of-type {\n",
       "        vertical-align: middle;\n",
       "    }\n",
       "\n",
       "    .dataframe tbody tr th {\n",
       "        vertical-align: top;\n",
       "    }\n",
       "\n",
       "    .dataframe thead th {\n",
       "        text-align: right;\n",
       "    }\n",
       "</style>\n",
       "<table border=\"1\" class=\"dataframe\">\n",
       "  <thead>\n",
       "    <tr style=\"text-align: right;\">\n",
       "      <th></th>\n",
       "      <th>totalDamageDealtToChampions</th>\n",
       "    </tr>\n",
       "    <tr>\n",
       "      <th>teamPosition</th>\n",
       "      <th></th>\n",
       "    </tr>\n",
       "  </thead>\n",
       "  <tbody>\n",
       "    <tr>\n",
       "      <th>TOP</th>\n",
       "      <td>26829</td>\n",
       "    </tr>\n",
       "    <tr>\n",
       "      <th>JUNGLE</th>\n",
       "      <td>26042</td>\n",
       "    </tr>\n",
       "    <tr>\n",
       "      <th>MIDDLE</th>\n",
       "      <td>17033</td>\n",
       "    </tr>\n",
       "    <tr>\n",
       "      <th>BOTTOM</th>\n",
       "      <td>29884</td>\n",
       "    </tr>\n",
       "    <tr>\n",
       "      <th>UTILITY</th>\n",
       "      <td>7470</td>\n",
       "    </tr>\n",
       "    <tr>\n",
       "      <th>...</th>\n",
       "      <td>...</td>\n",
       "    </tr>\n",
       "    <tr>\n",
       "      <th>TOP</th>\n",
       "      <td>11270</td>\n",
       "    </tr>\n",
       "    <tr>\n",
       "      <th>JUNGLE</th>\n",
       "      <td>10846</td>\n",
       "    </tr>\n",
       "    <tr>\n",
       "      <th>MIDDLE</th>\n",
       "      <td>14583</td>\n",
       "    </tr>\n",
       "    <tr>\n",
       "      <th>BOTTOM</th>\n",
       "      <td>14535</td>\n",
       "    </tr>\n",
       "    <tr>\n",
       "      <th>UTILITY</th>\n",
       "      <td>4418</td>\n",
       "    </tr>\n",
       "  </tbody>\n",
       "</table>\n",
       "<p>9500 rows × 1 columns</p>\n",
       "</div>"
      ],
      "text/plain": [
       "              totalDamageDealtToChampions\n",
       "teamPosition                             \n",
       "TOP                                 26829\n",
       "JUNGLE                              26042\n",
       "MIDDLE                              17033\n",
       "BOTTOM                              29884\n",
       "UTILITY                              7470\n",
       "...                                   ...\n",
       "TOP                                 11270\n",
       "JUNGLE                              10846\n",
       "MIDDLE                              14583\n",
       "BOTTOM                              14535\n",
       "UTILITY                              4418\n",
       "\n",
       "[9500 rows x 1 columns]"
      ]
     },
     "execution_count": 50,
     "metadata": {},
     "output_type": "execute_result"
    }
   ],
   "source": [
    "my_tmp"
   ]
  },
  {
   "cell_type": "code",
   "execution_count": 53,
   "id": "e7b82efa",
   "metadata": {},
   "outputs": [
    {
     "data": {
      "image/png": "[encoded data removed]",
      "text/plain": [
       "<Figure size 800x600 with 1 Axes>"
      ]
     },
     "metadata": {},
     "output_type": "display_data"
    }
   ],
   "source": [
    "plt.figure(figsize = (8,6))\n",
    "plt.hist(my_tmp, bins = len(my_tmp), label = '전 라인',rwidth = 0.9)\n",
    "\n",
    "plt.xlabel('딜량', size = 14)\n",
    "plt.ylabel('빈도수', size = 14)\n",
    "plt.title('딜량 히스토그램')\n",
    "plt.legend(loc = 'upper right')\n",
    "plt.grid(axis = 'y', alpha = 0.3)"
   ]
  },
  {
   "cell_type": "code",
   "execution_count": 52,
   "id": "5d360c56",
   "metadata": {},
   "outputs": [],
   "source": [
    "import seaborn as sns"
   ]
  },
  {
   "cell_type": "code",
   "execution_count": 54,
   "id": "08c517c8",
   "metadata": {},
   "outputs": [],
   "source": [
    "url = 'http://openapi.seoul.go.kr:8088/(인증키)/xml/GetParkInfo/1/5/'"
   ]
  },
  {
   "cell_type": "code",
   "execution_count": 55,
   "id": "2c4cce1a",
   "metadata": {},
   "outputs": [],
   "source": [
    "df = get_df(url)"
   ]
  },
  {
   "cell_type": "code",
   "execution_count": 56,
   "id": "f2419e6d",
   "metadata": {},
   "outputs": [
    {
     "data": {
      "text/plain": [
       "Index(['PARKING_NAME', 'ADDR', 'PARKING_CODE', 'PARKING_TYPE',\n",
       "       'PARKING_TYPE_NM', 'OPERATION_RULE', 'OPERATION_RULE_NM', 'TEL',\n",
       "       'QUE_STATUS', 'QUE_STATUS_NM', 'CAPACITY', 'PAY_YN', 'PAY_NM',\n",
       "       'NIGHT_FREE_OPEN', 'NIGHT_FREE_OPEN_NM', 'WEEKDAY_BEGIN_TIME',\n",
       "       'WEEKDAY_END_TIME', 'WEEKEND_BEGIN_TIME', 'WEEKEND_END_TIME',\n",
       "       'HOLIDAY_BEGIN_TIME', 'HOLIDAY_END_TIME', 'SYNC_TIME',\n",
       "       'SATURDAY_PAY_YN', 'SATURDAY_PAY_NM', 'HOLIDAY_PAY_YN',\n",
       "       'HOLIDAY_PAY_NM', 'FULLTIME_MONTHLY', 'GRP_PARKNM', 'RATES',\n",
       "       'TIME_RATE', 'ADD_RATES', 'ADD_TIME_RATE', 'BUS_RATES', 'BUS_TIME_RATE',\n",
       "       'BUS_ADD_TIME_RATE', 'BUS_ADD_RATES', 'DAY_MAXIMUM', 'LAT', 'LNG'],\n",
       "      dtype='object')"
      ]
     },
     "execution_count": 56,
     "metadata": {},
     "output_type": "execute_result"
    }
   ],
   "source": [
    "df.columns"
   ]
  },
  {
   "cell_type": "code",
   "execution_count": 57,
   "id": "24ea8dbd",
   "metadata": {},
   "outputs": [],
   "source": [
    "tmp = df[['PARKING_NAME','CAPACITY','PAY_NM','SATURDAY_PAY_NM','HOLIDAY_PAY_NM','FULLTIME_MONTHLY','RATES','ADD_RATES']]"
   ]
  },
  {
   "cell_type": "code",
   "execution_count": 59,
   "id": "c11f5302",
   "metadata": {},
   "outputs": [],
   "source": [
    "tmp.columns = ['주차장명','주차수','유무료','주말유무료','공휴일유무료',\n",
    "                 '월정기권금액','기본요금','추가요금']"
   ]
  },
  {
   "cell_type": "code",
   "execution_count": 61,
   "id": "33f3ca0e",
   "metadata": {},
   "outputs": [],
   "source": [
    "tmp = tmp.drop_duplicates()"
   ]
  },
  {
   "cell_type": "code",
   "execution_count": 63,
   "id": "a45964e3",
   "metadata": {},
   "outputs": [
    {
     "data": {
      "text/html": [
       "<div>\n",
       "<style scoped>\n",
       "    .dataframe tbody tr th:only-of-type {\n",
       "        vertical-align: middle;\n",
       "    }\n",
       "\n",
       "    .dataframe tbody tr th {\n",
       "        vertical-align: top;\n",
       "    }\n",
       "\n",
       "    .dataframe thead th {\n",
       "        text-align: right;\n",
       "    }\n",
       "</style>\n",
       "<table border=\"1\" class=\"dataframe\">\n",
       "  <thead>\n",
       "    <tr style=\"text-align: right;\">\n",
       "      <th></th>\n",
       "      <th>주차장명</th>\n",
       "      <th>주차수</th>\n",
       "      <th>유무료</th>\n",
       "      <th>주말유무료</th>\n",
       "      <th>공휴일유무료</th>\n",
       "      <th>월정기권금액</th>\n",
       "      <th>기본요금</th>\n",
       "      <th>추가요금</th>\n",
       "    </tr>\n",
       "  </thead>\n",
       "  <tbody>\n",
       "    <tr>\n",
       "      <th>0</th>\n",
       "      <td>초안산근린공원주차장(구)</td>\n",
       "      <td>71.0</td>\n",
       "      <td>유료</td>\n",
       "      <td>무료</td>\n",
       "      <td>무료</td>\n",
       "      <td>0</td>\n",
       "      <td>0.0</td>\n",
       "      <td>300.0</td>\n",
       "    </tr>\n",
       "    <tr>\n",
       "      <th>1</th>\n",
       "      <td>마들스타디움(근린공원)(구)</td>\n",
       "      <td>177.0</td>\n",
       "      <td>유료</td>\n",
       "      <td>무료</td>\n",
       "      <td>무료</td>\n",
       "      <td>100000</td>\n",
       "      <td>150.0</td>\n",
       "      <td>150.0</td>\n",
       "    </tr>\n",
       "    <tr>\n",
       "      <th>2</th>\n",
       "      <td>마장동(건물) 공영주차장(구)</td>\n",
       "      <td>54.0</td>\n",
       "      <td>유료</td>\n",
       "      <td>무료</td>\n",
       "      <td>무료</td>\n",
       "      <td>50000</td>\n",
       "      <td>50.0</td>\n",
       "      <td>50.0</td>\n",
       "    </tr>\n",
       "    <tr>\n",
       "      <th>3</th>\n",
       "      <td>영등포여고 공영(구)</td>\n",
       "      <td>98.0</td>\n",
       "      <td>유료</td>\n",
       "      <td>무료</td>\n",
       "      <td>무료</td>\n",
       "      <td>65000</td>\n",
       "      <td>50.0</td>\n",
       "      <td>50.0</td>\n",
       "    </tr>\n",
       "    <tr>\n",
       "      <th>4</th>\n",
       "      <td>당산근린공원 공영(구)</td>\n",
       "      <td>190.0</td>\n",
       "      <td>유료</td>\n",
       "      <td>무료</td>\n",
       "      <td>무료</td>\n",
       "      <td>100000</td>\n",
       "      <td>150.0</td>\n",
       "      <td>150.0</td>\n",
       "    </tr>\n",
       "    <tr>\n",
       "      <th>...</th>\n",
       "      <td>...</td>\n",
       "      <td>...</td>\n",
       "      <td>...</td>\n",
       "      <td>...</td>\n",
       "      <td>...</td>\n",
       "      <td>...</td>\n",
       "      <td>...</td>\n",
       "      <td>...</td>\n",
       "    </tr>\n",
       "    <tr>\n",
       "      <th>965</th>\n",
       "      <td>태화관(구)</td>\n",
       "      <td>1.0</td>\n",
       "      <td>유료</td>\n",
       "      <td>무료</td>\n",
       "      <td>유료</td>\n",
       "      <td>250000</td>\n",
       "      <td>500.0</td>\n",
       "      <td>1000.0</td>\n",
       "    </tr>\n",
       "    <tr>\n",
       "      <th>966</th>\n",
       "      <td>동일상가아파트 이륜차 주차장(구)</td>\n",
       "      <td>1.0</td>\n",
       "      <td>무료</td>\n",
       "      <td>유료</td>\n",
       "      <td>유료</td>\n",
       "      <td>0</td>\n",
       "      <td>0.0</td>\n",
       "      <td>0.0</td>\n",
       "    </tr>\n",
       "    <tr>\n",
       "      <th>974</th>\n",
       "      <td>숭인상가아파트 이륜차 주차장(구)</td>\n",
       "      <td>1.0</td>\n",
       "      <td>무료</td>\n",
       "      <td>유료</td>\n",
       "      <td>유료</td>\n",
       "      <td>0</td>\n",
       "      <td>0.0</td>\n",
       "      <td>0.0</td>\n",
       "    </tr>\n",
       "    <tr>\n",
       "      <th>980</th>\n",
       "      <td>필운대로 도미노피자앞 이륜차 주차장(구)</td>\n",
       "      <td>1.0</td>\n",
       "      <td>무료</td>\n",
       "      <td>유료</td>\n",
       "      <td>유료</td>\n",
       "      <td>0</td>\n",
       "      <td>0.0</td>\n",
       "      <td>0.0</td>\n",
       "    </tr>\n",
       "    <tr>\n",
       "      <th>991</th>\n",
       "      <td>낙산성곽 버스전용 주차장(구)</td>\n",
       "      <td>1.0</td>\n",
       "      <td>무료</td>\n",
       "      <td>유료</td>\n",
       "      <td>유료</td>\n",
       "      <td>0</td>\n",
       "      <td>0.0</td>\n",
       "      <td>0.0</td>\n",
       "    </tr>\n",
       "  </tbody>\n",
       "</table>\n",
       "<p>202 rows × 8 columns</p>\n",
       "</div>"
      ],
      "text/plain": [
       "                       주차장명    주차수 유무료 주말유무료 공휴일유무료  월정기권금액   기본요금    추가요금\n",
       "0             초안산근린공원주차장(구)   71.0  유료    무료     무료       0    0.0   300.0\n",
       "1           마들스타디움(근린공원)(구)  177.0  유료    무료     무료  100000  150.0   150.0\n",
       "2          마장동(건물) 공영주차장(구)   54.0  유료    무료     무료   50000   50.0    50.0\n",
       "3               영등포여고 공영(구)   98.0  유료    무료     무료   65000   50.0    50.0\n",
       "4              당산근린공원 공영(구)  190.0  유료    무료     무료  100000  150.0   150.0\n",
       "..                      ...    ...  ..   ...    ...     ...    ...     ...\n",
       "965                  태화관(구)    1.0  유료    무료     유료  250000  500.0  1000.0\n",
       "966      동일상가아파트 이륜차 주차장(구)    1.0  무료    유료     유료       0    0.0     0.0\n",
       "974      숭인상가아파트 이륜차 주차장(구)    1.0  무료    유료     유료       0    0.0     0.0\n",
       "980  필운대로 도미노피자앞 이륜차 주차장(구)    1.0  무료    유료     유료       0    0.0     0.0\n",
       "991        낙산성곽 버스전용 주차장(구)    1.0  무료    유료     유료       0    0.0     0.0\n",
       "\n",
       "[202 rows x 8 columns]"
      ]
     },
     "execution_count": 63,
     "metadata": {},
     "output_type": "execute_result"
    }
   ],
   "source": [
    "tmp"
   ]
  },
  {
   "cell_type": "code",
   "execution_count": 65,
   "id": "e75a8c50",
   "metadata": {},
   "outputs": [
    {
     "data": {
      "image/png": "[encoded data removed]",
      "text/plain": [
       "<Figure size 640x480 with 1 Axes>"
      ]
     },
     "metadata": {},
     "output_type": "display_data"
    }
   ],
   "source": [
    "plt.figure()\n",
    "plt.title('주차장 유무료')\n",
    "sns.countplot(x='유무료',data=tmp,order=['유료','무료'])\n",
    "plt.grid(True)"
   ]
  },
  {
   "cell_type": "code",
   "execution_count": 68,
   "id": "4ae41238",
   "metadata": {},
   "outputs": [
    {
     "data": {
      "text/plain": [
       "<Axes: title={'center': '기본요금 히스토그램'}, xlabel='기본요금', ylabel='Count'>"
      ]
     },
     "execution_count": 68,
     "metadata": {},
     "output_type": "execute_result"
    },
    {
     "data": {
      "image/png": "[encoded data removed]",
      "text/plain": [
       "<Figure size 640x480 with 1 Axes>"
      ]
     },
     "metadata": {},
     "output_type": "display_data"
    }
   ],
   "source": [
    "plt.figure()\n",
    "plt.title('기본요금 히스토그램')\n",
    "sns.histplot(x=tmp['기본요금'])"
   ]
  },
  {
   "cell_type": "code",
   "execution_count": 69,
   "id": "0b9cd01e",
   "metadata": {},
   "outputs": [
    {
     "data": {
      "text/plain": [
       "<Axes: xlabel='기본요금', ylabel='추가요금'>"
      ]
     },
     "execution_count": 69,
     "metadata": {},
     "output_type": "execute_result"
    },
    {
     "data": {
      "image/png": "[encoded data removed]",
      "text/plain": [
       "<Figure size 640x480 with 1 Axes>"
      ]
     },
     "metadata": {},
     "output_type": "display_data"
    }
   ],
   "source": [
    "sns.histplot(x=tmp['기본요금'],y=tmp['추가요금'])"
   ]
  },
  {
   "cell_type": "code",
   "execution_count": 90,
   "id": "10d2b910",
   "metadata": {},
   "outputs": [
    {
     "ename": "KeyError",
     "evalue": "'기본요금'",
     "output_type": "error",
     "traceback": [
      "\u001b[1;31m---------------------------------------------------------------------------\u001b[0m",
      "\u001b[1;31mKeyError\u001b[0m                                  Traceback (most recent call last)",
      "File \u001b[1;32m~\\anaconda3\\Lib\\site-packages\\pandas\\core\\indexes\\base.py:3653\u001b[0m, in \u001b[0;36mIndex.get_loc\u001b[1;34m(self, key)\u001b[0m\n\u001b[0;32m   3652\u001b[0m \u001b[38;5;28;01mtry\u001b[39;00m:\n\u001b[1;32m-> 3653\u001b[0m     \u001b[38;5;28;01mreturn\u001b[39;00m \u001b[38;5;28mself\u001b[39m\u001b[38;5;241m.\u001b[39m_engine\u001b[38;5;241m.\u001b[39mget_loc(casted_key)\n\u001b[0;32m   3654\u001b[0m \u001b[38;5;28;01mexcept\u001b[39;00m \u001b[38;5;167;01mKeyError\u001b[39;00m \u001b[38;5;28;01mas\u001b[39;00m err:\n",
      "File \u001b[1;32m~\\anaconda3\\Lib\\site-packages\\pandas\\_libs\\index.pyx:147\u001b[0m, in \u001b[0;36mpandas._libs.index.IndexEngine.get_loc\u001b[1;34m()\u001b[0m\n",
      "File \u001b[1;32m~\\anaconda3\\Lib\\site-packages\\pandas\\_libs\\index.pyx:176\u001b[0m, in \u001b[0;36mpandas._libs.index.IndexEngine.get_loc\u001b[1;34m()\u001b[0m\n",
      "File \u001b[1;32mpandas\\_libs\\hashtable_class_helper.pxi:7080\u001b[0m, in \u001b[0;36mpandas._libs.hashtable.PyObjectHashTable.get_item\u001b[1;34m()\u001b[0m\n",
      "File \u001b[1;32mpandas\\_libs\\hashtable_class_helper.pxi:7088\u001b[0m, in \u001b[0;36mpandas._libs.hashtable.PyObjectHashTable.get_item\u001b[1;34m()\u001b[0m\n",
      "\u001b[1;31mKeyError\u001b[0m: '기본요금'",
      "\nThe above exception was the direct cause of the following exception:\n",
      "\u001b[1;31mKeyError\u001b[0m                                  Traceback (most recent call last)",
      "Cell \u001b[1;32mIn[90], line 2\u001b[0m\n\u001b[0;32m      1\u001b[0m plt\u001b[38;5;241m.\u001b[39mfigure()\n\u001b[1;32m----> 2\u001b[0m sns\u001b[38;5;241m.\u001b[39mkdeplot(x\u001b[38;5;241m=\u001b[39mtmp[\u001b[38;5;124m'\u001b[39m\u001b[38;5;124m기본요금\u001b[39m\u001b[38;5;124m'\u001b[39m])\n",
      "File \u001b[1;32m~\\anaconda3\\Lib\\site-packages\\pandas\\core\\frame.py:3761\u001b[0m, in \u001b[0;36mDataFrame.__getitem__\u001b[1;34m(self, key)\u001b[0m\n\u001b[0;32m   3759\u001b[0m \u001b[38;5;28;01mif\u001b[39;00m \u001b[38;5;28mself\u001b[39m\u001b[38;5;241m.\u001b[39mcolumns\u001b[38;5;241m.\u001b[39mnlevels \u001b[38;5;241m>\u001b[39m \u001b[38;5;241m1\u001b[39m:\n\u001b[0;32m   3760\u001b[0m     \u001b[38;5;28;01mreturn\u001b[39;00m \u001b[38;5;28mself\u001b[39m\u001b[38;5;241m.\u001b[39m_getitem_multilevel(key)\n\u001b[1;32m-> 3761\u001b[0m indexer \u001b[38;5;241m=\u001b[39m \u001b[38;5;28mself\u001b[39m\u001b[38;5;241m.\u001b[39mcolumns\u001b[38;5;241m.\u001b[39mget_loc(key)\n\u001b[0;32m   3762\u001b[0m \u001b[38;5;28;01mif\u001b[39;00m is_integer(indexer):\n\u001b[0;32m   3763\u001b[0m     indexer \u001b[38;5;241m=\u001b[39m [indexer]\n",
      "File \u001b[1;32m~\\anaconda3\\Lib\\site-packages\\pandas\\core\\indexes\\base.py:3655\u001b[0m, in \u001b[0;36mIndex.get_loc\u001b[1;34m(self, key)\u001b[0m\n\u001b[0;32m   3653\u001b[0m     \u001b[38;5;28;01mreturn\u001b[39;00m \u001b[38;5;28mself\u001b[39m\u001b[38;5;241m.\u001b[39m_engine\u001b[38;5;241m.\u001b[39mget_loc(casted_key)\n\u001b[0;32m   3654\u001b[0m \u001b[38;5;28;01mexcept\u001b[39;00m \u001b[38;5;167;01mKeyError\u001b[39;00m \u001b[38;5;28;01mas\u001b[39;00m err:\n\u001b[1;32m-> 3655\u001b[0m     \u001b[38;5;28;01mraise\u001b[39;00m \u001b[38;5;167;01mKeyError\u001b[39;00m(key) \u001b[38;5;28;01mfrom\u001b[39;00m \u001b[38;5;21;01merr\u001b[39;00m\n\u001b[0;32m   3656\u001b[0m \u001b[38;5;28;01mexcept\u001b[39;00m \u001b[38;5;167;01mTypeError\u001b[39;00m:\n\u001b[0;32m   3657\u001b[0m     \u001b[38;5;66;03m# If we have a listlike key, _check_indexing_error will raise\u001b[39;00m\n\u001b[0;32m   3658\u001b[0m     \u001b[38;5;66;03m#  InvalidIndexError. Otherwise we fall through and re-raise\u001b[39;00m\n\u001b[0;32m   3659\u001b[0m     \u001b[38;5;66;03m#  the TypeError.\u001b[39;00m\n\u001b[0;32m   3660\u001b[0m     \u001b[38;5;28mself\u001b[39m\u001b[38;5;241m.\u001b[39m_check_indexing_error(key)\n",
      "\u001b[1;31mKeyError\u001b[0m: '기본요금'"
     ]
    },
    {
     "data": {
      "text/plain": [
       "<Figure size 640x480 with 0 Axes>"
      ]
     },
     "metadata": {},
     "output_type": "display_data"
    }
   ],
   "source": [
    "plt.figure()\n",
    "sns.kdeplot(x=tmp['기본요금']) # kdeplot=분포도"
   ]
  },
  {
   "cell_type": "code",
   "execution_count": 71,
   "id": "7dc4d32c",
   "metadata": {},
   "outputs": [],
   "source": [
    "conn = connect_mysql()\n",
    "query = 'select * from lol_datas'\n",
    "lol_df = pd.DataFrame(sql_execute_dict(conn,query))"
   ]
  },
  {
   "cell_type": "markdown",
   "id": "26c4bb05",
   "metadata": {},
   "source": [
    "### 포지션중 하나 선택해서 15분 골드와 20분 골드를 kdeplot 으로 만들어서 보기"
   ]
  },
  {
   "cell_type": "code",
   "execution_count": 81,
   "id": "1932cea6",
   "metadata": {},
   "outputs": [],
   "source": [
    "tmp = lol_df[['teamPosition','g_15','g_20']]"
   ]
  },
  {
   "cell_type": "code",
   "execution_count": 102,
   "id": "5940dc0e",
   "metadata": {},
   "outputs": [],
   "source": [
    "tmp.columns = ['포지션','15분골드','20분골드']"
   ]
  },
  {
   "cell_type": "code",
   "execution_count": 104,
   "id": "fcb34748",
   "metadata": {
    "scrolled": false
   },
   "outputs": [
    {
     "data": {
      "text/html": [
       "<div>\n",
       "<style scoped>\n",
       "    .dataframe tbody tr th:only-of-type {\n",
       "        vertical-align: middle;\n",
       "    }\n",
       "\n",
       "    .dataframe tbody tr th {\n",
       "        vertical-align: top;\n",
       "    }\n",
       "\n",
       "    .dataframe thead th {\n",
       "        text-align: right;\n",
       "    }\n",
       "</style>\n",
       "<table border=\"1\" class=\"dataframe\">\n",
       "  <thead>\n",
       "    <tr style=\"text-align: right;\">\n",
       "      <th></th>\n",
       "      <th>포지션</th>\n",
       "      <th>15분골드</th>\n",
       "      <th>20분골드</th>\n",
       "    </tr>\n",
       "  </thead>\n",
       "  <tbody>\n",
       "    <tr>\n",
       "      <th>0</th>\n",
       "      <td>TOP</td>\n",
       "      <td>7412</td>\n",
       "      <td>10439</td>\n",
       "    </tr>\n",
       "    <tr>\n",
       "      <th>1</th>\n",
       "      <td>TOP</td>\n",
       "      <td>6600</td>\n",
       "      <td>9488</td>\n",
       "    </tr>\n",
       "    <tr>\n",
       "      <th>2</th>\n",
       "      <td>TOP</td>\n",
       "      <td>5233</td>\n",
       "      <td>7161</td>\n",
       "    </tr>\n",
       "    <tr>\n",
       "      <th>3</th>\n",
       "      <td>TOP</td>\n",
       "      <td>8404</td>\n",
       "      <td>12488</td>\n",
       "    </tr>\n",
       "    <tr>\n",
       "      <th>4</th>\n",
       "      <td>TOP</td>\n",
       "      <td>4614</td>\n",
       "      <td>5909</td>\n",
       "    </tr>\n",
       "    <tr>\n",
       "      <th>...</th>\n",
       "      <td>...</td>\n",
       "      <td>...</td>\n",
       "      <td>...</td>\n",
       "    </tr>\n",
       "    <tr>\n",
       "      <th>10311</th>\n",
       "      <td>TOP</td>\n",
       "      <td>12750</td>\n",
       "      <td>0</td>\n",
       "    </tr>\n",
       "    <tr>\n",
       "      <th>10312</th>\n",
       "      <td>TOP</td>\n",
       "      <td>16180</td>\n",
       "      <td>0</td>\n",
       "    </tr>\n",
       "    <tr>\n",
       "      <th>10313</th>\n",
       "      <td>TOP</td>\n",
       "      <td>16150</td>\n",
       "      <td>0</td>\n",
       "    </tr>\n",
       "    <tr>\n",
       "      <th>10314</th>\n",
       "      <td>TOP</td>\n",
       "      <td>16495</td>\n",
       "      <td>0</td>\n",
       "    </tr>\n",
       "    <tr>\n",
       "      <th>10315</th>\n",
       "      <td>TOP</td>\n",
       "      <td>16530</td>\n",
       "      <td>0</td>\n",
       "    </tr>\n",
       "  </tbody>\n",
       "</table>\n",
       "<p>10316 rows × 3 columns</p>\n",
       "</div>"
      ],
      "text/plain": [
       "       포지션  15분골드  20분골드\n",
       "0      TOP   7412  10439\n",
       "1      TOP   6600   9488\n",
       "2      TOP   5233   7161\n",
       "3      TOP   8404  12488\n",
       "4      TOP   4614   5909\n",
       "...    ...    ...    ...\n",
       "10311  TOP  12750      0\n",
       "10312  TOP  16180      0\n",
       "10313  TOP  16150      0\n",
       "10314  TOP  16495      0\n",
       "10315  TOP  16530      0\n",
       "\n",
       "[10316 rows x 3 columns]"
      ]
     },
     "execution_count": 104,
     "metadata": {},
     "output_type": "execute_result"
    }
   ],
   "source": [
    "tmp"
   ]
  },
  {
   "cell_type": "code",
   "execution_count": 111,
   "id": "1e8931b1",
   "metadata": {},
   "outputs": [
    {
     "name": "stderr",
     "output_type": "stream",
     "text": [
      "C:\\Users\\NT950QDB-KC59S\\AppData\\Local\\Temp\\ipykernel_95340\\2559460033.py:5: FutureWarning: \n",
      "\n",
      "`shade` is now deprecated in favor of `fill`; setting `fill=True`.\n",
      "This will become an error in seaborn v0.14.0; please update your code.\n",
      "\n",
      "  sns.kdeplot(tmp['15분골드'],shade=True,color='black',label = '15분골드')\n",
      "C:\\Users\\NT950QDB-KC59S\\AppData\\Local\\Temp\\ipykernel_95340\\2559460033.py:6: FutureWarning: \n",
      "\n",
      "`shade` is now deprecated in favor of `fill`; setting `fill=True`.\n",
      "This will become an error in seaborn v0.14.0; please update your code.\n",
      "\n",
      "  sns.kdeplot(tmp['20분골드'],shade=True,color='green',label = '20분골드')\n"
     ]
    },
    {
     "data": {
      "text/plain": [
       "<matplotlib.legend.Legend at 0x1e801447d50>"
      ]
     },
     "execution_count": 111,
     "metadata": {},
     "output_type": "execute_result"
    },
    {
     "data": {
      "image/png": "[encoded data removed]",
      "text/plain": [
       "<Figure size 640x480 with 1 Axes>"
      ]
     },
     "metadata": {},
     "output_type": "display_data"
    }
   ],
   "source": [
    "plt.figure()\n",
    "plt.grid(True)\n",
    "plt.xlabel('골드')\n",
    "plt.ylabel('TOP')\n",
    "sns.kdeplot(tmp['15분골드'],shade=True,color='black',label = '15분골드')\n",
    "sns.kdeplot(tmp['20분골드'],shade=True,color='green',label = '20분골드')\n",
    "plt.legend()"
   ]
  },
  {
   "cell_type": "code",
   "execution_count": 112,
   "id": "623ce065",
   "metadata": {},
   "outputs": [],
   "source": [
    "import seaborn as sns"
   ]
  },
  {
   "cell_type": "code",
   "execution_count": 113,
   "id": "9c28912b",
   "metadata": {},
   "outputs": [],
   "source": [
    "url = 'http://openapi.seoul.go.kr:8088/(인증키)/xml/GetParkInfo/1/5/'"
   ]
  },
  {
   "cell_type": "code",
   "execution_count": 114,
   "id": "45d36656",
   "metadata": {},
   "outputs": [],
   "source": [
    "df = get_df(url)"
   ]
  },
  {
   "cell_type": "code",
   "execution_count": 115,
   "id": "cb0e653b",
   "metadata": {},
   "outputs": [
    {
     "data": {
      "text/plain": [
       "Index(['PARKING_NAME', 'ADDR', 'PARKING_CODE', 'PARKING_TYPE',\n",
       "       'PARKING_TYPE_NM', 'OPERATION_RULE', 'OPERATION_RULE_NM', 'TEL',\n",
       "       'QUE_STATUS', 'QUE_STATUS_NM', 'CAPACITY', 'PAY_YN', 'PAY_NM',\n",
       "       'NIGHT_FREE_OPEN', 'NIGHT_FREE_OPEN_NM', 'WEEKDAY_BEGIN_TIME',\n",
       "       'WEEKDAY_END_TIME', 'WEEKEND_BEGIN_TIME', 'WEEKEND_END_TIME',\n",
       "       'HOLIDAY_BEGIN_TIME', 'HOLIDAY_END_TIME', 'SYNC_TIME',\n",
       "       'SATURDAY_PAY_YN', 'SATURDAY_PAY_NM', 'HOLIDAY_PAY_YN',\n",
       "       'HOLIDAY_PAY_NM', 'FULLTIME_MONTHLY', 'GRP_PARKNM', 'RATES',\n",
       "       'TIME_RATE', 'ADD_RATES', 'ADD_TIME_RATE', 'BUS_RATES', 'BUS_TIME_RATE',\n",
       "       'BUS_ADD_TIME_RATE', 'BUS_ADD_RATES', 'DAY_MAXIMUM', 'LAT', 'LNG'],\n",
       "      dtype='object')"
      ]
     },
     "execution_count": 115,
     "metadata": {},
     "output_type": "execute_result"
    }
   ],
   "source": [
    "df.columns"
   ]
  },
  {
   "cell_type": "code",
   "execution_count": 116,
   "id": "188f96cf",
   "metadata": {},
   "outputs": [],
   "source": [
    "tmp = df[['PARKING_NAME','CAPACITY','PAY_NM','SATURDAY_PAY_NM','HOLIDAY_PAY_NM','FULLTIME_MONTHLY','RATES','ADD_RATES']]"
   ]
  },
  {
   "cell_type": "code",
   "execution_count": 117,
   "id": "bc71fd04",
   "metadata": {},
   "outputs": [],
   "source": [
    "tmp.columns = ['주차장명','주차수','유무료','주말유무료','공휴일유무료',\n",
    "                 '월정기권금액','기본요금','추가요금']"
   ]
  },
  {
   "cell_type": "code",
   "execution_count": 120,
   "id": "9bc6b80a",
   "metadata": {},
   "outputs": [
    {
     "name": "stderr",
     "output_type": "stream",
     "text": [
      "C:\\Users\\NT950QDB-KC59S\\anaconda3\\Lib\\site-packages\\seaborn\\axisgrid.py:118: UserWarning: The figure layout has changed to tight\n",
      "  self._figure.tight_layout(*args, **kwargs)\n"
     ]
    },
    {
     "data": {
      "text/plain": [
       "<seaborn.axisgrid.FacetGrid at 0x1e801bdac50>"
      ]
     },
     "execution_count": 120,
     "metadata": {},
     "output_type": "execute_result"
    },
    {
     "data": {
      "image/png": "[encoded data removed]",
      "text/plain": [
       "<Figure size 500x500 with 1 Axes>"
      ]
     },
     "metadata": {},
     "output_type": "display_data"
    }
   ],
   "source": [
    "sns.displot(x=tmp['추가요금'],kind = 'ecdf')"
   ]
  },
  {
   "cell_type": "code",
   "execution_count": 121,
   "id": "2d082ce1",
   "metadata": {},
   "outputs": [
    {
     "data": {
      "text/plain": [
       "<Axes: xlabel='기본요금', ylabel='Density'>"
      ]
     },
     "execution_count": 121,
     "metadata": {},
     "output_type": "execute_result"
    },
    {
     "data": {
      "image/png": "[encoded data removed]",
      "text/plain": [
       "<Figure size 640x480 with 1 Axes>"
      ]
     },
     "metadata": {},
     "output_type": "display_data"
    }
   ],
   "source": [
    "sns.kdeplot(x=tmp['기본요금'])\n",
    "sns.rugplot(x=tmp['기본요금'])"
   ]
  },
  {
   "cell_type": "code",
   "execution_count": 122,
   "id": "22192e6f",
   "metadata": {},
   "outputs": [
    {
     "data": {
      "text/plain": [
       "<Axes: xlabel='주말유무료', ylabel='기본요금'>"
      ]
     },
     "execution_count": 122,
     "metadata": {},
     "output_type": "execute_result"
    },
    {
     "data": {
      "image/png": "[encoded data removed]",
      "text/plain": [
       "<Figure size 640x480 with 1 Axes>"
      ]
     },
     "metadata": {},
     "output_type": "display_data"
    }
   ],
   "source": [
    "sns.barplot(x=tmp['주말유무료'],y=tmp['기본요금'])"
   ]
  },
  {
   "cell_type": "code",
   "execution_count": 127,
   "id": "b3e88bd2",
   "metadata": {},
   "outputs": [
    {
     "data": {
      "text/plain": [
       "<Axes: xlabel='주말유무료', ylabel='count'>"
      ]
     },
     "execution_count": 127,
     "metadata": {},
     "output_type": "execute_result"
    },
    {
     "data": {
      "image/png": "[encoded data removed]",
      "text/plain": [
       "<Figure size 640x480 with 1 Axes>"
      ]
     },
     "metadata": {},
     "output_type": "display_data"
    }
   ],
   "source": [
    "sns.countplot(x=tmp['주말유무료'])"
   ]
  },
  {
   "cell_type": "code",
   "execution_count": 128,
   "id": "5cd8ac16",
   "metadata": {},
   "outputs": [
    {
     "data": {
      "text/plain": [
       "<Axes: xlabel='주말유무료', ylabel='기본요금'>"
      ]
     },
     "execution_count": 128,
     "metadata": {},
     "output_type": "execute_result"
    },
    {
     "data": {
      "image/png": "[encoded data removed]",
      "text/plain": [
       "<Figure size 640x480 with 1 Axes>"
      ]
     },
     "metadata": {},
     "output_type": "display_data"
    }
   ],
   "source": [
    "sns.violinplot(x=tmp['주말유무료'], y=tmp['기본요금'])"
   ]
  },
  {
   "cell_type": "code",
   "execution_count": 129,
   "id": "b8cd6e13",
   "metadata": {},
   "outputs": [
    {
     "data": {
      "text/plain": [
       "<Axes: xlabel='주말유무료', ylabel='기본요금'>"
      ]
     },
     "execution_count": 129,
     "metadata": {},
     "output_type": "execute_result"
    },
    {
     "data": {
      "image/png": "[encoded data removed]",
      "text/plain": [
       "<Figure size 640x480 with 1 Axes>"
      ]
     },
     "metadata": {},
     "output_type": "display_data"
    }
   ],
   "source": [
    "sns.stripplot(x=tmp['주말유무료'],y=tmp['기본요금'])"
   ]
  },
  {
   "cell_type": "code",
   "execution_count": 131,
   "id": "2ed73b5d",
   "metadata": {},
   "outputs": [
    {
     "data": {
      "text/plain": [
       "Index(['주차장명', '주차수', '유무료', '주말유무료', '공휴일유무료', '월정기권금액', '기본요금', '추가요금'], dtype='object')"
      ]
     },
     "execution_count": 131,
     "metadata": {},
     "output_type": "execute_result"
    }
   ],
   "source": [
    "tmp.columns"
   ]
  },
  {
   "cell_type": "code",
   "execution_count": 132,
   "id": "04a02a6f",
   "metadata": {},
   "outputs": [],
   "source": [
    "tmp.set_index('주차장명',inplace = True)"
   ]
  },
  {
   "cell_type": "code",
   "execution_count": 133,
   "id": "24d2d90b",
   "metadata": {},
   "outputs": [],
   "source": [
    "test = tmp[['주차수','기본요금','추가요금']]"
   ]
  },
  {
   "cell_type": "code",
   "execution_count": 135,
   "id": "2a32923d",
   "metadata": {},
   "outputs": [
    {
     "data": {
      "text/html": [
       "<div>\n",
       "<style scoped>\n",
       "    .dataframe tbody tr th:only-of-type {\n",
       "        vertical-align: middle;\n",
       "    }\n",
       "\n",
       "    .dataframe tbody tr th {\n",
       "        vertical-align: top;\n",
       "    }\n",
       "\n",
       "    .dataframe thead th {\n",
       "        text-align: right;\n",
       "    }\n",
       "</style>\n",
       "<table border=\"1\" class=\"dataframe\">\n",
       "  <thead>\n",
       "    <tr style=\"text-align: right;\">\n",
       "      <th></th>\n",
       "      <th>주차수</th>\n",
       "      <th>기본요금</th>\n",
       "      <th>추가요금</th>\n",
       "    </tr>\n",
       "  </thead>\n",
       "  <tbody>\n",
       "    <tr>\n",
       "      <th>주차수</th>\n",
       "      <td>1.000000</td>\n",
       "      <td>0.002591</td>\n",
       "      <td>-0.167698</td>\n",
       "    </tr>\n",
       "    <tr>\n",
       "      <th>기본요금</th>\n",
       "      <td>0.002591</td>\n",
       "      <td>1.000000</td>\n",
       "      <td>0.607381</td>\n",
       "    </tr>\n",
       "    <tr>\n",
       "      <th>추가요금</th>\n",
       "      <td>-0.167698</td>\n",
       "      <td>0.607381</td>\n",
       "      <td>1.000000</td>\n",
       "    </tr>\n",
       "  </tbody>\n",
       "</table>\n",
       "</div>"
      ],
      "text/plain": [
       "           주차수      기본요금      추가요금\n",
       "주차수   1.000000  0.002591 -0.167698\n",
       "기본요금  0.002591  1.000000  0.607381\n",
       "추가요금 -0.167698  0.607381  1.000000"
      ]
     },
     "execution_count": 135,
     "metadata": {},
     "output_type": "execute_result"
    }
   ],
   "source": [
    "test.corr()"
   ]
  },
  {
   "cell_type": "code",
   "execution_count": 138,
   "id": "c1619df4",
   "metadata": {},
   "outputs": [
    {
     "data": {
      "text/plain": [
       "<Axes: >"
      ]
     },
     "execution_count": 138,
     "metadata": {},
     "output_type": "execute_result"
    },
    {
     "data": {
      "image/png": "[encoded data removed]",
      "text/plain": [
       "<Figure size 640x480 with 2 Axes>"
      ]
     },
     "metadata": {},
     "output_type": "display_data"
    }
   ],
   "source": [
    "sns.heatmap(test.corr(),annot = True, cmap='viridis')"
   ]
  },
  {
   "cell_type": "code",
   "execution_count": 140,
   "id": "deb2ab6e",
   "metadata": {},
   "outputs": [
    {
     "data": {
      "text/plain": [
       "<seaborn.matrix.ClusterGrid at 0x1e8012f9c10>"
      ]
     },
     "execution_count": 140,
     "metadata": {},
     "output_type": "execute_result"
    },
    {
     "data": {
      "image/png": "[encoded data removed]",
      "text/plain": [
       "<Figure size 1000x1000 with 4 Axes>"
      ]
     },
     "metadata": {},
     "output_type": "display_data"
    }
   ],
   "source": [
    "sns.clustermap(test.corr(),annot =True)"
   ]
  },
  {
   "cell_type": "code",
   "execution_count": 143,
   "id": "90a708d3",
   "metadata": {},
   "outputs": [
    {
     "name": "stderr",
     "output_type": "stream",
     "text": [
      "C:\\Users\\NT950QDB-KC59S\\anaconda3\\Lib\\site-packages\\seaborn\\axisgrid.py:118: UserWarning: The figure layout has changed to tight\n",
      "  self._figure.tight_layout(*args, **kwargs)\n"
     ]
    },
    {
     "data": {
      "text/plain": [
       "<seaborn.axisgrid.FacetGrid at 0x1e807e4df10>"
      ]
     },
     "execution_count": 143,
     "metadata": {},
     "output_type": "execute_result"
    },
    {
     "data": {
      "image/png": "[encoded data removed]",
      "text/plain": [
       "<Figure size 600x600 with 4 Axes>"
      ]
     },
     "metadata": {},
     "output_type": "display_data"
    }
   ],
   "source": [
    "sns.FacetGrid(tmp,col = '주말유무료',row = '공휴일유무료').map(plt.hist,'기본요금')"
   ]
  },
  {
   "cell_type": "code",
   "execution_count": 144,
   "id": "1eea9e1f",
   "metadata": {},
   "outputs": [
    {
     "data": {
      "text/plain": [
       "<seaborn.axisgrid.JointGrid at 0x1e808ebb7d0>"
      ]
     },
     "execution_count": 144,
     "metadata": {},
     "output_type": "execute_result"
    },
    {
     "data": {
      "image/png": "[encoded data removed]",
      "text/plain": [
       "<Figure size 600x600 with 3 Axes>"
      ]
     },
     "metadata": {},
     "output_type": "display_data"
    }
   ],
   "source": [
    "sns.jointplot(x=tmp['기본요금'],y=tmp['추가요금'],kind = 'scatter')"
   ]
  },
  {
   "cell_type": "code",
   "execution_count": 145,
   "id": "71861ac9",
   "metadata": {},
   "outputs": [
    {
     "data": {
      "text/plain": [
       "<Axes: xlabel='기본요금', ylabel='추가요금'>"
      ]
     },
     "execution_count": 145,
     "metadata": {},
     "output_type": "execute_result"
    },
    {
     "data": {
      "image/png": "[encoded data removed]",
      "text/plain": [
       "<Figure size 640x480 with 1 Axes>"
      ]
     },
     "metadata": {},
     "output_type": "display_data"
    }
   ],
   "source": [
    "sns.regplot(x='기본요금',y='추가요금',data=tmp)"
   ]
  },
  {
   "cell_type": "code",
   "execution_count": 147,
   "id": "15219075",
   "metadata": {},
   "outputs": [
    {
     "name": "stderr",
     "output_type": "stream",
     "text": [
      "C:\\Users\\NT950QDB-KC59S\\anaconda3\\Lib\\site-packages\\seaborn\\axisgrid.py:118: UserWarning: The figure layout has changed to tight\n",
      "  self._figure.tight_layout(*args, **kwargs)\n"
     ]
    },
    {
     "data": {
      "text/plain": [
       "<seaborn.axisgrid.FacetGrid at 0x1e809b4e3d0>"
      ]
     },
     "execution_count": 147,
     "metadata": {},
     "output_type": "execute_result"
    },
    {
     "data": {
      "image/png": "[encoded data removed]",
      "text/plain": [
       "<Figure size 580.486x500 with 1 Axes>"
      ]
     },
     "metadata": {},
     "output_type": "display_data"
    }
   ],
   "source": [
    "sns.lmplot(x='기본요금',y='추가요금',data=tmp,hue='주말유무료')"
   ]
  },
  {
   "cell_type": "code",
   "execution_count": 148,
   "id": "251888cc",
   "metadata": {},
   "outputs": [
    {
     "name": "stderr",
     "output_type": "stream",
     "text": [
      "C:\\Users\\NT950QDB-KC59S\\anaconda3\\Lib\\site-packages\\seaborn\\axisgrid.py:118: UserWarning: The figure layout has changed to tight\n",
      "  self._figure.tight_layout(*args, **kwargs)\n"
     ]
    },
    {
     "data": {
      "text/plain": [
       "<seaborn.axisgrid.FacetGrid at 0x1e807e775d0>"
      ]
     },
     "execution_count": 148,
     "metadata": {},
     "output_type": "execute_result"
    },
    {
     "data": {
      "image/png": "[encoded data removed]",
      "text/plain": [
       "<Figure size 1082x1000 with 4 Axes>"
      ]
     },
     "metadata": {},
     "output_type": "display_data"
    }
   ],
   "source": [
    "sns.relplot(x='주차수',y='추가요금',hue ='기본요금',row = '주말유무료',col='공휴일유무료',data=tmp)"
   ]
  },
  {
   "cell_type": "code",
   "execution_count": 149,
   "id": "b8362f2f",
   "metadata": {},
   "outputs": [
    {
     "data": {
      "text/html": [
       "        <script type=\"text/javascript\">\n",
       "        window.PlotlyConfig = {MathJaxConfig: 'local'};\n",
       "        if (window.MathJax && window.MathJax.Hub && window.MathJax.Hub.Config) {window.MathJax.Hub.Config({SVG: {font: \"STIX-Web\"}});}\n",
       "        if (typeof require !== 'undefined') {\n",
       "        require.undef(\"plotly\");\n",
       "        requirejs.config({\n",
       "            paths: {\n",
       "                'plotly': ['https://cdn.plot.ly/plotly-2.12.1.min']\n",
       "            }\n",
       "        });\n",
       "        require(['plotly'], function(Plotly) {\n",
       "            window._Plotly = Plotly;\n",
       "        });\n",
       "        }\n",
       "        </script>\n",
       "        "
      ]
     },
     "metadata": {},
     "output_type": "display_data"
    }
   ],
   "source": [
    "import plotly\n",
    "import plotly.graph_objs as go\n",
    "plotly.offline.init_notebook_mode(connected=True)"
   ]
  },
  {
   "cell_type": "code",
   "execution_count": 150,
   "id": "98d590f6",
   "metadata": {},
   "outputs": [],
   "source": [
    "url = \"https://api.upbit.com/v1/candles/days\"\n",
    "coin_lst = ['KRW-BTC','KRW-ETH','KRW-XRP']\n",
    "headers = {\"Accept\": \"application/json\"}\n",
    "df = pd.DataFrame()\n",
    "for c in coin_lst:\n",
    "    querystring = {\"market\":c, \"count\":\"200\"}\n",
    "    response = requests.request(\"GET\", url, headers=headers, params=querystring)\n",
    "    df = pd.concat([df,pd.DataFrame(response.json())])"
   ]
  },
  {
   "cell_type": "code",
   "execution_count": 152,
   "id": "a78e8d0b",
   "metadata": {},
   "outputs": [
    {
     "data": {
      "text/html": [
       "<div>\n",
       "<style scoped>\n",
       "    .dataframe tbody tr th:only-of-type {\n",
       "        vertical-align: middle;\n",
       "    }\n",
       "\n",
       "    .dataframe tbody tr th {\n",
       "        vertical-align: top;\n",
       "    }\n",
       "\n",
       "    .dataframe thead th {\n",
       "        text-align: right;\n",
       "    }\n",
       "</style>\n",
       "<table border=\"1\" class=\"dataframe\">\n",
       "  <thead>\n",
       "    <tr style=\"text-align: right;\">\n",
       "      <th></th>\n",
       "      <th>market</th>\n",
       "      <th>candle_date_time_utc</th>\n",
       "      <th>candle_date_time_kst</th>\n",
       "      <th>opening_price</th>\n",
       "      <th>high_price</th>\n",
       "      <th>low_price</th>\n",
       "      <th>trade_price</th>\n",
       "      <th>timestamp</th>\n",
       "      <th>candle_acc_trade_price</th>\n",
       "      <th>candle_acc_trade_volume</th>\n",
       "      <th>prev_closing_price</th>\n",
       "      <th>change_price</th>\n",
       "      <th>change_rate</th>\n",
       "    </tr>\n",
       "  </thead>\n",
       "  <tbody>\n",
       "    <tr>\n",
       "      <th>0</th>\n",
       "      <td>KRW-BTC</td>\n",
       "      <td>2023-12-28T00:00:00</td>\n",
       "      <td>2023-12-28T09:00:00</td>\n",
       "      <td>57920000.0</td>\n",
       "      <td>58468000.0</td>\n",
       "      <td>57474000.0</td>\n",
       "      <td>57720000.0</td>\n",
       "      <td>1703736768522</td>\n",
       "      <td>5.539208e+10</td>\n",
       "      <td>9.572900e+02</td>\n",
       "      <td>57920000.0</td>\n",
       "      <td>-200000.0</td>\n",
       "      <td>-0.003453</td>\n",
       "    </tr>\n",
       "    <tr>\n",
       "      <th>1</th>\n",
       "      <td>KRW-BTC</td>\n",
       "      <td>2023-12-27T00:00:00</td>\n",
       "      <td>2023-12-27T09:00:00</td>\n",
       "      <td>57032000.0</td>\n",
       "      <td>58212000.0</td>\n",
       "      <td>56349000.0</td>\n",
       "      <td>57920000.0</td>\n",
       "      <td>1703721598803</td>\n",
       "      <td>2.270096e+11</td>\n",
       "      <td>3.965843e+03</td>\n",
       "      <td>57032000.0</td>\n",
       "      <td>888000.0</td>\n",
       "      <td>0.015570</td>\n",
       "    </tr>\n",
       "    <tr>\n",
       "      <th>2</th>\n",
       "      <td>KRW-BTC</td>\n",
       "      <td>2023-12-26T00:00:00</td>\n",
       "      <td>2023-12-26T09:00:00</td>\n",
       "      <td>58042000.0</td>\n",
       "      <td>58140000.0</td>\n",
       "      <td>56349000.0</td>\n",
       "      <td>57032000.0</td>\n",
       "      <td>1703635199803</td>\n",
       "      <td>2.708228e+11</td>\n",
       "      <td>4.735230e+03</td>\n",
       "      <td>58042000.0</td>\n",
       "      <td>-1010000.0</td>\n",
       "      <td>-0.017401</td>\n",
       "    </tr>\n",
       "    <tr>\n",
       "      <th>3</th>\n",
       "      <td>KRW-BTC</td>\n",
       "      <td>2023-12-25T00:00:00</td>\n",
       "      <td>2023-12-25T09:00:00</td>\n",
       "      <td>58002000.0</td>\n",
       "      <td>58659000.0</td>\n",
       "      <td>57464000.0</td>\n",
       "      <td>58042000.0</td>\n",
       "      <td>1703548799890</td>\n",
       "      <td>2.721330e+11</td>\n",
       "      <td>4.687209e+03</td>\n",
       "      <td>58002000.0</td>\n",
       "      <td>40000.0</td>\n",
       "      <td>0.000690</td>\n",
       "    </tr>\n",
       "    <tr>\n",
       "      <th>4</th>\n",
       "      <td>KRW-BTC</td>\n",
       "      <td>2023-12-24T00:00:00</td>\n",
       "      <td>2023-12-24T09:00:00</td>\n",
       "      <td>59249000.0</td>\n",
       "      <td>59600000.0</td>\n",
       "      <td>58000000.0</td>\n",
       "      <td>58002000.0</td>\n",
       "      <td>1703462399990</td>\n",
       "      <td>2.200170e+11</td>\n",
       "      <td>3.729334e+03</td>\n",
       "      <td>59250000.0</td>\n",
       "      <td>-1248000.0</td>\n",
       "      <td>-0.021063</td>\n",
       "    </tr>\n",
       "    <tr>\n",
       "      <th>...</th>\n",
       "      <td>...</td>\n",
       "      <td>...</td>\n",
       "      <td>...</td>\n",
       "      <td>...</td>\n",
       "      <td>...</td>\n",
       "      <td>...</td>\n",
       "      <td>...</td>\n",
       "      <td>...</td>\n",
       "      <td>...</td>\n",
       "      <td>...</td>\n",
       "      <td>...</td>\n",
       "      <td>...</td>\n",
       "      <td>...</td>\n",
       "    </tr>\n",
       "    <tr>\n",
       "      <th>195</th>\n",
       "      <td>KRW-XRP</td>\n",
       "      <td>2023-06-16T00:00:00</td>\n",
       "      <td>2023-06-16T09:00:00</td>\n",
       "      <td>627.0</td>\n",
       "      <td>630.0</td>\n",
       "      <td>602.0</td>\n",
       "      <td>624.0</td>\n",
       "      <td>1686959997094</td>\n",
       "      <td>1.610391e+11</td>\n",
       "      <td>2.616515e+08</td>\n",
       "      <td>627.0</td>\n",
       "      <td>-3.0</td>\n",
       "      <td>-0.004785</td>\n",
       "    </tr>\n",
       "    <tr>\n",
       "      <th>196</th>\n",
       "      <td>KRW-XRP</td>\n",
       "      <td>2023-06-15T00:00:00</td>\n",
       "      <td>2023-06-15T09:00:00</td>\n",
       "      <td>630.0</td>\n",
       "      <td>638.0</td>\n",
       "      <td>612.0</td>\n",
       "      <td>627.0</td>\n",
       "      <td>1686873599460</td>\n",
       "      <td>1.663204e+11</td>\n",
       "      <td>2.660830e+08</td>\n",
       "      <td>631.0</td>\n",
       "      <td>-4.0</td>\n",
       "      <td>-0.006339</td>\n",
       "    </tr>\n",
       "    <tr>\n",
       "      <th>197</th>\n",
       "      <td>KRW-XRP</td>\n",
       "      <td>2023-06-14T00:00:00</td>\n",
       "      <td>2023-06-14T09:00:00</td>\n",
       "      <td>678.0</td>\n",
       "      <td>681.0</td>\n",
       "      <td>609.0</td>\n",
       "      <td>631.0</td>\n",
       "      <td>1686787200001</td>\n",
       "      <td>2.592919e+11</td>\n",
       "      <td>3.998507e+08</td>\n",
       "      <td>679.0</td>\n",
       "      <td>-48.0</td>\n",
       "      <td>-0.070692</td>\n",
       "    </tr>\n",
       "    <tr>\n",
       "      <th>198</th>\n",
       "      <td>KRW-XRP</td>\n",
       "      <td>2023-06-13T00:00:00</td>\n",
       "      <td>2023-06-13T09:00:00</td>\n",
       "      <td>689.0</td>\n",
       "      <td>735.0</td>\n",
       "      <td>664.0</td>\n",
       "      <td>679.0</td>\n",
       "      <td>1686700799794</td>\n",
       "      <td>4.851964e+11</td>\n",
       "      <td>6.910409e+08</td>\n",
       "      <td>689.0</td>\n",
       "      <td>-10.0</td>\n",
       "      <td>-0.014514</td>\n",
       "    </tr>\n",
       "    <tr>\n",
       "      <th>199</th>\n",
       "      <td>KRW-XRP</td>\n",
       "      <td>2023-06-12T00:00:00</td>\n",
       "      <td>2023-06-12T09:00:00</td>\n",
       "      <td>690.0</td>\n",
       "      <td>694.0</td>\n",
       "      <td>675.0</td>\n",
       "      <td>689.0</td>\n",
       "      <td>1686614396669</td>\n",
       "      <td>1.224128e+11</td>\n",
       "      <td>1.790804e+08</td>\n",
       "      <td>690.0</td>\n",
       "      <td>-1.0</td>\n",
       "      <td>-0.001449</td>\n",
       "    </tr>\n",
       "  </tbody>\n",
       "</table>\n",
       "<p>600 rows × 13 columns</p>\n",
       "</div>"
      ],
      "text/plain": [
       "      market candle_date_time_utc candle_date_time_kst  opening_price  \\\n",
       "0    KRW-BTC  2023-12-28T00:00:00  2023-12-28T09:00:00     57920000.0   \n",
       "1    KRW-BTC  2023-12-27T00:00:00  2023-12-27T09:00:00     57032000.0   \n",
       "2    KRW-BTC  2023-12-26T00:00:00  2023-12-26T09:00:00     58042000.0   \n",
       "3    KRW-BTC  2023-12-25T00:00:00  2023-12-25T09:00:00     58002000.0   \n",
       "4    KRW-BTC  2023-12-24T00:00:00  2023-12-24T09:00:00     59249000.0   \n",
       "..       ...                  ...                  ...            ...   \n",
       "195  KRW-XRP  2023-06-16T00:00:00  2023-06-16T09:00:00          627.0   \n",
       "196  KRW-XRP  2023-06-15T00:00:00  2023-06-15T09:00:00          630.0   \n",
       "197  KRW-XRP  2023-06-14T00:00:00  2023-06-14T09:00:00          678.0   \n",
       "198  KRW-XRP  2023-06-13T00:00:00  2023-06-13T09:00:00          689.0   \n",
       "199  KRW-XRP  2023-06-12T00:00:00  2023-06-12T09:00:00          690.0   \n",
       "\n",
       "     high_price   low_price  trade_price      timestamp  \\\n",
       "0    58468000.0  57474000.0   57720000.0  1703736768522   \n",
       "1    58212000.0  56349000.0   57920000.0  1703721598803   \n",
       "2    58140000.0  56349000.0   57032000.0  1703635199803   \n",
       "3    58659000.0  57464000.0   58042000.0  1703548799890   \n",
       "4    59600000.0  58000000.0   58002000.0  1703462399990   \n",
       "..          ...         ...          ...            ...   \n",
       "195       630.0       602.0        624.0  1686959997094   \n",
       "196       638.0       612.0        627.0  1686873599460   \n",
       "197       681.0       609.0        631.0  1686787200001   \n",
       "198       735.0       664.0        679.0  1686700799794   \n",
       "199       694.0       675.0        689.0  1686614396669   \n",
       "\n",
       "     candle_acc_trade_price  candle_acc_trade_volume  prev_closing_price  \\\n",
       "0              5.539208e+10             9.572900e+02          57920000.0   \n",
       "1              2.270096e+11             3.965843e+03          57032000.0   \n",
       "2              2.708228e+11             4.735230e+03          58042000.0   \n",
       "3              2.721330e+11             4.687209e+03          58002000.0   \n",
       "4              2.200170e+11             3.729334e+03          59250000.0   \n",
       "..                      ...                      ...                 ...   \n",
       "195            1.610391e+11             2.616515e+08               627.0   \n",
       "196            1.663204e+11             2.660830e+08               631.0   \n",
       "197            2.592919e+11             3.998507e+08               679.0   \n",
       "198            4.851964e+11             6.910409e+08               689.0   \n",
       "199            1.224128e+11             1.790804e+08               690.0   \n",
       "\n",
       "     change_price  change_rate  \n",
       "0       -200000.0    -0.003453  \n",
       "1        888000.0     0.015570  \n",
       "2      -1010000.0    -0.017401  \n",
       "3         40000.0     0.000690  \n",
       "4      -1248000.0    -0.021063  \n",
       "..            ...          ...  \n",
       "195          -3.0    -0.004785  \n",
       "196          -4.0    -0.006339  \n",
       "197         -48.0    -0.070692  \n",
       "198         -10.0    -0.014514  \n",
       "199          -1.0    -0.001449  \n",
       "\n",
       "[600 rows x 13 columns]"
      ]
     },
     "execution_count": 152,
     "metadata": {},
     "output_type": "execute_result"
    }
   ],
   "source": [
    "df"
   ]
  },
  {
   "cell_type": "code",
   "execution_count": 160,
   "id": "6db61b16",
   "metadata": {},
   "outputs": [
    {
     "data": {
      "text/html": [
       "<div>\n",
       "<style scoped>\n",
       "    .dataframe tbody tr th:only-of-type {\n",
       "        vertical-align: middle;\n",
       "    }\n",
       "\n",
       "    .dataframe tbody tr th {\n",
       "        vertical-align: top;\n",
       "    }\n",
       "\n",
       "    .dataframe thead th {\n",
       "        text-align: right;\n",
       "    }\n",
       "</style>\n",
       "<table border=\"1\" class=\"dataframe\">\n",
       "  <thead>\n",
       "    <tr style=\"text-align: right;\">\n",
       "      <th></th>\n",
       "      <th>market</th>\n",
       "      <th>candle_date_time_kst</th>\n",
       "      <th>opening_price</th>\n",
       "      <th>high_price</th>\n",
       "      <th>low_price</th>\n",
       "      <th>trade_price</th>\n",
       "      <th>candle_acc_trade_price</th>\n",
       "      <th>candle_acc_trade_volume</th>\n",
       "    </tr>\n",
       "  </thead>\n",
       "  <tbody>\n",
       "    <tr>\n",
       "      <th>0</th>\n",
       "      <td>KRW-BTC</td>\n",
       "      <td>2023-12-28T09:00:00</td>\n",
       "      <td>57920000.0</td>\n",
       "      <td>58468000.0</td>\n",
       "      <td>57474000.0</td>\n",
       "      <td>57720000.0</td>\n",
       "      <td>5.539208e+10</td>\n",
       "      <td>9.572900e+02</td>\n",
       "    </tr>\n",
       "    <tr>\n",
       "      <th>1</th>\n",
       "      <td>KRW-BTC</td>\n",
       "      <td>2023-12-27T09:00:00</td>\n",
       "      <td>57032000.0</td>\n",
       "      <td>58212000.0</td>\n",
       "      <td>56349000.0</td>\n",
       "      <td>57920000.0</td>\n",
       "      <td>2.270096e+11</td>\n",
       "      <td>3.965843e+03</td>\n",
       "    </tr>\n",
       "    <tr>\n",
       "      <th>2</th>\n",
       "      <td>KRW-BTC</td>\n",
       "      <td>2023-12-26T09:00:00</td>\n",
       "      <td>58042000.0</td>\n",
       "      <td>58140000.0</td>\n",
       "      <td>56349000.0</td>\n",
       "      <td>57032000.0</td>\n",
       "      <td>2.708228e+11</td>\n",
       "      <td>4.735230e+03</td>\n",
       "    </tr>\n",
       "    <tr>\n",
       "      <th>3</th>\n",
       "      <td>KRW-BTC</td>\n",
       "      <td>2023-12-25T09:00:00</td>\n",
       "      <td>58002000.0</td>\n",
       "      <td>58659000.0</td>\n",
       "      <td>57464000.0</td>\n",
       "      <td>58042000.0</td>\n",
       "      <td>2.721330e+11</td>\n",
       "      <td>4.687209e+03</td>\n",
       "    </tr>\n",
       "    <tr>\n",
       "      <th>4</th>\n",
       "      <td>KRW-BTC</td>\n",
       "      <td>2023-12-24T09:00:00</td>\n",
       "      <td>59249000.0</td>\n",
       "      <td>59600000.0</td>\n",
       "      <td>58000000.0</td>\n",
       "      <td>58002000.0</td>\n",
       "      <td>2.200170e+11</td>\n",
       "      <td>3.729334e+03</td>\n",
       "    </tr>\n",
       "    <tr>\n",
       "      <th>...</th>\n",
       "      <td>...</td>\n",
       "      <td>...</td>\n",
       "      <td>...</td>\n",
       "      <td>...</td>\n",
       "      <td>...</td>\n",
       "      <td>...</td>\n",
       "      <td>...</td>\n",
       "      <td>...</td>\n",
       "    </tr>\n",
       "    <tr>\n",
       "      <th>195</th>\n",
       "      <td>KRW-XRP</td>\n",
       "      <td>2023-06-16T09:00:00</td>\n",
       "      <td>627.0</td>\n",
       "      <td>630.0</td>\n",
       "      <td>602.0</td>\n",
       "      <td>624.0</td>\n",
       "      <td>1.610391e+11</td>\n",
       "      <td>2.616515e+08</td>\n",
       "    </tr>\n",
       "    <tr>\n",
       "      <th>196</th>\n",
       "      <td>KRW-XRP</td>\n",
       "      <td>2023-06-15T09:00:00</td>\n",
       "      <td>630.0</td>\n",
       "      <td>638.0</td>\n",
       "      <td>612.0</td>\n",
       "      <td>627.0</td>\n",
       "      <td>1.663204e+11</td>\n",
       "      <td>2.660830e+08</td>\n",
       "    </tr>\n",
       "    <tr>\n",
       "      <th>197</th>\n",
       "      <td>KRW-XRP</td>\n",
       "      <td>2023-06-14T09:00:00</td>\n",
       "      <td>678.0</td>\n",
       "      <td>681.0</td>\n",
       "      <td>609.0</td>\n",
       "      <td>631.0</td>\n",
       "      <td>2.592919e+11</td>\n",
       "      <td>3.998507e+08</td>\n",
       "    </tr>\n",
       "    <tr>\n",
       "      <th>198</th>\n",
       "      <td>KRW-XRP</td>\n",
       "      <td>2023-06-13T09:00:00</td>\n",
       "      <td>689.0</td>\n",
       "      <td>735.0</td>\n",
       "      <td>664.0</td>\n",
       "      <td>679.0</td>\n",
       "      <td>4.851964e+11</td>\n",
       "      <td>6.910409e+08</td>\n",
       "    </tr>\n",
       "    <tr>\n",
       "      <th>199</th>\n",
       "      <td>KRW-XRP</td>\n",
       "      <td>2023-06-12T09:00:00</td>\n",
       "      <td>690.0</td>\n",
       "      <td>694.0</td>\n",
       "      <td>675.0</td>\n",
       "      <td>689.0</td>\n",
       "      <td>1.224128e+11</td>\n",
       "      <td>1.790804e+08</td>\n",
       "    </tr>\n",
       "  </tbody>\n",
       "</table>\n",
       "<p>600 rows × 8 columns</p>\n",
       "</div>"
      ],
      "text/plain": [
       "      market candle_date_time_kst  opening_price  high_price   low_price  \\\n",
       "0    KRW-BTC  2023-12-28T09:00:00     57920000.0  58468000.0  57474000.0   \n",
       "1    KRW-BTC  2023-12-27T09:00:00     57032000.0  58212000.0  56349000.0   \n",
       "2    KRW-BTC  2023-12-26T09:00:00     58042000.0  58140000.0  56349000.0   \n",
       "3    KRW-BTC  2023-12-25T09:00:00     58002000.0  58659000.0  57464000.0   \n",
       "4    KRW-BTC  2023-12-24T09:00:00     59249000.0  59600000.0  58000000.0   \n",
       "..       ...                  ...            ...         ...         ...   \n",
       "195  KRW-XRP  2023-06-16T09:00:00          627.0       630.0       602.0   \n",
       "196  KRW-XRP  2023-06-15T09:00:00          630.0       638.0       612.0   \n",
       "197  KRW-XRP  2023-06-14T09:00:00          678.0       681.0       609.0   \n",
       "198  KRW-XRP  2023-06-13T09:00:00          689.0       735.0       664.0   \n",
       "199  KRW-XRP  2023-06-12T09:00:00          690.0       694.0       675.0   \n",
       "\n",
       "     trade_price  candle_acc_trade_price  candle_acc_trade_volume  \n",
       "0     57720000.0            5.539208e+10             9.572900e+02  \n",
       "1     57920000.0            2.270096e+11             3.965843e+03  \n",
       "2     57032000.0            2.708228e+11             4.735230e+03  \n",
       "3     58042000.0            2.721330e+11             4.687209e+03  \n",
       "4     58002000.0            2.200170e+11             3.729334e+03  \n",
       "..           ...                     ...                      ...  \n",
       "195        624.0            1.610391e+11             2.616515e+08  \n",
       "196        627.0            1.663204e+11             2.660830e+08  \n",
       "197        631.0            2.592919e+11             3.998507e+08  \n",
       "198        679.0            4.851964e+11             6.910409e+08  \n",
       "199        689.0            1.224128e+11             1.790804e+08  \n",
       "\n",
       "[600 rows x 8 columns]"
      ]
     },
     "execution_count": 160,
     "metadata": {},
     "output_type": "execute_result"
    }
   ],
   "source": [
    "my_df = df[['market','candle_date_time_kst','opening_price','high_price',\n",
    "            'low_price','trade_price','candle_acc_trade_price','candle_acc_trade_volume']].copy()\n",
    "my_df"
   ]
  },
  {
   "cell_type": "code",
   "execution_count": 161,
   "id": "99fe75a9",
   "metadata": {},
   "outputs": [],
   "source": [
    "my_df['market'] = my_df['market'].str.replace('KRW-','')"
   ]
  },
  {
   "cell_type": "code",
   "execution_count": 163,
   "id": "cccc2a5d",
   "metadata": {},
   "outputs": [],
   "source": [
    "my_df['candle_date_time_kst'] = my_df['candle_date_time_kst'].str.replace('T09:00:00','')"
   ]
  },
  {
   "cell_type": "code",
   "execution_count": 164,
   "id": "1e087997",
   "metadata": {},
   "outputs": [
    {
     "data": {
      "text/html": [
       "<div>\n",
       "<style scoped>\n",
       "    .dataframe tbody tr th:only-of-type {\n",
       "        vertical-align: middle;\n",
       "    }\n",
       "\n",
       "    .dataframe tbody tr th {\n",
       "        vertical-align: top;\n",
       "    }\n",
       "\n",
       "    .dataframe thead th {\n",
       "        text-align: right;\n",
       "    }\n",
       "</style>\n",
       "<table border=\"1\" class=\"dataframe\">\n",
       "  <thead>\n",
       "    <tr style=\"text-align: right;\">\n",
       "      <th></th>\n",
       "      <th>market</th>\n",
       "      <th>candle_date_time_kst</th>\n",
       "      <th>opening_price</th>\n",
       "      <th>high_price</th>\n",
       "      <th>low_price</th>\n",
       "      <th>trade_price</th>\n",
       "      <th>candle_acc_trade_price</th>\n",
       "      <th>candle_acc_trade_volume</th>\n",
       "    </tr>\n",
       "  </thead>\n",
       "  <tbody>\n",
       "    <tr>\n",
       "      <th>0</th>\n",
       "      <td>BTC</td>\n",
       "      <td>2023-12-28</td>\n",
       "      <td>57920000.0</td>\n",
       "      <td>58468000.0</td>\n",
       "      <td>57474000.0</td>\n",
       "      <td>57720000.0</td>\n",
       "      <td>5.539208e+10</td>\n",
       "      <td>9.572900e+02</td>\n",
       "    </tr>\n",
       "    <tr>\n",
       "      <th>1</th>\n",
       "      <td>BTC</td>\n",
       "      <td>2023-12-27</td>\n",
       "      <td>57032000.0</td>\n",
       "      <td>58212000.0</td>\n",
       "      <td>56349000.0</td>\n",
       "      <td>57920000.0</td>\n",
       "      <td>2.270096e+11</td>\n",
       "      <td>3.965843e+03</td>\n",
       "    </tr>\n",
       "    <tr>\n",
       "      <th>2</th>\n",
       "      <td>BTC</td>\n",
       "      <td>2023-12-26</td>\n",
       "      <td>58042000.0</td>\n",
       "      <td>58140000.0</td>\n",
       "      <td>56349000.0</td>\n",
       "      <td>57032000.0</td>\n",
       "      <td>2.708228e+11</td>\n",
       "      <td>4.735230e+03</td>\n",
       "    </tr>\n",
       "    <tr>\n",
       "      <th>3</th>\n",
       "      <td>BTC</td>\n",
       "      <td>2023-12-25</td>\n",
       "      <td>58002000.0</td>\n",
       "      <td>58659000.0</td>\n",
       "      <td>57464000.0</td>\n",
       "      <td>58042000.0</td>\n",
       "      <td>2.721330e+11</td>\n",
       "      <td>4.687209e+03</td>\n",
       "    </tr>\n",
       "    <tr>\n",
       "      <th>4</th>\n",
       "      <td>BTC</td>\n",
       "      <td>2023-12-24</td>\n",
       "      <td>59249000.0</td>\n",
       "      <td>59600000.0</td>\n",
       "      <td>58000000.0</td>\n",
       "      <td>58002000.0</td>\n",
       "      <td>2.200170e+11</td>\n",
       "      <td>3.729334e+03</td>\n",
       "    </tr>\n",
       "    <tr>\n",
       "      <th>...</th>\n",
       "      <td>...</td>\n",
       "      <td>...</td>\n",
       "      <td>...</td>\n",
       "      <td>...</td>\n",
       "      <td>...</td>\n",
       "      <td>...</td>\n",
       "      <td>...</td>\n",
       "      <td>...</td>\n",
       "    </tr>\n",
       "    <tr>\n",
       "      <th>195</th>\n",
       "      <td>XRP</td>\n",
       "      <td>2023-06-16</td>\n",
       "      <td>627.0</td>\n",
       "      <td>630.0</td>\n",
       "      <td>602.0</td>\n",
       "      <td>624.0</td>\n",
       "      <td>1.610391e+11</td>\n",
       "      <td>2.616515e+08</td>\n",
       "    </tr>\n",
       "    <tr>\n",
       "      <th>196</th>\n",
       "      <td>XRP</td>\n",
       "      <td>2023-06-15</td>\n",
       "      <td>630.0</td>\n",
       "      <td>638.0</td>\n",
       "      <td>612.0</td>\n",
       "      <td>627.0</td>\n",
       "      <td>1.663204e+11</td>\n",
       "      <td>2.660830e+08</td>\n",
       "    </tr>\n",
       "    <tr>\n",
       "      <th>197</th>\n",
       "      <td>XRP</td>\n",
       "      <td>2023-06-14</td>\n",
       "      <td>678.0</td>\n",
       "      <td>681.0</td>\n",
       "      <td>609.0</td>\n",
       "      <td>631.0</td>\n",
       "      <td>2.592919e+11</td>\n",
       "      <td>3.998507e+08</td>\n",
       "    </tr>\n",
       "    <tr>\n",
       "      <th>198</th>\n",
       "      <td>XRP</td>\n",
       "      <td>2023-06-13</td>\n",
       "      <td>689.0</td>\n",
       "      <td>735.0</td>\n",
       "      <td>664.0</td>\n",
       "      <td>679.0</td>\n",
       "      <td>4.851964e+11</td>\n",
       "      <td>6.910409e+08</td>\n",
       "    </tr>\n",
       "    <tr>\n",
       "      <th>199</th>\n",
       "      <td>XRP</td>\n",
       "      <td>2023-06-12</td>\n",
       "      <td>690.0</td>\n",
       "      <td>694.0</td>\n",
       "      <td>675.0</td>\n",
       "      <td>689.0</td>\n",
       "      <td>1.224128e+11</td>\n",
       "      <td>1.790804e+08</td>\n",
       "    </tr>\n",
       "  </tbody>\n",
       "</table>\n",
       "<p>600 rows × 8 columns</p>\n",
       "</div>"
      ],
      "text/plain": [
       "    market candle_date_time_kst  opening_price  high_price   low_price  \\\n",
       "0      BTC           2023-12-28     57920000.0  58468000.0  57474000.0   \n",
       "1      BTC           2023-12-27     57032000.0  58212000.0  56349000.0   \n",
       "2      BTC           2023-12-26     58042000.0  58140000.0  56349000.0   \n",
       "3      BTC           2023-12-25     58002000.0  58659000.0  57464000.0   \n",
       "4      BTC           2023-12-24     59249000.0  59600000.0  58000000.0   \n",
       "..     ...                  ...            ...         ...         ...   \n",
       "195    XRP           2023-06-16          627.0       630.0       602.0   \n",
       "196    XRP           2023-06-15          630.0       638.0       612.0   \n",
       "197    XRP           2023-06-14          678.0       681.0       609.0   \n",
       "198    XRP           2023-06-13          689.0       735.0       664.0   \n",
       "199    XRP           2023-06-12          690.0       694.0       675.0   \n",
       "\n",
       "     trade_price  candle_acc_trade_price  candle_acc_trade_volume  \n",
       "0     57720000.0            5.539208e+10             9.572900e+02  \n",
       "1     57920000.0            2.270096e+11             3.965843e+03  \n",
       "2     57032000.0            2.708228e+11             4.735230e+03  \n",
       "3     58042000.0            2.721330e+11             4.687209e+03  \n",
       "4     58002000.0            2.200170e+11             3.729334e+03  \n",
       "..           ...                     ...                      ...  \n",
       "195        624.0            1.610391e+11             2.616515e+08  \n",
       "196        627.0            1.663204e+11             2.660830e+08  \n",
       "197        631.0            2.592919e+11             3.998507e+08  \n",
       "198        679.0            4.851964e+11             6.910409e+08  \n",
       "199        689.0            1.224128e+11             1.790804e+08  \n",
       "\n",
       "[600 rows x 8 columns]"
      ]
     },
     "execution_count": 164,
     "metadata": {},
     "output_type": "execute_result"
    }
   ],
   "source": [
    "my_df"
   ]
  },
  {
   "cell_type": "code",
   "execution_count": 195,
   "id": "f1452bd2",
   "metadata": {},
   "outputs": [],
   "source": [
    "import plotly.express as px\n",
    "import numpy as np\n"
   ]
  },
  {
   "cell_type": "code",
   "execution_count": 166,
   "id": "bd225e67",
   "metadata": {},
   "outputs": [
    {
     "data": {
      "application/vnd.plotly.v1+json": {
       "config": {
        "linkText": "Export to plot.ly",
        "plotlyServerURL": "https://plot.ly",
        "showLink": false
       },
       "data": [
        {
         "type": "scatter",
         "x": [
          1,
          2,
          3,
          4
         ],
         "y": [
          4,
          3,
          2,
          1
         ]
        }
       ],
       "layout": {
        "template": {
         "data": {
          "bar": [
           {
            "error_x": {
             "color": "#2a3f5f"
            },
            "error_y": {
             "color": "#2a3f5f"
            },
            "marker": {
             "line": {
              "color": "#E5ECF6",
              "width": 0.5
             },
             "pattern": {
              "fillmode": "overlay",
              "size": 10,
              "solidity": 0.2
             }
            },
            "type": "bar"
           }
          ],
          "barpolar": [
           {
            "marker": {
             "line": {
              "color": "#E5ECF6",
              "width": 0.5
             },
             "pattern": {
              "fillmode": "overlay",
              "size": 10,
              "solidity": 0.2
             }
            },
            "type": "barpolar"
           }
          ],
          "carpet": [
           {
            "aaxis": {
             "endlinecolor": "#2a3f5f",
             "gridcolor": "white",
             "linecolor": "white",
             "minorgridcolor": "white",
             "startlinecolor": "#2a3f5f"
            },
            "baxis": {
             "endlinecolor": "#2a3f5f",
             "gridcolor": "white",
             "linecolor": "white",
             "minorgridcolor": "white",
             "startlinecolor": "#2a3f5f"
            },
            "type": "carpet"
           }
          ],
          "choropleth": [
           {
            "colorbar": {
             "outlinewidth": 0,
             "ticks": ""
            },
            "type": "choropleth"
           }
          ],
          "contour": [
           {
            "colorbar": {
             "outlinewidth": 0,
             "ticks": ""
            },
            "colorscale": [
             [
              0,
              "#0d0887"
             ],
             [
              0.1111111111111111,
              "#46039f"
             ],
             [
              0.2222222222222222,
              "#7201a8"
             ],
             [
              0.3333333333333333,
              "#9c179e"
             ],
             [
              0.4444444444444444,
              "#bd3786"
             ],
             [
              0.5555555555555556,
              "#d8576b"
             ],
             [
              0.6666666666666666,
              "#ed7953"
             ],
             [
              0.7777777777777778,
              "#fb9f3a"
             ],
             [
              0.8888888888888888,
              "#fdca26"
             ],
             [
              1,
              "#f0f921"
             ]
            ],
            "type": "contour"
           }
          ],
          "contourcarpet": [
           {
            "colorbar": {
             "outlinewidth": 0,
             "ticks": ""
            },
            "type": "contourcarpet"
           }
          ],
          "heatmap": [
           {
            "colorbar": {
             "outlinewidth": 0,
             "ticks": ""
            },
            "colorscale": [
             [
              0,
              "#0d0887"
             ],
             [
              0.1111111111111111,
              "#46039f"
             ],
             [
              0.2222222222222222,
              "#7201a8"
             ],
             [
              0.3333333333333333,
              "#9c179e"
             ],
             [
              0.4444444444444444,
              "#bd3786"
             ],
             [
              0.5555555555555556,
              "#d8576b"
             ],
             [
              0.6666666666666666,
              "#ed7953"
             ],
             [
              0.7777777777777778,
              "#fb9f3a"
             ],
             [
              0.8888888888888888,
              "#fdca26"
             ],
             [
              1,
              "#f0f921"
             ]
            ],
            "type": "heatmap"
           }
          ],
          "heatmapgl": [
           {
            "colorbar": {
             "outlinewidth": 0,
             "ticks": ""
            },
            "colorscale": [
             [
              0,
              "#0d0887"
             ],
             [
              0.1111111111111111,
              "#46039f"
             ],
             [
              0.2222222222222222,
              "#7201a8"
             ],
             [
              0.3333333333333333,
              "#9c179e"
             ],
             [
              0.4444444444444444,
              "#bd3786"
             ],
             [
              0.5555555555555556,
              "#d8576b"
             ],
             [
              0.6666666666666666,
              "#ed7953"
             ],
             [
              0.7777777777777778,
              "#fb9f3a"
             ],
             [
              0.8888888888888888,
              "#fdca26"
             ],
             [
              1,
              "#f0f921"
             ]
            ],
            "type": "heatmapgl"
           }
          ],
          "histogram": [
           {
            "marker": {
             "pattern": {
              "fillmode": "overlay",
              "size": 10,
              "solidity": 0.2
             }
            },
            "type": "histogram"
           }
          ],
          "histogram2d": [
           {
            "colorbar": {
             "outlinewidth": 0,
             "ticks": ""
            },
            "colorscale": [
             [
              0,
              "#0d0887"
             ],
             [
              0.1111111111111111,
              "#46039f"
             ],
             [
              0.2222222222222222,
              "#7201a8"
             ],
             [
              0.3333333333333333,
              "#9c179e"
             ],
             [
              0.4444444444444444,
              "#bd3786"
             ],
             [
              0.5555555555555556,
              "#d8576b"
             ],
             [
              0.6666666666666666,
              "#ed7953"
             ],
             [
              0.7777777777777778,
              "#fb9f3a"
             ],
             [
              0.8888888888888888,
              "#fdca26"
             ],
             [
              1,
              "#f0f921"
             ]
            ],
            "type": "histogram2d"
           }
          ],
          "histogram2dcontour": [
           {
            "colorbar": {
             "outlinewidth": 0,
             "ticks": ""
            },
            "colorscale": [
             [
              0,
              "#0d0887"
             ],
             [
              0.1111111111111111,
              "#46039f"
             ],
             [
              0.2222222222222222,
              "#7201a8"
             ],
             [
              0.3333333333333333,
              "#9c179e"
             ],
             [
              0.4444444444444444,
              "#bd3786"
             ],
             [
              0.5555555555555556,
              "#d8576b"
             ],
             [
              0.6666666666666666,
              "#ed7953"
             ],
             [
              0.7777777777777778,
              "#fb9f3a"
             ],
             [
              0.8888888888888888,
              "#fdca26"
             ],
             [
              1,
              "#f0f921"
             ]
            ],
            "type": "histogram2dcontour"
           }
          ],
          "mesh3d": [
           {
            "colorbar": {
             "outlinewidth": 0,
             "ticks": ""
            },
            "type": "mesh3d"
           }
          ],
          "parcoords": [
           {
            "line": {
             "colorbar": {
              "outlinewidth": 0,
              "ticks": ""
             }
            },
            "type": "parcoords"
           }
          ],
          "pie": [
           {
            "automargin": true,
            "type": "pie"
           }
          ],
          "scatter": [
           {
            "fillpattern": {
             "fillmode": "overlay",
             "size": 10,
             "solidity": 0.2
            },
            "type": "scatter"
           }
          ],
          "scatter3d": [
           {
            "line": {
             "colorbar": {
              "outlinewidth": 0,
              "ticks": ""
             }
            },
            "marker": {
             "colorbar": {
              "outlinewidth": 0,
              "ticks": ""
             }
            },
            "type": "scatter3d"
           }
          ],
          "scattercarpet": [
           {
            "marker": {
             "colorbar": {
              "outlinewidth": 0,
              "ticks": ""
             }
            },
            "type": "scattercarpet"
           }
          ],
          "scattergeo": [
           {
            "marker": {
             "colorbar": {
              "outlinewidth": 0,
              "ticks": ""
             }
            },
            "type": "scattergeo"
           }
          ],
          "scattergl": [
           {
            "marker": {
             "colorbar": {
              "outlinewidth": 0,
              "ticks": ""
             }
            },
            "type": "scattergl"
           }
          ],
          "scattermapbox": [
           {
            "marker": {
             "colorbar": {
              "outlinewidth": 0,
              "ticks": ""
             }
            },
            "type": "scattermapbox"
           }
          ],
          "scatterpolar": [
           {
            "marker": {
             "colorbar": {
              "outlinewidth": 0,
              "ticks": ""
             }
            },
            "type": "scatterpolar"
           }
          ],
          "scatterpolargl": [
           {
            "marker": {
             "colorbar": {
              "outlinewidth": 0,
              "ticks": ""
             }
            },
            "type": "scatterpolargl"
           }
          ],
          "scatterternary": [
           {
            "marker": {
             "colorbar": {
              "outlinewidth": 0,
              "ticks": ""
             }
            },
            "type": "scatterternary"
           }
          ],
          "surface": [
           {
            "colorbar": {
             "outlinewidth": 0,
             "ticks": ""
            },
            "colorscale": [
             [
              0,
              "#0d0887"
             ],
             [
              0.1111111111111111,
              "#46039f"
             ],
             [
              0.2222222222222222,
              "#7201a8"
             ],
             [
              0.3333333333333333,
              "#9c179e"
             ],
             [
              0.4444444444444444,
              "#bd3786"
             ],
             [
              0.5555555555555556,
              "#d8576b"
             ],
             [
              0.6666666666666666,
              "#ed7953"
             ],
             [
              0.7777777777777778,
              "#fb9f3a"
             ],
             [
              0.8888888888888888,
              "#fdca26"
             ],
             [
              1,
              "#f0f921"
             ]
            ],
            "type": "surface"
           }
          ],
          "table": [
           {
            "cells": {
             "fill": {
              "color": "#EBF0F8"
             },
             "line": {
              "color": "white"
             }
            },
            "header": {
             "fill": {
              "color": "#C8D4E3"
             },
             "line": {
              "color": "white"
             }
            },
            "type": "table"
           }
          ]
         },
         "layout": {
          "annotationdefaults": {
           "arrowcolor": "#2a3f5f",
           "arrowhead": 0,
           "arrowwidth": 1
          },
          "autotypenumbers": "strict",
          "coloraxis": {
           "colorbar": {
            "outlinewidth": 0,
            "ticks": ""
           }
          },
          "colorscale": {
           "diverging": [
            [
             0,
             "#8e0152"
            ],
            [
             0.1,
             "#c51b7d"
            ],
            [
             0.2,
             "#de77ae"
            ],
            [
             0.3,
             "#f1b6da"
            ],
            [
             0.4,
             "#fde0ef"
            ],
            [
             0.5,
             "#f7f7f7"
            ],
            [
             0.6,
             "#e6f5d0"
            ],
            [
             0.7,
             "#b8e186"
            ],
            [
             0.8,
             "#7fbc41"
            ],
            [
             0.9,
             "#4d9221"
            ],
            [
             1,
             "#276419"
            ]
           ],
           "sequential": [
            [
             0,
             "#0d0887"
            ],
            [
             0.1111111111111111,
             "#46039f"
            ],
            [
             0.2222222222222222,
             "#7201a8"
            ],
            [
             0.3333333333333333,
             "#9c179e"
            ],
            [
             0.4444444444444444,
             "#bd3786"
            ],
            [
             0.5555555555555556,
             "#d8576b"
            ],
            [
             0.6666666666666666,
             "#ed7953"
            ],
            [
             0.7777777777777778,
             "#fb9f3a"
            ],
            [
             0.8888888888888888,
             "#fdca26"
            ],
            [
             1,
             "#f0f921"
            ]
           ],
           "sequentialminus": [
            [
             0,
             "#0d0887"
            ],
            [
             0.1111111111111111,
             "#46039f"
            ],
            [
             0.2222222222222222,
             "#7201a8"
            ],
            [
             0.3333333333333333,
             "#9c179e"
            ],
            [
             0.4444444444444444,
             "#bd3786"
            ],
            [
             0.5555555555555556,
             "#d8576b"
            ],
            [
             0.6666666666666666,
             "#ed7953"
            ],
            [
             0.7777777777777778,
             "#fb9f3a"
            ],
            [
             0.8888888888888888,
             "#fdca26"
            ],
            [
             1,
             "#f0f921"
            ]
           ]
          },
          "colorway": [
           "#636efa",
           "#EF553B",
           "#00cc96",
           "#ab63fa",
           "#FFA15A",
           "#19d3f3",
           "#FF6692",
           "#B6E880",
           "#FF97FF",
           "#FECB52"
          ],
          "font": {
           "color": "#2a3f5f"
          },
          "geo": {
           "bgcolor": "white",
           "lakecolor": "white",
           "landcolor": "#E5ECF6",
           "showlakes": true,
           "showland": true,
           "subunitcolor": "white"
          },
          "hoverlabel": {
           "align": "left"
          },
          "hovermode": "closest",
          "mapbox": {
           "style": "light"
          },
          "paper_bgcolor": "white",
          "plot_bgcolor": "#E5ECF6",
          "polar": {
           "angularaxis": {
            "gridcolor": "white",
            "linecolor": "white",
            "ticks": ""
           },
           "bgcolor": "#E5ECF6",
           "radialaxis": {
            "gridcolor": "white",
            "linecolor": "white",
            "ticks": ""
           }
          },
          "scene": {
           "xaxis": {
            "backgroundcolor": "#E5ECF6",
            "gridcolor": "white",
            "gridwidth": 2,
            "linecolor": "white",
            "showbackground": true,
            "ticks": "",
            "zerolinecolor": "white"
           },
           "yaxis": {
            "backgroundcolor": "#E5ECF6",
            "gridcolor": "white",
            "gridwidth": 2,
            "linecolor": "white",
            "showbackground": true,
            "ticks": "",
            "zerolinecolor": "white"
           },
           "zaxis": {
            "backgroundcolor": "#E5ECF6",
            "gridcolor": "white",
            "gridwidth": 2,
            "linecolor": "white",
            "showbackground": true,
            "ticks": "",
            "zerolinecolor": "white"
           }
          },
          "shapedefaults": {
           "line": {
            "color": "#2a3f5f"
           }
          },
          "ternary": {
           "aaxis": {
            "gridcolor": "white",
            "linecolor": "white",
            "ticks": ""
           },
           "baxis": {
            "gridcolor": "white",
            "linecolor": "white",
            "ticks": ""
           },
           "bgcolor": "#E5ECF6",
           "caxis": {
            "gridcolor": "white",
            "linecolor": "white",
            "ticks": ""
           }
          },
          "title": {
           "x": 0.05
          },
          "xaxis": {
           "automargin": true,
           "gridcolor": "white",
           "linecolor": "white",
           "ticks": "",
           "title": {
            "standoff": 15
           },
           "zerolinecolor": "white",
           "zerolinewidth": 2
          },
          "yaxis": {
           "automargin": true,
           "gridcolor": "white",
           "linecolor": "white",
           "ticks": "",
           "title": {
            "standoff": 15
           },
           "zerolinecolor": "white",
           "zerolinewidth": 2
          }
         }
        },
        "title": {
         "text": "Siuuuuu"
        }
       }
      },
      "text/html": [
       "<div>                            <div id=\"a9c5c751-5979-49c4-aafb-c704368daef8\" class=\"plotly-graph-div\" style=\"height:525px; width:100%;\"></div>            <script type=\"text/javascript\">                require([\"plotly\"], function(Plotly) {                    window.PLOTLYENV=window.PLOTLYENV || {};                                    if (document.getElementById(\"a9c5c751-5979-49c4-aafb-c704368daef8\")) {                    Plotly.newPlot(                        \"a9c5c751-5979-49c4-aafb-c704368daef8\",                        [{\"x\":[1,2,3,4],\"y\":[4,3,2,1],\"type\":\"scatter\"}],                        {\"template\":{\"data\":{\"barpolar\":[{\"marker\":{\"line\":{\"color\":\"#E5ECF6\",\"width\":0.5},\"pattern\":{\"fillmode\":\"overlay\",\"size\":10,\"solidity\":0.2}},\"type\":\"barpolar\"}],\"bar\":[{\"error_x\":{\"color\":\"#2a3f5f\"},\"error_y\":{\"color\":\"#2a3f5f\"},\"marker\":{\"line\":{\"color\":\"#E5ECF6\",\"width\":0.5},\"pattern\":{\"fillmode\":\"overlay\",\"size\":10,\"solidity\":0.2}},\"type\":\"bar\"}],\"carpet\":[{\"aaxis\":{\"endlinecolor\":\"#2a3f5f\",\"gridcolor\":\"white\",\"linecolor\":\"white\",\"minorgridcolor\":\"white\",\"startlinecolor\":\"#2a3f5f\"},\"baxis\":{\"endlinecolor\":\"#2a3f5f\",\"gridcolor\":\"white\",\"linecolor\":\"white\",\"minorgridcolor\":\"white\",\"startlinecolor\":\"#2a3f5f\"},\"type\":\"carpet\"}],\"choropleth\":[{\"colorbar\":{\"outlinewidth\":0,\"ticks\":\"\"},\"type\":\"choropleth\"}],\"contourcarpet\":[{\"colorbar\":{\"outlinewidth\":0,\"ticks\":\"\"},\"type\":\"contourcarpet\"}],\"contour\":[{\"colorbar\":{\"outlinewidth\":0,\"ticks\":\"\"},\"colorscale\":[[0.0,\"#0d0887\"],[0.1111111111111111,\"#46039f\"],[0.2222222222222222,\"#7201a8\"],[0.3333333333333333,\"#9c179e\"],[0.4444444444444444,\"#bd3786\"],[0.5555555555555556,\"#d8576b\"],[0.6666666666666666,\"#ed7953\"],[0.7777777777777778,\"#fb9f3a\"],[0.8888888888888888,\"#fdca26\"],[1.0,\"#f0f921\"]],\"type\":\"contour\"}],\"heatmapgl\":[{\"colorbar\":{\"outlinewidth\":0,\"ticks\":\"\"},\"colorscale\":[[0.0,\"#0d0887\"],[0.1111111111111111,\"#46039f\"],[0.2222222222222222,\"#7201a8\"],[0.3333333333333333,\"#9c179e\"],[0.4444444444444444,\"#bd3786\"],[0.5555555555555556,\"#d8576b\"],[0.6666666666666666,\"#ed7953\"],[0.7777777777777778,\"#fb9f3a\"],[0.8888888888888888,\"#fdca26\"],[1.0,\"#f0f921\"]],\"type\":\"heatmapgl\"}],\"heatmap\":[{\"colorbar\":{\"outlinewidth\":0,\"ticks\":\"\"},\"colorscale\":[[0.0,\"#0d0887\"],[0.1111111111111111,\"#46039f\"],[0.2222222222222222,\"#7201a8\"],[0.3333333333333333,\"#9c179e\"],[0.4444444444444444,\"#bd3786\"],[0.5555555555555556,\"#d8576b\"],[0.6666666666666666,\"#ed7953\"],[0.7777777777777778,\"#fb9f3a\"],[0.8888888888888888,\"#fdca26\"],[1.0,\"#f0f921\"]],\"type\":\"heatmap\"}],\"histogram2dcontour\":[{\"colorbar\":{\"outlinewidth\":0,\"ticks\":\"\"},\"colorscale\":[[0.0,\"#0d0887\"],[0.1111111111111111,\"#46039f\"],[0.2222222222222222,\"#7201a8\"],[0.3333333333333333,\"#9c179e\"],[0.4444444444444444,\"#bd3786\"],[0.5555555555555556,\"#d8576b\"],[0.6666666666666666,\"#ed7953\"],[0.7777777777777778,\"#fb9f3a\"],[0.8888888888888888,\"#fdca26\"],[1.0,\"#f0f921\"]],\"type\":\"histogram2dcontour\"}],\"histogram2d\":[{\"colorbar\":{\"outlinewidth\":0,\"ticks\":\"\"},\"colorscale\":[[0.0,\"#0d0887\"],[0.1111111111111111,\"#46039f\"],[0.2222222222222222,\"#7201a8\"],[0.3333333333333333,\"#9c179e\"],[0.4444444444444444,\"#bd3786\"],[0.5555555555555556,\"#d8576b\"],[0.6666666666666666,\"#ed7953\"],[0.7777777777777778,\"#fb9f3a\"],[0.8888888888888888,\"#fdca26\"],[1.0,\"#f0f921\"]],\"type\":\"histogram2d\"}],\"histogram\":[{\"marker\":{\"pattern\":{\"fillmode\":\"overlay\",\"size\":10,\"solidity\":0.2}},\"type\":\"histogram\"}],\"mesh3d\":[{\"colorbar\":{\"outlinewidth\":0,\"ticks\":\"\"},\"type\":\"mesh3d\"}],\"parcoords\":[{\"line\":{\"colorbar\":{\"outlinewidth\":0,\"ticks\":\"\"}},\"type\":\"parcoords\"}],\"pie\":[{\"automargin\":true,\"type\":\"pie\"}],\"scatter3d\":[{\"line\":{\"colorbar\":{\"outlinewidth\":0,\"ticks\":\"\"}},\"marker\":{\"colorbar\":{\"outlinewidth\":0,\"ticks\":\"\"}},\"type\":\"scatter3d\"}],\"scattercarpet\":[{\"marker\":{\"colorbar\":{\"outlinewidth\":0,\"ticks\":\"\"}},\"type\":\"scattercarpet\"}],\"scattergeo\":[{\"marker\":{\"colorbar\":{\"outlinewidth\":0,\"ticks\":\"\"}},\"type\":\"scattergeo\"}],\"scattergl\":[{\"marker\":{\"colorbar\":{\"outlinewidth\":0,\"ticks\":\"\"}},\"type\":\"scattergl\"}],\"scattermapbox\":[{\"marker\":{\"colorbar\":{\"outlinewidth\":0,\"ticks\":\"\"}},\"type\":\"scattermapbox\"}],\"scatterpolargl\":[{\"marker\":{\"colorbar\":{\"outlinewidth\":0,\"ticks\":\"\"}},\"type\":\"scatterpolargl\"}],\"scatterpolar\":[{\"marker\":{\"colorbar\":{\"outlinewidth\":0,\"ticks\":\"\"}},\"type\":\"scatterpolar\"}],\"scatter\":[{\"fillpattern\":{\"fillmode\":\"overlay\",\"size\":10,\"solidity\":0.2},\"type\":\"scatter\"}],\"scatterternary\":[{\"marker\":{\"colorbar\":{\"outlinewidth\":0,\"ticks\":\"\"}},\"type\":\"scatterternary\"}],\"surface\":[{\"colorbar\":{\"outlinewidth\":0,\"ticks\":\"\"},\"colorscale\":[[0.0,\"#0d0887\"],[0.1111111111111111,\"#46039f\"],[0.2222222222222222,\"#7201a8\"],[0.3333333333333333,\"#9c179e\"],[0.4444444444444444,\"#bd3786\"],[0.5555555555555556,\"#d8576b\"],[0.6666666666666666,\"#ed7953\"],[0.7777777777777778,\"#fb9f3a\"],[0.8888888888888888,\"#fdca26\"],[1.0,\"#f0f921\"]],\"type\":\"surface\"}],\"table\":[{\"cells\":{\"fill\":{\"color\":\"#EBF0F8\"},\"line\":{\"color\":\"white\"}},\"header\":{\"fill\":{\"color\":\"#C8D4E3\"},\"line\":{\"color\":\"white\"}},\"type\":\"table\"}]},\"layout\":{\"annotationdefaults\":{\"arrowcolor\":\"#2a3f5f\",\"arrowhead\":0,\"arrowwidth\":1},\"autotypenumbers\":\"strict\",\"coloraxis\":{\"colorbar\":{\"outlinewidth\":0,\"ticks\":\"\"}},\"colorscale\":{\"diverging\":[[0,\"#8e0152\"],[0.1,\"#c51b7d\"],[0.2,\"#de77ae\"],[0.3,\"#f1b6da\"],[0.4,\"#fde0ef\"],[0.5,\"#f7f7f7\"],[0.6,\"#e6f5d0\"],[0.7,\"#b8e186\"],[0.8,\"#7fbc41\"],[0.9,\"#4d9221\"],[1,\"#276419\"]],\"sequential\":[[0.0,\"#0d0887\"],[0.1111111111111111,\"#46039f\"],[0.2222222222222222,\"#7201a8\"],[0.3333333333333333,\"#9c179e\"],[0.4444444444444444,\"#bd3786\"],[0.5555555555555556,\"#d8576b\"],[0.6666666666666666,\"#ed7953\"],[0.7777777777777778,\"#fb9f3a\"],[0.8888888888888888,\"#fdca26\"],[1.0,\"#f0f921\"]],\"sequentialminus\":[[0.0,\"#0d0887\"],[0.1111111111111111,\"#46039f\"],[0.2222222222222222,\"#7201a8\"],[0.3333333333333333,\"#9c179e\"],[0.4444444444444444,\"#bd3786\"],[0.5555555555555556,\"#d8576b\"],[0.6666666666666666,\"#ed7953\"],[0.7777777777777778,\"#fb9f3a\"],[0.8888888888888888,\"#fdca26\"],[1.0,\"#f0f921\"]]},\"colorway\":[\"#636efa\",\"#EF553B\",\"#00cc96\",\"#ab63fa\",\"#FFA15A\",\"#19d3f3\",\"#FF6692\",\"#B6E880\",\"#FF97FF\",\"#FECB52\"],\"font\":{\"color\":\"#2a3f5f\"},\"geo\":{\"bgcolor\":\"white\",\"lakecolor\":\"white\",\"landcolor\":\"#E5ECF6\",\"showlakes\":true,\"showland\":true,\"subunitcolor\":\"white\"},\"hoverlabel\":{\"align\":\"left\"},\"hovermode\":\"closest\",\"mapbox\":{\"style\":\"light\"},\"paper_bgcolor\":\"white\",\"plot_bgcolor\":\"#E5ECF6\",\"polar\":{\"angularaxis\":{\"gridcolor\":\"white\",\"linecolor\":\"white\",\"ticks\":\"\"},\"bgcolor\":\"#E5ECF6\",\"radialaxis\":{\"gridcolor\":\"white\",\"linecolor\":\"white\",\"ticks\":\"\"}},\"scene\":{\"xaxis\":{\"backgroundcolor\":\"#E5ECF6\",\"gridcolor\":\"white\",\"gridwidth\":2,\"linecolor\":\"white\",\"showbackground\":true,\"ticks\":\"\",\"zerolinecolor\":\"white\"},\"yaxis\":{\"backgroundcolor\":\"#E5ECF6\",\"gridcolor\":\"white\",\"gridwidth\":2,\"linecolor\":\"white\",\"showbackground\":true,\"ticks\":\"\",\"zerolinecolor\":\"white\"},\"zaxis\":{\"backgroundcolor\":\"#E5ECF6\",\"gridcolor\":\"white\",\"gridwidth\":2,\"linecolor\":\"white\",\"showbackground\":true,\"ticks\":\"\",\"zerolinecolor\":\"white\"}},\"shapedefaults\":{\"line\":{\"color\":\"#2a3f5f\"}},\"ternary\":{\"aaxis\":{\"gridcolor\":\"white\",\"linecolor\":\"white\",\"ticks\":\"\"},\"baxis\":{\"gridcolor\":\"white\",\"linecolor\":\"white\",\"ticks\":\"\"},\"bgcolor\":\"#E5ECF6\",\"caxis\":{\"gridcolor\":\"white\",\"linecolor\":\"white\",\"ticks\":\"\"}},\"title\":{\"x\":0.05},\"xaxis\":{\"automargin\":true,\"gridcolor\":\"white\",\"linecolor\":\"white\",\"ticks\":\"\",\"title\":{\"standoff\":15},\"zerolinecolor\":\"white\",\"zerolinewidth\":2},\"yaxis\":{\"automargin\":true,\"gridcolor\":\"white\",\"linecolor\":\"white\",\"ticks\":\"\",\"title\":{\"standoff\":15},\"zerolinecolor\":\"white\",\"zerolinewidth\":2}}},\"title\":{\"text\":\"Siuuuuu\"}},                        {\"responsive\": true}                    ).then(function(){\n",
       "                            \n",
       "var gd = document.getElementById('a9c5c751-5979-49c4-aafb-c704368daef8');\n",
       "var x = new MutationObserver(function (mutations, observer) {{\n",
       "        var display = window.getComputedStyle(gd).display;\n",
       "        if (!display || display === 'none') {{\n",
       "            console.log([gd, 'removed!']);\n",
       "            Plotly.purge(gd);\n",
       "            observer.disconnect();\n",
       "        }}\n",
       "}});\n",
       "\n",
       "// Listen for the removal of the full notebook cells\n",
       "var notebookContainer = gd.closest('#notebook-container');\n",
       "if (notebookContainer) {{\n",
       "    x.observe(notebookContainer, {childList: true});\n",
       "}}\n",
       "\n",
       "// Listen for the clearing of the current output cell\n",
       "var outputEl = gd.closest('.output');\n",
       "if (outputEl) {{\n",
       "    x.observe(outputEl, {childList: true});\n",
       "}}\n",
       "\n",
       "                        })                };                });            </script>        </div>"
      ]
     },
     "metadata": {},
     "output_type": "display_data"
    }
   ],
   "source": [
    "plotly.offline.iplot({\n",
    "    \"data\" : [go.Scatter(x=[1,2,3,4], y=[4,3,2,1])],\n",
    "    \"layout\": go.Layout(title = 'Siuuuuu')\n",
    "})"
   ]
  },
  {
   "cell_type": "code",
   "execution_count": 167,
   "id": "a2fe1277",
   "metadata": {},
   "outputs": [
    {
     "data": {
      "application/vnd.plotly.v1+json": {
       "config": {
        "linkText": "Export to plot.ly",
        "plotlyServerURL": "https://plot.ly",
        "showLink": false
       },
       "data": [
        {
         "hovertemplate": "candle_date_time_kst=%{x}<br>trade_price=%{y}<extra></extra>",
         "legendgroup": "",
         "marker": {
          "color": "#636efa",
          "symbol": "circle"
         },
         "mode": "markers",
         "name": "",
         "orientation": "v",
         "showlegend": false,
         "type": "scatter",
         "x": [
          "2023-12-28",
          "2023-12-27",
          "2023-12-26",
          "2023-12-25",
          "2023-12-24",
          "2023-12-23",
          "2023-12-22",
          "2023-12-21",
          "2023-12-20",
          "2023-12-19",
          "2023-12-18",
          "2023-12-17",
          "2023-12-16",
          "2023-12-15",
          "2023-12-14",
          "2023-12-13",
          "2023-12-12",
          "2023-12-11",
          "2023-12-10",
          "2023-12-09",
          "2023-12-08",
          "2023-12-07",
          "2023-12-06",
          "2023-12-05",
          "2023-12-04",
          "2023-12-03",
          "2023-12-02",
          "2023-12-01",
          "2023-11-30",
          "2023-11-29",
          "2023-11-28",
          "2023-11-27",
          "2023-11-26",
          "2023-11-25",
          "2023-11-24",
          "2023-11-23",
          "2023-11-22",
          "2023-11-21",
          "2023-11-20",
          "2023-11-19",
          "2023-11-18",
          "2023-11-17",
          "2023-11-16",
          "2023-11-15",
          "2023-11-14",
          "2023-11-13",
          "2023-11-12",
          "2023-11-11",
          "2023-11-10",
          "2023-11-09",
          "2023-11-08",
          "2023-11-07",
          "2023-11-06",
          "2023-11-05",
          "2023-11-04",
          "2023-11-03",
          "2023-11-02",
          "2023-11-01",
          "2023-10-31",
          "2023-10-30",
          "2023-10-29",
          "2023-10-28",
          "2023-10-27",
          "2023-10-26",
          "2023-10-25",
          "2023-10-24",
          "2023-10-23",
          "2023-10-22",
          "2023-10-21",
          "2023-10-20",
          "2023-10-19",
          "2023-10-18",
          "2023-10-17",
          "2023-10-16",
          "2023-10-15",
          "2023-10-14",
          "2023-10-13",
          "2023-10-12",
          "2023-10-11",
          "2023-10-10",
          "2023-10-09",
          "2023-10-08",
          "2023-10-07",
          "2023-10-06",
          "2023-10-05",
          "2023-10-04",
          "2023-10-03",
          "2023-10-02",
          "2023-10-01",
          "2023-09-30",
          "2023-09-29",
          "2023-09-28",
          "2023-09-27",
          "2023-09-26",
          "2023-09-25",
          "2023-09-24",
          "2023-09-23",
          "2023-09-22",
          "2023-09-21",
          "2023-09-20",
          "2023-09-19",
          "2023-09-18",
          "2023-09-17",
          "2023-09-16",
          "2023-09-15",
          "2023-09-14",
          "2023-09-13",
          "2023-09-12",
          "2023-09-11",
          "2023-09-10",
          "2023-09-09",
          "2023-09-08",
          "2023-09-07",
          "2023-09-06",
          "2023-09-05",
          "2023-09-04",
          "2023-09-03",
          "2023-09-02",
          "2023-09-01",
          "2023-08-31",
          "2023-08-30",
          "2023-08-29",
          "2023-08-28",
          "2023-08-27",
          "2023-08-26",
          "2023-08-25",
          "2023-08-24",
          "2023-08-23",
          "2023-08-22",
          "2023-08-21",
          "2023-08-20",
          "2023-08-19",
          "2023-08-18",
          "2023-08-17",
          "2023-08-16",
          "2023-08-15",
          "2023-08-14",
          "2023-08-13",
          "2023-08-12",
          "2023-08-11",
          "2023-08-10",
          "2023-08-09",
          "2023-08-08",
          "2023-08-07",
          "2023-08-06",
          "2023-08-05",
          "2023-08-04",
          "2023-08-03",
          "2023-08-02",
          "2023-08-01",
          "2023-07-31",
          "2023-07-30",
          "2023-07-29",
          "2023-07-28",
          "2023-07-27",
          "2023-07-26",
          "2023-07-25",
          "2023-07-24",
          "2023-07-23",
          "2023-07-22",
          "2023-07-21",
          "2023-07-20",
          "2023-07-19",
          "2023-07-18",
          "2023-07-17",
          "2023-07-16",
          "2023-07-15",
          "2023-07-14",
          "2023-07-13",
          "2023-07-12",
          "2023-07-11",
          "2023-07-10",
          "2023-07-09",
          "2023-07-08",
          "2023-07-07",
          "2023-07-06",
          "2023-07-05",
          "2023-07-04",
          "2023-07-03",
          "2023-07-02",
          "2023-07-01",
          "2023-06-30",
          "2023-06-29",
          "2023-06-28",
          "2023-06-27",
          "2023-06-26",
          "2023-06-25",
          "2023-06-24",
          "2023-06-23",
          "2023-06-22",
          "2023-06-21",
          "2023-06-20",
          "2023-06-19",
          "2023-06-18",
          "2023-06-17",
          "2023-06-16",
          "2023-06-15",
          "2023-06-14",
          "2023-06-13",
          "2023-06-12"
         ],
         "xaxis": "x",
         "y": [
          57720000,
          57920000,
          57032000,
          58042000,
          58002000,
          59250000,
          59532000,
          59479000,
          59351000,
          57845000,
          58130000,
          56710000,
          57935000,
          58028000,
          58735000,
          59056000,
          57605000,
          56950000,
          59835000,
          60082000,
          60142000,
          59250000,
          60314000,
          60227000,
          56920000,
          53700000,
          52603000,
          51709000,
          50586000,
          50720000,
          50576000,
          50275000,
          50210000,
          50533000,
          50601000,
          49929000,
          50042000,
          48510000,
          50170000,
          49800000,
          49165000,
          49390000,
          48868000,
          50457000,
          47969000,
          49154000,
          49418000,
          49629000,
          50030000,
          49400000,
          47458000,
          47301000,
          46781000,
          47056000,
          47050000,
          46676000,
          47516000,
          48079000,
          47030000,
          46732000,
          46825000,
          46314000,
          45980000,
          46141000,
          46484000,
          45599000,
          44179000,
          40354000,
          40400000,
          40250000,
          39000000,
          38710000,
          38652000,
          38697000,
          37086000,
          36790000,
          36968000,
          36750000,
          36671000,
          37336000,
          37595000,
          37929000,
          37902000,
          37798000,
          37258000,
          37595000,
          37197000,
          37424000,
          37789000,
          36600000,
          36444000,
          36596000,
          35982000,
          35566000,
          35491000,
          35534000,
          35960000,
          35952000,
          36012000,
          36501000,
          36500000,
          36000000,
          35758000,
          35938000,
          35928000,
          35889000,
          35497000,
          35077000,
          34327000,
          35196000,
          35280000,
          35295000,
          35615000,
          35029000,
          35056000,
          35011000,
          35308000,
          35204000,
          35350000,
          35502000,
          37109000,
          37445000,
          35335000,
          35402000,
          35398000,
          35479000,
          35635000,
          35941000,
          35684000,
          35769000,
          35949000,
          36056000,
          35890000,
          36588000,
          39001000,
          39404000,
          39288000,
          39118000,
          39283000,
          39233000,
          39119000,
          39209000,
          39437000,
          38622000,
          38605000,
          38474000,
          38492000,
          38436000,
          38358000,
          38642000,
          37929000,
          37850000,
          37901000,
          37932000,
          37874000,
          37918000,
          37910000,
          37892000,
          38945000,
          38776000,
          38829000,
          38567000,
          38323000,
          38401000,
          38742000,
          38933000,
          38889000,
          39092000,
          40112000,
          39804000,
          40117000,
          40050000,
          39832000,
          40153000,
          40240000,
          39860000,
          40385000,
          40610000,
          41200000,
          40652000,
          40691000,
          40547000,
          40583000,
          40020000,
          40585000,
          40077000,
          40352000,
          40659000,
          40651000,
          39125000,
          39135000,
          36946000,
          35092000,
          34466000,
          34780000,
          34501000,
          33449000,
          33007000,
          33913000,
          34059000
         ],
         "yaxis": "y"
        }
       ],
       "layout": {
        "legend": {
         "tracegroupgap": 0
        },
        "margin": {
         "t": 60
        },
        "template": {
         "data": {
          "bar": [
           {
            "error_x": {
             "color": "#2a3f5f"
            },
            "error_y": {
             "color": "#2a3f5f"
            },
            "marker": {
             "line": {
              "color": "#E5ECF6",
              "width": 0.5
             },
             "pattern": {
              "fillmode": "overlay",
              "size": 10,
              "solidity": 0.2
             }
            },
            "type": "bar"
           }
          ],
          "barpolar": [
           {
            "marker": {
             "line": {
              "color": "#E5ECF6",
              "width": 0.5
             },
             "pattern": {
              "fillmode": "overlay",
              "size": 10,
              "solidity": 0.2
             }
            },
            "type": "barpolar"
           }
          ],
          "carpet": [
           {
            "aaxis": {
             "endlinecolor": "#2a3f5f",
             "gridcolor": "white",
             "linecolor": "white",
             "minorgridcolor": "white",
             "startlinecolor": "#2a3f5f"
            },
            "baxis": {
             "endlinecolor": "#2a3f5f",
             "gridcolor": "white",
             "linecolor": "white",
             "minorgridcolor": "white",
             "startlinecolor": "#2a3f5f"
            },
            "type": "carpet"
           }
          ],
          "choropleth": [
           {
            "colorbar": {
             "outlinewidth": 0,
             "ticks": ""
            },
            "type": "choropleth"
           }
          ],
          "contour": [
           {
            "colorbar": {
             "outlinewidth": 0,
             "ticks": ""
            },
            "colorscale": [
             [
              0,
              "#0d0887"
             ],
             [
              0.1111111111111111,
              "#46039f"
             ],
             [
              0.2222222222222222,
              "#7201a8"
             ],
             [
              0.3333333333333333,
              "#9c179e"
             ],
             [
              0.4444444444444444,
              "#bd3786"
             ],
             [
              0.5555555555555556,
              "#d8576b"
             ],
             [
              0.6666666666666666,
              "#ed7953"
             ],
             [
              0.7777777777777778,
              "#fb9f3a"
             ],
             [
              0.8888888888888888,
              "#fdca26"
             ],
             [
              1,
              "#f0f921"
             ]
            ],
            "type": "contour"
           }
          ],
          "contourcarpet": [
           {
            "colorbar": {
             "outlinewidth": 0,
             "ticks": ""
            },
            "type": "contourcarpet"
           }
          ],
          "heatmap": [
           {
            "colorbar": {
             "outlinewidth": 0,
             "ticks": ""
            },
            "colorscale": [
             [
              0,
              "#0d0887"
             ],
             [
              0.1111111111111111,
              "#46039f"
             ],
             [
              0.2222222222222222,
              "#7201a8"
             ],
             [
              0.3333333333333333,
              "#9c179e"
             ],
             [
              0.4444444444444444,
              "#bd3786"
             ],
             [
              0.5555555555555556,
              "#d8576b"
             ],
             [
              0.6666666666666666,
              "#ed7953"
             ],
             [
              0.7777777777777778,
              "#fb9f3a"
             ],
             [
              0.8888888888888888,
              "#fdca26"
             ],
             [
              1,
              "#f0f921"
             ]
            ],
            "type": "heatmap"
           }
          ],
          "heatmapgl": [
           {
            "colorbar": {
             "outlinewidth": 0,
             "ticks": ""
            },
            "colorscale": [
             [
              0,
              "#0d0887"
             ],
             [
              0.1111111111111111,
              "#46039f"
             ],
             [
              0.2222222222222222,
              "#7201a8"
             ],
             [
              0.3333333333333333,
              "#9c179e"
             ],
             [
              0.4444444444444444,
              "#bd3786"
             ],
             [
              0.5555555555555556,
              "#d8576b"
             ],
             [
              0.6666666666666666,
              "#ed7953"
             ],
             [
              0.7777777777777778,
              "#fb9f3a"
             ],
             [
              0.8888888888888888,
              "#fdca26"
             ],
             [
              1,
              "#f0f921"
             ]
            ],
            "type": "heatmapgl"
           }
          ],
          "histogram": [
           {
            "marker": {
             "pattern": {
              "fillmode": "overlay",
              "size": 10,
              "solidity": 0.2
             }
            },
            "type": "histogram"
           }
          ],
          "histogram2d": [
           {
            "colorbar": {
             "outlinewidth": 0,
             "ticks": ""
            },
            "colorscale": [
             [
              0,
              "#0d0887"
             ],
             [
              0.1111111111111111,
              "#46039f"
             ],
             [
              0.2222222222222222,
              "#7201a8"
             ],
             [
              0.3333333333333333,
              "#9c179e"
             ],
             [
              0.4444444444444444,
              "#bd3786"
             ],
             [
              0.5555555555555556,
              "#d8576b"
             ],
             [
              0.6666666666666666,
              "#ed7953"
             ],
             [
              0.7777777777777778,
              "#fb9f3a"
             ],
             [
              0.8888888888888888,
              "#fdca26"
             ],
             [
              1,
              "#f0f921"
             ]
            ],
            "type": "histogram2d"
           }
          ],
          "histogram2dcontour": [
           {
            "colorbar": {
             "outlinewidth": 0,
             "ticks": ""
            },
            "colorscale": [
             [
              0,
              "#0d0887"
             ],
             [
              0.1111111111111111,
              "#46039f"
             ],
             [
              0.2222222222222222,
              "#7201a8"
             ],
             [
              0.3333333333333333,
              "#9c179e"
             ],
             [
              0.4444444444444444,
              "#bd3786"
             ],
             [
              0.5555555555555556,
              "#d8576b"
             ],
             [
              0.6666666666666666,
              "#ed7953"
             ],
             [
              0.7777777777777778,
              "#fb9f3a"
             ],
             [
              0.8888888888888888,
              "#fdca26"
             ],
             [
              1,
              "#f0f921"
             ]
            ],
            "type": "histogram2dcontour"
           }
          ],
          "mesh3d": [
           {
            "colorbar": {
             "outlinewidth": 0,
             "ticks": ""
            },
            "type": "mesh3d"
           }
          ],
          "parcoords": [
           {
            "line": {
             "colorbar": {
              "outlinewidth": 0,
              "ticks": ""
             }
            },
            "type": "parcoords"
           }
          ],
          "pie": [
           {
            "automargin": true,
            "type": "pie"
           }
          ],
          "scatter": [
           {
            "fillpattern": {
             "fillmode": "overlay",
             "size": 10,
             "solidity": 0.2
            },
            "type": "scatter"
           }
          ],
          "scatter3d": [
           {
            "line": {
             "colorbar": {
              "outlinewidth": 0,
              "ticks": ""
             }
            },
            "marker": {
             "colorbar": {
              "outlinewidth": 0,
              "ticks": ""
             }
            },
            "type": "scatter3d"
           }
          ],
          "scattercarpet": [
           {
            "marker": {
             "colorbar": {
              "outlinewidth": 0,
              "ticks": ""
             }
            },
            "type": "scattercarpet"
           }
          ],
          "scattergeo": [
           {
            "marker": {
             "colorbar": {
              "outlinewidth": 0,
              "ticks": ""
             }
            },
            "type": "scattergeo"
           }
          ],
          "scattergl": [
           {
            "marker": {
             "colorbar": {
              "outlinewidth": 0,
              "ticks": ""
             }
            },
            "type": "scattergl"
           }
          ],
          "scattermapbox": [
           {
            "marker": {
             "colorbar": {
              "outlinewidth": 0,
              "ticks": ""
             }
            },
            "type": "scattermapbox"
           }
          ],
          "scatterpolar": [
           {
            "marker": {
             "colorbar": {
              "outlinewidth": 0,
              "ticks": ""
             }
            },
            "type": "scatterpolar"
           }
          ],
          "scatterpolargl": [
           {
            "marker": {
             "colorbar": {
              "outlinewidth": 0,
              "ticks": ""
             }
            },
            "type": "scatterpolargl"
           }
          ],
          "scatterternary": [
           {
            "marker": {
             "colorbar": {
              "outlinewidth": 0,
              "ticks": ""
             }
            },
            "type": "scatterternary"
           }
          ],
          "surface": [
           {
            "colorbar": {
             "outlinewidth": 0,
             "ticks": ""
            },
            "colorscale": [
             [
              0,
              "#0d0887"
             ],
             [
              0.1111111111111111,
              "#46039f"
             ],
             [
              0.2222222222222222,
              "#7201a8"
             ],
             [
              0.3333333333333333,
              "#9c179e"
             ],
             [
              0.4444444444444444,
              "#bd3786"
             ],
             [
              0.5555555555555556,
              "#d8576b"
             ],
             [
              0.6666666666666666,
              "#ed7953"
             ],
             [
              0.7777777777777778,
              "#fb9f3a"
             ],
             [
              0.8888888888888888,
              "#fdca26"
             ],
             [
              1,
              "#f0f921"
             ]
            ],
            "type": "surface"
           }
          ],
          "table": [
           {
            "cells": {
             "fill": {
              "color": "#EBF0F8"
             },
             "line": {
              "color": "white"
             }
            },
            "header": {
             "fill": {
              "color": "#C8D4E3"
             },
             "line": {
              "color": "white"
             }
            },
            "type": "table"
           }
          ]
         },
         "layout": {
          "annotationdefaults": {
           "arrowcolor": "#2a3f5f",
           "arrowhead": 0,
           "arrowwidth": 1
          },
          "autotypenumbers": "strict",
          "coloraxis": {
           "colorbar": {
            "outlinewidth": 0,
            "ticks": ""
           }
          },
          "colorscale": {
           "diverging": [
            [
             0,
             "#8e0152"
            ],
            [
             0.1,
             "#c51b7d"
            ],
            [
             0.2,
             "#de77ae"
            ],
            [
             0.3,
             "#f1b6da"
            ],
            [
             0.4,
             "#fde0ef"
            ],
            [
             0.5,
             "#f7f7f7"
            ],
            [
             0.6,
             "#e6f5d0"
            ],
            [
             0.7,
             "#b8e186"
            ],
            [
             0.8,
             "#7fbc41"
            ],
            [
             0.9,
             "#4d9221"
            ],
            [
             1,
             "#276419"
            ]
           ],
           "sequential": [
            [
             0,
             "#0d0887"
            ],
            [
             0.1111111111111111,
             "#46039f"
            ],
            [
             0.2222222222222222,
             "#7201a8"
            ],
            [
             0.3333333333333333,
             "#9c179e"
            ],
            [
             0.4444444444444444,
             "#bd3786"
            ],
            [
             0.5555555555555556,
             "#d8576b"
            ],
            [
             0.6666666666666666,
             "#ed7953"
            ],
            [
             0.7777777777777778,
             "#fb9f3a"
            ],
            [
             0.8888888888888888,
             "#fdca26"
            ],
            [
             1,
             "#f0f921"
            ]
           ],
           "sequentialminus": [
            [
             0,
             "#0d0887"
            ],
            [
             0.1111111111111111,
             "#46039f"
            ],
            [
             0.2222222222222222,
             "#7201a8"
            ],
            [
             0.3333333333333333,
             "#9c179e"
            ],
            [
             0.4444444444444444,
             "#bd3786"
            ],
            [
             0.5555555555555556,
             "#d8576b"
            ],
            [
             0.6666666666666666,
             "#ed7953"
            ],
            [
             0.7777777777777778,
             "#fb9f3a"
            ],
            [
             0.8888888888888888,
             "#fdca26"
            ],
            [
             1,
             "#f0f921"
            ]
           ]
          },
          "colorway": [
           "#636efa",
           "#EF553B",
           "#00cc96",
           "#ab63fa",
           "#FFA15A",
           "#19d3f3",
           "#FF6692",
           "#B6E880",
           "#FF97FF",
           "#FECB52"
          ],
          "font": {
           "color": "#2a3f5f"
          },
          "geo": {
           "bgcolor": "white",
           "lakecolor": "white",
           "landcolor": "#E5ECF6",
           "showlakes": true,
           "showland": true,
           "subunitcolor": "white"
          },
          "hoverlabel": {
           "align": "left"
          },
          "hovermode": "closest",
          "mapbox": {
           "style": "light"
          },
          "paper_bgcolor": "white",
          "plot_bgcolor": "#E5ECF6",
          "polar": {
           "angularaxis": {
            "gridcolor": "white",
            "linecolor": "white",
            "ticks": ""
           },
           "bgcolor": "#E5ECF6",
           "radialaxis": {
            "gridcolor": "white",
            "linecolor": "white",
            "ticks": ""
           }
          },
          "scene": {
           "xaxis": {
            "backgroundcolor": "#E5ECF6",
            "gridcolor": "white",
            "gridwidth": 2,
            "linecolor": "white",
            "showbackground": true,
            "ticks": "",
            "zerolinecolor": "white"
           },
           "yaxis": {
            "backgroundcolor": "#E5ECF6",
            "gridcolor": "white",
            "gridwidth": 2,
            "linecolor": "white",
            "showbackground": true,
            "ticks": "",
            "zerolinecolor": "white"
           },
           "zaxis": {
            "backgroundcolor": "#E5ECF6",
            "gridcolor": "white",
            "gridwidth": 2,
            "linecolor": "white",
            "showbackground": true,
            "ticks": "",
            "zerolinecolor": "white"
           }
          },
          "shapedefaults": {
           "line": {
            "color": "#2a3f5f"
           }
          },
          "ternary": {
           "aaxis": {
            "gridcolor": "white",
            "linecolor": "white",
            "ticks": ""
           },
           "baxis": {
            "gridcolor": "white",
            "linecolor": "white",
            "ticks": ""
           },
           "bgcolor": "#E5ECF6",
           "caxis": {
            "gridcolor": "white",
            "linecolor": "white",
            "ticks": ""
           }
          },
          "title": {
           "x": 0.05
          },
          "xaxis": {
           "automargin": true,
           "gridcolor": "white",
           "linecolor": "white",
           "ticks": "",
           "title": {
            "standoff": 15
           },
           "zerolinecolor": "white",
           "zerolinewidth": 2
          },
          "yaxis": {
           "automargin": true,
           "gridcolor": "white",
           "linecolor": "white",
           "ticks": "",
           "title": {
            "standoff": 15
           },
           "zerolinecolor": "white",
           "zerolinewidth": 2
          }
         }
        },
        "xaxis": {
         "anchor": "y",
         "domain": [
          0,
          1
         ],
         "title": {
          "text": "candle_date_time_kst"
         }
        },
        "yaxis": {
         "anchor": "x",
         "domain": [
          0,
          1
         ],
         "title": {
          "text": "trade_price"
         }
        }
       }
      },
      "text/html": [
       "<div>                            <div id=\"266bd6f0-d12b-419c-941d-b9f84a619b76\" class=\"plotly-graph-div\" style=\"height:525px; width:100%;\"></div>            <script type=\"text/javascript\">                require([\"plotly\"], function(Plotly) {                    window.PLOTLYENV=window.PLOTLYENV || {};                                    if (document.getElementById(\"266bd6f0-d12b-419c-941d-b9f84a619b76\")) {                    Plotly.newPlot(                        \"266bd6f0-d12b-419c-941d-b9f84a619b76\",                        [{\"hovertemplate\":\"candle_date_time_kst=%{x}<br>trade_price=%{y}<extra></extra>\",\"legendgroup\":\"\",\"marker\":{\"color\":\"#636efa\",\"symbol\":\"circle\"},\"mode\":\"markers\",\"name\":\"\",\"orientation\":\"v\",\"showlegend\":false,\"x\":[\"2023-12-28\",\"2023-12-27\",\"2023-12-26\",\"2023-12-25\",\"2023-12-24\",\"2023-12-23\",\"2023-12-22\",\"2023-12-21\",\"2023-12-20\",\"2023-12-19\",\"2023-12-18\",\"2023-12-17\",\"2023-12-16\",\"2023-12-15\",\"2023-12-14\",\"2023-12-13\",\"2023-12-12\",\"2023-12-11\",\"2023-12-10\",\"2023-12-09\",\"2023-12-08\",\"2023-12-07\",\"2023-12-06\",\"2023-12-05\",\"2023-12-04\",\"2023-12-03\",\"2023-12-02\",\"2023-12-01\",\"2023-11-30\",\"2023-11-29\",\"2023-11-28\",\"2023-11-27\",\"2023-11-26\",\"2023-11-25\",\"2023-11-24\",\"2023-11-23\",\"2023-11-22\",\"2023-11-21\",\"2023-11-20\",\"2023-11-19\",\"2023-11-18\",\"2023-11-17\",\"2023-11-16\",\"2023-11-15\",\"2023-11-14\",\"2023-11-13\",\"2023-11-12\",\"2023-11-11\",\"2023-11-10\",\"2023-11-09\",\"2023-11-08\",\"2023-11-07\",\"2023-11-06\",\"2023-11-05\",\"2023-11-04\",\"2023-11-03\",\"2023-11-02\",\"2023-11-01\",\"2023-10-31\",\"2023-10-30\",\"2023-10-29\",\"2023-10-28\",\"2023-10-27\",\"2023-10-26\",\"2023-10-25\",\"2023-10-24\",\"2023-10-23\",\"2023-10-22\",\"2023-10-21\",\"2023-10-20\",\"2023-10-19\",\"2023-10-18\",\"2023-10-17\",\"2023-10-16\",\"2023-10-15\",\"2023-10-14\",\"2023-10-13\",\"2023-10-12\",\"2023-10-11\",\"2023-10-10\",\"2023-10-09\",\"2023-10-08\",\"2023-10-07\",\"2023-10-06\",\"2023-10-05\",\"2023-10-04\",\"2023-10-03\",\"2023-10-02\",\"2023-10-01\",\"2023-09-30\",\"2023-09-29\",\"2023-09-28\",\"2023-09-27\",\"2023-09-26\",\"2023-09-25\",\"2023-09-24\",\"2023-09-23\",\"2023-09-22\",\"2023-09-21\",\"2023-09-20\",\"2023-09-19\",\"2023-09-18\",\"2023-09-17\",\"2023-09-16\",\"2023-09-15\",\"2023-09-14\",\"2023-09-13\",\"2023-09-12\",\"2023-09-11\",\"2023-09-10\",\"2023-09-09\",\"2023-09-08\",\"2023-09-07\",\"2023-09-06\",\"2023-09-05\",\"2023-09-04\",\"2023-09-03\",\"2023-09-02\",\"2023-09-01\",\"2023-08-31\",\"2023-08-30\",\"2023-08-29\",\"2023-08-28\",\"2023-08-27\",\"2023-08-26\",\"2023-08-25\",\"2023-08-24\",\"2023-08-23\",\"2023-08-22\",\"2023-08-21\",\"2023-08-20\",\"2023-08-19\",\"2023-08-18\",\"2023-08-17\",\"2023-08-16\",\"2023-08-15\",\"2023-08-14\",\"2023-08-13\",\"2023-08-12\",\"2023-08-11\",\"2023-08-10\",\"2023-08-09\",\"2023-08-08\",\"2023-08-07\",\"2023-08-06\",\"2023-08-05\",\"2023-08-04\",\"2023-08-03\",\"2023-08-02\",\"2023-08-01\",\"2023-07-31\",\"2023-07-30\",\"2023-07-29\",\"2023-07-28\",\"2023-07-27\",\"2023-07-26\",\"2023-07-25\",\"2023-07-24\",\"2023-07-23\",\"2023-07-22\",\"2023-07-21\",\"2023-07-20\",\"2023-07-19\",\"2023-07-18\",\"2023-07-17\",\"2023-07-16\",\"2023-07-15\",\"2023-07-14\",\"2023-07-13\",\"2023-07-12\",\"2023-07-11\",\"2023-07-10\",\"2023-07-09\",\"2023-07-08\",\"2023-07-07\",\"2023-07-06\",\"2023-07-05\",\"2023-07-04\",\"2023-07-03\",\"2023-07-02\",\"2023-07-01\",\"2023-06-30\",\"2023-06-29\",\"2023-06-28\",\"2023-06-27\",\"2023-06-26\",\"2023-06-25\",\"2023-06-24\",\"2023-06-23\",\"2023-06-22\",\"2023-06-21\",\"2023-06-20\",\"2023-06-19\",\"2023-06-18\",\"2023-06-17\",\"2023-06-16\",\"2023-06-15\",\"2023-06-14\",\"2023-06-13\",\"2023-06-12\"],\"xaxis\":\"x\",\"y\":[57720000.0,57920000.0,57032000.0,58042000.0,58002000.0,59250000.0,59532000.0,59479000.0,59351000.0,57845000.0,58130000.0,56710000.0,57935000.0,58028000.0,58735000.0,59056000.0,57605000.0,56950000.0,59835000.0,60082000.0,60142000.0,59250000.0,60314000.0,60227000.0,56920000.0,53700000.0,52603000.0,51709000.0,50586000.0,50720000.0,50576000.0,50275000.0,50210000.0,50533000.0,50601000.0,49929000.0,50042000.0,48510000.0,50170000.0,49800000.0,49165000.0,49390000.0,48868000.0,50457000.0,47969000.0,49154000.0,49418000.0,49629000.0,50030000.0,49400000.0,47458000.0,47301000.0,46781000.0,47056000.0,47050000.0,46676000.0,47516000.0,48079000.0,47030000.0,46732000.0,46825000.0,46314000.0,45980000.0,46141000.0,46484000.0,45599000.0,44179000.0,40354000.0,40400000.0,40250000.0,39000000.0,38710000.0,38652000.0,38697000.0,37086000.0,36790000.0,36968000.0,36750000.0,36671000.0,37336000.0,37595000.0,37929000.0,37902000.0,37798000.0,37258000.0,37595000.0,37197000.0,37424000.0,37789000.0,36600000.0,36444000.0,36596000.0,35982000.0,35566000.0,35491000.0,35534000.0,35960000.0,35952000.0,36012000.0,36501000.0,36500000.0,36000000.0,35758000.0,35938000.0,35928000.0,35889000.0,35497000.0,35077000.0,34327000.0,35196000.0,35280000.0,35295000.0,35615000.0,35029000.0,35056000.0,35011000.0,35308000.0,35204000.0,35350000.0,35502000.0,37109000.0,37445000.0,35335000.0,35402000.0,35398000.0,35479000.0,35635000.0,35941000.0,35684000.0,35769000.0,35949000.0,36056000.0,35890000.0,36588000.0,39001000.0,39404000.0,39288000.0,39118000.0,39283000.0,39233000.0,39119000.0,39209000.0,39437000.0,38622000.0,38605000.0,38474000.0,38492000.0,38436000.0,38358000.0,38642000.0,37929000.0,37850000.0,37901000.0,37932000.0,37874000.0,37918000.0,37910000.0,37892000.0,38945000.0,38776000.0,38829000.0,38567000.0,38323000.0,38401000.0,38742000.0,38933000.0,38889000.0,39092000.0,40112000.0,39804000.0,40117000.0,40050000.0,39832000.0,40153000.0,40240000.0,39860000.0,40385000.0,40610000.0,41200000.0,40652000.0,40691000.0,40547000.0,40583000.0,40020000.0,40585000.0,40077000.0,40352000.0,40659000.0,40651000.0,39125000.0,39135000.0,36946000.0,35092000.0,34466000.0,34780000.0,34501000.0,33449000.0,33007000.0,33913000.0,34059000.0],\"yaxis\":\"y\",\"type\":\"scatter\"}],                        {\"legend\":{\"tracegroupgap\":0},\"margin\":{\"t\":60},\"template\":{\"data\":{\"barpolar\":[{\"marker\":{\"line\":{\"color\":\"#E5ECF6\",\"width\":0.5},\"pattern\":{\"fillmode\":\"overlay\",\"size\":10,\"solidity\":0.2}},\"type\":\"barpolar\"}],\"bar\":[{\"error_x\":{\"color\":\"#2a3f5f\"},\"error_y\":{\"color\":\"#2a3f5f\"},\"marker\":{\"line\":{\"color\":\"#E5ECF6\",\"width\":0.5},\"pattern\":{\"fillmode\":\"overlay\",\"size\":10,\"solidity\":0.2}},\"type\":\"bar\"}],\"carpet\":[{\"aaxis\":{\"endlinecolor\":\"#2a3f5f\",\"gridcolor\":\"white\",\"linecolor\":\"white\",\"minorgridcolor\":\"white\",\"startlinecolor\":\"#2a3f5f\"},\"baxis\":{\"endlinecolor\":\"#2a3f5f\",\"gridcolor\":\"white\",\"linecolor\":\"white\",\"minorgridcolor\":\"white\",\"startlinecolor\":\"#2a3f5f\"},\"type\":\"carpet\"}],\"choropleth\":[{\"colorbar\":{\"outlinewidth\":0,\"ticks\":\"\"},\"type\":\"choropleth\"}],\"contourcarpet\":[{\"colorbar\":{\"outlinewidth\":0,\"ticks\":\"\"},\"type\":\"contourcarpet\"}],\"contour\":[{\"colorbar\":{\"outlinewidth\":0,\"ticks\":\"\"},\"colorscale\":[[0.0,\"#0d0887\"],[0.1111111111111111,\"#46039f\"],[0.2222222222222222,\"#7201a8\"],[0.3333333333333333,\"#9c179e\"],[0.4444444444444444,\"#bd3786\"],[0.5555555555555556,\"#d8576b\"],[0.6666666666666666,\"#ed7953\"],[0.7777777777777778,\"#fb9f3a\"],[0.8888888888888888,\"#fdca26\"],[1.0,\"#f0f921\"]],\"type\":\"contour\"}],\"heatmapgl\":[{\"colorbar\":{\"outlinewidth\":0,\"ticks\":\"\"},\"colorscale\":[[0.0,\"#0d0887\"],[0.1111111111111111,\"#46039f\"],[0.2222222222222222,\"#7201a8\"],[0.3333333333333333,\"#9c179e\"],[0.4444444444444444,\"#bd3786\"],[0.5555555555555556,\"#d8576b\"],[0.6666666666666666,\"#ed7953\"],[0.7777777777777778,\"#fb9f3a\"],[0.8888888888888888,\"#fdca26\"],[1.0,\"#f0f921\"]],\"type\":\"heatmapgl\"}],\"heatmap\":[{\"colorbar\":{\"outlinewidth\":0,\"ticks\":\"\"},\"colorscale\":[[0.0,\"#0d0887\"],[0.1111111111111111,\"#46039f\"],[0.2222222222222222,\"#7201a8\"],[0.3333333333333333,\"#9c179e\"],[0.4444444444444444,\"#bd3786\"],[0.5555555555555556,\"#d8576b\"],[0.6666666666666666,\"#ed7953\"],[0.7777777777777778,\"#fb9f3a\"],[0.8888888888888888,\"#fdca26\"],[1.0,\"#f0f921\"]],\"type\":\"heatmap\"}],\"histogram2dcontour\":[{\"colorbar\":{\"outlinewidth\":0,\"ticks\":\"\"},\"colorscale\":[[0.0,\"#0d0887\"],[0.1111111111111111,\"#46039f\"],[0.2222222222222222,\"#7201a8\"],[0.3333333333333333,\"#9c179e\"],[0.4444444444444444,\"#bd3786\"],[0.5555555555555556,\"#d8576b\"],[0.6666666666666666,\"#ed7953\"],[0.7777777777777778,\"#fb9f3a\"],[0.8888888888888888,\"#fdca26\"],[1.0,\"#f0f921\"]],\"type\":\"histogram2dcontour\"}],\"histogram2d\":[{\"colorbar\":{\"outlinewidth\":0,\"ticks\":\"\"},\"colorscale\":[[0.0,\"#0d0887\"],[0.1111111111111111,\"#46039f\"],[0.2222222222222222,\"#7201a8\"],[0.3333333333333333,\"#9c179e\"],[0.4444444444444444,\"#bd3786\"],[0.5555555555555556,\"#d8576b\"],[0.6666666666666666,\"#ed7953\"],[0.7777777777777778,\"#fb9f3a\"],[0.8888888888888888,\"#fdca26\"],[1.0,\"#f0f921\"]],\"type\":\"histogram2d\"}],\"histogram\":[{\"marker\":{\"pattern\":{\"fillmode\":\"overlay\",\"size\":10,\"solidity\":0.2}},\"type\":\"histogram\"}],\"mesh3d\":[{\"colorbar\":{\"outlinewidth\":0,\"ticks\":\"\"},\"type\":\"mesh3d\"}],\"parcoords\":[{\"line\":{\"colorbar\":{\"outlinewidth\":0,\"ticks\":\"\"}},\"type\":\"parcoords\"}],\"pie\":[{\"automargin\":true,\"type\":\"pie\"}],\"scatter3d\":[{\"line\":{\"colorbar\":{\"outlinewidth\":0,\"ticks\":\"\"}},\"marker\":{\"colorbar\":{\"outlinewidth\":0,\"ticks\":\"\"}},\"type\":\"scatter3d\"}],\"scattercarpet\":[{\"marker\":{\"colorbar\":{\"outlinewidth\":0,\"ticks\":\"\"}},\"type\":\"scattercarpet\"}],\"scattergeo\":[{\"marker\":{\"colorbar\":{\"outlinewidth\":0,\"ticks\":\"\"}},\"type\":\"scattergeo\"}],\"scattergl\":[{\"marker\":{\"colorbar\":{\"outlinewidth\":0,\"ticks\":\"\"}},\"type\":\"scattergl\"}],\"scattermapbox\":[{\"marker\":{\"colorbar\":{\"outlinewidth\":0,\"ticks\":\"\"}},\"type\":\"scattermapbox\"}],\"scatterpolargl\":[{\"marker\":{\"colorbar\":{\"outlinewidth\":0,\"ticks\":\"\"}},\"type\":\"scatterpolargl\"}],\"scatterpolar\":[{\"marker\":{\"colorbar\":{\"outlinewidth\":0,\"ticks\":\"\"}},\"type\":\"scatterpolar\"}],\"scatter\":[{\"fillpattern\":{\"fillmode\":\"overlay\",\"size\":10,\"solidity\":0.2},\"type\":\"scatter\"}],\"scatterternary\":[{\"marker\":{\"colorbar\":{\"outlinewidth\":0,\"ticks\":\"\"}},\"type\":\"scatterternary\"}],\"surface\":[{\"colorbar\":{\"outlinewidth\":0,\"ticks\":\"\"},\"colorscale\":[[0.0,\"#0d0887\"],[0.1111111111111111,\"#46039f\"],[0.2222222222222222,\"#7201a8\"],[0.3333333333333333,\"#9c179e\"],[0.4444444444444444,\"#bd3786\"],[0.5555555555555556,\"#d8576b\"],[0.6666666666666666,\"#ed7953\"],[0.7777777777777778,\"#fb9f3a\"],[0.8888888888888888,\"#fdca26\"],[1.0,\"#f0f921\"]],\"type\":\"surface\"}],\"table\":[{\"cells\":{\"fill\":{\"color\":\"#EBF0F8\"},\"line\":{\"color\":\"white\"}},\"header\":{\"fill\":{\"color\":\"#C8D4E3\"},\"line\":{\"color\":\"white\"}},\"type\":\"table\"}]},\"layout\":{\"annotationdefaults\":{\"arrowcolor\":\"#2a3f5f\",\"arrowhead\":0,\"arrowwidth\":1},\"autotypenumbers\":\"strict\",\"coloraxis\":{\"colorbar\":{\"outlinewidth\":0,\"ticks\":\"\"}},\"colorscale\":{\"diverging\":[[0,\"#8e0152\"],[0.1,\"#c51b7d\"],[0.2,\"#de77ae\"],[0.3,\"#f1b6da\"],[0.4,\"#fde0ef\"],[0.5,\"#f7f7f7\"],[0.6,\"#e6f5d0\"],[0.7,\"#b8e186\"],[0.8,\"#7fbc41\"],[0.9,\"#4d9221\"],[1,\"#276419\"]],\"sequential\":[[0.0,\"#0d0887\"],[0.1111111111111111,\"#46039f\"],[0.2222222222222222,\"#7201a8\"],[0.3333333333333333,\"#9c179e\"],[0.4444444444444444,\"#bd3786\"],[0.5555555555555556,\"#d8576b\"],[0.6666666666666666,\"#ed7953\"],[0.7777777777777778,\"#fb9f3a\"],[0.8888888888888888,\"#fdca26\"],[1.0,\"#f0f921\"]],\"sequentialminus\":[[0.0,\"#0d0887\"],[0.1111111111111111,\"#46039f\"],[0.2222222222222222,\"#7201a8\"],[0.3333333333333333,\"#9c179e\"],[0.4444444444444444,\"#bd3786\"],[0.5555555555555556,\"#d8576b\"],[0.6666666666666666,\"#ed7953\"],[0.7777777777777778,\"#fb9f3a\"],[0.8888888888888888,\"#fdca26\"],[1.0,\"#f0f921\"]]},\"colorway\":[\"#636efa\",\"#EF553B\",\"#00cc96\",\"#ab63fa\",\"#FFA15A\",\"#19d3f3\",\"#FF6692\",\"#B6E880\",\"#FF97FF\",\"#FECB52\"],\"font\":{\"color\":\"#2a3f5f\"},\"geo\":{\"bgcolor\":\"white\",\"lakecolor\":\"white\",\"landcolor\":\"#E5ECF6\",\"showlakes\":true,\"showland\":true,\"subunitcolor\":\"white\"},\"hoverlabel\":{\"align\":\"left\"},\"hovermode\":\"closest\",\"mapbox\":{\"style\":\"light\"},\"paper_bgcolor\":\"white\",\"plot_bgcolor\":\"#E5ECF6\",\"polar\":{\"angularaxis\":{\"gridcolor\":\"white\",\"linecolor\":\"white\",\"ticks\":\"\"},\"bgcolor\":\"#E5ECF6\",\"radialaxis\":{\"gridcolor\":\"white\",\"linecolor\":\"white\",\"ticks\":\"\"}},\"scene\":{\"xaxis\":{\"backgroundcolor\":\"#E5ECF6\",\"gridcolor\":\"white\",\"gridwidth\":2,\"linecolor\":\"white\",\"showbackground\":true,\"ticks\":\"\",\"zerolinecolor\":\"white\"},\"yaxis\":{\"backgroundcolor\":\"#E5ECF6\",\"gridcolor\":\"white\",\"gridwidth\":2,\"linecolor\":\"white\",\"showbackground\":true,\"ticks\":\"\",\"zerolinecolor\":\"white\"},\"zaxis\":{\"backgroundcolor\":\"#E5ECF6\",\"gridcolor\":\"white\",\"gridwidth\":2,\"linecolor\":\"white\",\"showbackground\":true,\"ticks\":\"\",\"zerolinecolor\":\"white\"}},\"shapedefaults\":{\"line\":{\"color\":\"#2a3f5f\"}},\"ternary\":{\"aaxis\":{\"gridcolor\":\"white\",\"linecolor\":\"white\",\"ticks\":\"\"},\"baxis\":{\"gridcolor\":\"white\",\"linecolor\":\"white\",\"ticks\":\"\"},\"bgcolor\":\"#E5ECF6\",\"caxis\":{\"gridcolor\":\"white\",\"linecolor\":\"white\",\"ticks\":\"\"}},\"title\":{\"x\":0.05},\"xaxis\":{\"automargin\":true,\"gridcolor\":\"white\",\"linecolor\":\"white\",\"ticks\":\"\",\"title\":{\"standoff\":15},\"zerolinecolor\":\"white\",\"zerolinewidth\":2},\"yaxis\":{\"automargin\":true,\"gridcolor\":\"white\",\"linecolor\":\"white\",\"ticks\":\"\",\"title\":{\"standoff\":15},\"zerolinecolor\":\"white\",\"zerolinewidth\":2}}},\"xaxis\":{\"anchor\":\"y\",\"domain\":[0.0,1.0],\"title\":{\"text\":\"candle_date_time_kst\"}},\"yaxis\":{\"anchor\":\"x\",\"domain\":[0.0,1.0],\"title\":{\"text\":\"trade_price\"}}},                        {\"responsive\": true}                    ).then(function(){\n",
       "                            \n",
       "var gd = document.getElementById('266bd6f0-d12b-419c-941d-b9f84a619b76');\n",
       "var x = new MutationObserver(function (mutations, observer) {{\n",
       "        var display = window.getComputedStyle(gd).display;\n",
       "        if (!display || display === 'none') {{\n",
       "            console.log([gd, 'removed!']);\n",
       "            Plotly.purge(gd);\n",
       "            observer.disconnect();\n",
       "        }}\n",
       "}});\n",
       "\n",
       "// Listen for the removal of the full notebook cells\n",
       "var notebookContainer = gd.closest('#notebook-container');\n",
       "if (notebookContainer) {{\n",
       "    x.observe(notebookContainer, {childList: true});\n",
       "}}\n",
       "\n",
       "// Listen for the clearing of the current output cell\n",
       "var outputEl = gd.closest('.output');\n",
       "if (outputEl) {{\n",
       "    x.observe(outputEl, {childList: true});\n",
       "}}\n",
       "\n",
       "                        })                };                });            </script>        </div>"
      ]
     },
     "metadata": {},
     "output_type": "display_data"
    }
   ],
   "source": [
    "fig = px.scatter(my_df[my_df.market=='BTC'],\n",
    "                x = 'candle_date_time_kst',\n",
    "                y = 'trade_price')\n",
    "plotly.offline.iplot(fig)\n",
    "# = fig.show()"
   ]
  },
  {
   "cell_type": "code",
   "execution_count": 172,
   "id": "cafe1992",
   "metadata": {},
   "outputs": [
    {
     "data": {
      "application/vnd.plotly.v1+json": {
       "config": {
        "plotlyServerURL": "https://plot.ly"
       },
       "data": [
        {
         "alignmentgroup": "True",
         "hovertemplate": "candle_date_time_kst=%{x}<br>trade_price=%{y}<extra></extra>",
         "legendgroup": "",
         "marker": {
          "color": "#636efa",
          "pattern": {
           "shape": ""
          }
         },
         "name": "",
         "offsetgroup": "",
         "orientation": "v",
         "showlegend": false,
         "textposition": "auto",
         "type": "bar",
         "x": [
          "2023-06-21",
          "2023-06-20",
          "2023-06-19",
          "2023-06-18",
          "2023-06-17",
          "2023-06-16",
          "2023-06-15",
          "2023-06-14",
          "2023-06-13",
          "2023-06-12"
         ],
         "xaxis": "x",
         "y": [
          39135000,
          36946000,
          35092000,
          34466000,
          34780000,
          34501000,
          33449000,
          33007000,
          33913000,
          34059000
         ],
         "yaxis": "y"
        }
       ],
       "layout": {
        "barmode": "relative",
        "legend": {
         "tracegroupgap": 0
        },
        "margin": {
         "t": 60
        },
        "template": {
         "data": {
          "bar": [
           {
            "error_x": {
             "color": "#2a3f5f"
            },
            "error_y": {
             "color": "#2a3f5f"
            },
            "marker": {
             "line": {
              "color": "#E5ECF6",
              "width": 0.5
             },
             "pattern": {
              "fillmode": "overlay",
              "size": 10,
              "solidity": 0.2
             }
            },
            "type": "bar"
           }
          ],
          "barpolar": [
           {
            "marker": {
             "line": {
              "color": "#E5ECF6",
              "width": 0.5
             },
             "pattern": {
              "fillmode": "overlay",
              "size": 10,
              "solidity": 0.2
             }
            },
            "type": "barpolar"
           }
          ],
          "carpet": [
           {
            "aaxis": {
             "endlinecolor": "#2a3f5f",
             "gridcolor": "white",
             "linecolor": "white",
             "minorgridcolor": "white",
             "startlinecolor": "#2a3f5f"
            },
            "baxis": {
             "endlinecolor": "#2a3f5f",
             "gridcolor": "white",
             "linecolor": "white",
             "minorgridcolor": "white",
             "startlinecolor": "#2a3f5f"
            },
            "type": "carpet"
           }
          ],
          "choropleth": [
           {
            "colorbar": {
             "outlinewidth": 0,
             "ticks": ""
            },
            "type": "choropleth"
           }
          ],
          "contour": [
           {
            "colorbar": {
             "outlinewidth": 0,
             "ticks": ""
            },
            "colorscale": [
             [
              0,
              "#0d0887"
             ],
             [
              0.1111111111111111,
              "#46039f"
             ],
             [
              0.2222222222222222,
              "#7201a8"
             ],
             [
              0.3333333333333333,
              "#9c179e"
             ],
             [
              0.4444444444444444,
              "#bd3786"
             ],
             [
              0.5555555555555556,
              "#d8576b"
             ],
             [
              0.6666666666666666,
              "#ed7953"
             ],
             [
              0.7777777777777778,
              "#fb9f3a"
             ],
             [
              0.8888888888888888,
              "#fdca26"
             ],
             [
              1,
              "#f0f921"
             ]
            ],
            "type": "contour"
           }
          ],
          "contourcarpet": [
           {
            "colorbar": {
             "outlinewidth": 0,
             "ticks": ""
            },
            "type": "contourcarpet"
           }
          ],
          "heatmap": [
           {
            "colorbar": {
             "outlinewidth": 0,
             "ticks": ""
            },
            "colorscale": [
             [
              0,
              "#0d0887"
             ],
             [
              0.1111111111111111,
              "#46039f"
             ],
             [
              0.2222222222222222,
              "#7201a8"
             ],
             [
              0.3333333333333333,
              "#9c179e"
             ],
             [
              0.4444444444444444,
              "#bd3786"
             ],
             [
              0.5555555555555556,
              "#d8576b"
             ],
             [
              0.6666666666666666,
              "#ed7953"
             ],
             [
              0.7777777777777778,
              "#fb9f3a"
             ],
             [
              0.8888888888888888,
              "#fdca26"
             ],
             [
              1,
              "#f0f921"
             ]
            ],
            "type": "heatmap"
           }
          ],
          "heatmapgl": [
           {
            "colorbar": {
             "outlinewidth": 0,
             "ticks": ""
            },
            "colorscale": [
             [
              0,
              "#0d0887"
             ],
             [
              0.1111111111111111,
              "#46039f"
             ],
             [
              0.2222222222222222,
              "#7201a8"
             ],
             [
              0.3333333333333333,
              "#9c179e"
             ],
             [
              0.4444444444444444,
              "#bd3786"
             ],
             [
              0.5555555555555556,
              "#d8576b"
             ],
             [
              0.6666666666666666,
              "#ed7953"
             ],
             [
              0.7777777777777778,
              "#fb9f3a"
             ],
             [
              0.8888888888888888,
              "#fdca26"
             ],
             [
              1,
              "#f0f921"
             ]
            ],
            "type": "heatmapgl"
           }
          ],
          "histogram": [
           {
            "marker": {
             "pattern": {
              "fillmode": "overlay",
              "size": 10,
              "solidity": 0.2
             }
            },
            "type": "histogram"
           }
          ],
          "histogram2d": [
           {
            "colorbar": {
             "outlinewidth": 0,
             "ticks": ""
            },
            "colorscale": [
             [
              0,
              "#0d0887"
             ],
             [
              0.1111111111111111,
              "#46039f"
             ],
             [
              0.2222222222222222,
              "#7201a8"
             ],
             [
              0.3333333333333333,
              "#9c179e"
             ],
             [
              0.4444444444444444,
              "#bd3786"
             ],
             [
              0.5555555555555556,
              "#d8576b"
             ],
             [
              0.6666666666666666,
              "#ed7953"
             ],
             [
              0.7777777777777778,
              "#fb9f3a"
             ],
             [
              0.8888888888888888,
              "#fdca26"
             ],
             [
              1,
              "#f0f921"
             ]
            ],
            "type": "histogram2d"
           }
          ],
          "histogram2dcontour": [
           {
            "colorbar": {
             "outlinewidth": 0,
             "ticks": ""
            },
            "colorscale": [
             [
              0,
              "#0d0887"
             ],
             [
              0.1111111111111111,
              "#46039f"
             ],
             [
              0.2222222222222222,
              "#7201a8"
             ],
             [
              0.3333333333333333,
              "#9c179e"
             ],
             [
              0.4444444444444444,
              "#bd3786"
             ],
             [
              0.5555555555555556,
              "#d8576b"
             ],
             [
              0.6666666666666666,
              "#ed7953"
             ],
             [
              0.7777777777777778,
              "#fb9f3a"
             ],
             [
              0.8888888888888888,
              "#fdca26"
             ],
             [
              1,
              "#f0f921"
             ]
            ],
            "type": "histogram2dcontour"
           }
          ],
          "mesh3d": [
           {
            "colorbar": {
             "outlinewidth": 0,
             "ticks": ""
            },
            "type": "mesh3d"
           }
          ],
          "parcoords": [
           {
            "line": {
             "colorbar": {
              "outlinewidth": 0,
              "ticks": ""
             }
            },
            "type": "parcoords"
           }
          ],
          "pie": [
           {
            "automargin": true,
            "type": "pie"
           }
          ],
          "scatter": [
           {
            "fillpattern": {
             "fillmode": "overlay",
             "size": 10,
             "solidity": 0.2
            },
            "type": "scatter"
           }
          ],
          "scatter3d": [
           {
            "line": {
             "colorbar": {
              "outlinewidth": 0,
              "ticks": ""
             }
            },
            "marker": {
             "colorbar": {
              "outlinewidth": 0,
              "ticks": ""
             }
            },
            "type": "scatter3d"
           }
          ],
          "scattercarpet": [
           {
            "marker": {
             "colorbar": {
              "outlinewidth": 0,
              "ticks": ""
             }
            },
            "type": "scattercarpet"
           }
          ],
          "scattergeo": [
           {
            "marker": {
             "colorbar": {
              "outlinewidth": 0,
              "ticks": ""
             }
            },
            "type": "scattergeo"
           }
          ],
          "scattergl": [
           {
            "marker": {
             "colorbar": {
              "outlinewidth": 0,
              "ticks": ""
             }
            },
            "type": "scattergl"
           }
          ],
          "scattermapbox": [
           {
            "marker": {
             "colorbar": {
              "outlinewidth": 0,
              "ticks": ""
             }
            },
            "type": "scattermapbox"
           }
          ],
          "scatterpolar": [
           {
            "marker": {
             "colorbar": {
              "outlinewidth": 0,
              "ticks": ""
             }
            },
            "type": "scatterpolar"
           }
          ],
          "scatterpolargl": [
           {
            "marker": {
             "colorbar": {
              "outlinewidth": 0,
              "ticks": ""
             }
            },
            "type": "scatterpolargl"
           }
          ],
          "scatterternary": [
           {
            "marker": {
             "colorbar": {
              "outlinewidth": 0,
              "ticks": ""
             }
            },
            "type": "scatterternary"
           }
          ],
          "surface": [
           {
            "colorbar": {
             "outlinewidth": 0,
             "ticks": ""
            },
            "colorscale": [
             [
              0,
              "#0d0887"
             ],
             [
              0.1111111111111111,
              "#46039f"
             ],
             [
              0.2222222222222222,
              "#7201a8"
             ],
             [
              0.3333333333333333,
              "#9c179e"
             ],
             [
              0.4444444444444444,
              "#bd3786"
             ],
             [
              0.5555555555555556,
              "#d8576b"
             ],
             [
              0.6666666666666666,
              "#ed7953"
             ],
             [
              0.7777777777777778,
              "#fb9f3a"
             ],
             [
              0.8888888888888888,
              "#fdca26"
             ],
             [
              1,
              "#f0f921"
             ]
            ],
            "type": "surface"
           }
          ],
          "table": [
           {
            "cells": {
             "fill": {
              "color": "#EBF0F8"
             },
             "line": {
              "color": "white"
             }
            },
            "header": {
             "fill": {
              "color": "#C8D4E3"
             },
             "line": {
              "color": "white"
             }
            },
            "type": "table"
           }
          ]
         },
         "layout": {
          "annotationdefaults": {
           "arrowcolor": "#2a3f5f",
           "arrowhead": 0,
           "arrowwidth": 1
          },
          "autotypenumbers": "strict",
          "coloraxis": {
           "colorbar": {
            "outlinewidth": 0,
            "ticks": ""
           }
          },
          "colorscale": {
           "diverging": [
            [
             0,
             "#8e0152"
            ],
            [
             0.1,
             "#c51b7d"
            ],
            [
             0.2,
             "#de77ae"
            ],
            [
             0.3,
             "#f1b6da"
            ],
            [
             0.4,
             "#fde0ef"
            ],
            [
             0.5,
             "#f7f7f7"
            ],
            [
             0.6,
             "#e6f5d0"
            ],
            [
             0.7,
             "#b8e186"
            ],
            [
             0.8,
             "#7fbc41"
            ],
            [
             0.9,
             "#4d9221"
            ],
            [
             1,
             "#276419"
            ]
           ],
           "sequential": [
            [
             0,
             "#0d0887"
            ],
            [
             0.1111111111111111,
             "#46039f"
            ],
            [
             0.2222222222222222,
             "#7201a8"
            ],
            [
             0.3333333333333333,
             "#9c179e"
            ],
            [
             0.4444444444444444,
             "#bd3786"
            ],
            [
             0.5555555555555556,
             "#d8576b"
            ],
            [
             0.6666666666666666,
             "#ed7953"
            ],
            [
             0.7777777777777778,
             "#fb9f3a"
            ],
            [
             0.8888888888888888,
             "#fdca26"
            ],
            [
             1,
             "#f0f921"
            ]
           ],
           "sequentialminus": [
            [
             0,
             "#0d0887"
            ],
            [
             0.1111111111111111,
             "#46039f"
            ],
            [
             0.2222222222222222,
             "#7201a8"
            ],
            [
             0.3333333333333333,
             "#9c179e"
            ],
            [
             0.4444444444444444,
             "#bd3786"
            ],
            [
             0.5555555555555556,
             "#d8576b"
            ],
            [
             0.6666666666666666,
             "#ed7953"
            ],
            [
             0.7777777777777778,
             "#fb9f3a"
            ],
            [
             0.8888888888888888,
             "#fdca26"
            ],
            [
             1,
             "#f0f921"
            ]
           ]
          },
          "colorway": [
           "#636efa",
           "#EF553B",
           "#00cc96",
           "#ab63fa",
           "#FFA15A",
           "#19d3f3",
           "#FF6692",
           "#B6E880",
           "#FF97FF",
           "#FECB52"
          ],
          "font": {
           "color": "#2a3f5f"
          },
          "geo": {
           "bgcolor": "white",
           "lakecolor": "white",
           "landcolor": "#E5ECF6",
           "showlakes": true,
           "showland": true,
           "subunitcolor": "white"
          },
          "hoverlabel": {
           "align": "left"
          },
          "hovermode": "closest",
          "mapbox": {
           "style": "light"
          },
          "paper_bgcolor": "white",
          "plot_bgcolor": "#E5ECF6",
          "polar": {
           "angularaxis": {
            "gridcolor": "white",
            "linecolor": "white",
            "ticks": ""
           },
           "bgcolor": "#E5ECF6",
           "radialaxis": {
            "gridcolor": "white",
            "linecolor": "white",
            "ticks": ""
           }
          },
          "scene": {
           "xaxis": {
            "backgroundcolor": "#E5ECF6",
            "gridcolor": "white",
            "gridwidth": 2,
            "linecolor": "white",
            "showbackground": true,
            "ticks": "",
            "zerolinecolor": "white"
           },
           "yaxis": {
            "backgroundcolor": "#E5ECF6",
            "gridcolor": "white",
            "gridwidth": 2,
            "linecolor": "white",
            "showbackground": true,
            "ticks": "",
            "zerolinecolor": "white"
           },
           "zaxis": {
            "backgroundcolor": "#E5ECF6",
            "gridcolor": "white",
            "gridwidth": 2,
            "linecolor": "white",
            "showbackground": true,
            "ticks": "",
            "zerolinecolor": "white"
           }
          },
          "shapedefaults": {
           "line": {
            "color": "#2a3f5f"
           }
          },
          "ternary": {
           "aaxis": {
            "gridcolor": "white",
            "linecolor": "white",
            "ticks": ""
           },
           "baxis": {
            "gridcolor": "white",
            "linecolor": "white",
            "ticks": ""
           },
           "bgcolor": "#E5ECF6",
           "caxis": {
            "gridcolor": "white",
            "linecolor": "white",
            "ticks": ""
           }
          },
          "title": {
           "x": 0.05
          },
          "xaxis": {
           "automargin": true,
           "gridcolor": "white",
           "linecolor": "white",
           "ticks": "",
           "title": {
            "standoff": 15
           },
           "zerolinecolor": "white",
           "zerolinewidth": 2
          },
          "yaxis": {
           "automargin": true,
           "gridcolor": "white",
           "linecolor": "white",
           "ticks": "",
           "title": {
            "standoff": 15
           },
           "zerolinecolor": "white",
           "zerolinewidth": 2
          }
         }
        },
        "xaxis": {
         "anchor": "y",
         "domain": [
          0,
          1
         ],
         "title": {
          "text": "candle_date_time_kst"
         }
        },
        "yaxis": {
         "anchor": "x",
         "domain": [
          0,
          1
         ],
         "title": {
          "text": "trade_price"
         }
        }
       }
      },
      "text/html": [
       "<div>                            <div id=\"72e79d73-2651-4c2b-adb3-bb357235f722\" class=\"plotly-graph-div\" style=\"height:525px; width:100%;\"></div>            <script type=\"text/javascript\">                require([\"plotly\"], function(Plotly) {                    window.PLOTLYENV=window.PLOTLYENV || {};                                    if (document.getElementById(\"72e79d73-2651-4c2b-adb3-bb357235f722\")) {                    Plotly.newPlot(                        \"72e79d73-2651-4c2b-adb3-bb357235f722\",                        [{\"alignmentgroup\":\"True\",\"hovertemplate\":\"candle_date_time_kst=%{x}<br>trade_price=%{y}<extra></extra>\",\"legendgroup\":\"\",\"marker\":{\"color\":\"#636efa\",\"pattern\":{\"shape\":\"\"}},\"name\":\"\",\"offsetgroup\":\"\",\"orientation\":\"v\",\"showlegend\":false,\"textposition\":\"auto\",\"x\":[\"2023-06-21\",\"2023-06-20\",\"2023-06-19\",\"2023-06-18\",\"2023-06-17\",\"2023-06-16\",\"2023-06-15\",\"2023-06-14\",\"2023-06-13\",\"2023-06-12\"],\"xaxis\":\"x\",\"y\":[39135000.0,36946000.0,35092000.0,34466000.0,34780000.0,34501000.0,33449000.0,33007000.0,33913000.0,34059000.0],\"yaxis\":\"y\",\"type\":\"bar\"}],                        {\"template\":{\"data\":{\"histogram2dcontour\":[{\"type\":\"histogram2dcontour\",\"colorbar\":{\"outlinewidth\":0,\"ticks\":\"\"},\"colorscale\":[[0.0,\"#0d0887\"],[0.1111111111111111,\"#46039f\"],[0.2222222222222222,\"#7201a8\"],[0.3333333333333333,\"#9c179e\"],[0.4444444444444444,\"#bd3786\"],[0.5555555555555556,\"#d8576b\"],[0.6666666666666666,\"#ed7953\"],[0.7777777777777778,\"#fb9f3a\"],[0.8888888888888888,\"#fdca26\"],[1.0,\"#f0f921\"]]}],\"choropleth\":[{\"type\":\"choropleth\",\"colorbar\":{\"outlinewidth\":0,\"ticks\":\"\"}}],\"histogram2d\":[{\"type\":\"histogram2d\",\"colorbar\":{\"outlinewidth\":0,\"ticks\":\"\"},\"colorscale\":[[0.0,\"#0d0887\"],[0.1111111111111111,\"#46039f\"],[0.2222222222222222,\"#7201a8\"],[0.3333333333333333,\"#9c179e\"],[0.4444444444444444,\"#bd3786\"],[0.5555555555555556,\"#d8576b\"],[0.6666666666666666,\"#ed7953\"],[0.7777777777777778,\"#fb9f3a\"],[0.8888888888888888,\"#fdca26\"],[1.0,\"#f0f921\"]]}],\"heatmap\":[{\"type\":\"heatmap\",\"colorbar\":{\"outlinewidth\":0,\"ticks\":\"\"},\"colorscale\":[[0.0,\"#0d0887\"],[0.1111111111111111,\"#46039f\"],[0.2222222222222222,\"#7201a8\"],[0.3333333333333333,\"#9c179e\"],[0.4444444444444444,\"#bd3786\"],[0.5555555555555556,\"#d8576b\"],[0.6666666666666666,\"#ed7953\"],[0.7777777777777778,\"#fb9f3a\"],[0.8888888888888888,\"#fdca26\"],[1.0,\"#f0f921\"]]}],\"heatmapgl\":[{\"type\":\"heatmapgl\",\"colorbar\":{\"outlinewidth\":0,\"ticks\":\"\"},\"colorscale\":[[0.0,\"#0d0887\"],[0.1111111111111111,\"#46039f\"],[0.2222222222222222,\"#7201a8\"],[0.3333333333333333,\"#9c179e\"],[0.4444444444444444,\"#bd3786\"],[0.5555555555555556,\"#d8576b\"],[0.6666666666666666,\"#ed7953\"],[0.7777777777777778,\"#fb9f3a\"],[0.8888888888888888,\"#fdca26\"],[1.0,\"#f0f921\"]]}],\"contourcarpet\":[{\"type\":\"contourcarpet\",\"colorbar\":{\"outlinewidth\":0,\"ticks\":\"\"}}],\"contour\":[{\"type\":\"contour\",\"colorbar\":{\"outlinewidth\":0,\"ticks\":\"\"},\"colorscale\":[[0.0,\"#0d0887\"],[0.1111111111111111,\"#46039f\"],[0.2222222222222222,\"#7201a8\"],[0.3333333333333333,\"#9c179e\"],[0.4444444444444444,\"#bd3786\"],[0.5555555555555556,\"#d8576b\"],[0.6666666666666666,\"#ed7953\"],[0.7777777777777778,\"#fb9f3a\"],[0.8888888888888888,\"#fdca26\"],[1.0,\"#f0f921\"]]}],\"surface\":[{\"type\":\"surface\",\"colorbar\":{\"outlinewidth\":0,\"ticks\":\"\"},\"colorscale\":[[0.0,\"#0d0887\"],[0.1111111111111111,\"#46039f\"],[0.2222222222222222,\"#7201a8\"],[0.3333333333333333,\"#9c179e\"],[0.4444444444444444,\"#bd3786\"],[0.5555555555555556,\"#d8576b\"],[0.6666666666666666,\"#ed7953\"],[0.7777777777777778,\"#fb9f3a\"],[0.8888888888888888,\"#fdca26\"],[1.0,\"#f0f921\"]]}],\"mesh3d\":[{\"type\":\"mesh3d\",\"colorbar\":{\"outlinewidth\":0,\"ticks\":\"\"}}],\"scatter\":[{\"fillpattern\":{\"fillmode\":\"overlay\",\"size\":10,\"solidity\":0.2},\"type\":\"scatter\"}],\"parcoords\":[{\"type\":\"parcoords\",\"line\":{\"colorbar\":{\"outlinewidth\":0,\"ticks\":\"\"}}}],\"scatterpolargl\":[{\"type\":\"scatterpolargl\",\"marker\":{\"colorbar\":{\"outlinewidth\":0,\"ticks\":\"\"}}}],\"bar\":[{\"error_x\":{\"color\":\"#2a3f5f\"},\"error_y\":{\"color\":\"#2a3f5f\"},\"marker\":{\"line\":{\"color\":\"#E5ECF6\",\"width\":0.5},\"pattern\":{\"fillmode\":\"overlay\",\"size\":10,\"solidity\":0.2}},\"type\":\"bar\"}],\"scattergeo\":[{\"type\":\"scattergeo\",\"marker\":{\"colorbar\":{\"outlinewidth\":0,\"ticks\":\"\"}}}],\"scatterpolar\":[{\"type\":\"scatterpolar\",\"marker\":{\"colorbar\":{\"outlinewidth\":0,\"ticks\":\"\"}}}],\"histogram\":[{\"marker\":{\"pattern\":{\"fillmode\":\"overlay\",\"size\":10,\"solidity\":0.2}},\"type\":\"histogram\"}],\"scattergl\":[{\"type\":\"scattergl\",\"marker\":{\"colorbar\":{\"outlinewidth\":0,\"ticks\":\"\"}}}],\"scatter3d\":[{\"type\":\"scatter3d\",\"line\":{\"colorbar\":{\"outlinewidth\":0,\"ticks\":\"\"}},\"marker\":{\"colorbar\":{\"outlinewidth\":0,\"ticks\":\"\"}}}],\"scattermapbox\":[{\"type\":\"scattermapbox\",\"marker\":{\"colorbar\":{\"outlinewidth\":0,\"ticks\":\"\"}}}],\"scatterternary\":[{\"type\":\"scatterternary\",\"marker\":{\"colorbar\":{\"outlinewidth\":0,\"ticks\":\"\"}}}],\"scattercarpet\":[{\"type\":\"scattercarpet\",\"marker\":{\"colorbar\":{\"outlinewidth\":0,\"ticks\":\"\"}}}],\"carpet\":[{\"aaxis\":{\"endlinecolor\":\"#2a3f5f\",\"gridcolor\":\"white\",\"linecolor\":\"white\",\"minorgridcolor\":\"white\",\"startlinecolor\":\"#2a3f5f\"},\"baxis\":{\"endlinecolor\":\"#2a3f5f\",\"gridcolor\":\"white\",\"linecolor\":\"white\",\"minorgridcolor\":\"white\",\"startlinecolor\":\"#2a3f5f\"},\"type\":\"carpet\"}],\"table\":[{\"cells\":{\"fill\":{\"color\":\"#EBF0F8\"},\"line\":{\"color\":\"white\"}},\"header\":{\"fill\":{\"color\":\"#C8D4E3\"},\"line\":{\"color\":\"white\"}},\"type\":\"table\"}],\"barpolar\":[{\"marker\":{\"line\":{\"color\":\"#E5ECF6\",\"width\":0.5},\"pattern\":{\"fillmode\":\"overlay\",\"size\":10,\"solidity\":0.2}},\"type\":\"barpolar\"}],\"pie\":[{\"automargin\":true,\"type\":\"pie\"}]},\"layout\":{\"autotypenumbers\":\"strict\",\"colorway\":[\"#636efa\",\"#EF553B\",\"#00cc96\",\"#ab63fa\",\"#FFA15A\",\"#19d3f3\",\"#FF6692\",\"#B6E880\",\"#FF97FF\",\"#FECB52\"],\"font\":{\"color\":\"#2a3f5f\"},\"hovermode\":\"closest\",\"hoverlabel\":{\"align\":\"left\"},\"paper_bgcolor\":\"white\",\"plot_bgcolor\":\"#E5ECF6\",\"polar\":{\"bgcolor\":\"#E5ECF6\",\"angularaxis\":{\"gridcolor\":\"white\",\"linecolor\":\"white\",\"ticks\":\"\"},\"radialaxis\":{\"gridcolor\":\"white\",\"linecolor\":\"white\",\"ticks\":\"\"}},\"ternary\":{\"bgcolor\":\"#E5ECF6\",\"aaxis\":{\"gridcolor\":\"white\",\"linecolor\":\"white\",\"ticks\":\"\"},\"baxis\":{\"gridcolor\":\"white\",\"linecolor\":\"white\",\"ticks\":\"\"},\"caxis\":{\"gridcolor\":\"white\",\"linecolor\":\"white\",\"ticks\":\"\"}},\"coloraxis\":{\"colorbar\":{\"outlinewidth\":0,\"ticks\":\"\"}},\"colorscale\":{\"sequential\":[[0.0,\"#0d0887\"],[0.1111111111111111,\"#46039f\"],[0.2222222222222222,\"#7201a8\"],[0.3333333333333333,\"#9c179e\"],[0.4444444444444444,\"#bd3786\"],[0.5555555555555556,\"#d8576b\"],[0.6666666666666666,\"#ed7953\"],[0.7777777777777778,\"#fb9f3a\"],[0.8888888888888888,\"#fdca26\"],[1.0,\"#f0f921\"]],\"sequentialminus\":[[0.0,\"#0d0887\"],[0.1111111111111111,\"#46039f\"],[0.2222222222222222,\"#7201a8\"],[0.3333333333333333,\"#9c179e\"],[0.4444444444444444,\"#bd3786\"],[0.5555555555555556,\"#d8576b\"],[0.6666666666666666,\"#ed7953\"],[0.7777777777777778,\"#fb9f3a\"],[0.8888888888888888,\"#fdca26\"],[1.0,\"#f0f921\"]],\"diverging\":[[0,\"#8e0152\"],[0.1,\"#c51b7d\"],[0.2,\"#de77ae\"],[0.3,\"#f1b6da\"],[0.4,\"#fde0ef\"],[0.5,\"#f7f7f7\"],[0.6,\"#e6f5d0\"],[0.7,\"#b8e186\"],[0.8,\"#7fbc41\"],[0.9,\"#4d9221\"],[1,\"#276419\"]]},\"xaxis\":{\"gridcolor\":\"white\",\"linecolor\":\"white\",\"ticks\":\"\",\"title\":{\"standoff\":15},\"zerolinecolor\":\"white\",\"automargin\":true,\"zerolinewidth\":2},\"yaxis\":{\"gridcolor\":\"white\",\"linecolor\":\"white\",\"ticks\":\"\",\"title\":{\"standoff\":15},\"zerolinecolor\":\"white\",\"automargin\":true,\"zerolinewidth\":2},\"scene\":{\"xaxis\":{\"backgroundcolor\":\"#E5ECF6\",\"gridcolor\":\"white\",\"linecolor\":\"white\",\"showbackground\":true,\"ticks\":\"\",\"zerolinecolor\":\"white\",\"gridwidth\":2},\"yaxis\":{\"backgroundcolor\":\"#E5ECF6\",\"gridcolor\":\"white\",\"linecolor\":\"white\",\"showbackground\":true,\"ticks\":\"\",\"zerolinecolor\":\"white\",\"gridwidth\":2},\"zaxis\":{\"backgroundcolor\":\"#E5ECF6\",\"gridcolor\":\"white\",\"linecolor\":\"white\",\"showbackground\":true,\"ticks\":\"\",\"zerolinecolor\":\"white\",\"gridwidth\":2}},\"shapedefaults\":{\"line\":{\"color\":\"#2a3f5f\"}},\"annotationdefaults\":{\"arrowcolor\":\"#2a3f5f\",\"arrowhead\":0,\"arrowwidth\":1},\"geo\":{\"bgcolor\":\"white\",\"landcolor\":\"#E5ECF6\",\"subunitcolor\":\"white\",\"showland\":true,\"showlakes\":true,\"lakecolor\":\"white\"},\"title\":{\"x\":0.05},\"mapbox\":{\"style\":\"light\"}}},\"xaxis\":{\"anchor\":\"y\",\"domain\":[0.0,1.0],\"title\":{\"text\":\"candle_date_time_kst\"}},\"yaxis\":{\"anchor\":\"x\",\"domain\":[0.0,1.0],\"title\":{\"text\":\"trade_price\"}},\"legend\":{\"tracegroupgap\":0},\"margin\":{\"t\":60},\"barmode\":\"relative\"},                        {\"responsive\": true}                    ).then(function(){\n",
       "                            \n",
       "var gd = document.getElementById('72e79d73-2651-4c2b-adb3-bb357235f722');\n",
       "var x = new MutationObserver(function (mutations, observer) {{\n",
       "        var display = window.getComputedStyle(gd).display;\n",
       "        if (!display || display === 'none') {{\n",
       "            console.log([gd, 'removed!']);\n",
       "            Plotly.purge(gd);\n",
       "            observer.disconnect();\n",
       "        }}\n",
       "}});\n",
       "\n",
       "// Listen for the removal of the full notebook cells\n",
       "var notebookContainer = gd.closest('#notebook-container');\n",
       "if (notebookContainer) {{\n",
       "    x.observe(notebookContainer, {childList: true});\n",
       "}}\n",
       "\n",
       "// Listen for the clearing of the current output cell\n",
       "var outputEl = gd.closest('.output');\n",
       "if (outputEl) {{\n",
       "    x.observe(outputEl, {childList: true});\n",
       "}}\n",
       "\n",
       "                        })                };                });            </script>        </div>"
      ]
     },
     "metadata": {},
     "output_type": "display_data"
    }
   ],
   "source": [
    "fig = px.bar(my_df[my_df.market=='BTC'][-10:],\n",
    "                x = 'candle_date_time_kst',\n",
    "                y = 'trade_price')\n",
    "fig.show()"
   ]
  },
  {
   "cell_type": "code",
   "execution_count": 175,
   "id": "0865c628",
   "metadata": {},
   "outputs": [
    {
     "data": {
      "application/vnd.plotly.v1+json": {
       "config": {
        "plotlyServerURL": "https://plot.ly"
       },
       "data": [
        {
         "hovertemplate": "candle_date_time_kst=%{x}<br>trade_price=%{y}<extra></extra>",
         "legendgroup": "",
         "line": {
          "color": "#636efa",
          "dash": "solid"
         },
         "marker": {
          "symbol": "circle"
         },
         "mode": "lines",
         "name": "",
         "orientation": "v",
         "showlegend": false,
         "type": "scatter",
         "x": [
          "2023-12-28",
          "2023-12-27",
          "2023-12-26",
          "2023-12-25",
          "2023-12-24",
          "2023-12-23",
          "2023-12-22",
          "2023-12-21",
          "2023-12-20",
          "2023-12-19",
          "2023-12-18",
          "2023-12-17",
          "2023-12-16",
          "2023-12-15",
          "2023-12-14",
          "2023-12-13",
          "2023-12-12",
          "2023-12-11",
          "2023-12-10",
          "2023-12-09",
          "2023-12-08",
          "2023-12-07",
          "2023-12-06",
          "2023-12-05",
          "2023-12-04",
          "2023-12-03",
          "2023-12-02",
          "2023-12-01",
          "2023-11-30",
          "2023-11-29",
          "2023-11-28",
          "2023-11-27",
          "2023-11-26",
          "2023-11-25",
          "2023-11-24",
          "2023-11-23",
          "2023-11-22",
          "2023-11-21",
          "2023-11-20",
          "2023-11-19",
          "2023-11-18",
          "2023-11-17",
          "2023-11-16",
          "2023-11-15",
          "2023-11-14",
          "2023-11-13",
          "2023-11-12",
          "2023-11-11",
          "2023-11-10",
          "2023-11-09",
          "2023-11-08",
          "2023-11-07",
          "2023-11-06",
          "2023-11-05",
          "2023-11-04",
          "2023-11-03",
          "2023-11-02",
          "2023-11-01",
          "2023-10-31",
          "2023-10-30",
          "2023-10-29",
          "2023-10-28",
          "2023-10-27",
          "2023-10-26",
          "2023-10-25",
          "2023-10-24",
          "2023-10-23",
          "2023-10-22",
          "2023-10-21",
          "2023-10-20",
          "2023-10-19",
          "2023-10-18",
          "2023-10-17",
          "2023-10-16",
          "2023-10-15",
          "2023-10-14",
          "2023-10-13",
          "2023-10-12",
          "2023-10-11",
          "2023-10-10",
          "2023-10-09",
          "2023-10-08",
          "2023-10-07",
          "2023-10-06",
          "2023-10-05",
          "2023-10-04",
          "2023-10-03",
          "2023-10-02",
          "2023-10-01",
          "2023-09-30",
          "2023-09-29",
          "2023-09-28",
          "2023-09-27",
          "2023-09-26",
          "2023-09-25",
          "2023-09-24",
          "2023-09-23",
          "2023-09-22",
          "2023-09-21",
          "2023-09-20",
          "2023-09-19",
          "2023-09-18",
          "2023-09-17",
          "2023-09-16",
          "2023-09-15",
          "2023-09-14",
          "2023-09-13",
          "2023-09-12",
          "2023-09-11",
          "2023-09-10",
          "2023-09-09",
          "2023-09-08",
          "2023-09-07",
          "2023-09-06",
          "2023-09-05",
          "2023-09-04",
          "2023-09-03",
          "2023-09-02",
          "2023-09-01",
          "2023-08-31",
          "2023-08-30",
          "2023-08-29",
          "2023-08-28",
          "2023-08-27",
          "2023-08-26",
          "2023-08-25",
          "2023-08-24",
          "2023-08-23",
          "2023-08-22",
          "2023-08-21",
          "2023-08-20",
          "2023-08-19",
          "2023-08-18",
          "2023-08-17",
          "2023-08-16",
          "2023-08-15",
          "2023-08-14",
          "2023-08-13",
          "2023-08-12",
          "2023-08-11",
          "2023-08-10",
          "2023-08-09",
          "2023-08-08",
          "2023-08-07",
          "2023-08-06",
          "2023-08-05",
          "2023-08-04",
          "2023-08-03",
          "2023-08-02",
          "2023-08-01",
          "2023-07-31",
          "2023-07-30",
          "2023-07-29",
          "2023-07-28",
          "2023-07-27",
          "2023-07-26",
          "2023-07-25",
          "2023-07-24",
          "2023-07-23",
          "2023-07-22",
          "2023-07-21",
          "2023-07-20",
          "2023-07-19",
          "2023-07-18",
          "2023-07-17",
          "2023-07-16",
          "2023-07-15",
          "2023-07-14",
          "2023-07-13",
          "2023-07-12",
          "2023-07-11",
          "2023-07-10",
          "2023-07-09",
          "2023-07-08",
          "2023-07-07",
          "2023-07-06",
          "2023-07-05",
          "2023-07-04",
          "2023-07-03",
          "2023-07-02",
          "2023-07-01",
          "2023-06-30",
          "2023-06-29",
          "2023-06-28",
          "2023-06-27",
          "2023-06-26",
          "2023-06-25",
          "2023-06-24",
          "2023-06-23",
          "2023-06-22",
          "2023-06-21",
          "2023-06-20",
          "2023-06-19",
          "2023-06-18",
          "2023-06-17",
          "2023-06-16",
          "2023-06-15",
          "2023-06-14",
          "2023-06-13",
          "2023-06-12"
         ],
         "xaxis": "x",
         "y": [
          853,
          847,
          833,
          860,
          825,
          839,
          846,
          845,
          838,
          827,
          834,
          837,
          851,
          852,
          862,
          865,
          858,
          854,
          904,
          905,
          915,
          881,
          881,
          847,
          845,
          836,
          826,
          818,
          812,
          816,
          816,
          815,
          826,
          832,
          832,
          830,
          818,
          784,
          822,
          833,
          821,
          827,
          827,
          864,
          850,
          902,
          882,
          887,
          886,
          898,
          915,
          916,
          953,
          887,
          825,
          823,
          824,
          825,
          814,
          782,
          754,
          741,
          738,
          747,
          749,
          752,
          730,
          702,
          703,
          699,
          706,
          667,
          668,
          676,
          665,
          667,
          667,
          662,
          667,
          676,
          684,
          703,
          709,
          710,
          709,
          721,
          731,
          697,
          708,
          699,
          706,
          690,
          682,
          681,
          681,
          680,
          687,
          693,
          687,
          702,
          688,
          675,
          665,
          677,
          675,
          661,
          653,
          652,
          647,
          677,
          686,
          686,
          685,
          683,
          687,
          689,
          686,
          679,
          682,
          698,
          718,
          728,
          706,
          711,
          712,
          715,
          705,
          720,
          713,
          717,
          739,
          717,
          696,
          697,
          799,
          823,
          846,
          837,
          837,
          841,
          840,
          851,
          850,
          824,
          828,
          832,
          842,
          872,
          902,
          919,
          906,
          911,
          919,
          922,
          925,
          925,
          919,
          912,
          956,
          955,
          1005,
          1025,
          1050,
          1005,
          947,
          961,
          918,
          926,
          1040,
          617,
          623,
          628,
          618,
          623,
          621,
          617,
          632,
          643,
          647,
          643,
          630,
          630,
          632,
          618,
          639,
          635,
          649,
          649,
          656,
          647,
          654,
          644,
          644,
          638,
          629,
          624,
          627,
          631,
          679,
          689
         ],
         "yaxis": "y"
        }
       ],
       "layout": {
        "legend": {
         "tracegroupgap": 0
        },
        "margin": {
         "t": 60
        },
        "template": {
         "data": {
          "bar": [
           {
            "error_x": {
             "color": "#2a3f5f"
            },
            "error_y": {
             "color": "#2a3f5f"
            },
            "marker": {
             "line": {
              "color": "#E5ECF6",
              "width": 0.5
             },
             "pattern": {
              "fillmode": "overlay",
              "size": 10,
              "solidity": 0.2
             }
            },
            "type": "bar"
           }
          ],
          "barpolar": [
           {
            "marker": {
             "line": {
              "color": "#E5ECF6",
              "width": 0.5
             },
             "pattern": {
              "fillmode": "overlay",
              "size": 10,
              "solidity": 0.2
             }
            },
            "type": "barpolar"
           }
          ],
          "carpet": [
           {
            "aaxis": {
             "endlinecolor": "#2a3f5f",
             "gridcolor": "white",
             "linecolor": "white",
             "minorgridcolor": "white",
             "startlinecolor": "#2a3f5f"
            },
            "baxis": {
             "endlinecolor": "#2a3f5f",
             "gridcolor": "white",
             "linecolor": "white",
             "minorgridcolor": "white",
             "startlinecolor": "#2a3f5f"
            },
            "type": "carpet"
           }
          ],
          "choropleth": [
           {
            "colorbar": {
             "outlinewidth": 0,
             "ticks": ""
            },
            "type": "choropleth"
           }
          ],
          "contour": [
           {
            "colorbar": {
             "outlinewidth": 0,
             "ticks": ""
            },
            "colorscale": [
             [
              0,
              "#0d0887"
             ],
             [
              0.1111111111111111,
              "#46039f"
             ],
             [
              0.2222222222222222,
              "#7201a8"
             ],
             [
              0.3333333333333333,
              "#9c179e"
             ],
             [
              0.4444444444444444,
              "#bd3786"
             ],
             [
              0.5555555555555556,
              "#d8576b"
             ],
             [
              0.6666666666666666,
              "#ed7953"
             ],
             [
              0.7777777777777778,
              "#fb9f3a"
             ],
             [
              0.8888888888888888,
              "#fdca26"
             ],
             [
              1,
              "#f0f921"
             ]
            ],
            "type": "contour"
           }
          ],
          "contourcarpet": [
           {
            "colorbar": {
             "outlinewidth": 0,
             "ticks": ""
            },
            "type": "contourcarpet"
           }
          ],
          "heatmap": [
           {
            "colorbar": {
             "outlinewidth": 0,
             "ticks": ""
            },
            "colorscale": [
             [
              0,
              "#0d0887"
             ],
             [
              0.1111111111111111,
              "#46039f"
             ],
             [
              0.2222222222222222,
              "#7201a8"
             ],
             [
              0.3333333333333333,
              "#9c179e"
             ],
             [
              0.4444444444444444,
              "#bd3786"
             ],
             [
              0.5555555555555556,
              "#d8576b"
             ],
             [
              0.6666666666666666,
              "#ed7953"
             ],
             [
              0.7777777777777778,
              "#fb9f3a"
             ],
             [
              0.8888888888888888,
              "#fdca26"
             ],
             [
              1,
              "#f0f921"
             ]
            ],
            "type": "heatmap"
           }
          ],
          "heatmapgl": [
           {
            "colorbar": {
             "outlinewidth": 0,
             "ticks": ""
            },
            "colorscale": [
             [
              0,
              "#0d0887"
             ],
             [
              0.1111111111111111,
              "#46039f"
             ],
             [
              0.2222222222222222,
              "#7201a8"
             ],
             [
              0.3333333333333333,
              "#9c179e"
             ],
             [
              0.4444444444444444,
              "#bd3786"
             ],
             [
              0.5555555555555556,
              "#d8576b"
             ],
             [
              0.6666666666666666,
              "#ed7953"
             ],
             [
              0.7777777777777778,
              "#fb9f3a"
             ],
             [
              0.8888888888888888,
              "#fdca26"
             ],
             [
              1,
              "#f0f921"
             ]
            ],
            "type": "heatmapgl"
           }
          ],
          "histogram": [
           {
            "marker": {
             "pattern": {
              "fillmode": "overlay",
              "size": 10,
              "solidity": 0.2
             }
            },
            "type": "histogram"
           }
          ],
          "histogram2d": [
           {
            "colorbar": {
             "outlinewidth": 0,
             "ticks": ""
            },
            "colorscale": [
             [
              0,
              "#0d0887"
             ],
             [
              0.1111111111111111,
              "#46039f"
             ],
             [
              0.2222222222222222,
              "#7201a8"
             ],
             [
              0.3333333333333333,
              "#9c179e"
             ],
             [
              0.4444444444444444,
              "#bd3786"
             ],
             [
              0.5555555555555556,
              "#d8576b"
             ],
             [
              0.6666666666666666,
              "#ed7953"
             ],
             [
              0.7777777777777778,
              "#fb9f3a"
             ],
             [
              0.8888888888888888,
              "#fdca26"
             ],
             [
              1,
              "#f0f921"
             ]
            ],
            "type": "histogram2d"
           }
          ],
          "histogram2dcontour": [
           {
            "colorbar": {
             "outlinewidth": 0,
             "ticks": ""
            },
            "colorscale": [
             [
              0,
              "#0d0887"
             ],
             [
              0.1111111111111111,
              "#46039f"
             ],
             [
              0.2222222222222222,
              "#7201a8"
             ],
             [
              0.3333333333333333,
              "#9c179e"
             ],
             [
              0.4444444444444444,
              "#bd3786"
             ],
             [
              0.5555555555555556,
              "#d8576b"
             ],
             [
              0.6666666666666666,
              "#ed7953"
             ],
             [
              0.7777777777777778,
              "#fb9f3a"
             ],
             [
              0.8888888888888888,
              "#fdca26"
             ],
             [
              1,
              "#f0f921"
             ]
            ],
            "type": "histogram2dcontour"
           }
          ],
          "mesh3d": [
           {
            "colorbar": {
             "outlinewidth": 0,
             "ticks": ""
            },
            "type": "mesh3d"
           }
          ],
          "parcoords": [
           {
            "line": {
             "colorbar": {
              "outlinewidth": 0,
              "ticks": ""
             }
            },
            "type": "parcoords"
           }
          ],
          "pie": [
           {
            "automargin": true,
            "type": "pie"
           }
          ],
          "scatter": [
           {
            "fillpattern": {
             "fillmode": "overlay",
             "size": 10,
             "solidity": 0.2
            },
            "type": "scatter"
           }
          ],
          "scatter3d": [
           {
            "line": {
             "colorbar": {
              "outlinewidth": 0,
              "ticks": ""
             }
            },
            "marker": {
             "colorbar": {
              "outlinewidth": 0,
              "ticks": ""
             }
            },
            "type": "scatter3d"
           }
          ],
          "scattercarpet": [
           {
            "marker": {
             "colorbar": {
              "outlinewidth": 0,
              "ticks": ""
             }
            },
            "type": "scattercarpet"
           }
          ],
          "scattergeo": [
           {
            "marker": {
             "colorbar": {
              "outlinewidth": 0,
              "ticks": ""
             }
            },
            "type": "scattergeo"
           }
          ],
          "scattergl": [
           {
            "marker": {
             "colorbar": {
              "outlinewidth": 0,
              "ticks": ""
             }
            },
            "type": "scattergl"
           }
          ],
          "scattermapbox": [
           {
            "marker": {
             "colorbar": {
              "outlinewidth": 0,
              "ticks": ""
             }
            },
            "type": "scattermapbox"
           }
          ],
          "scatterpolar": [
           {
            "marker": {
             "colorbar": {
              "outlinewidth": 0,
              "ticks": ""
             }
            },
            "type": "scatterpolar"
           }
          ],
          "scatterpolargl": [
           {
            "marker": {
             "colorbar": {
              "outlinewidth": 0,
              "ticks": ""
             }
            },
            "type": "scatterpolargl"
           }
          ],
          "scatterternary": [
           {
            "marker": {
             "colorbar": {
              "outlinewidth": 0,
              "ticks": ""
             }
            },
            "type": "scatterternary"
           }
          ],
          "surface": [
           {
            "colorbar": {
             "outlinewidth": 0,
             "ticks": ""
            },
            "colorscale": [
             [
              0,
              "#0d0887"
             ],
             [
              0.1111111111111111,
              "#46039f"
             ],
             [
              0.2222222222222222,
              "#7201a8"
             ],
             [
              0.3333333333333333,
              "#9c179e"
             ],
             [
              0.4444444444444444,
              "#bd3786"
             ],
             [
              0.5555555555555556,
              "#d8576b"
             ],
             [
              0.6666666666666666,
              "#ed7953"
             ],
             [
              0.7777777777777778,
              "#fb9f3a"
             ],
             [
              0.8888888888888888,
              "#fdca26"
             ],
             [
              1,
              "#f0f921"
             ]
            ],
            "type": "surface"
           }
          ],
          "table": [
           {
            "cells": {
             "fill": {
              "color": "#EBF0F8"
             },
             "line": {
              "color": "white"
             }
            },
            "header": {
             "fill": {
              "color": "#C8D4E3"
             },
             "line": {
              "color": "white"
             }
            },
            "type": "table"
           }
          ]
         },
         "layout": {
          "annotationdefaults": {
           "arrowcolor": "#2a3f5f",
           "arrowhead": 0,
           "arrowwidth": 1
          },
          "autotypenumbers": "strict",
          "coloraxis": {
           "colorbar": {
            "outlinewidth": 0,
            "ticks": ""
           }
          },
          "colorscale": {
           "diverging": [
            [
             0,
             "#8e0152"
            ],
            [
             0.1,
             "#c51b7d"
            ],
            [
             0.2,
             "#de77ae"
            ],
            [
             0.3,
             "#f1b6da"
            ],
            [
             0.4,
             "#fde0ef"
            ],
            [
             0.5,
             "#f7f7f7"
            ],
            [
             0.6,
             "#e6f5d0"
            ],
            [
             0.7,
             "#b8e186"
            ],
            [
             0.8,
             "#7fbc41"
            ],
            [
             0.9,
             "#4d9221"
            ],
            [
             1,
             "#276419"
            ]
           ],
           "sequential": [
            [
             0,
             "#0d0887"
            ],
            [
             0.1111111111111111,
             "#46039f"
            ],
            [
             0.2222222222222222,
             "#7201a8"
            ],
            [
             0.3333333333333333,
             "#9c179e"
            ],
            [
             0.4444444444444444,
             "#bd3786"
            ],
            [
             0.5555555555555556,
             "#d8576b"
            ],
            [
             0.6666666666666666,
             "#ed7953"
            ],
            [
             0.7777777777777778,
             "#fb9f3a"
            ],
            [
             0.8888888888888888,
             "#fdca26"
            ],
            [
             1,
             "#f0f921"
            ]
           ],
           "sequentialminus": [
            [
             0,
             "#0d0887"
            ],
            [
             0.1111111111111111,
             "#46039f"
            ],
            [
             0.2222222222222222,
             "#7201a8"
            ],
            [
             0.3333333333333333,
             "#9c179e"
            ],
            [
             0.4444444444444444,
             "#bd3786"
            ],
            [
             0.5555555555555556,
             "#d8576b"
            ],
            [
             0.6666666666666666,
             "#ed7953"
            ],
            [
             0.7777777777777778,
             "#fb9f3a"
            ],
            [
             0.8888888888888888,
             "#fdca26"
            ],
            [
             1,
             "#f0f921"
            ]
           ]
          },
          "colorway": [
           "#636efa",
           "#EF553B",
           "#00cc96",
           "#ab63fa",
           "#FFA15A",
           "#19d3f3",
           "#FF6692",
           "#B6E880",
           "#FF97FF",
           "#FECB52"
          ],
          "font": {
           "color": "#2a3f5f"
          },
          "geo": {
           "bgcolor": "white",
           "lakecolor": "white",
           "landcolor": "#E5ECF6",
           "showlakes": true,
           "showland": true,
           "subunitcolor": "white"
          },
          "hoverlabel": {
           "align": "left"
          },
          "hovermode": "closest",
          "mapbox": {
           "style": "light"
          },
          "paper_bgcolor": "white",
          "plot_bgcolor": "#E5ECF6",
          "polar": {
           "angularaxis": {
            "gridcolor": "white",
            "linecolor": "white",
            "ticks": ""
           },
           "bgcolor": "#E5ECF6",
           "radialaxis": {
            "gridcolor": "white",
            "linecolor": "white",
            "ticks": ""
           }
          },
          "scene": {
           "xaxis": {
            "backgroundcolor": "#E5ECF6",
            "gridcolor": "white",
            "gridwidth": 2,
            "linecolor": "white",
            "showbackground": true,
            "ticks": "",
            "zerolinecolor": "white"
           },
           "yaxis": {
            "backgroundcolor": "#E5ECF6",
            "gridcolor": "white",
            "gridwidth": 2,
            "linecolor": "white",
            "showbackground": true,
            "ticks": "",
            "zerolinecolor": "white"
           },
           "zaxis": {
            "backgroundcolor": "#E5ECF6",
            "gridcolor": "white",
            "gridwidth": 2,
            "linecolor": "white",
            "showbackground": true,
            "ticks": "",
            "zerolinecolor": "white"
           }
          },
          "shapedefaults": {
           "line": {
            "color": "#2a3f5f"
           }
          },
          "ternary": {
           "aaxis": {
            "gridcolor": "white",
            "linecolor": "white",
            "ticks": ""
           },
           "baxis": {
            "gridcolor": "white",
            "linecolor": "white",
            "ticks": ""
           },
           "bgcolor": "#E5ECF6",
           "caxis": {
            "gridcolor": "white",
            "linecolor": "white",
            "ticks": ""
           }
          },
          "title": {
           "x": 0.05
          },
          "xaxis": {
           "automargin": true,
           "gridcolor": "white",
           "linecolor": "white",
           "ticks": "",
           "title": {
            "standoff": 15
           },
           "zerolinecolor": "white",
           "zerolinewidth": 2
          },
          "yaxis": {
           "automargin": true,
           "gridcolor": "white",
           "linecolor": "white",
           "ticks": "",
           "title": {
            "standoff": 15
           },
           "zerolinecolor": "white",
           "zerolinewidth": 2
          }
         }
        },
        "xaxis": {
         "anchor": "y",
         "domain": [
          0,
          1
         ],
         "title": {
          "text": "candle_date_time_kst"
         }
        },
        "yaxis": {
         "anchor": "x",
         "domain": [
          0,
          1
         ],
         "title": {
          "text": "trade_price"
         }
        }
       }
      },
      "text/html": [
       "<div>                            <div id=\"2215eeaa-6507-4b1a-95d5-90e7fcb1ff8f\" class=\"plotly-graph-div\" style=\"height:525px; width:100%;\"></div>            <script type=\"text/javascript\">                require([\"plotly\"], function(Plotly) {                    window.PLOTLYENV=window.PLOTLYENV || {};                                    if (document.getElementById(\"2215eeaa-6507-4b1a-95d5-90e7fcb1ff8f\")) {                    Plotly.newPlot(                        \"2215eeaa-6507-4b1a-95d5-90e7fcb1ff8f\",                        [{\"hovertemplate\":\"candle_date_time_kst=%{x}<br>trade_price=%{y}<extra></extra>\",\"legendgroup\":\"\",\"line\":{\"color\":\"#636efa\",\"dash\":\"solid\"},\"marker\":{\"symbol\":\"circle\"},\"mode\":\"lines\",\"name\":\"\",\"orientation\":\"v\",\"showlegend\":false,\"x\":[\"2023-12-28\",\"2023-12-27\",\"2023-12-26\",\"2023-12-25\",\"2023-12-24\",\"2023-12-23\",\"2023-12-22\",\"2023-12-21\",\"2023-12-20\",\"2023-12-19\",\"2023-12-18\",\"2023-12-17\",\"2023-12-16\",\"2023-12-15\",\"2023-12-14\",\"2023-12-13\",\"2023-12-12\",\"2023-12-11\",\"2023-12-10\",\"2023-12-09\",\"2023-12-08\",\"2023-12-07\",\"2023-12-06\",\"2023-12-05\",\"2023-12-04\",\"2023-12-03\",\"2023-12-02\",\"2023-12-01\",\"2023-11-30\",\"2023-11-29\",\"2023-11-28\",\"2023-11-27\",\"2023-11-26\",\"2023-11-25\",\"2023-11-24\",\"2023-11-23\",\"2023-11-22\",\"2023-11-21\",\"2023-11-20\",\"2023-11-19\",\"2023-11-18\",\"2023-11-17\",\"2023-11-16\",\"2023-11-15\",\"2023-11-14\",\"2023-11-13\",\"2023-11-12\",\"2023-11-11\",\"2023-11-10\",\"2023-11-09\",\"2023-11-08\",\"2023-11-07\",\"2023-11-06\",\"2023-11-05\",\"2023-11-04\",\"2023-11-03\",\"2023-11-02\",\"2023-11-01\",\"2023-10-31\",\"2023-10-30\",\"2023-10-29\",\"2023-10-28\",\"2023-10-27\",\"2023-10-26\",\"2023-10-25\",\"2023-10-24\",\"2023-10-23\",\"2023-10-22\",\"2023-10-21\",\"2023-10-20\",\"2023-10-19\",\"2023-10-18\",\"2023-10-17\",\"2023-10-16\",\"2023-10-15\",\"2023-10-14\",\"2023-10-13\",\"2023-10-12\",\"2023-10-11\",\"2023-10-10\",\"2023-10-09\",\"2023-10-08\",\"2023-10-07\",\"2023-10-06\",\"2023-10-05\",\"2023-10-04\",\"2023-10-03\",\"2023-10-02\",\"2023-10-01\",\"2023-09-30\",\"2023-09-29\",\"2023-09-28\",\"2023-09-27\",\"2023-09-26\",\"2023-09-25\",\"2023-09-24\",\"2023-09-23\",\"2023-09-22\",\"2023-09-21\",\"2023-09-20\",\"2023-09-19\",\"2023-09-18\",\"2023-09-17\",\"2023-09-16\",\"2023-09-15\",\"2023-09-14\",\"2023-09-13\",\"2023-09-12\",\"2023-09-11\",\"2023-09-10\",\"2023-09-09\",\"2023-09-08\",\"2023-09-07\",\"2023-09-06\",\"2023-09-05\",\"2023-09-04\",\"2023-09-03\",\"2023-09-02\",\"2023-09-01\",\"2023-08-31\",\"2023-08-30\",\"2023-08-29\",\"2023-08-28\",\"2023-08-27\",\"2023-08-26\",\"2023-08-25\",\"2023-08-24\",\"2023-08-23\",\"2023-08-22\",\"2023-08-21\",\"2023-08-20\",\"2023-08-19\",\"2023-08-18\",\"2023-08-17\",\"2023-08-16\",\"2023-08-15\",\"2023-08-14\",\"2023-08-13\",\"2023-08-12\",\"2023-08-11\",\"2023-08-10\",\"2023-08-09\",\"2023-08-08\",\"2023-08-07\",\"2023-08-06\",\"2023-08-05\",\"2023-08-04\",\"2023-08-03\",\"2023-08-02\",\"2023-08-01\",\"2023-07-31\",\"2023-07-30\",\"2023-07-29\",\"2023-07-28\",\"2023-07-27\",\"2023-07-26\",\"2023-07-25\",\"2023-07-24\",\"2023-07-23\",\"2023-07-22\",\"2023-07-21\",\"2023-07-20\",\"2023-07-19\",\"2023-07-18\",\"2023-07-17\",\"2023-07-16\",\"2023-07-15\",\"2023-07-14\",\"2023-07-13\",\"2023-07-12\",\"2023-07-11\",\"2023-07-10\",\"2023-07-09\",\"2023-07-08\",\"2023-07-07\",\"2023-07-06\",\"2023-07-05\",\"2023-07-04\",\"2023-07-03\",\"2023-07-02\",\"2023-07-01\",\"2023-06-30\",\"2023-06-29\",\"2023-06-28\",\"2023-06-27\",\"2023-06-26\",\"2023-06-25\",\"2023-06-24\",\"2023-06-23\",\"2023-06-22\",\"2023-06-21\",\"2023-06-20\",\"2023-06-19\",\"2023-06-18\",\"2023-06-17\",\"2023-06-16\",\"2023-06-15\",\"2023-06-14\",\"2023-06-13\",\"2023-06-12\"],\"xaxis\":\"x\",\"y\":[853.0,847.0,833.0,860.0,825.0,839.0,846.0,845.0,838.0,827.0,834.0,837.0,851.0,852.0,862.0,865.0,858.0,854.0,904.0,905.0,915.0,881.0,881.0,847.0,845.0,836.0,826.0,818.0,812.0,816.0,816.0,815.0,826.0,832.0,832.0,830.0,818.0,784.0,822.0,833.0,821.0,827.0,827.0,864.0,850.0,902.0,882.0,887.0,886.0,898.0,915.0,916.0,953.0,887.0,825.0,823.0,824.0,825.0,814.0,782.0,754.0,741.0,738.0,747.0,749.0,752.0,730.0,702.0,703.0,699.0,706.0,667.0,668.0,676.0,665.0,667.0,667.0,662.0,667.0,676.0,684.0,703.0,709.0,710.0,709.0,721.0,731.0,697.0,708.0,699.0,706.0,690.0,682.0,681.0,681.0,680.0,687.0,693.0,687.0,702.0,688.0,675.0,665.0,677.0,675.0,661.0,653.0,652.0,647.0,677.0,686.0,686.0,685.0,683.0,687.0,689.0,686.0,679.0,682.0,698.0,718.0,728.0,706.0,711.0,712.0,715.0,705.0,720.0,713.0,717.0,739.0,717.0,696.0,697.0,799.0,823.0,846.0,837.0,837.0,841.0,840.0,851.0,850.0,824.0,828.0,832.0,842.0,872.0,902.0,919.0,906.0,911.0,919.0,922.0,925.0,925.0,919.0,912.0,956.0,955.0,1005.0,1025.0,1050.0,1005.0,947.0,961.0,918.0,926.0,1040.0,617.0,623.0,628.0,618.0,623.0,621.0,617.0,632.0,643.0,647.0,643.0,630.0,630.0,632.0,618.0,639.0,635.0,649.0,649.0,656.0,647.0,654.0,644.0,644.0,638.0,629.0,624.0,627.0,631.0,679.0,689.0],\"yaxis\":\"y\",\"type\":\"scatter\"}],                        {\"template\":{\"data\":{\"histogram2dcontour\":[{\"type\":\"histogram2dcontour\",\"colorbar\":{\"outlinewidth\":0,\"ticks\":\"\"},\"colorscale\":[[0.0,\"#0d0887\"],[0.1111111111111111,\"#46039f\"],[0.2222222222222222,\"#7201a8\"],[0.3333333333333333,\"#9c179e\"],[0.4444444444444444,\"#bd3786\"],[0.5555555555555556,\"#d8576b\"],[0.6666666666666666,\"#ed7953\"],[0.7777777777777778,\"#fb9f3a\"],[0.8888888888888888,\"#fdca26\"],[1.0,\"#f0f921\"]]}],\"choropleth\":[{\"type\":\"choropleth\",\"colorbar\":{\"outlinewidth\":0,\"ticks\":\"\"}}],\"histogram2d\":[{\"type\":\"histogram2d\",\"colorbar\":{\"outlinewidth\":0,\"ticks\":\"\"},\"colorscale\":[[0.0,\"#0d0887\"],[0.1111111111111111,\"#46039f\"],[0.2222222222222222,\"#7201a8\"],[0.3333333333333333,\"#9c179e\"],[0.4444444444444444,\"#bd3786\"],[0.5555555555555556,\"#d8576b\"],[0.6666666666666666,\"#ed7953\"],[0.7777777777777778,\"#fb9f3a\"],[0.8888888888888888,\"#fdca26\"],[1.0,\"#f0f921\"]]}],\"heatmap\":[{\"type\":\"heatmap\",\"colorbar\":{\"outlinewidth\":0,\"ticks\":\"\"},\"colorscale\":[[0.0,\"#0d0887\"],[0.1111111111111111,\"#46039f\"],[0.2222222222222222,\"#7201a8\"],[0.3333333333333333,\"#9c179e\"],[0.4444444444444444,\"#bd3786\"],[0.5555555555555556,\"#d8576b\"],[0.6666666666666666,\"#ed7953\"],[0.7777777777777778,\"#fb9f3a\"],[0.8888888888888888,\"#fdca26\"],[1.0,\"#f0f921\"]]}],\"heatmapgl\":[{\"type\":\"heatmapgl\",\"colorbar\":{\"outlinewidth\":0,\"ticks\":\"\"},\"colorscale\":[[0.0,\"#0d0887\"],[0.1111111111111111,\"#46039f\"],[0.2222222222222222,\"#7201a8\"],[0.3333333333333333,\"#9c179e\"],[0.4444444444444444,\"#bd3786\"],[0.5555555555555556,\"#d8576b\"],[0.6666666666666666,\"#ed7953\"],[0.7777777777777778,\"#fb9f3a\"],[0.8888888888888888,\"#fdca26\"],[1.0,\"#f0f921\"]]}],\"contourcarpet\":[{\"type\":\"contourcarpet\",\"colorbar\":{\"outlinewidth\":0,\"ticks\":\"\"}}],\"contour\":[{\"type\":\"contour\",\"colorbar\":{\"outlinewidth\":0,\"ticks\":\"\"},\"colorscale\":[[0.0,\"#0d0887\"],[0.1111111111111111,\"#46039f\"],[0.2222222222222222,\"#7201a8\"],[0.3333333333333333,\"#9c179e\"],[0.4444444444444444,\"#bd3786\"],[0.5555555555555556,\"#d8576b\"],[0.6666666666666666,\"#ed7953\"],[0.7777777777777778,\"#fb9f3a\"],[0.8888888888888888,\"#fdca26\"],[1.0,\"#f0f921\"]]}],\"surface\":[{\"type\":\"surface\",\"colorbar\":{\"outlinewidth\":0,\"ticks\":\"\"},\"colorscale\":[[0.0,\"#0d0887\"],[0.1111111111111111,\"#46039f\"],[0.2222222222222222,\"#7201a8\"],[0.3333333333333333,\"#9c179e\"],[0.4444444444444444,\"#bd3786\"],[0.5555555555555556,\"#d8576b\"],[0.6666666666666666,\"#ed7953\"],[0.7777777777777778,\"#fb9f3a\"],[0.8888888888888888,\"#fdca26\"],[1.0,\"#f0f921\"]]}],\"mesh3d\":[{\"type\":\"mesh3d\",\"colorbar\":{\"outlinewidth\":0,\"ticks\":\"\"}}],\"scatter\":[{\"fillpattern\":{\"fillmode\":\"overlay\",\"size\":10,\"solidity\":0.2},\"type\":\"scatter\"}],\"parcoords\":[{\"type\":\"parcoords\",\"line\":{\"colorbar\":{\"outlinewidth\":0,\"ticks\":\"\"}}}],\"scatterpolargl\":[{\"type\":\"scatterpolargl\",\"marker\":{\"colorbar\":{\"outlinewidth\":0,\"ticks\":\"\"}}}],\"bar\":[{\"error_x\":{\"color\":\"#2a3f5f\"},\"error_y\":{\"color\":\"#2a3f5f\"},\"marker\":{\"line\":{\"color\":\"#E5ECF6\",\"width\":0.5},\"pattern\":{\"fillmode\":\"overlay\",\"size\":10,\"solidity\":0.2}},\"type\":\"bar\"}],\"scattergeo\":[{\"type\":\"scattergeo\",\"marker\":{\"colorbar\":{\"outlinewidth\":0,\"ticks\":\"\"}}}],\"scatterpolar\":[{\"type\":\"scatterpolar\",\"marker\":{\"colorbar\":{\"outlinewidth\":0,\"ticks\":\"\"}}}],\"histogram\":[{\"marker\":{\"pattern\":{\"fillmode\":\"overlay\",\"size\":10,\"solidity\":0.2}},\"type\":\"histogram\"}],\"scattergl\":[{\"type\":\"scattergl\",\"marker\":{\"colorbar\":{\"outlinewidth\":0,\"ticks\":\"\"}}}],\"scatter3d\":[{\"type\":\"scatter3d\",\"line\":{\"colorbar\":{\"outlinewidth\":0,\"ticks\":\"\"}},\"marker\":{\"colorbar\":{\"outlinewidth\":0,\"ticks\":\"\"}}}],\"scattermapbox\":[{\"type\":\"scattermapbox\",\"marker\":{\"colorbar\":{\"outlinewidth\":0,\"ticks\":\"\"}}}],\"scatterternary\":[{\"type\":\"scatterternary\",\"marker\":{\"colorbar\":{\"outlinewidth\":0,\"ticks\":\"\"}}}],\"scattercarpet\":[{\"type\":\"scattercarpet\",\"marker\":{\"colorbar\":{\"outlinewidth\":0,\"ticks\":\"\"}}}],\"carpet\":[{\"aaxis\":{\"endlinecolor\":\"#2a3f5f\",\"gridcolor\":\"white\",\"linecolor\":\"white\",\"minorgridcolor\":\"white\",\"startlinecolor\":\"#2a3f5f\"},\"baxis\":{\"endlinecolor\":\"#2a3f5f\",\"gridcolor\":\"white\",\"linecolor\":\"white\",\"minorgridcolor\":\"white\",\"startlinecolor\":\"#2a3f5f\"},\"type\":\"carpet\"}],\"table\":[{\"cells\":{\"fill\":{\"color\":\"#EBF0F8\"},\"line\":{\"color\":\"white\"}},\"header\":{\"fill\":{\"color\":\"#C8D4E3\"},\"line\":{\"color\":\"white\"}},\"type\":\"table\"}],\"barpolar\":[{\"marker\":{\"line\":{\"color\":\"#E5ECF6\",\"width\":0.5},\"pattern\":{\"fillmode\":\"overlay\",\"size\":10,\"solidity\":0.2}},\"type\":\"barpolar\"}],\"pie\":[{\"automargin\":true,\"type\":\"pie\"}]},\"layout\":{\"autotypenumbers\":\"strict\",\"colorway\":[\"#636efa\",\"#EF553B\",\"#00cc96\",\"#ab63fa\",\"#FFA15A\",\"#19d3f3\",\"#FF6692\",\"#B6E880\",\"#FF97FF\",\"#FECB52\"],\"font\":{\"color\":\"#2a3f5f\"},\"hovermode\":\"closest\",\"hoverlabel\":{\"align\":\"left\"},\"paper_bgcolor\":\"white\",\"plot_bgcolor\":\"#E5ECF6\",\"polar\":{\"bgcolor\":\"#E5ECF6\",\"angularaxis\":{\"gridcolor\":\"white\",\"linecolor\":\"white\",\"ticks\":\"\"},\"radialaxis\":{\"gridcolor\":\"white\",\"linecolor\":\"white\",\"ticks\":\"\"}},\"ternary\":{\"bgcolor\":\"#E5ECF6\",\"aaxis\":{\"gridcolor\":\"white\",\"linecolor\":\"white\",\"ticks\":\"\"},\"baxis\":{\"gridcolor\":\"white\",\"linecolor\":\"white\",\"ticks\":\"\"},\"caxis\":{\"gridcolor\":\"white\",\"linecolor\":\"white\",\"ticks\":\"\"}},\"coloraxis\":{\"colorbar\":{\"outlinewidth\":0,\"ticks\":\"\"}},\"colorscale\":{\"sequential\":[[0.0,\"#0d0887\"],[0.1111111111111111,\"#46039f\"],[0.2222222222222222,\"#7201a8\"],[0.3333333333333333,\"#9c179e\"],[0.4444444444444444,\"#bd3786\"],[0.5555555555555556,\"#d8576b\"],[0.6666666666666666,\"#ed7953\"],[0.7777777777777778,\"#fb9f3a\"],[0.8888888888888888,\"#fdca26\"],[1.0,\"#f0f921\"]],\"sequentialminus\":[[0.0,\"#0d0887\"],[0.1111111111111111,\"#46039f\"],[0.2222222222222222,\"#7201a8\"],[0.3333333333333333,\"#9c179e\"],[0.4444444444444444,\"#bd3786\"],[0.5555555555555556,\"#d8576b\"],[0.6666666666666666,\"#ed7953\"],[0.7777777777777778,\"#fb9f3a\"],[0.8888888888888888,\"#fdca26\"],[1.0,\"#f0f921\"]],\"diverging\":[[0,\"#8e0152\"],[0.1,\"#c51b7d\"],[0.2,\"#de77ae\"],[0.3,\"#f1b6da\"],[0.4,\"#fde0ef\"],[0.5,\"#f7f7f7\"],[0.6,\"#e6f5d0\"],[0.7,\"#b8e186\"],[0.8,\"#7fbc41\"],[0.9,\"#4d9221\"],[1,\"#276419\"]]},\"xaxis\":{\"gridcolor\":\"white\",\"linecolor\":\"white\",\"ticks\":\"\",\"title\":{\"standoff\":15},\"zerolinecolor\":\"white\",\"automargin\":true,\"zerolinewidth\":2},\"yaxis\":{\"gridcolor\":\"white\",\"linecolor\":\"white\",\"ticks\":\"\",\"title\":{\"standoff\":15},\"zerolinecolor\":\"white\",\"automargin\":true,\"zerolinewidth\":2},\"scene\":{\"xaxis\":{\"backgroundcolor\":\"#E5ECF6\",\"gridcolor\":\"white\",\"linecolor\":\"white\",\"showbackground\":true,\"ticks\":\"\",\"zerolinecolor\":\"white\",\"gridwidth\":2},\"yaxis\":{\"backgroundcolor\":\"#E5ECF6\",\"gridcolor\":\"white\",\"linecolor\":\"white\",\"showbackground\":true,\"ticks\":\"\",\"zerolinecolor\":\"white\",\"gridwidth\":2},\"zaxis\":{\"backgroundcolor\":\"#E5ECF6\",\"gridcolor\":\"white\",\"linecolor\":\"white\",\"showbackground\":true,\"ticks\":\"\",\"zerolinecolor\":\"white\",\"gridwidth\":2}},\"shapedefaults\":{\"line\":{\"color\":\"#2a3f5f\"}},\"annotationdefaults\":{\"arrowcolor\":\"#2a3f5f\",\"arrowhead\":0,\"arrowwidth\":1},\"geo\":{\"bgcolor\":\"white\",\"landcolor\":\"#E5ECF6\",\"subunitcolor\":\"white\",\"showland\":true,\"showlakes\":true,\"lakecolor\":\"white\"},\"title\":{\"x\":0.05},\"mapbox\":{\"style\":\"light\"}}},\"xaxis\":{\"anchor\":\"y\",\"domain\":[0.0,1.0],\"title\":{\"text\":\"candle_date_time_kst\"}},\"yaxis\":{\"anchor\":\"x\",\"domain\":[0.0,1.0],\"title\":{\"text\":\"trade_price\"}},\"legend\":{\"tracegroupgap\":0},\"margin\":{\"t\":60}},                        {\"responsive\": true}                    ).then(function(){\n",
       "                            \n",
       "var gd = document.getElementById('2215eeaa-6507-4b1a-95d5-90e7fcb1ff8f');\n",
       "var x = new MutationObserver(function (mutations, observer) {{\n",
       "        var display = window.getComputedStyle(gd).display;\n",
       "        if (!display || display === 'none') {{\n",
       "            console.log([gd, 'removed!']);\n",
       "            Plotly.purge(gd);\n",
       "            observer.disconnect();\n",
       "        }}\n",
       "}});\n",
       "\n",
       "// Listen for the removal of the full notebook cells\n",
       "var notebookContainer = gd.closest('#notebook-container');\n",
       "if (notebookContainer) {{\n",
       "    x.observe(notebookContainer, {childList: true});\n",
       "}}\n",
       "\n",
       "// Listen for the clearing of the current output cell\n",
       "var outputEl = gd.closest('.output');\n",
       "if (outputEl) {{\n",
       "    x.observe(outputEl, {childList: true});\n",
       "}}\n",
       "\n",
       "                        })                };                });            </script>        </div>"
      ]
     },
     "metadata": {},
     "output_type": "display_data"
    }
   ],
   "source": [
    "fig = px.line(my_df[my_df.market=='XRP'],\n",
    "                x = 'candle_date_time_kst',\n",
    "                y = 'trade_price')\n",
    "fig.show()"
   ]
  },
  {
   "cell_type": "code",
   "execution_count": 204,
   "id": "b2a6cab7",
   "metadata": {},
   "outputs": [],
   "source": [
    "tmp_df = lol_df[['championName','totalDamageDealtToChampions','totalDamageTaken']]"
   ]
  },
  {
   "cell_type": "code",
   "execution_count": 208,
   "id": "985ebb1e",
   "metadata": {},
   "outputs": [],
   "source": [
    "new_df = tmp_df.groupby('championName').mean().round().reset_index()"
   ]
  },
  {
   "cell_type": "code",
   "execution_count": 209,
   "id": "b3bc9e2d",
   "metadata": {},
   "outputs": [
    {
     "data": {
      "text/html": [
       "<div>\n",
       "<style scoped>\n",
       "    .dataframe tbody tr th:only-of-type {\n",
       "        vertical-align: middle;\n",
       "    }\n",
       "\n",
       "    .dataframe tbody tr th {\n",
       "        vertical-align: top;\n",
       "    }\n",
       "\n",
       "    .dataframe thead th {\n",
       "        text-align: right;\n",
       "    }\n",
       "</style>\n",
       "<table border=\"1\" class=\"dataframe\">\n",
       "  <thead>\n",
       "    <tr style=\"text-align: right;\">\n",
       "      <th></th>\n",
       "      <th>championName</th>\n",
       "      <th>totalDamageDealtToChampions</th>\n",
       "      <th>totalDamageTaken</th>\n",
       "    </tr>\n",
       "  </thead>\n",
       "  <tbody>\n",
       "    <tr>\n",
       "      <th>0</th>\n",
       "      <td>Aatrox</td>\n",
       "      <td>20850.0</td>\n",
       "      <td>32869.0</td>\n",
       "    </tr>\n",
       "    <tr>\n",
       "      <th>1</th>\n",
       "      <td>Ahri</td>\n",
       "      <td>19321.0</td>\n",
       "      <td>20485.0</td>\n",
       "    </tr>\n",
       "    <tr>\n",
       "      <th>2</th>\n",
       "      <td>Akali</td>\n",
       "      <td>22562.0</td>\n",
       "      <td>25916.0</td>\n",
       "    </tr>\n",
       "    <tr>\n",
       "      <th>3</th>\n",
       "      <td>Akshan</td>\n",
       "      <td>22504.0</td>\n",
       "      <td>19189.0</td>\n",
       "    </tr>\n",
       "    <tr>\n",
       "      <th>4</th>\n",
       "      <td>Alistar</td>\n",
       "      <td>10372.0</td>\n",
       "      <td>28175.0</td>\n",
       "    </tr>\n",
       "    <tr>\n",
       "      <th>...</th>\n",
       "      <td>...</td>\n",
       "      <td>...</td>\n",
       "      <td>...</td>\n",
       "    </tr>\n",
       "    <tr>\n",
       "      <th>161</th>\n",
       "      <td>Zeri</td>\n",
       "      <td>26561.0</td>\n",
       "      <td>22083.0</td>\n",
       "    </tr>\n",
       "    <tr>\n",
       "      <th>162</th>\n",
       "      <td>Ziggs</td>\n",
       "      <td>26949.0</td>\n",
       "      <td>16348.0</td>\n",
       "    </tr>\n",
       "    <tr>\n",
       "      <th>163</th>\n",
       "      <td>Zilean</td>\n",
       "      <td>10756.0</td>\n",
       "      <td>18465.0</td>\n",
       "    </tr>\n",
       "    <tr>\n",
       "      <th>164</th>\n",
       "      <td>Zoe</td>\n",
       "      <td>18280.0</td>\n",
       "      <td>16166.0</td>\n",
       "    </tr>\n",
       "    <tr>\n",
       "      <th>165</th>\n",
       "      <td>Zyra</td>\n",
       "      <td>19398.0</td>\n",
       "      <td>16520.0</td>\n",
       "    </tr>\n",
       "  </tbody>\n",
       "</table>\n",
       "<p>166 rows × 3 columns</p>\n",
       "</div>"
      ],
      "text/plain": [
       "    championName  totalDamageDealtToChampions  totalDamageTaken\n",
       "0         Aatrox                      20850.0           32869.0\n",
       "1           Ahri                      19321.0           20485.0\n",
       "2          Akali                      22562.0           25916.0\n",
       "3         Akshan                      22504.0           19189.0\n",
       "4        Alistar                      10372.0           28175.0\n",
       "..           ...                          ...               ...\n",
       "161         Zeri                      26561.0           22083.0\n",
       "162        Ziggs                      26949.0           16348.0\n",
       "163       Zilean                      10756.0           18465.0\n",
       "164          Zoe                      18280.0           16166.0\n",
       "165         Zyra                      19398.0           16520.0\n",
       "\n",
       "[166 rows x 3 columns]"
      ]
     },
     "execution_count": 209,
     "metadata": {},
     "output_type": "execute_result"
    }
   ],
   "source": [
    "new_df"
   ]
  },
  {
   "cell_type": "code",
   "execution_count": 210,
   "id": "3e3e1425",
   "metadata": {},
   "outputs": [
    {
     "data": {
      "application/vnd.plotly.v1+json": {
       "config": {
        "plotlyServerURL": "https://plot.ly"
       },
       "data": [
        {
         "hovertemplate": "championName=Aatrox<br>totalDamageDealtToChampions=%{x}<br>totalDamageTaken=%{y}<extra></extra>",
         "legendgroup": "Aatrox",
         "marker": {
          "color": "#636efa",
          "symbol": "circle"
         },
         "mode": "markers",
         "name": "Aatrox",
         "orientation": "v",
         "showlegend": true,
         "type": "scatter",
         "x": [
          20850
         ],
         "xaxis": "x",
         "y": [
          32869
         ],
         "yaxis": "y"
        },
        {
         "hovertemplate": "championName=Ahri<br>totalDamageDealtToChampions=%{x}<br>totalDamageTaken=%{y}<extra></extra>",
         "legendgroup": "Ahri",
         "marker": {
          "color": "#EF553B",
          "symbol": "circle"
         },
         "mode": "markers",
         "name": "Ahri",
         "orientation": "v",
         "showlegend": true,
         "type": "scatter",
         "x": [
          19321
         ],
         "xaxis": "x",
         "y": [
          20485
         ],
         "yaxis": "y"
        },
        {
         "hovertemplate": "championName=Akali<br>totalDamageDealtToChampions=%{x}<br>totalDamageTaken=%{y}<extra></extra>",
         "legendgroup": "Akali",
         "marker": {
          "color": "#00cc96",
          "symbol": "circle"
         },
         "mode": "markers",
         "name": "Akali",
         "orientation": "v",
         "showlegend": true,
         "type": "scatter",
         "x": [
          22562
         ],
         "xaxis": "x",
         "y": [
          25916
         ],
         "yaxis": "y"
        },
        {
         "hovertemplate": "championName=Akshan<br>totalDamageDealtToChampions=%{x}<br>totalDamageTaken=%{y}<extra></extra>",
         "legendgroup": "Akshan",
         "marker": {
          "color": "#ab63fa",
          "symbol": "circle"
         },
         "mode": "markers",
         "name": "Akshan",
         "orientation": "v",
         "showlegend": true,
         "type": "scatter",
         "x": [
          22504
         ],
         "xaxis": "x",
         "y": [
          19189
         ],
         "yaxis": "y"
        },
        {
         "hovertemplate": "championName=Alistar<br>totalDamageDealtToChampions=%{x}<br>totalDamageTaken=%{y}<extra></extra>",
         "legendgroup": "Alistar",
         "marker": {
          "color": "#FFA15A",
          "symbol": "circle"
         },
         "mode": "markers",
         "name": "Alistar",
         "orientation": "v",
         "showlegend": true,
         "type": "scatter",
         "x": [
          10372
         ],
         "xaxis": "x",
         "y": [
          28175
         ],
         "yaxis": "y"
        },
        {
         "hovertemplate": "championName=Amumu<br>totalDamageDealtToChampions=%{x}<br>totalDamageTaken=%{y}<extra></extra>",
         "legendgroup": "Amumu",
         "marker": {
          "color": "#19d3f3",
          "symbol": "circle"
         },
         "mode": "markers",
         "name": "Amumu",
         "orientation": "v",
         "showlegend": true,
         "type": "scatter",
         "x": [
          13271
         ],
         "xaxis": "x",
         "y": [
          26139
         ],
         "yaxis": "y"
        },
        {
         "hovertemplate": "championName=Anivia<br>totalDamageDealtToChampions=%{x}<br>totalDamageTaken=%{y}<extra></extra>",
         "legendgroup": "Anivia",
         "marker": {
          "color": "#FF6692",
          "symbol": "circle"
         },
         "mode": "markers",
         "name": "Anivia",
         "orientation": "v",
         "showlegend": true,
         "type": "scatter",
         "x": [
          20982
         ],
         "xaxis": "x",
         "y": [
          25462
         ],
         "yaxis": "y"
        },
        {
         "hovertemplate": "championName=Annie<br>totalDamageDealtToChampions=%{x}<br>totalDamageTaken=%{y}<extra></extra>",
         "legendgroup": "Annie",
         "marker": {
          "color": "#B6E880",
          "symbol": "circle"
         },
         "mode": "markers",
         "name": "Annie",
         "orientation": "v",
         "showlegend": true,
         "type": "scatter",
         "x": [
          32588
         ],
         "xaxis": "x",
         "y": [
          18719
         ],
         "yaxis": "y"
        },
        {
         "hovertemplate": "championName=Aphelios<br>totalDamageDealtToChampions=%{x}<br>totalDamageTaken=%{y}<extra></extra>",
         "legendgroup": "Aphelios",
         "marker": {
          "color": "#FF97FF",
          "symbol": "circle"
         },
         "mode": "markers",
         "name": "Aphelios",
         "orientation": "v",
         "showlegend": true,
         "type": "scatter",
         "x": [
          21855
         ],
         "xaxis": "x",
         "y": [
          17939
         ],
         "yaxis": "y"
        },
        {
         "hovertemplate": "championName=Ashe<br>totalDamageDealtToChampions=%{x}<br>totalDamageTaken=%{y}<extra></extra>",
         "legendgroup": "Ashe",
         "marker": {
          "color": "#FECB52",
          "symbol": "circle"
         },
         "mode": "markers",
         "name": "Ashe",
         "orientation": "v",
         "showlegend": true,
         "type": "scatter",
         "x": [
          18157
         ],
         "xaxis": "x",
         "y": [
          17587
         ],
         "yaxis": "y"
        },
        {
         "hovertemplate": "championName=AurelionSol<br>totalDamageDealtToChampions=%{x}<br>totalDamageTaken=%{y}<extra></extra>",
         "legendgroup": "AurelionSol",
         "marker": {
          "color": "#636efa",
          "symbol": "circle"
         },
         "mode": "markers",
         "name": "AurelionSol",
         "orientation": "v",
         "showlegend": true,
         "type": "scatter",
         "x": [
          21713
         ],
         "xaxis": "x",
         "y": [
          20092
         ],
         "yaxis": "y"
        },
        {
         "hovertemplate": "championName=Azir<br>totalDamageDealtToChampions=%{x}<br>totalDamageTaken=%{y}<extra></extra>",
         "legendgroup": "Azir",
         "marker": {
          "color": "#EF553B",
          "symbol": "circle"
         },
         "mode": "markers",
         "name": "Azir",
         "orientation": "v",
         "showlegend": true,
         "type": "scatter",
         "x": [
          21015
         ],
         "xaxis": "x",
         "y": [
          18872
         ],
         "yaxis": "y"
        },
        {
         "hovertemplate": "championName=Bard<br>totalDamageDealtToChampions=%{x}<br>totalDamageTaken=%{y}<extra></extra>",
         "legendgroup": "Bard",
         "marker": {
          "color": "#00cc96",
          "symbol": "circle"
         },
         "mode": "markers",
         "name": "Bard",
         "orientation": "v",
         "showlegend": true,
         "type": "scatter",
         "x": [
          9046
         ],
         "xaxis": "x",
         "y": [
          19126
         ],
         "yaxis": "y"
        },
        {
         "hovertemplate": "championName=Belveth<br>totalDamageDealtToChampions=%{x}<br>totalDamageTaken=%{y}<extra></extra>",
         "legendgroup": "Belveth",
         "marker": {
          "color": "#ab63fa",
          "symbol": "circle"
         },
         "mode": "markers",
         "name": "Belveth",
         "orientation": "v",
         "showlegend": true,
         "type": "scatter",
         "x": [
          17583
         ],
         "xaxis": "x",
         "y": [
          29245
         ],
         "yaxis": "y"
        },
        {
         "hovertemplate": "championName=Blitzcrank<br>totalDamageDealtToChampions=%{x}<br>totalDamageTaken=%{y}<extra></extra>",
         "legendgroup": "Blitzcrank",
         "marker": {
          "color": "#FFA15A",
          "symbol": "circle"
         },
         "mode": "markers",
         "name": "Blitzcrank",
         "orientation": "v",
         "showlegend": true,
         "type": "scatter",
         "x": [
          9225
         ],
         "xaxis": "x",
         "y": [
          20828
         ],
         "yaxis": "y"
        },
        {
         "hovertemplate": "championName=Brand<br>totalDamageDealtToChampions=%{x}<br>totalDamageTaken=%{y}<extra></extra>",
         "legendgroup": "Brand",
         "marker": {
          "color": "#19d3f3",
          "symbol": "circle"
         },
         "mode": "markers",
         "name": "Brand",
         "orientation": "v",
         "showlegend": true,
         "type": "scatter",
         "x": [
          22025
         ],
         "xaxis": "x",
         "y": [
          23393
         ],
         "yaxis": "y"
        },
        {
         "hovertemplate": "championName=Braum<br>totalDamageDealtToChampions=%{x}<br>totalDamageTaken=%{y}<extra></extra>",
         "legendgroup": "Braum",
         "marker": {
          "color": "#FF6692",
          "symbol": "circle"
         },
         "mode": "markers",
         "name": "Braum",
         "orientation": "v",
         "showlegend": true,
         "type": "scatter",
         "x": [
          7846
         ],
         "xaxis": "x",
         "y": [
          20903
         ],
         "yaxis": "y"
        },
        {
         "hovertemplate": "championName=Briar<br>totalDamageDealtToChampions=%{x}<br>totalDamageTaken=%{y}<extra></extra>",
         "legendgroup": "Briar",
         "marker": {
          "color": "#B6E880",
          "symbol": "circle"
         },
         "mode": "markers",
         "name": "Briar",
         "orientation": "v",
         "showlegend": true,
         "type": "scatter",
         "x": [
          21759
         ],
         "xaxis": "x",
         "y": [
          30374
         ],
         "yaxis": "y"
        },
        {
         "hovertemplate": "championName=Caitlyn<br>totalDamageDealtToChampions=%{x}<br>totalDamageTaken=%{y}<extra></extra>",
         "legendgroup": "Caitlyn",
         "marker": {
          "color": "#FF97FF",
          "symbol": "circle"
         },
         "mode": "markers",
         "name": "Caitlyn",
         "orientation": "v",
         "showlegend": true,
         "type": "scatter",
         "x": [
          21887
         ],
         "xaxis": "x",
         "y": [
          19585
         ],
         "yaxis": "y"
        },
        {
         "hovertemplate": "championName=Camille<br>totalDamageDealtToChampions=%{x}<br>totalDamageTaken=%{y}<extra></extra>",
         "legendgroup": "Camille",
         "marker": {
          "color": "#FECB52",
          "symbol": "circle"
         },
         "mode": "markers",
         "name": "Camille",
         "orientation": "v",
         "showlegend": true,
         "type": "scatter",
         "x": [
          20878
         ],
         "xaxis": "x",
         "y": [
          29516
         ],
         "yaxis": "y"
        },
        {
         "hovertemplate": "championName=Cassiopeia<br>totalDamageDealtToChampions=%{x}<br>totalDamageTaken=%{y}<extra></extra>",
         "legendgroup": "Cassiopeia",
         "marker": {
          "color": "#636efa",
          "symbol": "circle"
         },
         "mode": "markers",
         "name": "Cassiopeia",
         "orientation": "v",
         "showlegend": true,
         "type": "scatter",
         "x": [
          23192
         ],
         "xaxis": "x",
         "y": [
          25746
         ],
         "yaxis": "y"
        },
        {
         "hovertemplate": "championName=Chogath<br>totalDamageDealtToChampions=%{x}<br>totalDamageTaken=%{y}<extra></extra>",
         "legendgroup": "Chogath",
         "marker": {
          "color": "#EF553B",
          "symbol": "circle"
         },
         "mode": "markers",
         "name": "Chogath",
         "orientation": "v",
         "showlegend": true,
         "type": "scatter",
         "x": [
          20262
         ],
         "xaxis": "x",
         "y": [
          38141
         ],
         "yaxis": "y"
        },
        {
         "hovertemplate": "championName=Corki<br>totalDamageDealtToChampions=%{x}<br>totalDamageTaken=%{y}<extra></extra>",
         "legendgroup": "Corki",
         "marker": {
          "color": "#00cc96",
          "symbol": "circle"
         },
         "mode": "markers",
         "name": "Corki",
         "orientation": "v",
         "showlegend": true,
         "type": "scatter",
         "x": [
          28812
         ],
         "xaxis": "x",
         "y": [
          22246
         ],
         "yaxis": "y"
        },
        {
         "hovertemplate": "championName=Darius<br>totalDamageDealtToChampions=%{x}<br>totalDamageTaken=%{y}<extra></extra>",
         "legendgroup": "Darius",
         "marker": {
          "color": "#ab63fa",
          "symbol": "circle"
         },
         "mode": "markers",
         "name": "Darius",
         "orientation": "v",
         "showlegend": true,
         "type": "scatter",
         "x": [
          21972
         ],
         "xaxis": "x",
         "y": [
          30563
         ],
         "yaxis": "y"
        },
        {
         "hovertemplate": "championName=Diana<br>totalDamageDealtToChampions=%{x}<br>totalDamageTaken=%{y}<extra></extra>",
         "legendgroup": "Diana",
         "marker": {
          "color": "#FFA15A",
          "symbol": "circle"
         },
         "mode": "markers",
         "name": "Diana",
         "orientation": "v",
         "showlegend": true,
         "type": "scatter",
         "x": [
          18408
         ],
         "xaxis": "x",
         "y": [
          22181
         ],
         "yaxis": "y"
        },
        {
         "hovertemplate": "championName=DrMundo<br>totalDamageDealtToChampions=%{x}<br>totalDamageTaken=%{y}<extra></extra>",
         "legendgroup": "DrMundo",
         "marker": {
          "color": "#19d3f3",
          "symbol": "circle"
         },
         "mode": "markers",
         "name": "DrMundo",
         "orientation": "v",
         "showlegend": true,
         "type": "scatter",
         "x": [
          27792
         ],
         "xaxis": "x",
         "y": [
          50124
         ],
         "yaxis": "y"
        },
        {
         "hovertemplate": "championName=Draven<br>totalDamageDealtToChampions=%{x}<br>totalDamageTaken=%{y}<extra></extra>",
         "legendgroup": "Draven",
         "marker": {
          "color": "#FF6692",
          "symbol": "circle"
         },
         "mode": "markers",
         "name": "Draven",
         "orientation": "v",
         "showlegend": true,
         "type": "scatter",
         "x": [
          21090
         ],
         "xaxis": "x",
         "y": [
          19448
         ],
         "yaxis": "y"
        },
        {
         "hovertemplate": "championName=Ekko<br>totalDamageDealtToChampions=%{x}<br>totalDamageTaken=%{y}<extra></extra>",
         "legendgroup": "Ekko",
         "marker": {
          "color": "#B6E880",
          "symbol": "circle"
         },
         "mode": "markers",
         "name": "Ekko",
         "orientation": "v",
         "showlegend": true,
         "type": "scatter",
         "x": [
          20042
         ],
         "xaxis": "x",
         "y": [
          31080
         ],
         "yaxis": "y"
        },
        {
         "hovertemplate": "championName=Elise<br>totalDamageDealtToChampions=%{x}<br>totalDamageTaken=%{y}<extra></extra>",
         "legendgroup": "Elise",
         "marker": {
          "color": "#FF97FF",
          "symbol": "circle"
         },
         "mode": "markers",
         "name": "Elise",
         "orientation": "v",
         "showlegend": true,
         "type": "scatter",
         "x": [
          17969
         ],
         "xaxis": "x",
         "y": [
          26323
         ],
         "yaxis": "y"
        },
        {
         "hovertemplate": "championName=Evelynn<br>totalDamageDealtToChampions=%{x}<br>totalDamageTaken=%{y}<extra></extra>",
         "legendgroup": "Evelynn",
         "marker": {
          "color": "#FECB52",
          "symbol": "circle"
         },
         "mode": "markers",
         "name": "Evelynn",
         "orientation": "v",
         "showlegend": true,
         "type": "scatter",
         "x": [
          23940
         ],
         "xaxis": "x",
         "y": [
          31648
         ],
         "yaxis": "y"
        },
        {
         "hovertemplate": "championName=Ezreal<br>totalDamageDealtToChampions=%{x}<br>totalDamageTaken=%{y}<extra></extra>",
         "legendgroup": "Ezreal",
         "marker": {
          "color": "#636efa",
          "symbol": "circle"
         },
         "mode": "markers",
         "name": "Ezreal",
         "orientation": "v",
         "showlegend": true,
         "type": "scatter",
         "x": [
          24246
         ],
         "xaxis": "x",
         "y": [
          20312
         ],
         "yaxis": "y"
        },
        {
         "hovertemplate": "championName=FiddleSticks<br>totalDamageDealtToChampions=%{x}<br>totalDamageTaken=%{y}<extra></extra>",
         "legendgroup": "FiddleSticks",
         "marker": {
          "color": "#EF553B",
          "symbol": "circle"
         },
         "mode": "markers",
         "name": "FiddleSticks",
         "orientation": "v",
         "showlegend": true,
         "type": "scatter",
         "x": [
          18520
         ],
         "xaxis": "x",
         "y": [
          28684
         ],
         "yaxis": "y"
        },
        {
         "hovertemplate": "championName=Fiora<br>totalDamageDealtToChampions=%{x}<br>totalDamageTaken=%{y}<extra></extra>",
         "legendgroup": "Fiora",
         "marker": {
          "color": "#00cc96",
          "symbol": "circle"
         },
         "mode": "markers",
         "name": "Fiora",
         "orientation": "v",
         "showlegend": true,
         "type": "scatter",
         "x": [
          21266
         ],
         "xaxis": "x",
         "y": [
          30204
         ],
         "yaxis": "y"
        },
        {
         "hovertemplate": "championName=Fizz<br>totalDamageDealtToChampions=%{x}<br>totalDamageTaken=%{y}<extra></extra>",
         "legendgroup": "Fizz",
         "marker": {
          "color": "#ab63fa",
          "symbol": "circle"
         },
         "mode": "markers",
         "name": "Fizz",
         "orientation": "v",
         "showlegend": true,
         "type": "scatter",
         "x": [
          22672
         ],
         "xaxis": "x",
         "y": [
          20888
         ],
         "yaxis": "y"
        },
        {
         "hovertemplate": "championName=Galio<br>totalDamageDealtToChampions=%{x}<br>totalDamageTaken=%{y}<extra></extra>",
         "legendgroup": "Galio",
         "marker": {
          "color": "#FFA15A",
          "symbol": "circle"
         },
         "mode": "markers",
         "name": "Galio",
         "orientation": "v",
         "showlegend": true,
         "type": "scatter",
         "x": [
          17208
         ],
         "xaxis": "x",
         "y": [
          24578
         ],
         "yaxis": "y"
        },
        {
         "hovertemplate": "championName=Gangplank<br>totalDamageDealtToChampions=%{x}<br>totalDamageTaken=%{y}<extra></extra>",
         "legendgroup": "Gangplank",
         "marker": {
          "color": "#19d3f3",
          "symbol": "circle"
         },
         "mode": "markers",
         "name": "Gangplank",
         "orientation": "v",
         "showlegend": true,
         "type": "scatter",
         "x": [
          25465
         ],
         "xaxis": "x",
         "y": [
          23858
         ],
         "yaxis": "y"
        },
        {
         "hovertemplate": "championName=Garen<br>totalDamageDealtToChampions=%{x}<br>totalDamageTaken=%{y}<extra></extra>",
         "legendgroup": "Garen",
         "marker": {
          "color": "#FF6692",
          "symbol": "circle"
         },
         "mode": "markers",
         "name": "Garen",
         "orientation": "v",
         "showlegend": true,
         "type": "scatter",
         "x": [
          19532
         ],
         "xaxis": "x",
         "y": [
          26403
         ],
         "yaxis": "y"
        },
        {
         "hovertemplate": "championName=Gnar<br>totalDamageDealtToChampions=%{x}<br>totalDamageTaken=%{y}<extra></extra>",
         "legendgroup": "Gnar",
         "marker": {
          "color": "#B6E880",
          "symbol": "circle"
         },
         "mode": "markers",
         "name": "Gnar",
         "orientation": "v",
         "showlegend": true,
         "type": "scatter",
         "x": [
          22279
         ],
         "xaxis": "x",
         "y": [
          28179
         ],
         "yaxis": "y"
        },
        {
         "hovertemplate": "championName=Gragas<br>totalDamageDealtToChampions=%{x}<br>totalDamageTaken=%{y}<extra></extra>",
         "legendgroup": "Gragas",
         "marker": {
          "color": "#FF97FF",
          "symbol": "circle"
         },
         "mode": "markers",
         "name": "Gragas",
         "orientation": "v",
         "showlegend": true,
         "type": "scatter",
         "x": [
          22161
         ],
         "xaxis": "x",
         "y": [
          31195
         ],
         "yaxis": "y"
        },
        {
         "hovertemplate": "championName=Graves<br>totalDamageDealtToChampions=%{x}<br>totalDamageTaken=%{y}<extra></extra>",
         "legendgroup": "Graves",
         "marker": {
          "color": "#FECB52",
          "symbol": "circle"
         },
         "mode": "markers",
         "name": "Graves",
         "orientation": "v",
         "showlegend": true,
         "type": "scatter",
         "x": [
          20215
         ],
         "xaxis": "x",
         "y": [
          26843
         ],
         "yaxis": "y"
        },
        {
         "hovertemplate": "championName=Gwen<br>totalDamageDealtToChampions=%{x}<br>totalDamageTaken=%{y}<extra></extra>",
         "legendgroup": "Gwen",
         "marker": {
          "color": "#636efa",
          "symbol": "circle"
         },
         "mode": "markers",
         "name": "Gwen",
         "orientation": "v",
         "showlegend": true,
         "type": "scatter",
         "x": [
          23453
         ],
         "xaxis": "x",
         "y": [
          27580
         ],
         "yaxis": "y"
        },
        {
         "hovertemplate": "championName=Hecarim<br>totalDamageDealtToChampions=%{x}<br>totalDamageTaken=%{y}<extra></extra>",
         "legendgroup": "Hecarim",
         "marker": {
          "color": "#EF553B",
          "symbol": "circle"
         },
         "mode": "markers",
         "name": "Hecarim",
         "orientation": "v",
         "showlegend": true,
         "type": "scatter",
         "x": [
          18858
         ],
         "xaxis": "x",
         "y": [
          41492
         ],
         "yaxis": "y"
        },
        {
         "hovertemplate": "championName=Heimerdinger<br>totalDamageDealtToChampions=%{x}<br>totalDamageTaken=%{y}<extra></extra>",
         "legendgroup": "Heimerdinger",
         "marker": {
          "color": "#00cc96",
          "symbol": "circle"
         },
         "mode": "markers",
         "name": "Heimerdinger",
         "orientation": "v",
         "showlegend": true,
         "type": "scatter",
         "x": [
          24046
         ],
         "xaxis": "x",
         "y": [
          17633
         ],
         "yaxis": "y"
        },
        {
         "hovertemplate": "championName=Hwei<br>totalDamageDealtToChampions=%{x}<br>totalDamageTaken=%{y}<extra></extra>",
         "legendgroup": "Hwei",
         "marker": {
          "color": "#ab63fa",
          "symbol": "circle"
         },
         "mode": "markers",
         "name": "Hwei",
         "orientation": "v",
         "showlegend": true,
         "type": "scatter",
         "x": [
          23573
         ],
         "xaxis": "x",
         "y": [
          18579
         ],
         "yaxis": "y"
        },
        {
         "hovertemplate": "championName=Illaoi<br>totalDamageDealtToChampions=%{x}<br>totalDamageTaken=%{y}<extra></extra>",
         "legendgroup": "Illaoi",
         "marker": {
          "color": "#FFA15A",
          "symbol": "circle"
         },
         "mode": "markers",
         "name": "Illaoi",
         "orientation": "v",
         "showlegend": true,
         "type": "scatter",
         "x": [
          26854
         ],
         "xaxis": "x",
         "y": [
          32098
         ],
         "yaxis": "y"
        },
        {
         "hovertemplate": "championName=Irelia<br>totalDamageDealtToChampions=%{x}<br>totalDamageTaken=%{y}<extra></extra>",
         "legendgroup": "Irelia",
         "marker": {
          "color": "#19d3f3",
          "symbol": "circle"
         },
         "mode": "markers",
         "name": "Irelia",
         "orientation": "v",
         "showlegend": true,
         "type": "scatter",
         "x": [
          21530
         ],
         "xaxis": "x",
         "y": [
          30891
         ],
         "yaxis": "y"
        },
        {
         "hovertemplate": "championName=Ivern<br>totalDamageDealtToChampions=%{x}<br>totalDamageTaken=%{y}<extra></extra>",
         "legendgroup": "Ivern",
         "marker": {
          "color": "#FF6692",
          "symbol": "circle"
         },
         "mode": "markers",
         "name": "Ivern",
         "orientation": "v",
         "showlegend": true,
         "type": "scatter",
         "x": [
          8276
         ],
         "xaxis": "x",
         "y": [
          15917
         ],
         "yaxis": "y"
        },
        {
         "hovertemplate": "championName=Janna<br>totalDamageDealtToChampions=%{x}<br>totalDamageTaken=%{y}<extra></extra>",
         "legendgroup": "Janna",
         "marker": {
          "color": "#B6E880",
          "symbol": "circle"
         },
         "mode": "markers",
         "name": "Janna",
         "orientation": "v",
         "showlegend": true,
         "type": "scatter",
         "x": [
          8916
         ],
         "xaxis": "x",
         "y": [
          15402
         ],
         "yaxis": "y"
        },
        {
         "hovertemplate": "championName=JarvanIV<br>totalDamageDealtToChampions=%{x}<br>totalDamageTaken=%{y}<extra></extra>",
         "legendgroup": "JarvanIV",
         "marker": {
          "color": "#FF97FF",
          "symbol": "circle"
         },
         "mode": "markers",
         "name": "JarvanIV",
         "orientation": "v",
         "showlegend": true,
         "type": "scatter",
         "x": [
          13576
         ],
         "xaxis": "x",
         "y": [
          30387
         ],
         "yaxis": "y"
        },
        {
         "hovertemplate": "championName=Jax<br>totalDamageDealtToChampions=%{x}<br>totalDamageTaken=%{y}<extra></extra>",
         "legendgroup": "Jax",
         "marker": {
          "color": "#FECB52",
          "symbol": "circle"
         },
         "mode": "markers",
         "name": "Jax",
         "orientation": "v",
         "showlegend": true,
         "type": "scatter",
         "x": [
          20277
         ],
         "xaxis": "x",
         "y": [
          27521
         ],
         "yaxis": "y"
        },
        {
         "hovertemplate": "championName=Jayce<br>totalDamageDealtToChampions=%{x}<br>totalDamageTaken=%{y}<extra></extra>",
         "legendgroup": "Jayce",
         "marker": {
          "color": "#636efa",
          "symbol": "circle"
         },
         "mode": "markers",
         "name": "Jayce",
         "orientation": "v",
         "showlegend": true,
         "type": "scatter",
         "x": [
          24969
         ],
         "xaxis": "x",
         "y": [
          21009
         ],
         "yaxis": "y"
        },
        {
         "hovertemplate": "championName=Jhin<br>totalDamageDealtToChampions=%{x}<br>totalDamageTaken=%{y}<extra></extra>",
         "legendgroup": "Jhin",
         "marker": {
          "color": "#EF553B",
          "symbol": "circle"
         },
         "mode": "markers",
         "name": "Jhin",
         "orientation": "v",
         "showlegend": true,
         "type": "scatter",
         "x": [
          18381
         ],
         "xaxis": "x",
         "y": [
          17447
         ],
         "yaxis": "y"
        },
        {
         "hovertemplate": "championName=Jinx<br>totalDamageDealtToChampions=%{x}<br>totalDamageTaken=%{y}<extra></extra>",
         "legendgroup": "Jinx",
         "marker": {
          "color": "#00cc96",
          "symbol": "circle"
         },
         "mode": "markers",
         "name": "Jinx",
         "orientation": "v",
         "showlegend": true,
         "type": "scatter",
         "x": [
          21455
         ],
         "xaxis": "x",
         "y": [
          17662
         ],
         "yaxis": "y"
        },
        {
         "hovertemplate": "championName=KSante<br>totalDamageDealtToChampions=%{x}<br>totalDamageTaken=%{y}<extra></extra>",
         "legendgroup": "KSante",
         "marker": {
          "color": "#ab63fa",
          "symbol": "circle"
         },
         "mode": "markers",
         "name": "KSante",
         "orientation": "v",
         "showlegend": true,
         "type": "scatter",
         "x": [
          20075
         ],
         "xaxis": "x",
         "y": [
          28542
         ],
         "yaxis": "y"
        },
        {
         "hovertemplate": "championName=Kaisa<br>totalDamageDealtToChampions=%{x}<br>totalDamageTaken=%{y}<extra></extra>",
         "legendgroup": "Kaisa",
         "marker": {
          "color": "#FFA15A",
          "symbol": "circle"
         },
         "mode": "markers",
         "name": "Kaisa",
         "orientation": "v",
         "showlegend": true,
         "type": "scatter",
         "x": [
          22498
         ],
         "xaxis": "x",
         "y": [
          18348
         ],
         "yaxis": "y"
        },
        {
         "hovertemplate": "championName=Kalista<br>totalDamageDealtToChampions=%{x}<br>totalDamageTaken=%{y}<extra></extra>",
         "legendgroup": "Kalista",
         "marker": {
          "color": "#19d3f3",
          "symbol": "circle"
         },
         "mode": "markers",
         "name": "Kalista",
         "orientation": "v",
         "showlegend": true,
         "type": "scatter",
         "x": [
          21616
         ],
         "xaxis": "x",
         "y": [
          22993
         ],
         "yaxis": "y"
        },
        {
         "hovertemplate": "championName=Karma<br>totalDamageDealtToChampions=%{x}<br>totalDamageTaken=%{y}<extra></extra>",
         "legendgroup": "Karma",
         "marker": {
          "color": "#FF6692",
          "symbol": "circle"
         },
         "mode": "markers",
         "name": "Karma",
         "orientation": "v",
         "showlegend": true,
         "type": "scatter",
         "x": [
          12828
         ],
         "xaxis": "x",
         "y": [
          19619
         ],
         "yaxis": "y"
        },
        {
         "hovertemplate": "championName=Karthus<br>totalDamageDealtToChampions=%{x}<br>totalDamageTaken=%{y}<extra></extra>",
         "legendgroup": "Karthus",
         "marker": {
          "color": "#B6E880",
          "symbol": "circle"
         },
         "mode": "markers",
         "name": "Karthus",
         "orientation": "v",
         "showlegend": true,
         "type": "scatter",
         "x": [
          28908
         ],
         "xaxis": "x",
         "y": [
          28126
         ],
         "yaxis": "y"
        },
        {
         "hovertemplate": "championName=Kassadin<br>totalDamageDealtToChampions=%{x}<br>totalDamageTaken=%{y}<extra></extra>",
         "legendgroup": "Kassadin",
         "marker": {
          "color": "#FF97FF",
          "symbol": "circle"
         },
         "mode": "markers",
         "name": "Kassadin",
         "orientation": "v",
         "showlegend": true,
         "type": "scatter",
         "x": [
          20640
         ],
         "xaxis": "x",
         "y": [
          23983
         ],
         "yaxis": "y"
        },
        {
         "hovertemplate": "championName=Katarina<br>totalDamageDealtToChampions=%{x}<br>totalDamageTaken=%{y}<extra></extra>",
         "legendgroup": "Katarina",
         "marker": {
          "color": "#FECB52",
          "symbol": "circle"
         },
         "mode": "markers",
         "name": "Katarina",
         "orientation": "v",
         "showlegend": true,
         "type": "scatter",
         "x": [
          19911
         ],
         "xaxis": "x",
         "y": [
          22424
         ],
         "yaxis": "y"
        },
        {
         "hovertemplate": "championName=Kayle<br>totalDamageDealtToChampions=%{x}<br>totalDamageTaken=%{y}<extra></extra>",
         "legendgroup": "Kayle",
         "marker": {
          "color": "#636efa",
          "symbol": "circle"
         },
         "mode": "markers",
         "name": "Kayle",
         "orientation": "v",
         "showlegend": true,
         "type": "scatter",
         "x": [
          24388
         ],
         "xaxis": "x",
         "y": [
          23019
         ],
         "yaxis": "y"
        },
        {
         "hovertemplate": "championName=Kayn<br>totalDamageDealtToChampions=%{x}<br>totalDamageTaken=%{y}<extra></extra>",
         "legendgroup": "Kayn",
         "marker": {
          "color": "#EF553B",
          "symbol": "circle"
         },
         "mode": "markers",
         "name": "Kayn",
         "orientation": "v",
         "showlegend": true,
         "type": "scatter",
         "x": [
          23272
         ],
         "xaxis": "x",
         "y": [
          36628
         ],
         "yaxis": "y"
        },
        {
         "hovertemplate": "championName=Kennen<br>totalDamageDealtToChampions=%{x}<br>totalDamageTaken=%{y}<extra></extra>",
         "legendgroup": "Kennen",
         "marker": {
          "color": "#00cc96",
          "symbol": "circle"
         },
         "mode": "markers",
         "name": "Kennen",
         "orientation": "v",
         "showlegend": true,
         "type": "scatter",
         "x": [
          23261
         ],
         "xaxis": "x",
         "y": [
          21526
         ],
         "yaxis": "y"
        },
        {
         "hovertemplate": "championName=Khazix<br>totalDamageDealtToChampions=%{x}<br>totalDamageTaken=%{y}<extra></extra>",
         "legendgroup": "Khazix",
         "marker": {
          "color": "#ab63fa",
          "symbol": "circle"
         },
         "mode": "markers",
         "name": "Khazix",
         "orientation": "v",
         "showlegend": true,
         "type": "scatter",
         "x": [
          20640
         ],
         "xaxis": "x",
         "y": [
          29181
         ],
         "yaxis": "y"
        },
        {
         "hovertemplate": "championName=Kindred<br>totalDamageDealtToChampions=%{x}<br>totalDamageTaken=%{y}<extra></extra>",
         "legendgroup": "Kindred",
         "marker": {
          "color": "#FFA15A",
          "symbol": "circle"
         },
         "mode": "markers",
         "name": "Kindred",
         "orientation": "v",
         "showlegend": true,
         "type": "scatter",
         "x": [
          21956
         ],
         "xaxis": "x",
         "y": [
          28756
         ],
         "yaxis": "y"
        },
        {
         "hovertemplate": "championName=Kled<br>totalDamageDealtToChampions=%{x}<br>totalDamageTaken=%{y}<extra></extra>",
         "legendgroup": "Kled",
         "marker": {
          "color": "#19d3f3",
          "symbol": "circle"
         },
         "mode": "markers",
         "name": "Kled",
         "orientation": "v",
         "showlegend": true,
         "type": "scatter",
         "x": [
          22350
         ],
         "xaxis": "x",
         "y": [
          34303
         ],
         "yaxis": "y"
        },
        {
         "hovertemplate": "championName=KogMaw<br>totalDamageDealtToChampions=%{x}<br>totalDamageTaken=%{y}<extra></extra>",
         "legendgroup": "KogMaw",
         "marker": {
          "color": "#FF6692",
          "symbol": "circle"
         },
         "mode": "markers",
         "name": "KogMaw",
         "orientation": "v",
         "showlegend": true,
         "type": "scatter",
         "x": [
          57800
         ],
         "xaxis": "x",
         "y": [
          27526
         ],
         "yaxis": "y"
        },
        {
         "hovertemplate": "championName=Leblanc<br>totalDamageDealtToChampions=%{x}<br>totalDamageTaken=%{y}<extra></extra>",
         "legendgroup": "Leblanc",
         "marker": {
          "color": "#B6E880",
          "symbol": "circle"
         },
         "mode": "markers",
         "name": "Leblanc",
         "orientation": "v",
         "showlegend": true,
         "type": "scatter",
         "x": [
          20287
         ],
         "xaxis": "x",
         "y": [
          21979
         ],
         "yaxis": "y"
        },
        {
         "hovertemplate": "championName=LeeSin<br>totalDamageDealtToChampions=%{x}<br>totalDamageTaken=%{y}<extra></extra>",
         "legendgroup": "LeeSin",
         "marker": {
          "color": "#FF97FF",
          "symbol": "circle"
         },
         "mode": "markers",
         "name": "LeeSin",
         "orientation": "v",
         "showlegend": true,
         "type": "scatter",
         "x": [
          15607
         ],
         "xaxis": "x",
         "y": [
          31831
         ],
         "yaxis": "y"
        },
        {
         "hovertemplate": "championName=Leona<br>totalDamageDealtToChampions=%{x}<br>totalDamageTaken=%{y}<extra></extra>",
         "legendgroup": "Leona",
         "marker": {
          "color": "#FECB52",
          "symbol": "circle"
         },
         "mode": "markers",
         "name": "Leona",
         "orientation": "v",
         "showlegend": true,
         "type": "scatter",
         "x": [
          11151
         ],
         "xaxis": "x",
         "y": [
          23403
         ],
         "yaxis": "y"
        },
        {
         "hovertemplate": "championName=Lillia<br>totalDamageDealtToChampions=%{x}<br>totalDamageTaken=%{y}<extra></extra>",
         "legendgroup": "Lillia",
         "marker": {
          "color": "#636efa",
          "symbol": "circle"
         },
         "mode": "markers",
         "name": "Lillia",
         "orientation": "v",
         "showlegend": true,
         "type": "scatter",
         "x": [
          26477
         ],
         "xaxis": "x",
         "y": [
          34981
         ],
         "yaxis": "y"
        },
        {
         "hovertemplate": "championName=Lissandra<br>totalDamageDealtToChampions=%{x}<br>totalDamageTaken=%{y}<extra></extra>",
         "legendgroup": "Lissandra",
         "marker": {
          "color": "#EF553B",
          "symbol": "circle"
         },
         "mode": "markers",
         "name": "Lissandra",
         "orientation": "v",
         "showlegend": true,
         "type": "scatter",
         "x": [
          14644
         ],
         "xaxis": "x",
         "y": [
          19525
         ],
         "yaxis": "y"
        },
        {
         "hovertemplate": "championName=Lucian<br>totalDamageDealtToChampions=%{x}<br>totalDamageTaken=%{y}<extra></extra>",
         "legendgroup": "Lucian",
         "marker": {
          "color": "#00cc96",
          "symbol": "circle"
         },
         "mode": "markers",
         "name": "Lucian",
         "orientation": "v",
         "showlegend": true,
         "type": "scatter",
         "x": [
          22836
         ],
         "xaxis": "x",
         "y": [
          19234
         ],
         "yaxis": "y"
        },
        {
         "hovertemplate": "championName=Lulu<br>totalDamageDealtToChampions=%{x}<br>totalDamageTaken=%{y}<extra></extra>",
         "legendgroup": "Lulu",
         "marker": {
          "color": "#ab63fa",
          "symbol": "circle"
         },
         "mode": "markers",
         "name": "Lulu",
         "orientation": "v",
         "showlegend": true,
         "type": "scatter",
         "x": [
          7112
         ],
         "xaxis": "x",
         "y": [
          14253
         ],
         "yaxis": "y"
        },
        {
         "hovertemplate": "championName=Lux<br>totalDamageDealtToChampions=%{x}<br>totalDamageTaken=%{y}<extra></extra>",
         "legendgroup": "Lux",
         "marker": {
          "color": "#FFA15A",
          "symbol": "circle"
         },
         "mode": "markers",
         "name": "Lux",
         "orientation": "v",
         "showlegend": true,
         "type": "scatter",
         "x": [
          16795
         ],
         "xaxis": "x",
         "y": [
          15196
         ],
         "yaxis": "y"
        },
        {
         "hovertemplate": "championName=Malphite<br>totalDamageDealtToChampions=%{x}<br>totalDamageTaken=%{y}<extra></extra>",
         "legendgroup": "Malphite",
         "marker": {
          "color": "#19d3f3",
          "symbol": "circle"
         },
         "mode": "markers",
         "name": "Malphite",
         "orientation": "v",
         "showlegend": true,
         "type": "scatter",
         "x": [
          19195
         ],
         "xaxis": "x",
         "y": [
          25470
         ],
         "yaxis": "y"
        },
        {
         "hovertemplate": "championName=Malzahar<br>totalDamageDealtToChampions=%{x}<br>totalDamageTaken=%{y}<extra></extra>",
         "legendgroup": "Malzahar",
         "marker": {
          "color": "#FF6692",
          "symbol": "circle"
         },
         "mode": "markers",
         "name": "Malzahar",
         "orientation": "v",
         "showlegend": true,
         "type": "scatter",
         "x": [
          17358
         ],
         "xaxis": "x",
         "y": [
          15171
         ],
         "yaxis": "y"
        },
        {
         "hovertemplate": "championName=Maokai<br>totalDamageDealtToChampions=%{x}<br>totalDamageTaken=%{y}<extra></extra>",
         "legendgroup": "Maokai",
         "marker": {
          "color": "#B6E880",
          "symbol": "circle"
         },
         "mode": "markers",
         "name": "Maokai",
         "orientation": "v",
         "showlegend": true,
         "type": "scatter",
         "x": [
          16650
         ],
         "xaxis": "x",
         "y": [
          31619
         ],
         "yaxis": "y"
        },
        {
         "hovertemplate": "championName=MasterYi<br>totalDamageDealtToChampions=%{x}<br>totalDamageTaken=%{y}<extra></extra>",
         "legendgroup": "MasterYi",
         "marker": {
          "color": "#FF97FF",
          "symbol": "circle"
         },
         "mode": "markers",
         "name": "MasterYi",
         "orientation": "v",
         "showlegend": true,
         "type": "scatter",
         "x": [
          21872
         ],
         "xaxis": "x",
         "y": [
          28253
         ],
         "yaxis": "y"
        },
        {
         "hovertemplate": "championName=Milio<br>totalDamageDealtToChampions=%{x}<br>totalDamageTaken=%{y}<extra></extra>",
         "legendgroup": "Milio",
         "marker": {
          "color": "#FECB52",
          "symbol": "circle"
         },
         "mode": "markers",
         "name": "Milio",
         "orientation": "v",
         "showlegend": true,
         "type": "scatter",
         "x": [
          5070
         ],
         "xaxis": "x",
         "y": [
          13655
         ],
         "yaxis": "y"
        },
        {
         "hovertemplate": "championName=MissFortune<br>totalDamageDealtToChampions=%{x}<br>totalDamageTaken=%{y}<extra></extra>",
         "legendgroup": "MissFortune",
         "marker": {
          "color": "#636efa",
          "symbol": "circle"
         },
         "mode": "markers",
         "name": "MissFortune",
         "orientation": "v",
         "showlegend": true,
         "type": "scatter",
         "x": [
          18007
         ],
         "xaxis": "x",
         "y": [
          16545
         ],
         "yaxis": "y"
        },
        {
         "hovertemplate": "championName=MonkeyKing<br>totalDamageDealtToChampions=%{x}<br>totalDamageTaken=%{y}<extra></extra>",
         "legendgroup": "MonkeyKing",
         "marker": {
          "color": "#EF553B",
          "symbol": "circle"
         },
         "mode": "markers",
         "name": "MonkeyKing",
         "orientation": "v",
         "showlegend": true,
         "type": "scatter",
         "x": [
          15443
         ],
         "xaxis": "x",
         "y": [
          25800
         ],
         "yaxis": "y"
        },
        {
         "hovertemplate": "championName=Mordekaiser<br>totalDamageDealtToChampions=%{x}<br>totalDamageTaken=%{y}<extra></extra>",
         "legendgroup": "Mordekaiser",
         "marker": {
          "color": "#00cc96",
          "symbol": "circle"
         },
         "mode": "markers",
         "name": "Mordekaiser",
         "orientation": "v",
         "showlegend": true,
         "type": "scatter",
         "x": [
          23806
         ],
         "xaxis": "x",
         "y": [
          29552
         ],
         "yaxis": "y"
        },
        {
         "hovertemplate": "championName=Morgana<br>totalDamageDealtToChampions=%{x}<br>totalDamageTaken=%{y}<extra></extra>",
         "legendgroup": "Morgana",
         "marker": {
          "color": "#ab63fa",
          "symbol": "circle"
         },
         "mode": "markers",
         "name": "Morgana",
         "orientation": "v",
         "showlegend": true,
         "type": "scatter",
         "x": [
          19288
         ],
         "xaxis": "x",
         "y": [
          20393
         ],
         "yaxis": "y"
        },
        {
         "hovertemplate": "championName=Naafiri<br>totalDamageDealtToChampions=%{x}<br>totalDamageTaken=%{y}<extra></extra>",
         "legendgroup": "Naafiri",
         "marker": {
          "color": "#FFA15A",
          "symbol": "circle"
         },
         "mode": "markers",
         "name": "Naafiri",
         "orientation": "v",
         "showlegend": true,
         "type": "scatter",
         "x": [
          28808
         ],
         "xaxis": "x",
         "y": [
          30418
         ],
         "yaxis": "y"
        },
        {
         "hovertemplate": "championName=Nami<br>totalDamageDealtToChampions=%{x}<br>totalDamageTaken=%{y}<extra></extra>",
         "legendgroup": "Nami",
         "marker": {
          "color": "#19d3f3",
          "symbol": "circle"
         },
         "mode": "markers",
         "name": "Nami",
         "orientation": "v",
         "showlegend": true,
         "type": "scatter",
         "x": [
          9137
         ],
         "xaxis": "x",
         "y": [
          16021
         ],
         "yaxis": "y"
        },
        {
         "hovertemplate": "championName=Nasus<br>totalDamageDealtToChampions=%{x}<br>totalDamageTaken=%{y}<extra></extra>",
         "legendgroup": "Nasus",
         "marker": {
          "color": "#FF6692",
          "symbol": "circle"
         },
         "mode": "markers",
         "name": "Nasus",
         "orientation": "v",
         "showlegend": true,
         "type": "scatter",
         "x": [
          20285
         ],
         "xaxis": "x",
         "y": [
          33727
         ],
         "yaxis": "y"
        },
        {
         "hovertemplate": "championName=Nautilus<br>totalDamageDealtToChampions=%{x}<br>totalDamageTaken=%{y}<extra></extra>",
         "legendgroup": "Nautilus",
         "marker": {
          "color": "#B6E880",
          "symbol": "circle"
         },
         "mode": "markers",
         "name": "Nautilus",
         "orientation": "v",
         "showlegend": true,
         "type": "scatter",
         "x": [
          8898
         ],
         "xaxis": "x",
         "y": [
          21379
         ],
         "yaxis": "y"
        },
        {
         "hovertemplate": "championName=Neeko<br>totalDamageDealtToChampions=%{x}<br>totalDamageTaken=%{y}<extra></extra>",
         "legendgroup": "Neeko",
         "marker": {
          "color": "#FF97FF",
          "symbol": "circle"
         },
         "mode": "markers",
         "name": "Neeko",
         "orientation": "v",
         "showlegend": true,
         "type": "scatter",
         "x": [
          20098
         ],
         "xaxis": "x",
         "y": [
          19278
         ],
         "yaxis": "y"
        },
        {
         "hovertemplate": "championName=Nidalee<br>totalDamageDealtToChampions=%{x}<br>totalDamageTaken=%{y}<extra></extra>",
         "legendgroup": "Nidalee",
         "marker": {
          "color": "#FECB52",
          "symbol": "circle"
         },
         "mode": "markers",
         "name": "Nidalee",
         "orientation": "v",
         "showlegend": true,
         "type": "scatter",
         "x": [
          19062
         ],
         "xaxis": "x",
         "y": [
          31532
         ],
         "yaxis": "y"
        },
        {
         "hovertemplate": "championName=Nilah<br>totalDamageDealtToChampions=%{x}<br>totalDamageTaken=%{y}<extra></extra>",
         "legendgroup": "Nilah",
         "marker": {
          "color": "#636efa",
          "symbol": "circle"
         },
         "mode": "markers",
         "name": "Nilah",
         "orientation": "v",
         "showlegend": true,
         "type": "scatter",
         "x": [
          15216
         ],
         "xaxis": "x",
         "y": [
          21696
         ],
         "yaxis": "y"
        },
        {
         "hovertemplate": "championName=Nocturne<br>totalDamageDealtToChampions=%{x}<br>totalDamageTaken=%{y}<extra></extra>",
         "legendgroup": "Nocturne",
         "marker": {
          "color": "#EF553B",
          "symbol": "circle"
         },
         "mode": "markers",
         "name": "Nocturne",
         "orientation": "v",
         "showlegend": true,
         "type": "scatter",
         "x": [
          15027
         ],
         "xaxis": "x",
         "y": [
          30858
         ],
         "yaxis": "y"
        },
        {
         "hovertemplate": "championName=Nunu<br>totalDamageDealtToChampions=%{x}<br>totalDamageTaken=%{y}<extra></extra>",
         "legendgroup": "Nunu",
         "marker": {
          "color": "#00cc96",
          "symbol": "circle"
         },
         "mode": "markers",
         "name": "Nunu",
         "orientation": "v",
         "showlegend": true,
         "type": "scatter",
         "x": [
          13327
         ],
         "xaxis": "x",
         "y": [
          34700
         ],
         "yaxis": "y"
        },
        {
         "hovertemplate": "championName=Olaf<br>totalDamageDealtToChampions=%{x}<br>totalDamageTaken=%{y}<extra></extra>",
         "legendgroup": "Olaf",
         "marker": {
          "color": "#ab63fa",
          "symbol": "circle"
         },
         "mode": "markers",
         "name": "Olaf",
         "orientation": "v",
         "showlegend": true,
         "type": "scatter",
         "x": [
          24564
         ],
         "xaxis": "x",
         "y": [
          29110
         ],
         "yaxis": "y"
        },
        {
         "hovertemplate": "championName=Orianna<br>totalDamageDealtToChampions=%{x}<br>totalDamageTaken=%{y}<extra></extra>",
         "legendgroup": "Orianna",
         "marker": {
          "color": "#FFA15A",
          "symbol": "circle"
         },
         "mode": "markers",
         "name": "Orianna",
         "orientation": "v",
         "showlegend": true,
         "type": "scatter",
         "x": [
          21632
         ],
         "xaxis": "x",
         "y": [
          18392
         ],
         "yaxis": "y"
        },
        {
         "hovertemplate": "championName=Ornn<br>totalDamageDealtToChampions=%{x}<br>totalDamageTaken=%{y}<extra></extra>",
         "legendgroup": "Ornn",
         "marker": {
          "color": "#19d3f3",
          "symbol": "circle"
         },
         "mode": "markers",
         "name": "Ornn",
         "orientation": "v",
         "showlegend": true,
         "type": "scatter",
         "x": [
          17920
         ],
         "xaxis": "x",
         "y": [
          32580
         ],
         "yaxis": "y"
        },
        {
         "hovertemplate": "championName=Pantheon<br>totalDamageDealtToChampions=%{x}<br>totalDamageTaken=%{y}<extra></extra>",
         "legendgroup": "Pantheon",
         "marker": {
          "color": "#FF6692",
          "symbol": "circle"
         },
         "mode": "markers",
         "name": "Pantheon",
         "orientation": "v",
         "showlegend": true,
         "type": "scatter",
         "x": [
          21260
         ],
         "xaxis": "x",
         "y": [
          23151
         ],
         "yaxis": "y"
        },
        {
         "hovertemplate": "championName=Poppy<br>totalDamageDealtToChampions=%{x}<br>totalDamageTaken=%{y}<extra></extra>",
         "legendgroup": "Poppy",
         "marker": {
          "color": "#B6E880",
          "symbol": "circle"
         },
         "mode": "markers",
         "name": "Poppy",
         "orientation": "v",
         "showlegend": true,
         "type": "scatter",
         "x": [
          17842
         ],
         "xaxis": "x",
         "y": [
          27919
         ],
         "yaxis": "y"
        },
        {
         "hovertemplate": "championName=Pyke<br>totalDamageDealtToChampions=%{x}<br>totalDamageTaken=%{y}<extra></extra>",
         "legendgroup": "Pyke",
         "marker": {
          "color": "#FF97FF",
          "symbol": "circle"
         },
         "mode": "markers",
         "name": "Pyke",
         "orientation": "v",
         "showlegend": true,
         "type": "scatter",
         "x": [
          10026
         ],
         "xaxis": "x",
         "y": [
          19670
         ],
         "yaxis": "y"
        },
        {
         "hovertemplate": "championName=Qiyana<br>totalDamageDealtToChampions=%{x}<br>totalDamageTaken=%{y}<extra></extra>",
         "legendgroup": "Qiyana",
         "marker": {
          "color": "#FECB52",
          "symbol": "circle"
         },
         "mode": "markers",
         "name": "Qiyana",
         "orientation": "v",
         "showlegend": true,
         "type": "scatter",
         "x": [
          21492
         ],
         "xaxis": "x",
         "y": [
          22181
         ],
         "yaxis": "y"
        },
        {
         "hovertemplate": "championName=Quinn<br>totalDamageDealtToChampions=%{x}<br>totalDamageTaken=%{y}<extra></extra>",
         "legendgroup": "Quinn",
         "marker": {
          "color": "#636efa",
          "symbol": "circle"
         },
         "mode": "markers",
         "name": "Quinn",
         "orientation": "v",
         "showlegend": true,
         "type": "scatter",
         "x": [
          24290
         ],
         "xaxis": "x",
         "y": [
          19068
         ],
         "yaxis": "y"
        },
        {
         "hovertemplate": "championName=Rakan<br>totalDamageDealtToChampions=%{x}<br>totalDamageTaken=%{y}<extra></extra>",
         "legendgroup": "Rakan",
         "marker": {
          "color": "#EF553B",
          "symbol": "circle"
         },
         "mode": "markers",
         "name": "Rakan",
         "orientation": "v",
         "showlegend": true,
         "type": "scatter",
         "x": [
          7512
         ],
         "xaxis": "x",
         "y": [
          20931
         ],
         "yaxis": "y"
        },
        {
         "hovertemplate": "championName=Rammus<br>totalDamageDealtToChampions=%{x}<br>totalDamageTaken=%{y}<extra></extra>",
         "legendgroup": "Rammus",
         "marker": {
          "color": "#00cc96",
          "symbol": "circle"
         },
         "mode": "markers",
         "name": "Rammus",
         "orientation": "v",
         "showlegend": true,
         "type": "scatter",
         "x": [
          15469
         ],
         "xaxis": "x",
         "y": [
          28304
         ],
         "yaxis": "y"
        },
        {
         "hovertemplate": "championName=RekSai<br>totalDamageDealtToChampions=%{x}<br>totalDamageTaken=%{y}<extra></extra>",
         "legendgroup": "RekSai",
         "marker": {
          "color": "#ab63fa",
          "symbol": "circle"
         },
         "mode": "markers",
         "name": "RekSai",
         "orientation": "v",
         "showlegend": true,
         "type": "scatter",
         "x": [
          17365
         ],
         "xaxis": "x",
         "y": [
          30226
         ],
         "yaxis": "y"
        },
        {
         "hovertemplate": "championName=Rell<br>totalDamageDealtToChampions=%{x}<br>totalDamageTaken=%{y}<extra></extra>",
         "legendgroup": "Rell",
         "marker": {
          "color": "#FFA15A",
          "symbol": "circle"
         },
         "mode": "markers",
         "name": "Rell",
         "orientation": "v",
         "showlegend": true,
         "type": "scatter",
         "x": [
          8941
         ],
         "xaxis": "x",
         "y": [
          22469
         ],
         "yaxis": "y"
        },
        {
         "hovertemplate": "championName=Renata<br>totalDamageDealtToChampions=%{x}<br>totalDamageTaken=%{y}<extra></extra>",
         "legendgroup": "Renata",
         "marker": {
          "color": "#19d3f3",
          "symbol": "circle"
         },
         "mode": "markers",
         "name": "Renata",
         "orientation": "v",
         "showlegend": true,
         "type": "scatter",
         "x": [
          9099
         ],
         "xaxis": "x",
         "y": [
          19627
         ],
         "yaxis": "y"
        },
        {
         "hovertemplate": "championName=Renekton<br>totalDamageDealtToChampions=%{x}<br>totalDamageTaken=%{y}<extra></extra>",
         "legendgroup": "Renekton",
         "marker": {
          "color": "#FF6692",
          "symbol": "circle"
         },
         "mode": "markers",
         "name": "Renekton",
         "orientation": "v",
         "showlegend": true,
         "type": "scatter",
         "x": [
          19861
         ],
         "xaxis": "x",
         "y": [
          35215
         ],
         "yaxis": "y"
        },
        {
         "hovertemplate": "championName=Rengar<br>totalDamageDealtToChampions=%{x}<br>totalDamageTaken=%{y}<extra></extra>",
         "legendgroup": "Rengar",
         "marker": {
          "color": "#B6E880",
          "symbol": "circle"
         },
         "mode": "markers",
         "name": "Rengar",
         "orientation": "v",
         "showlegend": true,
         "type": "scatter",
         "x": [
          15570
         ],
         "xaxis": "x",
         "y": [
          28218
         ],
         "yaxis": "y"
        },
        {
         "hovertemplate": "championName=Riven<br>totalDamageDealtToChampions=%{x}<br>totalDamageTaken=%{y}<extra></extra>",
         "legendgroup": "Riven",
         "marker": {
          "color": "#FF97FF",
          "symbol": "circle"
         },
         "mode": "markers",
         "name": "Riven",
         "orientation": "v",
         "showlegend": true,
         "type": "scatter",
         "x": [
          19137
         ],
         "xaxis": "x",
         "y": [
          24282
         ],
         "yaxis": "y"
        },
        {
         "hovertemplate": "championName=Rumble<br>totalDamageDealtToChampions=%{x}<br>totalDamageTaken=%{y}<extra></extra>",
         "legendgroup": "Rumble",
         "marker": {
          "color": "#FECB52",
          "symbol": "circle"
         },
         "mode": "markers",
         "name": "Rumble",
         "orientation": "v",
         "showlegend": true,
         "type": "scatter",
         "x": [
          23807
         ],
         "xaxis": "x",
         "y": [
          23272
         ],
         "yaxis": "y"
        },
        {
         "hovertemplate": "championName=Ryze<br>totalDamageDealtToChampions=%{x}<br>totalDamageTaken=%{y}<extra></extra>",
         "legendgroup": "Ryze",
         "marker": {
          "color": "#636efa",
          "symbol": "circle"
         },
         "mode": "markers",
         "name": "Ryze",
         "orientation": "v",
         "showlegend": true,
         "type": "scatter",
         "x": [
          21268
         ],
         "xaxis": "x",
         "y": [
          26873
         ],
         "yaxis": "y"
        },
        {
         "hovertemplate": "championName=Samira<br>totalDamageDealtToChampions=%{x}<br>totalDamageTaken=%{y}<extra></extra>",
         "legendgroup": "Samira",
         "marker": {
          "color": "#EF553B",
          "symbol": "circle"
         },
         "mode": "markers",
         "name": "Samira",
         "orientation": "v",
         "showlegend": true,
         "type": "scatter",
         "x": [
          23570
         ],
         "xaxis": "x",
         "y": [
          22023
         ],
         "yaxis": "y"
        },
        {
         "hovertemplate": "championName=Sejuani<br>totalDamageDealtToChampions=%{x}<br>totalDamageTaken=%{y}<extra></extra>",
         "legendgroup": "Sejuani",
         "marker": {
          "color": "#00cc96",
          "symbol": "circle"
         },
         "mode": "markers",
         "name": "Sejuani",
         "orientation": "v",
         "showlegend": true,
         "type": "scatter",
         "x": [
          10676
         ],
         "xaxis": "x",
         "y": [
          27209
         ],
         "yaxis": "y"
        },
        {
         "hovertemplate": "championName=Senna<br>totalDamageDealtToChampions=%{x}<br>totalDamageTaken=%{y}<extra></extra>",
         "legendgroup": "Senna",
         "marker": {
          "color": "#ab63fa",
          "symbol": "circle"
         },
         "mode": "markers",
         "name": "Senna",
         "orientation": "v",
         "showlegend": true,
         "type": "scatter",
         "x": [
          17698
         ],
         "xaxis": "x",
         "y": [
          17436
         ],
         "yaxis": "y"
        },
        {
         "hovertemplate": "championName=Seraphine<br>totalDamageDealtToChampions=%{x}<br>totalDamageTaken=%{y}<extra></extra>",
         "legendgroup": "Seraphine",
         "marker": {
          "color": "#FFA15A",
          "symbol": "circle"
         },
         "mode": "markers",
         "name": "Seraphine",
         "orientation": "v",
         "showlegend": true,
         "type": "scatter",
         "x": [
          11793
         ],
         "xaxis": "x",
         "y": [
          15857
         ],
         "yaxis": "y"
        },
        {
         "hovertemplate": "championName=Sett<br>totalDamageDealtToChampions=%{x}<br>totalDamageTaken=%{y}<extra></extra>",
         "legendgroup": "Sett",
         "marker": {
          "color": "#19d3f3",
          "symbol": "circle"
         },
         "mode": "markers",
         "name": "Sett",
         "orientation": "v",
         "showlegend": true,
         "type": "scatter",
         "x": [
          21149
         ],
         "xaxis": "x",
         "y": [
          32905
         ],
         "yaxis": "y"
        },
        {
         "hovertemplate": "championName=Shaco<br>totalDamageDealtToChampions=%{x}<br>totalDamageTaken=%{y}<extra></extra>",
         "legendgroup": "Shaco",
         "marker": {
          "color": "#FF6692",
          "symbol": "circle"
         },
         "mode": "markers",
         "name": "Shaco",
         "orientation": "v",
         "showlegend": true,
         "type": "scatter",
         "x": [
          20040
         ],
         "xaxis": "x",
         "y": [
          23116
         ],
         "yaxis": "y"
        },
        {
         "hovertemplate": "championName=Shen<br>totalDamageDealtToChampions=%{x}<br>totalDamageTaken=%{y}<extra></extra>",
         "legendgroup": "Shen",
         "marker": {
          "color": "#B6E880",
          "symbol": "circle"
         },
         "mode": "markers",
         "name": "Shen",
         "orientation": "v",
         "showlegend": true,
         "type": "scatter",
         "x": [
          17923
         ],
         "xaxis": "x",
         "y": [
          29446
         ],
         "yaxis": "y"
        },
        {
         "hovertemplate": "championName=Shyvana<br>totalDamageDealtToChampions=%{x}<br>totalDamageTaken=%{y}<extra></extra>",
         "legendgroup": "Shyvana",
         "marker": {
          "color": "#FF97FF",
          "symbol": "circle"
         },
         "mode": "markers",
         "name": "Shyvana",
         "orientation": "v",
         "showlegend": true,
         "type": "scatter",
         "x": [
          29725
         ],
         "xaxis": "x",
         "y": [
          31967
         ],
         "yaxis": "y"
        },
        {
         "hovertemplate": "championName=Singed<br>totalDamageDealtToChampions=%{x}<br>totalDamageTaken=%{y}<extra></extra>",
         "legendgroup": "Singed",
         "marker": {
          "color": "#FECB52",
          "symbol": "circle"
         },
         "mode": "markers",
         "name": "Singed",
         "orientation": "v",
         "showlegend": true,
         "type": "scatter",
         "x": [
          17245
         ],
         "xaxis": "x",
         "y": [
          27923
         ],
         "yaxis": "y"
        },
        {
         "hovertemplate": "championName=Sion<br>totalDamageDealtToChampions=%{x}<br>totalDamageTaken=%{y}<extra></extra>",
         "legendgroup": "Sion",
         "marker": {
          "color": "#636efa",
          "symbol": "circle"
         },
         "mode": "markers",
         "name": "Sion",
         "orientation": "v",
         "showlegend": true,
         "type": "scatter",
         "x": [
          25442
         ],
         "xaxis": "x",
         "y": [
          44366
         ],
         "yaxis": "y"
        },
        {
         "hovertemplate": "championName=Sivir<br>totalDamageDealtToChampions=%{x}<br>totalDamageTaken=%{y}<extra></extra>",
         "legendgroup": "Sivir",
         "marker": {
          "color": "#EF553B",
          "symbol": "circle"
         },
         "mode": "markers",
         "name": "Sivir",
         "orientation": "v",
         "showlegend": true,
         "type": "scatter",
         "x": [
          22604
         ],
         "xaxis": "x",
         "y": [
          20226
         ],
         "yaxis": "y"
        },
        {
         "hovertemplate": "championName=Skarner<br>totalDamageDealtToChampions=%{x}<br>totalDamageTaken=%{y}<extra></extra>",
         "legendgroup": "Skarner",
         "marker": {
          "color": "#00cc96",
          "symbol": "circle"
         },
         "mode": "markers",
         "name": "Skarner",
         "orientation": "v",
         "showlegend": true,
         "type": "scatter",
         "x": [
          17515
         ],
         "xaxis": "x",
         "y": [
          28926
         ],
         "yaxis": "y"
        },
        {
         "hovertemplate": "championName=Sona<br>totalDamageDealtToChampions=%{x}<br>totalDamageTaken=%{y}<extra></extra>",
         "legendgroup": "Sona",
         "marker": {
          "color": "#ab63fa",
          "symbol": "circle"
         },
         "mode": "markers",
         "name": "Sona",
         "orientation": "v",
         "showlegend": true,
         "type": "scatter",
         "x": [
          11318
         ],
         "xaxis": "x",
         "y": [
          20546
         ],
         "yaxis": "y"
        },
        {
         "hovertemplate": "championName=Soraka<br>totalDamageDealtToChampions=%{x}<br>totalDamageTaken=%{y}<extra></extra>",
         "legendgroup": "Soraka",
         "marker": {
          "color": "#FFA15A",
          "symbol": "circle"
         },
         "mode": "markers",
         "name": "Soraka",
         "orientation": "v",
         "showlegend": true,
         "type": "scatter",
         "x": [
          8728
         ],
         "xaxis": "x",
         "y": [
          24777
         ],
         "yaxis": "y"
        },
        {
         "hovertemplate": "championName=Swain<br>totalDamageDealtToChampions=%{x}<br>totalDamageTaken=%{y}<extra></extra>",
         "legendgroup": "Swain",
         "marker": {
          "color": "#19d3f3",
          "symbol": "circle"
         },
         "mode": "markers",
         "name": "Swain",
         "orientation": "v",
         "showlegend": true,
         "type": "scatter",
         "x": [
          25941
         ],
         "xaxis": "x",
         "y": [
          39517
         ],
         "yaxis": "y"
        },
        {
         "hovertemplate": "championName=Sylas<br>totalDamageDealtToChampions=%{x}<br>totalDamageTaken=%{y}<extra></extra>",
         "legendgroup": "Sylas",
         "marker": {
          "color": "#FF6692",
          "symbol": "circle"
         },
         "mode": "markers",
         "name": "Sylas",
         "orientation": "v",
         "showlegend": true,
         "type": "scatter",
         "x": [
          21607
         ],
         "xaxis": "x",
         "y": [
          30076
         ],
         "yaxis": "y"
        },
        {
         "hovertemplate": "championName=Syndra<br>totalDamageDealtToChampions=%{x}<br>totalDamageTaken=%{y}<extra></extra>",
         "legendgroup": "Syndra",
         "marker": {
          "color": "#B6E880",
          "symbol": "circle"
         },
         "mode": "markers",
         "name": "Syndra",
         "orientation": "v",
         "showlegend": true,
         "type": "scatter",
         "x": [
          23219
         ],
         "xaxis": "x",
         "y": [
          17352
         ],
         "yaxis": "y"
        },
        {
         "hovertemplate": "championName=TahmKench<br>totalDamageDealtToChampions=%{x}<br>totalDamageTaken=%{y}<extra></extra>",
         "legendgroup": "TahmKench",
         "marker": {
          "color": "#FF97FF",
          "symbol": "circle"
         },
         "mode": "markers",
         "name": "TahmKench",
         "orientation": "v",
         "showlegend": true,
         "type": "scatter",
         "x": [
          18632
         ],
         "xaxis": "x",
         "y": [
          36184
         ],
         "yaxis": "y"
        },
        {
         "hovertemplate": "championName=Taliyah<br>totalDamageDealtToChampions=%{x}<br>totalDamageTaken=%{y}<extra></extra>",
         "legendgroup": "Taliyah",
         "marker": {
          "color": "#FECB52",
          "symbol": "circle"
         },
         "mode": "markers",
         "name": "Taliyah",
         "orientation": "v",
         "showlegend": true,
         "type": "scatter",
         "x": [
          21421
         ],
         "xaxis": "x",
         "y": [
          20742
         ],
         "yaxis": "y"
        },
        {
         "hovertemplate": "championName=Talon<br>totalDamageDealtToChampions=%{x}<br>totalDamageTaken=%{y}<extra></extra>",
         "legendgroup": "Talon",
         "marker": {
          "color": "#636efa",
          "symbol": "circle"
         },
         "mode": "markers",
         "name": "Talon",
         "orientation": "v",
         "showlegend": true,
         "type": "scatter",
         "x": [
          22150
         ],
         "xaxis": "x",
         "y": [
          26628
         ],
         "yaxis": "y"
        },
        {
         "hovertemplate": "championName=Taric<br>totalDamageDealtToChampions=%{x}<br>totalDamageTaken=%{y}<extra></extra>",
         "legendgroup": "Taric",
         "marker": {
          "color": "#EF553B",
          "symbol": "circle"
         },
         "mode": "markers",
         "name": "Taric",
         "orientation": "v",
         "showlegend": true,
         "type": "scatter",
         "x": [
          8756
         ],
         "xaxis": "x",
         "y": [
          19911
         ],
         "yaxis": "y"
        },
        {
         "hovertemplate": "championName=Teemo<br>totalDamageDealtToChampions=%{x}<br>totalDamageTaken=%{y}<extra></extra>",
         "legendgroup": "Teemo",
         "marker": {
          "color": "#00cc96",
          "symbol": "circle"
         },
         "mode": "markers",
         "name": "Teemo",
         "orientation": "v",
         "showlegend": true,
         "type": "scatter",
         "x": [
          20178
         ],
         "xaxis": "x",
         "y": [
          19500
         ],
         "yaxis": "y"
        },
        {
         "hovertemplate": "championName=Thresh<br>totalDamageDealtToChampions=%{x}<br>totalDamageTaken=%{y}<extra></extra>",
         "legendgroup": "Thresh",
         "marker": {
          "color": "#ab63fa",
          "symbol": "circle"
         },
         "mode": "markers",
         "name": "Thresh",
         "orientation": "v",
         "showlegend": true,
         "type": "scatter",
         "x": [
          7807
         ],
         "xaxis": "x",
         "y": [
          19514
         ],
         "yaxis": "y"
        },
        {
         "hovertemplate": "championName=Tristana<br>totalDamageDealtToChampions=%{x}<br>totalDamageTaken=%{y}<extra></extra>",
         "legendgroup": "Tristana",
         "marker": {
          "color": "#FFA15A",
          "symbol": "circle"
         },
         "mode": "markers",
         "name": "Tristana",
         "orientation": "v",
         "showlegend": true,
         "type": "scatter",
         "x": [
          16281
         ],
         "xaxis": "x",
         "y": [
          18150
         ],
         "yaxis": "y"
        },
        {
         "hovertemplate": "championName=Trundle<br>totalDamageDealtToChampions=%{x}<br>totalDamageTaken=%{y}<extra></extra>",
         "legendgroup": "Trundle",
         "marker": {
          "color": "#19d3f3",
          "symbol": "circle"
         },
         "mode": "markers",
         "name": "Trundle",
         "orientation": "v",
         "showlegend": true,
         "type": "scatter",
         "x": [
          18839
         ],
         "xaxis": "x",
         "y": [
          32520
         ],
         "yaxis": "y"
        },
        {
         "hovertemplate": "championName=Tryndamere<br>totalDamageDealtToChampions=%{x}<br>totalDamageTaken=%{y}<extra></extra>",
         "legendgroup": "Tryndamere",
         "marker": {
          "color": "#FF6692",
          "symbol": "circle"
         },
         "mode": "markers",
         "name": "Tryndamere",
         "orientation": "v",
         "showlegend": true,
         "type": "scatter",
         "x": [
          21585
         ],
         "xaxis": "x",
         "y": [
          38237
         ],
         "yaxis": "y"
        },
        {
         "hovertemplate": "championName=TwistedFate<br>totalDamageDealtToChampions=%{x}<br>totalDamageTaken=%{y}<extra></extra>",
         "legendgroup": "TwistedFate",
         "marker": {
          "color": "#B6E880",
          "symbol": "circle"
         },
         "mode": "markers",
         "name": "TwistedFate",
         "orientation": "v",
         "showlegend": true,
         "type": "scatter",
         "x": [
          16501
         ],
         "xaxis": "x",
         "y": [
          18895
         ],
         "yaxis": "y"
        },
        {
         "hovertemplate": "championName=Twitch<br>totalDamageDealtToChampions=%{x}<br>totalDamageTaken=%{y}<extra></extra>",
         "legendgroup": "Twitch",
         "marker": {
          "color": "#FF97FF",
          "symbol": "circle"
         },
         "mode": "markers",
         "name": "Twitch",
         "orientation": "v",
         "showlegend": true,
         "type": "scatter",
         "x": [
          23866
         ],
         "xaxis": "x",
         "y": [
          19118
         ],
         "yaxis": "y"
        },
        {
         "hovertemplate": "championName=Udyr<br>totalDamageDealtToChampions=%{x}<br>totalDamageTaken=%{y}<extra></extra>",
         "legendgroup": "Udyr",
         "marker": {
          "color": "#FECB52",
          "symbol": "circle"
         },
         "mode": "markers",
         "name": "Udyr",
         "orientation": "v",
         "showlegend": true,
         "type": "scatter",
         "x": [
          21637
         ],
         "xaxis": "x",
         "y": [
          24834
         ],
         "yaxis": "y"
        },
        {
         "hovertemplate": "championName=Urgot<br>totalDamageDealtToChampions=%{x}<br>totalDamageTaken=%{y}<extra></extra>",
         "legendgroup": "Urgot",
         "marker": {
          "color": "#636efa",
          "symbol": "circle"
         },
         "mode": "markers",
         "name": "Urgot",
         "orientation": "v",
         "showlegend": true,
         "type": "scatter",
         "x": [
          22727
         ],
         "xaxis": "x",
         "y": [
          27159
         ],
         "yaxis": "y"
        },
        {
         "hovertemplate": "championName=Varus<br>totalDamageDealtToChampions=%{x}<br>totalDamageTaken=%{y}<extra></extra>",
         "legendgroup": "Varus",
         "marker": {
          "color": "#EF553B",
          "symbol": "circle"
         },
         "mode": "markers",
         "name": "Varus",
         "orientation": "v",
         "showlegend": true,
         "type": "scatter",
         "x": [
          22540
         ],
         "xaxis": "x",
         "y": [
          19185
         ],
         "yaxis": "y"
        },
        {
         "hovertemplate": "championName=Vayne<br>totalDamageDealtToChampions=%{x}<br>totalDamageTaken=%{y}<extra></extra>",
         "legendgroup": "Vayne",
         "marker": {
          "color": "#00cc96",
          "symbol": "circle"
         },
         "mode": "markers",
         "name": "Vayne",
         "orientation": "v",
         "showlegend": true,
         "type": "scatter",
         "x": [
          20920
         ],
         "xaxis": "x",
         "y": [
          20024
         ],
         "yaxis": "y"
        },
        {
         "hovertemplate": "championName=Veigar<br>totalDamageDealtToChampions=%{x}<br>totalDamageTaken=%{y}<extra></extra>",
         "legendgroup": "Veigar",
         "marker": {
          "color": "#ab63fa",
          "symbol": "circle"
         },
         "mode": "markers",
         "name": "Veigar",
         "orientation": "v",
         "showlegend": true,
         "type": "scatter",
         "x": [
          23627
         ],
         "xaxis": "x",
         "y": [
          19614
         ],
         "yaxis": "y"
        },
        {
         "hovertemplate": "championName=Velkoz<br>totalDamageDealtToChampions=%{x}<br>totalDamageTaken=%{y}<extra></extra>",
         "legendgroup": "Velkoz",
         "marker": {
          "color": "#FFA15A",
          "symbol": "circle"
         },
         "mode": "markers",
         "name": "Velkoz",
         "orientation": "v",
         "showlegend": true,
         "type": "scatter",
         "x": [
          17736
         ],
         "xaxis": "x",
         "y": [
          15519
         ],
         "yaxis": "y"
        },
        {
         "hovertemplate": "championName=Vex<br>totalDamageDealtToChampions=%{x}<br>totalDamageTaken=%{y}<extra></extra>",
         "legendgroup": "Vex",
         "marker": {
          "color": "#19d3f3",
          "symbol": "circle"
         },
         "mode": "markers",
         "name": "Vex",
         "orientation": "v",
         "showlegend": true,
         "type": "scatter",
         "x": [
          20081
         ],
         "xaxis": "x",
         "y": [
          18500
         ],
         "yaxis": "y"
        },
        {
         "hovertemplate": "championName=Vi<br>totalDamageDealtToChampions=%{x}<br>totalDamageTaken=%{y}<extra></extra>",
         "legendgroup": "Vi",
         "marker": {
          "color": "#FF6692",
          "symbol": "circle"
         },
         "mode": "markers",
         "name": "Vi",
         "orientation": "v",
         "showlegend": true,
         "type": "scatter",
         "x": [
          15448
         ],
         "xaxis": "x",
         "y": [
          27062
         ],
         "yaxis": "y"
        },
        {
         "hovertemplate": "championName=Viego<br>totalDamageDealtToChampions=%{x}<br>totalDamageTaken=%{y}<extra></extra>",
         "legendgroup": "Viego",
         "marker": {
          "color": "#B6E880",
          "symbol": "circle"
         },
         "mode": "markers",
         "name": "Viego",
         "orientation": "v",
         "showlegend": true,
         "type": "scatter",
         "x": [
          18564
         ],
         "xaxis": "x",
         "y": [
          30341
         ],
         "yaxis": "y"
        },
        {
         "hovertemplate": "championName=Viktor<br>totalDamageDealtToChampions=%{x}<br>totalDamageTaken=%{y}<extra></extra>",
         "legendgroup": "Viktor",
         "marker": {
          "color": "#FF97FF",
          "symbol": "circle"
         },
         "mode": "markers",
         "name": "Viktor",
         "orientation": "v",
         "showlegend": true,
         "type": "scatter",
         "x": [
          24188
         ],
         "xaxis": "x",
         "y": [
          16851
         ],
         "yaxis": "y"
        },
        {
         "hovertemplate": "championName=Vladimir<br>totalDamageDealtToChampions=%{x}<br>totalDamageTaken=%{y}<extra></extra>",
         "legendgroup": "Vladimir",
         "marker": {
          "color": "#FECB52",
          "symbol": "circle"
         },
         "mode": "markers",
         "name": "Vladimir",
         "orientation": "v",
         "showlegend": true,
         "type": "scatter",
         "x": [
          24668
         ],
         "xaxis": "x",
         "y": [
          31460
         ],
         "yaxis": "y"
        },
        {
         "hovertemplate": "championName=Volibear<br>totalDamageDealtToChampions=%{x}<br>totalDamageTaken=%{y}<extra></extra>",
         "legendgroup": "Volibear",
         "marker": {
          "color": "#636efa",
          "symbol": "circle"
         },
         "mode": "markers",
         "name": "Volibear",
         "orientation": "v",
         "showlegend": true,
         "type": "scatter",
         "x": [
          27444
         ],
         "xaxis": "x",
         "y": [
          40429
         ],
         "yaxis": "y"
        },
        {
         "hovertemplate": "championName=Warwick<br>totalDamageDealtToChampions=%{x}<br>totalDamageTaken=%{y}<extra></extra>",
         "legendgroup": "Warwick",
         "marker": {
          "color": "#EF553B",
          "symbol": "circle"
         },
         "mode": "markers",
         "name": "Warwick",
         "orientation": "v",
         "showlegend": true,
         "type": "scatter",
         "x": [
          19646
         ],
         "xaxis": "x",
         "y": [
          36949
         ],
         "yaxis": "y"
        },
        {
         "hovertemplate": "championName=Xayah<br>totalDamageDealtToChampions=%{x}<br>totalDamageTaken=%{y}<extra></extra>",
         "legendgroup": "Xayah",
         "marker": {
          "color": "#00cc96",
          "symbol": "circle"
         },
         "mode": "markers",
         "name": "Xayah",
         "orientation": "v",
         "showlegend": true,
         "type": "scatter",
         "x": [
          18987
         ],
         "xaxis": "x",
         "y": [
          17811
         ],
         "yaxis": "y"
        },
        {
         "hovertemplate": "championName=Xerath<br>totalDamageDealtToChampions=%{x}<br>totalDamageTaken=%{y}<extra></extra>",
         "legendgroup": "Xerath",
         "marker": {
          "color": "#ab63fa",
          "symbol": "circle"
         },
         "mode": "markers",
         "name": "Xerath",
         "orientation": "v",
         "showlegend": true,
         "type": "scatter",
         "x": [
          20597
         ],
         "xaxis": "x",
         "y": [
          14745
         ],
         "yaxis": "y"
        },
        {
         "hovertemplate": "championName=XinZhao<br>totalDamageDealtToChampions=%{x}<br>totalDamageTaken=%{y}<extra></extra>",
         "legendgroup": "XinZhao",
         "marker": {
          "color": "#FFA15A",
          "symbol": "circle"
         },
         "mode": "markers",
         "name": "XinZhao",
         "orientation": "v",
         "showlegend": true,
         "type": "scatter",
         "x": [
          17100
         ],
         "xaxis": "x",
         "y": [
          29119
         ],
         "yaxis": "y"
        },
        {
         "hovertemplate": "championName=Yasuo<br>totalDamageDealtToChampions=%{x}<br>totalDamageTaken=%{y}<extra></extra>",
         "legendgroup": "Yasuo",
         "marker": {
          "color": "#19d3f3",
          "symbol": "circle"
         },
         "mode": "markers",
         "name": "Yasuo",
         "orientation": "v",
         "showlegend": true,
         "type": "scatter",
         "x": [
          20365
         ],
         "xaxis": "x",
         "y": [
          23630
         ],
         "yaxis": "y"
        },
        {
         "hovertemplate": "championName=Yone<br>totalDamageDealtToChampions=%{x}<br>totalDamageTaken=%{y}<extra></extra>",
         "legendgroup": "Yone",
         "marker": {
          "color": "#FF6692",
          "symbol": "circle"
         },
         "mode": "markers",
         "name": "Yone",
         "orientation": "v",
         "showlegend": true,
         "type": "scatter",
         "x": [
          23237
         ],
         "xaxis": "x",
         "y": [
          25367
         ],
         "yaxis": "y"
        },
        {
         "hovertemplate": "championName=Yorick<br>totalDamageDealtToChampions=%{x}<br>totalDamageTaken=%{y}<extra></extra>",
         "legendgroup": "Yorick",
         "marker": {
          "color": "#B6E880",
          "symbol": "circle"
         },
         "mode": "markers",
         "name": "Yorick",
         "orientation": "v",
         "showlegend": true,
         "type": "scatter",
         "x": [
          23550
         ],
         "xaxis": "x",
         "y": [
          23070
         ],
         "yaxis": "y"
        },
        {
         "hovertemplate": "championName=Yuumi<br>totalDamageDealtToChampions=%{x}<br>totalDamageTaken=%{y}<extra></extra>",
         "legendgroup": "Yuumi",
         "marker": {
          "color": "#FF97FF",
          "symbol": "circle"
         },
         "mode": "markers",
         "name": "Yuumi",
         "orientation": "v",
         "showlegend": true,
         "type": "scatter",
         "x": [
          8458
         ],
         "xaxis": "x",
         "y": [
          9114
         ],
         "yaxis": "y"
        },
        {
         "hovertemplate": "championName=Zac<br>totalDamageDealtToChampions=%{x}<br>totalDamageTaken=%{y}<extra></extra>",
         "legendgroup": "Zac",
         "marker": {
          "color": "#FECB52",
          "symbol": "circle"
         },
         "mode": "markers",
         "name": "Zac",
         "orientation": "v",
         "showlegend": true,
         "type": "scatter",
         "x": [
          16091
         ],
         "xaxis": "x",
         "y": [
          37119
         ],
         "yaxis": "y"
        },
        {
         "hovertemplate": "championName=Zed<br>totalDamageDealtToChampions=%{x}<br>totalDamageTaken=%{y}<extra></extra>",
         "legendgroup": "Zed",
         "marker": {
          "color": "#636efa",
          "symbol": "circle"
         },
         "mode": "markers",
         "name": "Zed",
         "orientation": "v",
         "showlegend": true,
         "type": "scatter",
         "x": [
          25143
         ],
         "xaxis": "x",
         "y": [
          19488
         ],
         "yaxis": "y"
        },
        {
         "hovertemplate": "championName=Zeri<br>totalDamageDealtToChampions=%{x}<br>totalDamageTaken=%{y}<extra></extra>",
         "legendgroup": "Zeri",
         "marker": {
          "color": "#EF553B",
          "symbol": "circle"
         },
         "mode": "markers",
         "name": "Zeri",
         "orientation": "v",
         "showlegend": true,
         "type": "scatter",
         "x": [
          26561
         ],
         "xaxis": "x",
         "y": [
          22083
         ],
         "yaxis": "y"
        },
        {
         "hovertemplate": "championName=Ziggs<br>totalDamageDealtToChampions=%{x}<br>totalDamageTaken=%{y}<extra></extra>",
         "legendgroup": "Ziggs",
         "marker": {
          "color": "#00cc96",
          "symbol": "circle"
         },
         "mode": "markers",
         "name": "Ziggs",
         "orientation": "v",
         "showlegend": true,
         "type": "scatter",
         "x": [
          26949
         ],
         "xaxis": "x",
         "y": [
          16348
         ],
         "yaxis": "y"
        },
        {
         "hovertemplate": "championName=Zilean<br>totalDamageDealtToChampions=%{x}<br>totalDamageTaken=%{y}<extra></extra>",
         "legendgroup": "Zilean",
         "marker": {
          "color": "#ab63fa",
          "symbol": "circle"
         },
         "mode": "markers",
         "name": "Zilean",
         "orientation": "v",
         "showlegend": true,
         "type": "scatter",
         "x": [
          10756
         ],
         "xaxis": "x",
         "y": [
          18465
         ],
         "yaxis": "y"
        },
        {
         "hovertemplate": "championName=Zoe<br>totalDamageDealtToChampions=%{x}<br>totalDamageTaken=%{y}<extra></extra>",
         "legendgroup": "Zoe",
         "marker": {
          "color": "#FFA15A",
          "symbol": "circle"
         },
         "mode": "markers",
         "name": "Zoe",
         "orientation": "v",
         "showlegend": true,
         "type": "scatter",
         "x": [
          18280
         ],
         "xaxis": "x",
         "y": [
          16166
         ],
         "yaxis": "y"
        },
        {
         "hovertemplate": "championName=Zyra<br>totalDamageDealtToChampions=%{x}<br>totalDamageTaken=%{y}<extra></extra>",
         "legendgroup": "Zyra",
         "marker": {
          "color": "#19d3f3",
          "symbol": "circle"
         },
         "mode": "markers",
         "name": "Zyra",
         "orientation": "v",
         "showlegend": true,
         "type": "scatter",
         "x": [
          19398
         ],
         "xaxis": "x",
         "y": [
          16520
         ],
         "yaxis": "y"
        }
       ],
       "layout": {
        "legend": {
         "title": {
          "text": "championName"
         },
         "tracegroupgap": 0
        },
        "margin": {
         "t": 60
        },
        "template": {
         "data": {
          "bar": [
           {
            "error_x": {
             "color": "#2a3f5f"
            },
            "error_y": {
             "color": "#2a3f5f"
            },
            "marker": {
             "line": {
              "color": "#E5ECF6",
              "width": 0.5
             },
             "pattern": {
              "fillmode": "overlay",
              "size": 10,
              "solidity": 0.2
             }
            },
            "type": "bar"
           }
          ],
          "barpolar": [
           {
            "marker": {
             "line": {
              "color": "#E5ECF6",
              "width": 0.5
             },
             "pattern": {
              "fillmode": "overlay",
              "size": 10,
              "solidity": 0.2
             }
            },
            "type": "barpolar"
           }
          ],
          "carpet": [
           {
            "aaxis": {
             "endlinecolor": "#2a3f5f",
             "gridcolor": "white",
             "linecolor": "white",
             "minorgridcolor": "white",
             "startlinecolor": "#2a3f5f"
            },
            "baxis": {
             "endlinecolor": "#2a3f5f",
             "gridcolor": "white",
             "linecolor": "white",
             "minorgridcolor": "white",
             "startlinecolor": "#2a3f5f"
            },
            "type": "carpet"
           }
          ],
          "choropleth": [
           {
            "colorbar": {
             "outlinewidth": 0,
             "ticks": ""
            },
            "type": "choropleth"
           }
          ],
          "contour": [
           {
            "colorbar": {
             "outlinewidth": 0,
             "ticks": ""
            },
            "colorscale": [
             [
              0,
              "#0d0887"
             ],
             [
              0.1111111111111111,
              "#46039f"
             ],
             [
              0.2222222222222222,
              "#7201a8"
             ],
             [
              0.3333333333333333,
              "#9c179e"
             ],
             [
              0.4444444444444444,
              "#bd3786"
             ],
             [
              0.5555555555555556,
              "#d8576b"
             ],
             [
              0.6666666666666666,
              "#ed7953"
             ],
             [
              0.7777777777777778,
              "#fb9f3a"
             ],
             [
              0.8888888888888888,
              "#fdca26"
             ],
             [
              1,
              "#f0f921"
             ]
            ],
            "type": "contour"
           }
          ],
          "contourcarpet": [
           {
            "colorbar": {
             "outlinewidth": 0,
             "ticks": ""
            },
            "type": "contourcarpet"
           }
          ],
          "heatmap": [
           {
            "colorbar": {
             "outlinewidth": 0,
             "ticks": ""
            },
            "colorscale": [
             [
              0,
              "#0d0887"
             ],
             [
              0.1111111111111111,
              "#46039f"
             ],
             [
              0.2222222222222222,
              "#7201a8"
             ],
             [
              0.3333333333333333,
              "#9c179e"
             ],
             [
              0.4444444444444444,
              "#bd3786"
             ],
             [
              0.5555555555555556,
              "#d8576b"
             ],
             [
              0.6666666666666666,
              "#ed7953"
             ],
             [
              0.7777777777777778,
              "#fb9f3a"
             ],
             [
              0.8888888888888888,
              "#fdca26"
             ],
             [
              1,
              "#f0f921"
             ]
            ],
            "type": "heatmap"
           }
          ],
          "heatmapgl": [
           {
            "colorbar": {
             "outlinewidth": 0,
             "ticks": ""
            },
            "colorscale": [
             [
              0,
              "#0d0887"
             ],
             [
              0.1111111111111111,
              "#46039f"
             ],
             [
              0.2222222222222222,
              "#7201a8"
             ],
             [
              0.3333333333333333,
              "#9c179e"
             ],
             [
              0.4444444444444444,
              "#bd3786"
             ],
             [
              0.5555555555555556,
              "#d8576b"
             ],
             [
              0.6666666666666666,
              "#ed7953"
             ],
             [
              0.7777777777777778,
              "#fb9f3a"
             ],
             [
              0.8888888888888888,
              "#fdca26"
             ],
             [
              1,
              "#f0f921"
             ]
            ],
            "type": "heatmapgl"
           }
          ],
          "histogram": [
           {
            "marker": {
             "pattern": {
              "fillmode": "overlay",
              "size": 10,
              "solidity": 0.2
             }
            },
            "type": "histogram"
           }
          ],
          "histogram2d": [
           {
            "colorbar": {
             "outlinewidth": 0,
             "ticks": ""
            },
            "colorscale": [
             [
              0,
              "#0d0887"
             ],
             [
              0.1111111111111111,
              "#46039f"
             ],
             [
              0.2222222222222222,
              "#7201a8"
             ],
             [
              0.3333333333333333,
              "#9c179e"
             ],
             [
              0.4444444444444444,
              "#bd3786"
             ],
             [
              0.5555555555555556,
              "#d8576b"
             ],
             [
              0.6666666666666666,
              "#ed7953"
             ],
             [
              0.7777777777777778,
              "#fb9f3a"
             ],
             [
              0.8888888888888888,
              "#fdca26"
             ],
             [
              1,
              "#f0f921"
             ]
            ],
            "type": "histogram2d"
           }
          ],
          "histogram2dcontour": [
           {
            "colorbar": {
             "outlinewidth": 0,
             "ticks": ""
            },
            "colorscale": [
             [
              0,
              "#0d0887"
             ],
             [
              0.1111111111111111,
              "#46039f"
             ],
             [
              0.2222222222222222,
              "#7201a8"
             ],
             [
              0.3333333333333333,
              "#9c179e"
             ],
             [
              0.4444444444444444,
              "#bd3786"
             ],
             [
              0.5555555555555556,
              "#d8576b"
             ],
             [
              0.6666666666666666,
              "#ed7953"
             ],
             [
              0.7777777777777778,
              "#fb9f3a"
             ],
             [
              0.8888888888888888,
              "#fdca26"
             ],
             [
              1,
              "#f0f921"
             ]
            ],
            "type": "histogram2dcontour"
           }
          ],
          "mesh3d": [
           {
            "colorbar": {
             "outlinewidth": 0,
             "ticks": ""
            },
            "type": "mesh3d"
           }
          ],
          "parcoords": [
           {
            "line": {
             "colorbar": {
              "outlinewidth": 0,
              "ticks": ""
             }
            },
            "type": "parcoords"
           }
          ],
          "pie": [
           {
            "automargin": true,
            "type": "pie"
           }
          ],
          "scatter": [
           {
            "fillpattern": {
             "fillmode": "overlay",
             "size": 10,
             "solidity": 0.2
            },
            "type": "scatter"
           }
          ],
          "scatter3d": [
           {
            "line": {
             "colorbar": {
              "outlinewidth": 0,
              "ticks": ""
             }
            },
            "marker": {
             "colorbar": {
              "outlinewidth": 0,
              "ticks": ""
             }
            },
            "type": "scatter3d"
           }
          ],
          "scattercarpet": [
           {
            "marker": {
             "colorbar": {
              "outlinewidth": 0,
              "ticks": ""
             }
            },
            "type": "scattercarpet"
           }
          ],
          "scattergeo": [
           {
            "marker": {
             "colorbar": {
              "outlinewidth": 0,
              "ticks": ""
             }
            },
            "type": "scattergeo"
           }
          ],
          "scattergl": [
           {
            "marker": {
             "colorbar": {
              "outlinewidth": 0,
              "ticks": ""
             }
            },
            "type": "scattergl"
           }
          ],
          "scattermapbox": [
           {
            "marker": {
             "colorbar": {
              "outlinewidth": 0,
              "ticks": ""
             }
            },
            "type": "scattermapbox"
           }
          ],
          "scatterpolar": [
           {
            "marker": {
             "colorbar": {
              "outlinewidth": 0,
              "ticks": ""
             }
            },
            "type": "scatterpolar"
           }
          ],
          "scatterpolargl": [
           {
            "marker": {
             "colorbar": {
              "outlinewidth": 0,
              "ticks": ""
             }
            },
            "type": "scatterpolargl"
           }
          ],
          "scatterternary": [
           {
            "marker": {
             "colorbar": {
              "outlinewidth": 0,
              "ticks": ""
             }
            },
            "type": "scatterternary"
           }
          ],
          "surface": [
           {
            "colorbar": {
             "outlinewidth": 0,
             "ticks": ""
            },
            "colorscale": [
             [
              0,
              "#0d0887"
             ],
             [
              0.1111111111111111,
              "#46039f"
             ],
             [
              0.2222222222222222,
              "#7201a8"
             ],
             [
              0.3333333333333333,
              "#9c179e"
             ],
             [
              0.4444444444444444,
              "#bd3786"
             ],
             [
              0.5555555555555556,
              "#d8576b"
             ],
             [
              0.6666666666666666,
              "#ed7953"
             ],
             [
              0.7777777777777778,
              "#fb9f3a"
             ],
             [
              0.8888888888888888,
              "#fdca26"
             ],
             [
              1,
              "#f0f921"
             ]
            ],
            "type": "surface"
           }
          ],
          "table": [
           {
            "cells": {
             "fill": {
              "color": "#EBF0F8"
             },
             "line": {
              "color": "white"
             }
            },
            "header": {
             "fill": {
              "color": "#C8D4E3"
             },
             "line": {
              "color": "white"
             }
            },
            "type": "table"
           }
          ]
         },
         "layout": {
          "annotationdefaults": {
           "arrowcolor": "#2a3f5f",
           "arrowhead": 0,
           "arrowwidth": 1
          },
          "autotypenumbers": "strict",
          "coloraxis": {
           "colorbar": {
            "outlinewidth": 0,
            "ticks": ""
           }
          },
          "colorscale": {
           "diverging": [
            [
             0,
             "#8e0152"
            ],
            [
             0.1,
             "#c51b7d"
            ],
            [
             0.2,
             "#de77ae"
            ],
            [
             0.3,
             "#f1b6da"
            ],
            [
             0.4,
             "#fde0ef"
            ],
            [
             0.5,
             "#f7f7f7"
            ],
            [
             0.6,
             "#e6f5d0"
            ],
            [
             0.7,
             "#b8e186"
            ],
            [
             0.8,
             "#7fbc41"
            ],
            [
             0.9,
             "#4d9221"
            ],
            [
             1,
             "#276419"
            ]
           ],
           "sequential": [
            [
             0,
             "#0d0887"
            ],
            [
             0.1111111111111111,
             "#46039f"
            ],
            [
             0.2222222222222222,
             "#7201a8"
            ],
            [
             0.3333333333333333,
             "#9c179e"
            ],
            [
             0.4444444444444444,
             "#bd3786"
            ],
            [
             0.5555555555555556,
             "#d8576b"
            ],
            [
             0.6666666666666666,
             "#ed7953"
            ],
            [
             0.7777777777777778,
             "#fb9f3a"
            ],
            [
             0.8888888888888888,
             "#fdca26"
            ],
            [
             1,
             "#f0f921"
            ]
           ],
           "sequentialminus": [
            [
             0,
             "#0d0887"
            ],
            [
             0.1111111111111111,
             "#46039f"
            ],
            [
             0.2222222222222222,
             "#7201a8"
            ],
            [
             0.3333333333333333,
             "#9c179e"
            ],
            [
             0.4444444444444444,
             "#bd3786"
            ],
            [
             0.5555555555555556,
             "#d8576b"
            ],
            [
             0.6666666666666666,
             "#ed7953"
            ],
            [
             0.7777777777777778,
             "#fb9f3a"
            ],
            [
             0.8888888888888888,
             "#fdca26"
            ],
            [
             1,
             "#f0f921"
            ]
           ]
          },
          "colorway": [
           "#636efa",
           "#EF553B",
           "#00cc96",
           "#ab63fa",
           "#FFA15A",
           "#19d3f3",
           "#FF6692",
           "#B6E880",
           "#FF97FF",
           "#FECB52"
          ],
          "font": {
           "color": "#2a3f5f"
          },
          "geo": {
           "bgcolor": "white",
           "lakecolor": "white",
           "landcolor": "#E5ECF6",
           "showlakes": true,
           "showland": true,
           "subunitcolor": "white"
          },
          "hoverlabel": {
           "align": "left"
          },
          "hovermode": "closest",
          "mapbox": {
           "style": "light"
          },
          "paper_bgcolor": "white",
          "plot_bgcolor": "#E5ECF6",
          "polar": {
           "angularaxis": {
            "gridcolor": "white",
            "linecolor": "white",
            "ticks": ""
           },
           "bgcolor": "#E5ECF6",
           "radialaxis": {
            "gridcolor": "white",
            "linecolor": "white",
            "ticks": ""
           }
          },
          "scene": {
           "xaxis": {
            "backgroundcolor": "#E5ECF6",
            "gridcolor": "white",
            "gridwidth": 2,
            "linecolor": "white",
            "showbackground": true,
            "ticks": "",
            "zerolinecolor": "white"
           },
           "yaxis": {
            "backgroundcolor": "#E5ECF6",
            "gridcolor": "white",
            "gridwidth": 2,
            "linecolor": "white",
            "showbackground": true,
            "ticks": "",
            "zerolinecolor": "white"
           },
           "zaxis": {
            "backgroundcolor": "#E5ECF6",
            "gridcolor": "white",
            "gridwidth": 2,
            "linecolor": "white",
            "showbackground": true,
            "ticks": "",
            "zerolinecolor": "white"
           }
          },
          "shapedefaults": {
           "line": {
            "color": "#2a3f5f"
           }
          },
          "ternary": {
           "aaxis": {
            "gridcolor": "white",
            "linecolor": "white",
            "ticks": ""
           },
           "baxis": {
            "gridcolor": "white",
            "linecolor": "white",
            "ticks": ""
           },
           "bgcolor": "#E5ECF6",
           "caxis": {
            "gridcolor": "white",
            "linecolor": "white",
            "ticks": ""
           }
          },
          "title": {
           "x": 0.05
          },
          "xaxis": {
           "automargin": true,
           "gridcolor": "white",
           "linecolor": "white",
           "ticks": "",
           "title": {
            "standoff": 15
           },
           "zerolinecolor": "white",
           "zerolinewidth": 2
          },
          "yaxis": {
           "automargin": true,
           "gridcolor": "white",
           "linecolor": "white",
           "ticks": "",
           "title": {
            "standoff": 15
           },
           "zerolinecolor": "white",
           "zerolinewidth": 2
          }
         }
        },
        "xaxis": {
         "anchor": "y",
         "domain": [
          0,
          1
         ],
         "title": {
          "text": "totalDamageDealtToChampions"
         }
        },
        "yaxis": {
         "anchor": "x",
         "domain": [
          0,
          1
         ],
         "title": {
          "text": "totalDamageTaken"
         }
        }
       }
      },
      "text/html": [
       "<div>                            <div id=\"3242e4b5-132d-4c6f-b928-5bab6bb22dc5\" class=\"plotly-graph-div\" style=\"height:525px; width:100%;\"></div>            <script type=\"text/javascript\">                require([\"plotly\"], function(Plotly) {                    window.PLOTLYENV=window.PLOTLYENV || {};                                    if (document.getElementById(\"3242e4b5-132d-4c6f-b928-5bab6bb22dc5\")) {                    Plotly.newPlot(                        \"3242e4b5-132d-4c6f-b928-5bab6bb22dc5\",                        [{\"hovertemplate\":\"championName=Aatrox<br>totalDamageDealtToChampions=%{x}<br>totalDamageTaken=%{y}<extra></extra>\",\"legendgroup\":\"Aatrox\",\"marker\":{\"color\":\"#636efa\",\"symbol\":\"circle\"},\"mode\":\"markers\",\"name\":\"Aatrox\",\"orientation\":\"v\",\"showlegend\":true,\"x\":[20850.0],\"xaxis\":\"x\",\"y\":[32869.0],\"yaxis\":\"y\",\"type\":\"scatter\"},{\"hovertemplate\":\"championName=Ahri<br>totalDamageDealtToChampions=%{x}<br>totalDamageTaken=%{y}<extra></extra>\",\"legendgroup\":\"Ahri\",\"marker\":{\"color\":\"#EF553B\",\"symbol\":\"circle\"},\"mode\":\"markers\",\"name\":\"Ahri\",\"orientation\":\"v\",\"showlegend\":true,\"x\":[19321.0],\"xaxis\":\"x\",\"y\":[20485.0],\"yaxis\":\"y\",\"type\":\"scatter\"},{\"hovertemplate\":\"championName=Akali<br>totalDamageDealtToChampions=%{x}<br>totalDamageTaken=%{y}<extra></extra>\",\"legendgroup\":\"Akali\",\"marker\":{\"color\":\"#00cc96\",\"symbol\":\"circle\"},\"mode\":\"markers\",\"name\":\"Akali\",\"orientation\":\"v\",\"showlegend\":true,\"x\":[22562.0],\"xaxis\":\"x\",\"y\":[25916.0],\"yaxis\":\"y\",\"type\":\"scatter\"},{\"hovertemplate\":\"championName=Akshan<br>totalDamageDealtToChampions=%{x}<br>totalDamageTaken=%{y}<extra></extra>\",\"legendgroup\":\"Akshan\",\"marker\":{\"color\":\"#ab63fa\",\"symbol\":\"circle\"},\"mode\":\"markers\",\"name\":\"Akshan\",\"orientation\":\"v\",\"showlegend\":true,\"x\":[22504.0],\"xaxis\":\"x\",\"y\":[19189.0],\"yaxis\":\"y\",\"type\":\"scatter\"},{\"hovertemplate\":\"championName=Alistar<br>totalDamageDealtToChampions=%{x}<br>totalDamageTaken=%{y}<extra></extra>\",\"legendgroup\":\"Alistar\",\"marker\":{\"color\":\"#FFA15A\",\"symbol\":\"circle\"},\"mode\":\"markers\",\"name\":\"Alistar\",\"orientation\":\"v\",\"showlegend\":true,\"x\":[10372.0],\"xaxis\":\"x\",\"y\":[28175.0],\"yaxis\":\"y\",\"type\":\"scatter\"},{\"hovertemplate\":\"championName=Amumu<br>totalDamageDealtToChampions=%{x}<br>totalDamageTaken=%{y}<extra></extra>\",\"legendgroup\":\"Amumu\",\"marker\":{\"color\":\"#19d3f3\",\"symbol\":\"circle\"},\"mode\":\"markers\",\"name\":\"Amumu\",\"orientation\":\"v\",\"showlegend\":true,\"x\":[13271.0],\"xaxis\":\"x\",\"y\":[26139.0],\"yaxis\":\"y\",\"type\":\"scatter\"},{\"hovertemplate\":\"championName=Anivia<br>totalDamageDealtToChampions=%{x}<br>totalDamageTaken=%{y}<extra></extra>\",\"legendgroup\":\"Anivia\",\"marker\":{\"color\":\"#FF6692\",\"symbol\":\"circle\"},\"mode\":\"markers\",\"name\":\"Anivia\",\"orientation\":\"v\",\"showlegend\":true,\"x\":[20982.0],\"xaxis\":\"x\",\"y\":[25462.0],\"yaxis\":\"y\",\"type\":\"scatter\"},{\"hovertemplate\":\"championName=Annie<br>totalDamageDealtToChampions=%{x}<br>totalDamageTaken=%{y}<extra></extra>\",\"legendgroup\":\"Annie\",\"marker\":{\"color\":\"#B6E880\",\"symbol\":\"circle\"},\"mode\":\"markers\",\"name\":\"Annie\",\"orientation\":\"v\",\"showlegend\":true,\"x\":[32588.0],\"xaxis\":\"x\",\"y\":[18719.0],\"yaxis\":\"y\",\"type\":\"scatter\"},{\"hovertemplate\":\"championName=Aphelios<br>totalDamageDealtToChampions=%{x}<br>totalDamageTaken=%{y}<extra></extra>\",\"legendgroup\":\"Aphelios\",\"marker\":{\"color\":\"#FF97FF\",\"symbol\":\"circle\"},\"mode\":\"markers\",\"name\":\"Aphelios\",\"orientation\":\"v\",\"showlegend\":true,\"x\":[21855.0],\"xaxis\":\"x\",\"y\":[17939.0],\"yaxis\":\"y\",\"type\":\"scatter\"},{\"hovertemplate\":\"championName=Ashe<br>totalDamageDealtToChampions=%{x}<br>totalDamageTaken=%{y}<extra></extra>\",\"legendgroup\":\"Ashe\",\"marker\":{\"color\":\"#FECB52\",\"symbol\":\"circle\"},\"mode\":\"markers\",\"name\":\"Ashe\",\"orientation\":\"v\",\"showlegend\":true,\"x\":[18157.0],\"xaxis\":\"x\",\"y\":[17587.0],\"yaxis\":\"y\",\"type\":\"scatter\"},{\"hovertemplate\":\"championName=AurelionSol<br>totalDamageDealtToChampions=%{x}<br>totalDamageTaken=%{y}<extra></extra>\",\"legendgroup\":\"AurelionSol\",\"marker\":{\"color\":\"#636efa\",\"symbol\":\"circle\"},\"mode\":\"markers\",\"name\":\"AurelionSol\",\"orientation\":\"v\",\"showlegend\":true,\"x\":[21713.0],\"xaxis\":\"x\",\"y\":[20092.0],\"yaxis\":\"y\",\"type\":\"scatter\"},{\"hovertemplate\":\"championName=Azir<br>totalDamageDealtToChampions=%{x}<br>totalDamageTaken=%{y}<extra></extra>\",\"legendgroup\":\"Azir\",\"marker\":{\"color\":\"#EF553B\",\"symbol\":\"circle\"},\"mode\":\"markers\",\"name\":\"Azir\",\"orientation\":\"v\",\"showlegend\":true,\"x\":[21015.0],\"xaxis\":\"x\",\"y\":[18872.0],\"yaxis\":\"y\",\"type\":\"scatter\"},{\"hovertemplate\":\"championName=Bard<br>totalDamageDealtToChampions=%{x}<br>totalDamageTaken=%{y}<extra></extra>\",\"legendgroup\":\"Bard\",\"marker\":{\"color\":\"#00cc96\",\"symbol\":\"circle\"},\"mode\":\"markers\",\"name\":\"Bard\",\"orientation\":\"v\",\"showlegend\":true,\"x\":[9046.0],\"xaxis\":\"x\",\"y\":[19126.0],\"yaxis\":\"y\",\"type\":\"scatter\"},{\"hovertemplate\":\"championName=Belveth<br>totalDamageDealtToChampions=%{x}<br>totalDamageTaken=%{y}<extra></extra>\",\"legendgroup\":\"Belveth\",\"marker\":{\"color\":\"#ab63fa\",\"symbol\":\"circle\"},\"mode\":\"markers\",\"name\":\"Belveth\",\"orientation\":\"v\",\"showlegend\":true,\"x\":[17583.0],\"xaxis\":\"x\",\"y\":[29245.0],\"yaxis\":\"y\",\"type\":\"scatter\"},{\"hovertemplate\":\"championName=Blitzcrank<br>totalDamageDealtToChampions=%{x}<br>totalDamageTaken=%{y}<extra></extra>\",\"legendgroup\":\"Blitzcrank\",\"marker\":{\"color\":\"#FFA15A\",\"symbol\":\"circle\"},\"mode\":\"markers\",\"name\":\"Blitzcrank\",\"orientation\":\"v\",\"showlegend\":true,\"x\":[9225.0],\"xaxis\":\"x\",\"y\":[20828.0],\"yaxis\":\"y\",\"type\":\"scatter\"},{\"hovertemplate\":\"championName=Brand<br>totalDamageDealtToChampions=%{x}<br>totalDamageTaken=%{y}<extra></extra>\",\"legendgroup\":\"Brand\",\"marker\":{\"color\":\"#19d3f3\",\"symbol\":\"circle\"},\"mode\":\"markers\",\"name\":\"Brand\",\"orientation\":\"v\",\"showlegend\":true,\"x\":[22025.0],\"xaxis\":\"x\",\"y\":[23393.0],\"yaxis\":\"y\",\"type\":\"scatter\"},{\"hovertemplate\":\"championName=Braum<br>totalDamageDealtToChampions=%{x}<br>totalDamageTaken=%{y}<extra></extra>\",\"legendgroup\":\"Braum\",\"marker\":{\"color\":\"#FF6692\",\"symbol\":\"circle\"},\"mode\":\"markers\",\"name\":\"Braum\",\"orientation\":\"v\",\"showlegend\":true,\"x\":[7846.0],\"xaxis\":\"x\",\"y\":[20903.0],\"yaxis\":\"y\",\"type\":\"scatter\"},{\"hovertemplate\":\"championName=Briar<br>totalDamageDealtToChampions=%{x}<br>totalDamageTaken=%{y}<extra></extra>\",\"legendgroup\":\"Briar\",\"marker\":{\"color\":\"#B6E880\",\"symbol\":\"circle\"},\"mode\":\"markers\",\"name\":\"Briar\",\"orientation\":\"v\",\"showlegend\":true,\"x\":[21759.0],\"xaxis\":\"x\",\"y\":[30374.0],\"yaxis\":\"y\",\"type\":\"scatter\"},{\"hovertemplate\":\"championName=Caitlyn<br>totalDamageDealtToChampions=%{x}<br>totalDamageTaken=%{y}<extra></extra>\",\"legendgroup\":\"Caitlyn\",\"marker\":{\"color\":\"#FF97FF\",\"symbol\":\"circle\"},\"mode\":\"markers\",\"name\":\"Caitlyn\",\"orientation\":\"v\",\"showlegend\":true,\"x\":[21887.0],\"xaxis\":\"x\",\"y\":[19585.0],\"yaxis\":\"y\",\"type\":\"scatter\"},{\"hovertemplate\":\"championName=Camille<br>totalDamageDealtToChampions=%{x}<br>totalDamageTaken=%{y}<extra></extra>\",\"legendgroup\":\"Camille\",\"marker\":{\"color\":\"#FECB52\",\"symbol\":\"circle\"},\"mode\":\"markers\",\"name\":\"Camille\",\"orientation\":\"v\",\"showlegend\":true,\"x\":[20878.0],\"xaxis\":\"x\",\"y\":[29516.0],\"yaxis\":\"y\",\"type\":\"scatter\"},{\"hovertemplate\":\"championName=Cassiopeia<br>totalDamageDealtToChampions=%{x}<br>totalDamageTaken=%{y}<extra></extra>\",\"legendgroup\":\"Cassiopeia\",\"marker\":{\"color\":\"#636efa\",\"symbol\":\"circle\"},\"mode\":\"markers\",\"name\":\"Cassiopeia\",\"orientation\":\"v\",\"showlegend\":true,\"x\":[23192.0],\"xaxis\":\"x\",\"y\":[25746.0],\"yaxis\":\"y\",\"type\":\"scatter\"},{\"hovertemplate\":\"championName=Chogath<br>totalDamageDealtToChampions=%{x}<br>totalDamageTaken=%{y}<extra></extra>\",\"legendgroup\":\"Chogath\",\"marker\":{\"color\":\"#EF553B\",\"symbol\":\"circle\"},\"mode\":\"markers\",\"name\":\"Chogath\",\"orientation\":\"v\",\"showlegend\":true,\"x\":[20262.0],\"xaxis\":\"x\",\"y\":[38141.0],\"yaxis\":\"y\",\"type\":\"scatter\"},{\"hovertemplate\":\"championName=Corki<br>totalDamageDealtToChampions=%{x}<br>totalDamageTaken=%{y}<extra></extra>\",\"legendgroup\":\"Corki\",\"marker\":{\"color\":\"#00cc96\",\"symbol\":\"circle\"},\"mode\":\"markers\",\"name\":\"Corki\",\"orientation\":\"v\",\"showlegend\":true,\"x\":[28812.0],\"xaxis\":\"x\",\"y\":[22246.0],\"yaxis\":\"y\",\"type\":\"scatter\"},{\"hovertemplate\":\"championName=Darius<br>totalDamageDealtToChampions=%{x}<br>totalDamageTaken=%{y}<extra></extra>\",\"legendgroup\":\"Darius\",\"marker\":{\"color\":\"#ab63fa\",\"symbol\":\"circle\"},\"mode\":\"markers\",\"name\":\"Darius\",\"orientation\":\"v\",\"showlegend\":true,\"x\":[21972.0],\"xaxis\":\"x\",\"y\":[30563.0],\"yaxis\":\"y\",\"type\":\"scatter\"},{\"hovertemplate\":\"championName=Diana<br>totalDamageDealtToChampions=%{x}<br>totalDamageTaken=%{y}<extra></extra>\",\"legendgroup\":\"Diana\",\"marker\":{\"color\":\"#FFA15A\",\"symbol\":\"circle\"},\"mode\":\"markers\",\"name\":\"Diana\",\"orientation\":\"v\",\"showlegend\":true,\"x\":[18408.0],\"xaxis\":\"x\",\"y\":[22181.0],\"yaxis\":\"y\",\"type\":\"scatter\"},{\"hovertemplate\":\"championName=DrMundo<br>totalDamageDealtToChampions=%{x}<br>totalDamageTaken=%{y}<extra></extra>\",\"legendgroup\":\"DrMundo\",\"marker\":{\"color\":\"#19d3f3\",\"symbol\":\"circle\"},\"mode\":\"markers\",\"name\":\"DrMundo\",\"orientation\":\"v\",\"showlegend\":true,\"x\":[27792.0],\"xaxis\":\"x\",\"y\":[50124.0],\"yaxis\":\"y\",\"type\":\"scatter\"},{\"hovertemplate\":\"championName=Draven<br>totalDamageDealtToChampions=%{x}<br>totalDamageTaken=%{y}<extra></extra>\",\"legendgroup\":\"Draven\",\"marker\":{\"color\":\"#FF6692\",\"symbol\":\"circle\"},\"mode\":\"markers\",\"name\":\"Draven\",\"orientation\":\"v\",\"showlegend\":true,\"x\":[21090.0],\"xaxis\":\"x\",\"y\":[19448.0],\"yaxis\":\"y\",\"type\":\"scatter\"},{\"hovertemplate\":\"championName=Ekko<br>totalDamageDealtToChampions=%{x}<br>totalDamageTaken=%{y}<extra></extra>\",\"legendgroup\":\"Ekko\",\"marker\":{\"color\":\"#B6E880\",\"symbol\":\"circle\"},\"mode\":\"markers\",\"name\":\"Ekko\",\"orientation\":\"v\",\"showlegend\":true,\"x\":[20042.0],\"xaxis\":\"x\",\"y\":[31080.0],\"yaxis\":\"y\",\"type\":\"scatter\"},{\"hovertemplate\":\"championName=Elise<br>totalDamageDealtToChampions=%{x}<br>totalDamageTaken=%{y}<extra></extra>\",\"legendgroup\":\"Elise\",\"marker\":{\"color\":\"#FF97FF\",\"symbol\":\"circle\"},\"mode\":\"markers\",\"name\":\"Elise\",\"orientation\":\"v\",\"showlegend\":true,\"x\":[17969.0],\"xaxis\":\"x\",\"y\":[26323.0],\"yaxis\":\"y\",\"type\":\"scatter\"},{\"hovertemplate\":\"championName=Evelynn<br>totalDamageDealtToChampions=%{x}<br>totalDamageTaken=%{y}<extra></extra>\",\"legendgroup\":\"Evelynn\",\"marker\":{\"color\":\"#FECB52\",\"symbol\":\"circle\"},\"mode\":\"markers\",\"name\":\"Evelynn\",\"orientation\":\"v\",\"showlegend\":true,\"x\":[23940.0],\"xaxis\":\"x\",\"y\":[31648.0],\"yaxis\":\"y\",\"type\":\"scatter\"},{\"hovertemplate\":\"championName=Ezreal<br>totalDamageDealtToChampions=%{x}<br>totalDamageTaken=%{y}<extra></extra>\",\"legendgroup\":\"Ezreal\",\"marker\":{\"color\":\"#636efa\",\"symbol\":\"circle\"},\"mode\":\"markers\",\"name\":\"Ezreal\",\"orientation\":\"v\",\"showlegend\":true,\"x\":[24246.0],\"xaxis\":\"x\",\"y\":[20312.0],\"yaxis\":\"y\",\"type\":\"scatter\"},{\"hovertemplate\":\"championName=FiddleSticks<br>totalDamageDealtToChampions=%{x}<br>totalDamageTaken=%{y}<extra></extra>\",\"legendgroup\":\"FiddleSticks\",\"marker\":{\"color\":\"#EF553B\",\"symbol\":\"circle\"},\"mode\":\"markers\",\"name\":\"FiddleSticks\",\"orientation\":\"v\",\"showlegend\":true,\"x\":[18520.0],\"xaxis\":\"x\",\"y\":[28684.0],\"yaxis\":\"y\",\"type\":\"scatter\"},{\"hovertemplate\":\"championName=Fiora<br>totalDamageDealtToChampions=%{x}<br>totalDamageTaken=%{y}<extra></extra>\",\"legendgroup\":\"Fiora\",\"marker\":{\"color\":\"#00cc96\",\"symbol\":\"circle\"},\"mode\":\"markers\",\"name\":\"Fiora\",\"orientation\":\"v\",\"showlegend\":true,\"x\":[21266.0],\"xaxis\":\"x\",\"y\":[30204.0],\"yaxis\":\"y\",\"type\":\"scatter\"},{\"hovertemplate\":\"championName=Fizz<br>totalDamageDealtToChampions=%{x}<br>totalDamageTaken=%{y}<extra></extra>\",\"legendgroup\":\"Fizz\",\"marker\":{\"color\":\"#ab63fa\",\"symbol\":\"circle\"},\"mode\":\"markers\",\"name\":\"Fizz\",\"orientation\":\"v\",\"showlegend\":true,\"x\":[22672.0],\"xaxis\":\"x\",\"y\":[20888.0],\"yaxis\":\"y\",\"type\":\"scatter\"},{\"hovertemplate\":\"championName=Galio<br>totalDamageDealtToChampions=%{x}<br>totalDamageTaken=%{y}<extra></extra>\",\"legendgroup\":\"Galio\",\"marker\":{\"color\":\"#FFA15A\",\"symbol\":\"circle\"},\"mode\":\"markers\",\"name\":\"Galio\",\"orientation\":\"v\",\"showlegend\":true,\"x\":[17208.0],\"xaxis\":\"x\",\"y\":[24578.0],\"yaxis\":\"y\",\"type\":\"scatter\"},{\"hovertemplate\":\"championName=Gangplank<br>totalDamageDealtToChampions=%{x}<br>totalDamageTaken=%{y}<extra></extra>\",\"legendgroup\":\"Gangplank\",\"marker\":{\"color\":\"#19d3f3\",\"symbol\":\"circle\"},\"mode\":\"markers\",\"name\":\"Gangplank\",\"orientation\":\"v\",\"showlegend\":true,\"x\":[25465.0],\"xaxis\":\"x\",\"y\":[23858.0],\"yaxis\":\"y\",\"type\":\"scatter\"},{\"hovertemplate\":\"championName=Garen<br>totalDamageDealtToChampions=%{x}<br>totalDamageTaken=%{y}<extra></extra>\",\"legendgroup\":\"Garen\",\"marker\":{\"color\":\"#FF6692\",\"symbol\":\"circle\"},\"mode\":\"markers\",\"name\":\"Garen\",\"orientation\":\"v\",\"showlegend\":true,\"x\":[19532.0],\"xaxis\":\"x\",\"y\":[26403.0],\"yaxis\":\"y\",\"type\":\"scatter\"},{\"hovertemplate\":\"championName=Gnar<br>totalDamageDealtToChampions=%{x}<br>totalDamageTaken=%{y}<extra></extra>\",\"legendgroup\":\"Gnar\",\"marker\":{\"color\":\"#B6E880\",\"symbol\":\"circle\"},\"mode\":\"markers\",\"name\":\"Gnar\",\"orientation\":\"v\",\"showlegend\":true,\"x\":[22279.0],\"xaxis\":\"x\",\"y\":[28179.0],\"yaxis\":\"y\",\"type\":\"scatter\"},{\"hovertemplate\":\"championName=Gragas<br>totalDamageDealtToChampions=%{x}<br>totalDamageTaken=%{y}<extra></extra>\",\"legendgroup\":\"Gragas\",\"marker\":{\"color\":\"#FF97FF\",\"symbol\":\"circle\"},\"mode\":\"markers\",\"name\":\"Gragas\",\"orientation\":\"v\",\"showlegend\":true,\"x\":[22161.0],\"xaxis\":\"x\",\"y\":[31195.0],\"yaxis\":\"y\",\"type\":\"scatter\"},{\"hovertemplate\":\"championName=Graves<br>totalDamageDealtToChampions=%{x}<br>totalDamageTaken=%{y}<extra></extra>\",\"legendgroup\":\"Graves\",\"marker\":{\"color\":\"#FECB52\",\"symbol\":\"circle\"},\"mode\":\"markers\",\"name\":\"Graves\",\"orientation\":\"v\",\"showlegend\":true,\"x\":[20215.0],\"xaxis\":\"x\",\"y\":[26843.0],\"yaxis\":\"y\",\"type\":\"scatter\"},{\"hovertemplate\":\"championName=Gwen<br>totalDamageDealtToChampions=%{x}<br>totalDamageTaken=%{y}<extra></extra>\",\"legendgroup\":\"Gwen\",\"marker\":{\"color\":\"#636efa\",\"symbol\":\"circle\"},\"mode\":\"markers\",\"name\":\"Gwen\",\"orientation\":\"v\",\"showlegend\":true,\"x\":[23453.0],\"xaxis\":\"x\",\"y\":[27580.0],\"yaxis\":\"y\",\"type\":\"scatter\"},{\"hovertemplate\":\"championName=Hecarim<br>totalDamageDealtToChampions=%{x}<br>totalDamageTaken=%{y}<extra></extra>\",\"legendgroup\":\"Hecarim\",\"marker\":{\"color\":\"#EF553B\",\"symbol\":\"circle\"},\"mode\":\"markers\",\"name\":\"Hecarim\",\"orientation\":\"v\",\"showlegend\":true,\"x\":[18858.0],\"xaxis\":\"x\",\"y\":[41492.0],\"yaxis\":\"y\",\"type\":\"scatter\"},{\"hovertemplate\":\"championName=Heimerdinger<br>totalDamageDealtToChampions=%{x}<br>totalDamageTaken=%{y}<extra></extra>\",\"legendgroup\":\"Heimerdinger\",\"marker\":{\"color\":\"#00cc96\",\"symbol\":\"circle\"},\"mode\":\"markers\",\"name\":\"Heimerdinger\",\"orientation\":\"v\",\"showlegend\":true,\"x\":[24046.0],\"xaxis\":\"x\",\"y\":[17633.0],\"yaxis\":\"y\",\"type\":\"scatter\"},{\"hovertemplate\":\"championName=Hwei<br>totalDamageDealtToChampions=%{x}<br>totalDamageTaken=%{y}<extra></extra>\",\"legendgroup\":\"Hwei\",\"marker\":{\"color\":\"#ab63fa\",\"symbol\":\"circle\"},\"mode\":\"markers\",\"name\":\"Hwei\",\"orientation\":\"v\",\"showlegend\":true,\"x\":[23573.0],\"xaxis\":\"x\",\"y\":[18579.0],\"yaxis\":\"y\",\"type\":\"scatter\"},{\"hovertemplate\":\"championName=Illaoi<br>totalDamageDealtToChampions=%{x}<br>totalDamageTaken=%{y}<extra></extra>\",\"legendgroup\":\"Illaoi\",\"marker\":{\"color\":\"#FFA15A\",\"symbol\":\"circle\"},\"mode\":\"markers\",\"name\":\"Illaoi\",\"orientation\":\"v\",\"showlegend\":true,\"x\":[26854.0],\"xaxis\":\"x\",\"y\":[32098.0],\"yaxis\":\"y\",\"type\":\"scatter\"},{\"hovertemplate\":\"championName=Irelia<br>totalDamageDealtToChampions=%{x}<br>totalDamageTaken=%{y}<extra></extra>\",\"legendgroup\":\"Irelia\",\"marker\":{\"color\":\"#19d3f3\",\"symbol\":\"circle\"},\"mode\":\"markers\",\"name\":\"Irelia\",\"orientation\":\"v\",\"showlegend\":true,\"x\":[21530.0],\"xaxis\":\"x\",\"y\":[30891.0],\"yaxis\":\"y\",\"type\":\"scatter\"},{\"hovertemplate\":\"championName=Ivern<br>totalDamageDealtToChampions=%{x}<br>totalDamageTaken=%{y}<extra></extra>\",\"legendgroup\":\"Ivern\",\"marker\":{\"color\":\"#FF6692\",\"symbol\":\"circle\"},\"mode\":\"markers\",\"name\":\"Ivern\",\"orientation\":\"v\",\"showlegend\":true,\"x\":[8276.0],\"xaxis\":\"x\",\"y\":[15917.0],\"yaxis\":\"y\",\"type\":\"scatter\"},{\"hovertemplate\":\"championName=Janna<br>totalDamageDealtToChampions=%{x}<br>totalDamageTaken=%{y}<extra></extra>\",\"legendgroup\":\"Janna\",\"marker\":{\"color\":\"#B6E880\",\"symbol\":\"circle\"},\"mode\":\"markers\",\"name\":\"Janna\",\"orientation\":\"v\",\"showlegend\":true,\"x\":[8916.0],\"xaxis\":\"x\",\"y\":[15402.0],\"yaxis\":\"y\",\"type\":\"scatter\"},{\"hovertemplate\":\"championName=JarvanIV<br>totalDamageDealtToChampions=%{x}<br>totalDamageTaken=%{y}<extra></extra>\",\"legendgroup\":\"JarvanIV\",\"marker\":{\"color\":\"#FF97FF\",\"symbol\":\"circle\"},\"mode\":\"markers\",\"name\":\"JarvanIV\",\"orientation\":\"v\",\"showlegend\":true,\"x\":[13576.0],\"xaxis\":\"x\",\"y\":[30387.0],\"yaxis\":\"y\",\"type\":\"scatter\"},{\"hovertemplate\":\"championName=Jax<br>totalDamageDealtToChampions=%{x}<br>totalDamageTaken=%{y}<extra></extra>\",\"legendgroup\":\"Jax\",\"marker\":{\"color\":\"#FECB52\",\"symbol\":\"circle\"},\"mode\":\"markers\",\"name\":\"Jax\",\"orientation\":\"v\",\"showlegend\":true,\"x\":[20277.0],\"xaxis\":\"x\",\"y\":[27521.0],\"yaxis\":\"y\",\"type\":\"scatter\"},{\"hovertemplate\":\"championName=Jayce<br>totalDamageDealtToChampions=%{x}<br>totalDamageTaken=%{y}<extra></extra>\",\"legendgroup\":\"Jayce\",\"marker\":{\"color\":\"#636efa\",\"symbol\":\"circle\"},\"mode\":\"markers\",\"name\":\"Jayce\",\"orientation\":\"v\",\"showlegend\":true,\"x\":[24969.0],\"xaxis\":\"x\",\"y\":[21009.0],\"yaxis\":\"y\",\"type\":\"scatter\"},{\"hovertemplate\":\"championName=Jhin<br>totalDamageDealtToChampions=%{x}<br>totalDamageTaken=%{y}<extra></extra>\",\"legendgroup\":\"Jhin\",\"marker\":{\"color\":\"#EF553B\",\"symbol\":\"circle\"},\"mode\":\"markers\",\"name\":\"Jhin\",\"orientation\":\"v\",\"showlegend\":true,\"x\":[18381.0],\"xaxis\":\"x\",\"y\":[17447.0],\"yaxis\":\"y\",\"type\":\"scatter\"},{\"hovertemplate\":\"championName=Jinx<br>totalDamageDealtToChampions=%{x}<br>totalDamageTaken=%{y}<extra></extra>\",\"legendgroup\":\"Jinx\",\"marker\":{\"color\":\"#00cc96\",\"symbol\":\"circle\"},\"mode\":\"markers\",\"name\":\"Jinx\",\"orientation\":\"v\",\"showlegend\":true,\"x\":[21455.0],\"xaxis\":\"x\",\"y\":[17662.0],\"yaxis\":\"y\",\"type\":\"scatter\"},{\"hovertemplate\":\"championName=KSante<br>totalDamageDealtToChampions=%{x}<br>totalDamageTaken=%{y}<extra></extra>\",\"legendgroup\":\"KSante\",\"marker\":{\"color\":\"#ab63fa\",\"symbol\":\"circle\"},\"mode\":\"markers\",\"name\":\"KSante\",\"orientation\":\"v\",\"showlegend\":true,\"x\":[20075.0],\"xaxis\":\"x\",\"y\":[28542.0],\"yaxis\":\"y\",\"type\":\"scatter\"},{\"hovertemplate\":\"championName=Kaisa<br>totalDamageDealtToChampions=%{x}<br>totalDamageTaken=%{y}<extra></extra>\",\"legendgroup\":\"Kaisa\",\"marker\":{\"color\":\"#FFA15A\",\"symbol\":\"circle\"},\"mode\":\"markers\",\"name\":\"Kaisa\",\"orientation\":\"v\",\"showlegend\":true,\"x\":[22498.0],\"xaxis\":\"x\",\"y\":[18348.0],\"yaxis\":\"y\",\"type\":\"scatter\"},{\"hovertemplate\":\"championName=Kalista<br>totalDamageDealtToChampions=%{x}<br>totalDamageTaken=%{y}<extra></extra>\",\"legendgroup\":\"Kalista\",\"marker\":{\"color\":\"#19d3f3\",\"symbol\":\"circle\"},\"mode\":\"markers\",\"name\":\"Kalista\",\"orientation\":\"v\",\"showlegend\":true,\"x\":[21616.0],\"xaxis\":\"x\",\"y\":[22993.0],\"yaxis\":\"y\",\"type\":\"scatter\"},{\"hovertemplate\":\"championName=Karma<br>totalDamageDealtToChampions=%{x}<br>totalDamageTaken=%{y}<extra></extra>\",\"legendgroup\":\"Karma\",\"marker\":{\"color\":\"#FF6692\",\"symbol\":\"circle\"},\"mode\":\"markers\",\"name\":\"Karma\",\"orientation\":\"v\",\"showlegend\":true,\"x\":[12828.0],\"xaxis\":\"x\",\"y\":[19619.0],\"yaxis\":\"y\",\"type\":\"scatter\"},{\"hovertemplate\":\"championName=Karthus<br>totalDamageDealtToChampions=%{x}<br>totalDamageTaken=%{y}<extra></extra>\",\"legendgroup\":\"Karthus\",\"marker\":{\"color\":\"#B6E880\",\"symbol\":\"circle\"},\"mode\":\"markers\",\"name\":\"Karthus\",\"orientation\":\"v\",\"showlegend\":true,\"x\":[28908.0],\"xaxis\":\"x\",\"y\":[28126.0],\"yaxis\":\"y\",\"type\":\"scatter\"},{\"hovertemplate\":\"championName=Kassadin<br>totalDamageDealtToChampions=%{x}<br>totalDamageTaken=%{y}<extra></extra>\",\"legendgroup\":\"Kassadin\",\"marker\":{\"color\":\"#FF97FF\",\"symbol\":\"circle\"},\"mode\":\"markers\",\"name\":\"Kassadin\",\"orientation\":\"v\",\"showlegend\":true,\"x\":[20640.0],\"xaxis\":\"x\",\"y\":[23983.0],\"yaxis\":\"y\",\"type\":\"scatter\"},{\"hovertemplate\":\"championName=Katarina<br>totalDamageDealtToChampions=%{x}<br>totalDamageTaken=%{y}<extra></extra>\",\"legendgroup\":\"Katarina\",\"marker\":{\"color\":\"#FECB52\",\"symbol\":\"circle\"},\"mode\":\"markers\",\"name\":\"Katarina\",\"orientation\":\"v\",\"showlegend\":true,\"x\":[19911.0],\"xaxis\":\"x\",\"y\":[22424.0],\"yaxis\":\"y\",\"type\":\"scatter\"},{\"hovertemplate\":\"championName=Kayle<br>totalDamageDealtToChampions=%{x}<br>totalDamageTaken=%{y}<extra></extra>\",\"legendgroup\":\"Kayle\",\"marker\":{\"color\":\"#636efa\",\"symbol\":\"circle\"},\"mode\":\"markers\",\"name\":\"Kayle\",\"orientation\":\"v\",\"showlegend\":true,\"x\":[24388.0],\"xaxis\":\"x\",\"y\":[23019.0],\"yaxis\":\"y\",\"type\":\"scatter\"},{\"hovertemplate\":\"championName=Kayn<br>totalDamageDealtToChampions=%{x}<br>totalDamageTaken=%{y}<extra></extra>\",\"legendgroup\":\"Kayn\",\"marker\":{\"color\":\"#EF553B\",\"symbol\":\"circle\"},\"mode\":\"markers\",\"name\":\"Kayn\",\"orientation\":\"v\",\"showlegend\":true,\"x\":[23272.0],\"xaxis\":\"x\",\"y\":[36628.0],\"yaxis\":\"y\",\"type\":\"scatter\"},{\"hovertemplate\":\"championName=Kennen<br>totalDamageDealtToChampions=%{x}<br>totalDamageTaken=%{y}<extra></extra>\",\"legendgroup\":\"Kennen\",\"marker\":{\"color\":\"#00cc96\",\"symbol\":\"circle\"},\"mode\":\"markers\",\"name\":\"Kennen\",\"orientation\":\"v\",\"showlegend\":true,\"x\":[23261.0],\"xaxis\":\"x\",\"y\":[21526.0],\"yaxis\":\"y\",\"type\":\"scatter\"},{\"hovertemplate\":\"championName=Khazix<br>totalDamageDealtToChampions=%{x}<br>totalDamageTaken=%{y}<extra></extra>\",\"legendgroup\":\"Khazix\",\"marker\":{\"color\":\"#ab63fa\",\"symbol\":\"circle\"},\"mode\":\"markers\",\"name\":\"Khazix\",\"orientation\":\"v\",\"showlegend\":true,\"x\":[20640.0],\"xaxis\":\"x\",\"y\":[29181.0],\"yaxis\":\"y\",\"type\":\"scatter\"},{\"hovertemplate\":\"championName=Kindred<br>totalDamageDealtToChampions=%{x}<br>totalDamageTaken=%{y}<extra></extra>\",\"legendgroup\":\"Kindred\",\"marker\":{\"color\":\"#FFA15A\",\"symbol\":\"circle\"},\"mode\":\"markers\",\"name\":\"Kindred\",\"orientation\":\"v\",\"showlegend\":true,\"x\":[21956.0],\"xaxis\":\"x\",\"y\":[28756.0],\"yaxis\":\"y\",\"type\":\"scatter\"},{\"hovertemplate\":\"championName=Kled<br>totalDamageDealtToChampions=%{x}<br>totalDamageTaken=%{y}<extra></extra>\",\"legendgroup\":\"Kled\",\"marker\":{\"color\":\"#19d3f3\",\"symbol\":\"circle\"},\"mode\":\"markers\",\"name\":\"Kled\",\"orientation\":\"v\",\"showlegend\":true,\"x\":[22350.0],\"xaxis\":\"x\",\"y\":[34303.0],\"yaxis\":\"y\",\"type\":\"scatter\"},{\"hovertemplate\":\"championName=KogMaw<br>totalDamageDealtToChampions=%{x}<br>totalDamageTaken=%{y}<extra></extra>\",\"legendgroup\":\"KogMaw\",\"marker\":{\"color\":\"#FF6692\",\"symbol\":\"circle\"},\"mode\":\"markers\",\"name\":\"KogMaw\",\"orientation\":\"v\",\"showlegend\":true,\"x\":[57800.0],\"xaxis\":\"x\",\"y\":[27526.0],\"yaxis\":\"y\",\"type\":\"scatter\"},{\"hovertemplate\":\"championName=Leblanc<br>totalDamageDealtToChampions=%{x}<br>totalDamageTaken=%{y}<extra></extra>\",\"legendgroup\":\"Leblanc\",\"marker\":{\"color\":\"#B6E880\",\"symbol\":\"circle\"},\"mode\":\"markers\",\"name\":\"Leblanc\",\"orientation\":\"v\",\"showlegend\":true,\"x\":[20287.0],\"xaxis\":\"x\",\"y\":[21979.0],\"yaxis\":\"y\",\"type\":\"scatter\"},{\"hovertemplate\":\"championName=LeeSin<br>totalDamageDealtToChampions=%{x}<br>totalDamageTaken=%{y}<extra></extra>\",\"legendgroup\":\"LeeSin\",\"marker\":{\"color\":\"#FF97FF\",\"symbol\":\"circle\"},\"mode\":\"markers\",\"name\":\"LeeSin\",\"orientation\":\"v\",\"showlegend\":true,\"x\":[15607.0],\"xaxis\":\"x\",\"y\":[31831.0],\"yaxis\":\"y\",\"type\":\"scatter\"},{\"hovertemplate\":\"championName=Leona<br>totalDamageDealtToChampions=%{x}<br>totalDamageTaken=%{y}<extra></extra>\",\"legendgroup\":\"Leona\",\"marker\":{\"color\":\"#FECB52\",\"symbol\":\"circle\"},\"mode\":\"markers\",\"name\":\"Leona\",\"orientation\":\"v\",\"showlegend\":true,\"x\":[11151.0],\"xaxis\":\"x\",\"y\":[23403.0],\"yaxis\":\"y\",\"type\":\"scatter\"},{\"hovertemplate\":\"championName=Lillia<br>totalDamageDealtToChampions=%{x}<br>totalDamageTaken=%{y}<extra></extra>\",\"legendgroup\":\"Lillia\",\"marker\":{\"color\":\"#636efa\",\"symbol\":\"circle\"},\"mode\":\"markers\",\"name\":\"Lillia\",\"orientation\":\"v\",\"showlegend\":true,\"x\":[26477.0],\"xaxis\":\"x\",\"y\":[34981.0],\"yaxis\":\"y\",\"type\":\"scatter\"},{\"hovertemplate\":\"championName=Lissandra<br>totalDamageDealtToChampions=%{x}<br>totalDamageTaken=%{y}<extra></extra>\",\"legendgroup\":\"Lissandra\",\"marker\":{\"color\":\"#EF553B\",\"symbol\":\"circle\"},\"mode\":\"markers\",\"name\":\"Lissandra\",\"orientation\":\"v\",\"showlegend\":true,\"x\":[14644.0],\"xaxis\":\"x\",\"y\":[19525.0],\"yaxis\":\"y\",\"type\":\"scatter\"},{\"hovertemplate\":\"championName=Lucian<br>totalDamageDealtToChampions=%{x}<br>totalDamageTaken=%{y}<extra></extra>\",\"legendgroup\":\"Lucian\",\"marker\":{\"color\":\"#00cc96\",\"symbol\":\"circle\"},\"mode\":\"markers\",\"name\":\"Lucian\",\"orientation\":\"v\",\"showlegend\":true,\"x\":[22836.0],\"xaxis\":\"x\",\"y\":[19234.0],\"yaxis\":\"y\",\"type\":\"scatter\"},{\"hovertemplate\":\"championName=Lulu<br>totalDamageDealtToChampions=%{x}<br>totalDamageTaken=%{y}<extra></extra>\",\"legendgroup\":\"Lulu\",\"marker\":{\"color\":\"#ab63fa\",\"symbol\":\"circle\"},\"mode\":\"markers\",\"name\":\"Lulu\",\"orientation\":\"v\",\"showlegend\":true,\"x\":[7112.0],\"xaxis\":\"x\",\"y\":[14253.0],\"yaxis\":\"y\",\"type\":\"scatter\"},{\"hovertemplate\":\"championName=Lux<br>totalDamageDealtToChampions=%{x}<br>totalDamageTaken=%{y}<extra></extra>\",\"legendgroup\":\"Lux\",\"marker\":{\"color\":\"#FFA15A\",\"symbol\":\"circle\"},\"mode\":\"markers\",\"name\":\"Lux\",\"orientation\":\"v\",\"showlegend\":true,\"x\":[16795.0],\"xaxis\":\"x\",\"y\":[15196.0],\"yaxis\":\"y\",\"type\":\"scatter\"},{\"hovertemplate\":\"championName=Malphite<br>totalDamageDealtToChampions=%{x}<br>totalDamageTaken=%{y}<extra></extra>\",\"legendgroup\":\"Malphite\",\"marker\":{\"color\":\"#19d3f3\",\"symbol\":\"circle\"},\"mode\":\"markers\",\"name\":\"Malphite\",\"orientation\":\"v\",\"showlegend\":true,\"x\":[19195.0],\"xaxis\":\"x\",\"y\":[25470.0],\"yaxis\":\"y\",\"type\":\"scatter\"},{\"hovertemplate\":\"championName=Malzahar<br>totalDamageDealtToChampions=%{x}<br>totalDamageTaken=%{y}<extra></extra>\",\"legendgroup\":\"Malzahar\",\"marker\":{\"color\":\"#FF6692\",\"symbol\":\"circle\"},\"mode\":\"markers\",\"name\":\"Malzahar\",\"orientation\":\"v\",\"showlegend\":true,\"x\":[17358.0],\"xaxis\":\"x\",\"y\":[15171.0],\"yaxis\":\"y\",\"type\":\"scatter\"},{\"hovertemplate\":\"championName=Maokai<br>totalDamageDealtToChampions=%{x}<br>totalDamageTaken=%{y}<extra></extra>\",\"legendgroup\":\"Maokai\",\"marker\":{\"color\":\"#B6E880\",\"symbol\":\"circle\"},\"mode\":\"markers\",\"name\":\"Maokai\",\"orientation\":\"v\",\"showlegend\":true,\"x\":[16650.0],\"xaxis\":\"x\",\"y\":[31619.0],\"yaxis\":\"y\",\"type\":\"scatter\"},{\"hovertemplate\":\"championName=MasterYi<br>totalDamageDealtToChampions=%{x}<br>totalDamageTaken=%{y}<extra></extra>\",\"legendgroup\":\"MasterYi\",\"marker\":{\"color\":\"#FF97FF\",\"symbol\":\"circle\"},\"mode\":\"markers\",\"name\":\"MasterYi\",\"orientation\":\"v\",\"showlegend\":true,\"x\":[21872.0],\"xaxis\":\"x\",\"y\":[28253.0],\"yaxis\":\"y\",\"type\":\"scatter\"},{\"hovertemplate\":\"championName=Milio<br>totalDamageDealtToChampions=%{x}<br>totalDamageTaken=%{y}<extra></extra>\",\"legendgroup\":\"Milio\",\"marker\":{\"color\":\"#FECB52\",\"symbol\":\"circle\"},\"mode\":\"markers\",\"name\":\"Milio\",\"orientation\":\"v\",\"showlegend\":true,\"x\":[5070.0],\"xaxis\":\"x\",\"y\":[13655.0],\"yaxis\":\"y\",\"type\":\"scatter\"},{\"hovertemplate\":\"championName=MissFortune<br>totalDamageDealtToChampions=%{x}<br>totalDamageTaken=%{y}<extra></extra>\",\"legendgroup\":\"MissFortune\",\"marker\":{\"color\":\"#636efa\",\"symbol\":\"circle\"},\"mode\":\"markers\",\"name\":\"MissFortune\",\"orientation\":\"v\",\"showlegend\":true,\"x\":[18007.0],\"xaxis\":\"x\",\"y\":[16545.0],\"yaxis\":\"y\",\"type\":\"scatter\"},{\"hovertemplate\":\"championName=MonkeyKing<br>totalDamageDealtToChampions=%{x}<br>totalDamageTaken=%{y}<extra></extra>\",\"legendgroup\":\"MonkeyKing\",\"marker\":{\"color\":\"#EF553B\",\"symbol\":\"circle\"},\"mode\":\"markers\",\"name\":\"MonkeyKing\",\"orientation\":\"v\",\"showlegend\":true,\"x\":[15443.0],\"xaxis\":\"x\",\"y\":[25800.0],\"yaxis\":\"y\",\"type\":\"scatter\"},{\"hovertemplate\":\"championName=Mordekaiser<br>totalDamageDealtToChampions=%{x}<br>totalDamageTaken=%{y}<extra></extra>\",\"legendgroup\":\"Mordekaiser\",\"marker\":{\"color\":\"#00cc96\",\"symbol\":\"circle\"},\"mode\":\"markers\",\"name\":\"Mordekaiser\",\"orientation\":\"v\",\"showlegend\":true,\"x\":[23806.0],\"xaxis\":\"x\",\"y\":[29552.0],\"yaxis\":\"y\",\"type\":\"scatter\"},{\"hovertemplate\":\"championName=Morgana<br>totalDamageDealtToChampions=%{x}<br>totalDamageTaken=%{y}<extra></extra>\",\"legendgroup\":\"Morgana\",\"marker\":{\"color\":\"#ab63fa\",\"symbol\":\"circle\"},\"mode\":\"markers\",\"name\":\"Morgana\",\"orientation\":\"v\",\"showlegend\":true,\"x\":[19288.0],\"xaxis\":\"x\",\"y\":[20393.0],\"yaxis\":\"y\",\"type\":\"scatter\"},{\"hovertemplate\":\"championName=Naafiri<br>totalDamageDealtToChampions=%{x}<br>totalDamageTaken=%{y}<extra></extra>\",\"legendgroup\":\"Naafiri\",\"marker\":{\"color\":\"#FFA15A\",\"symbol\":\"circle\"},\"mode\":\"markers\",\"name\":\"Naafiri\",\"orientation\":\"v\",\"showlegend\":true,\"x\":[28808.0],\"xaxis\":\"x\",\"y\":[30418.0],\"yaxis\":\"y\",\"type\":\"scatter\"},{\"hovertemplate\":\"championName=Nami<br>totalDamageDealtToChampions=%{x}<br>totalDamageTaken=%{y}<extra></extra>\",\"legendgroup\":\"Nami\",\"marker\":{\"color\":\"#19d3f3\",\"symbol\":\"circle\"},\"mode\":\"markers\",\"name\":\"Nami\",\"orientation\":\"v\",\"showlegend\":true,\"x\":[9137.0],\"xaxis\":\"x\",\"y\":[16021.0],\"yaxis\":\"y\",\"type\":\"scatter\"},{\"hovertemplate\":\"championName=Nasus<br>totalDamageDealtToChampions=%{x}<br>totalDamageTaken=%{y}<extra></extra>\",\"legendgroup\":\"Nasus\",\"marker\":{\"color\":\"#FF6692\",\"symbol\":\"circle\"},\"mode\":\"markers\",\"name\":\"Nasus\",\"orientation\":\"v\",\"showlegend\":true,\"x\":[20285.0],\"xaxis\":\"x\",\"y\":[33727.0],\"yaxis\":\"y\",\"type\":\"scatter\"},{\"hovertemplate\":\"championName=Nautilus<br>totalDamageDealtToChampions=%{x}<br>totalDamageTaken=%{y}<extra></extra>\",\"legendgroup\":\"Nautilus\",\"marker\":{\"color\":\"#B6E880\",\"symbol\":\"circle\"},\"mode\":\"markers\",\"name\":\"Nautilus\",\"orientation\":\"v\",\"showlegend\":true,\"x\":[8898.0],\"xaxis\":\"x\",\"y\":[21379.0],\"yaxis\":\"y\",\"type\":\"scatter\"},{\"hovertemplate\":\"championName=Neeko<br>totalDamageDealtToChampions=%{x}<br>totalDamageTaken=%{y}<extra></extra>\",\"legendgroup\":\"Neeko\",\"marker\":{\"color\":\"#FF97FF\",\"symbol\":\"circle\"},\"mode\":\"markers\",\"name\":\"Neeko\",\"orientation\":\"v\",\"showlegend\":true,\"x\":[20098.0],\"xaxis\":\"x\",\"y\":[19278.0],\"yaxis\":\"y\",\"type\":\"scatter\"},{\"hovertemplate\":\"championName=Nidalee<br>totalDamageDealtToChampions=%{x}<br>totalDamageTaken=%{y}<extra></extra>\",\"legendgroup\":\"Nidalee\",\"marker\":{\"color\":\"#FECB52\",\"symbol\":\"circle\"},\"mode\":\"markers\",\"name\":\"Nidalee\",\"orientation\":\"v\",\"showlegend\":true,\"x\":[19062.0],\"xaxis\":\"x\",\"y\":[31532.0],\"yaxis\":\"y\",\"type\":\"scatter\"},{\"hovertemplate\":\"championName=Nilah<br>totalDamageDealtToChampions=%{x}<br>totalDamageTaken=%{y}<extra></extra>\",\"legendgroup\":\"Nilah\",\"marker\":{\"color\":\"#636efa\",\"symbol\":\"circle\"},\"mode\":\"markers\",\"name\":\"Nilah\",\"orientation\":\"v\",\"showlegend\":true,\"x\":[15216.0],\"xaxis\":\"x\",\"y\":[21696.0],\"yaxis\":\"y\",\"type\":\"scatter\"},{\"hovertemplate\":\"championName=Nocturne<br>totalDamageDealtToChampions=%{x}<br>totalDamageTaken=%{y}<extra></extra>\",\"legendgroup\":\"Nocturne\",\"marker\":{\"color\":\"#EF553B\",\"symbol\":\"circle\"},\"mode\":\"markers\",\"name\":\"Nocturne\",\"orientation\":\"v\",\"showlegend\":true,\"x\":[15027.0],\"xaxis\":\"x\",\"y\":[30858.0],\"yaxis\":\"y\",\"type\":\"scatter\"},{\"hovertemplate\":\"championName=Nunu<br>totalDamageDealtToChampions=%{x}<br>totalDamageTaken=%{y}<extra></extra>\",\"legendgroup\":\"Nunu\",\"marker\":{\"color\":\"#00cc96\",\"symbol\":\"circle\"},\"mode\":\"markers\",\"name\":\"Nunu\",\"orientation\":\"v\",\"showlegend\":true,\"x\":[13327.0],\"xaxis\":\"x\",\"y\":[34700.0],\"yaxis\":\"y\",\"type\":\"scatter\"},{\"hovertemplate\":\"championName=Olaf<br>totalDamageDealtToChampions=%{x}<br>totalDamageTaken=%{y}<extra></extra>\",\"legendgroup\":\"Olaf\",\"marker\":{\"color\":\"#ab63fa\",\"symbol\":\"circle\"},\"mode\":\"markers\",\"name\":\"Olaf\",\"orientation\":\"v\",\"showlegend\":true,\"x\":[24564.0],\"xaxis\":\"x\",\"y\":[29110.0],\"yaxis\":\"y\",\"type\":\"scatter\"},{\"hovertemplate\":\"championName=Orianna<br>totalDamageDealtToChampions=%{x}<br>totalDamageTaken=%{y}<extra></extra>\",\"legendgroup\":\"Orianna\",\"marker\":{\"color\":\"#FFA15A\",\"symbol\":\"circle\"},\"mode\":\"markers\",\"name\":\"Orianna\",\"orientation\":\"v\",\"showlegend\":true,\"x\":[21632.0],\"xaxis\":\"x\",\"y\":[18392.0],\"yaxis\":\"y\",\"type\":\"scatter\"},{\"hovertemplate\":\"championName=Ornn<br>totalDamageDealtToChampions=%{x}<br>totalDamageTaken=%{y}<extra></extra>\",\"legendgroup\":\"Ornn\",\"marker\":{\"color\":\"#19d3f3\",\"symbol\":\"circle\"},\"mode\":\"markers\",\"name\":\"Ornn\",\"orientation\":\"v\",\"showlegend\":true,\"x\":[17920.0],\"xaxis\":\"x\",\"y\":[32580.0],\"yaxis\":\"y\",\"type\":\"scatter\"},{\"hovertemplate\":\"championName=Pantheon<br>totalDamageDealtToChampions=%{x}<br>totalDamageTaken=%{y}<extra></extra>\",\"legendgroup\":\"Pantheon\",\"marker\":{\"color\":\"#FF6692\",\"symbol\":\"circle\"},\"mode\":\"markers\",\"name\":\"Pantheon\",\"orientation\":\"v\",\"showlegend\":true,\"x\":[21260.0],\"xaxis\":\"x\",\"y\":[23151.0],\"yaxis\":\"y\",\"type\":\"scatter\"},{\"hovertemplate\":\"championName=Poppy<br>totalDamageDealtToChampions=%{x}<br>totalDamageTaken=%{y}<extra></extra>\",\"legendgroup\":\"Poppy\",\"marker\":{\"color\":\"#B6E880\",\"symbol\":\"circle\"},\"mode\":\"markers\",\"name\":\"Poppy\",\"orientation\":\"v\",\"showlegend\":true,\"x\":[17842.0],\"xaxis\":\"x\",\"y\":[27919.0],\"yaxis\":\"y\",\"type\":\"scatter\"},{\"hovertemplate\":\"championName=Pyke<br>totalDamageDealtToChampions=%{x}<br>totalDamageTaken=%{y}<extra></extra>\",\"legendgroup\":\"Pyke\",\"marker\":{\"color\":\"#FF97FF\",\"symbol\":\"circle\"},\"mode\":\"markers\",\"name\":\"Pyke\",\"orientation\":\"v\",\"showlegend\":true,\"x\":[10026.0],\"xaxis\":\"x\",\"y\":[19670.0],\"yaxis\":\"y\",\"type\":\"scatter\"},{\"hovertemplate\":\"championName=Qiyana<br>totalDamageDealtToChampions=%{x}<br>totalDamageTaken=%{y}<extra></extra>\",\"legendgroup\":\"Qiyana\",\"marker\":{\"color\":\"#FECB52\",\"symbol\":\"circle\"},\"mode\":\"markers\",\"name\":\"Qiyana\",\"orientation\":\"v\",\"showlegend\":true,\"x\":[21492.0],\"xaxis\":\"x\",\"y\":[22181.0],\"yaxis\":\"y\",\"type\":\"scatter\"},{\"hovertemplate\":\"championName=Quinn<br>totalDamageDealtToChampions=%{x}<br>totalDamageTaken=%{y}<extra></extra>\",\"legendgroup\":\"Quinn\",\"marker\":{\"color\":\"#636efa\",\"symbol\":\"circle\"},\"mode\":\"markers\",\"name\":\"Quinn\",\"orientation\":\"v\",\"showlegend\":true,\"x\":[24290.0],\"xaxis\":\"x\",\"y\":[19068.0],\"yaxis\":\"y\",\"type\":\"scatter\"},{\"hovertemplate\":\"championName=Rakan<br>totalDamageDealtToChampions=%{x}<br>totalDamageTaken=%{y}<extra></extra>\",\"legendgroup\":\"Rakan\",\"marker\":{\"color\":\"#EF553B\",\"symbol\":\"circle\"},\"mode\":\"markers\",\"name\":\"Rakan\",\"orientation\":\"v\",\"showlegend\":true,\"x\":[7512.0],\"xaxis\":\"x\",\"y\":[20931.0],\"yaxis\":\"y\",\"type\":\"scatter\"},{\"hovertemplate\":\"championName=Rammus<br>totalDamageDealtToChampions=%{x}<br>totalDamageTaken=%{y}<extra></extra>\",\"legendgroup\":\"Rammus\",\"marker\":{\"color\":\"#00cc96\",\"symbol\":\"circle\"},\"mode\":\"markers\",\"name\":\"Rammus\",\"orientation\":\"v\",\"showlegend\":true,\"x\":[15469.0],\"xaxis\":\"x\",\"y\":[28304.0],\"yaxis\":\"y\",\"type\":\"scatter\"},{\"hovertemplate\":\"championName=RekSai<br>totalDamageDealtToChampions=%{x}<br>totalDamageTaken=%{y}<extra></extra>\",\"legendgroup\":\"RekSai\",\"marker\":{\"color\":\"#ab63fa\",\"symbol\":\"circle\"},\"mode\":\"markers\",\"name\":\"RekSai\",\"orientation\":\"v\",\"showlegend\":true,\"x\":[17365.0],\"xaxis\":\"x\",\"y\":[30226.0],\"yaxis\":\"y\",\"type\":\"scatter\"},{\"hovertemplate\":\"championName=Rell<br>totalDamageDealtToChampions=%{x}<br>totalDamageTaken=%{y}<extra></extra>\",\"legendgroup\":\"Rell\",\"marker\":{\"color\":\"#FFA15A\",\"symbol\":\"circle\"},\"mode\":\"markers\",\"name\":\"Rell\",\"orientation\":\"v\",\"showlegend\":true,\"x\":[8941.0],\"xaxis\":\"x\",\"y\":[22469.0],\"yaxis\":\"y\",\"type\":\"scatter\"},{\"hovertemplate\":\"championName=Renata<br>totalDamageDealtToChampions=%{x}<br>totalDamageTaken=%{y}<extra></extra>\",\"legendgroup\":\"Renata\",\"marker\":{\"color\":\"#19d3f3\",\"symbol\":\"circle\"},\"mode\":\"markers\",\"name\":\"Renata\",\"orientation\":\"v\",\"showlegend\":true,\"x\":[9099.0],\"xaxis\":\"x\",\"y\":[19627.0],\"yaxis\":\"y\",\"type\":\"scatter\"},{\"hovertemplate\":\"championName=Renekton<br>totalDamageDealtToChampions=%{x}<br>totalDamageTaken=%{y}<extra></extra>\",\"legendgroup\":\"Renekton\",\"marker\":{\"color\":\"#FF6692\",\"symbol\":\"circle\"},\"mode\":\"markers\",\"name\":\"Renekton\",\"orientation\":\"v\",\"showlegend\":true,\"x\":[19861.0],\"xaxis\":\"x\",\"y\":[35215.0],\"yaxis\":\"y\",\"type\":\"scatter\"},{\"hovertemplate\":\"championName=Rengar<br>totalDamageDealtToChampions=%{x}<br>totalDamageTaken=%{y}<extra></extra>\",\"legendgroup\":\"Rengar\",\"marker\":{\"color\":\"#B6E880\",\"symbol\":\"circle\"},\"mode\":\"markers\",\"name\":\"Rengar\",\"orientation\":\"v\",\"showlegend\":true,\"x\":[15570.0],\"xaxis\":\"x\",\"y\":[28218.0],\"yaxis\":\"y\",\"type\":\"scatter\"},{\"hovertemplate\":\"championName=Riven<br>totalDamageDealtToChampions=%{x}<br>totalDamageTaken=%{y}<extra></extra>\",\"legendgroup\":\"Riven\",\"marker\":{\"color\":\"#FF97FF\",\"symbol\":\"circle\"},\"mode\":\"markers\",\"name\":\"Riven\",\"orientation\":\"v\",\"showlegend\":true,\"x\":[19137.0],\"xaxis\":\"x\",\"y\":[24282.0],\"yaxis\":\"y\",\"type\":\"scatter\"},{\"hovertemplate\":\"championName=Rumble<br>totalDamageDealtToChampions=%{x}<br>totalDamageTaken=%{y}<extra></extra>\",\"legendgroup\":\"Rumble\",\"marker\":{\"color\":\"#FECB52\",\"symbol\":\"circle\"},\"mode\":\"markers\",\"name\":\"Rumble\",\"orientation\":\"v\",\"showlegend\":true,\"x\":[23807.0],\"xaxis\":\"x\",\"y\":[23272.0],\"yaxis\":\"y\",\"type\":\"scatter\"},{\"hovertemplate\":\"championName=Ryze<br>totalDamageDealtToChampions=%{x}<br>totalDamageTaken=%{y}<extra></extra>\",\"legendgroup\":\"Ryze\",\"marker\":{\"color\":\"#636efa\",\"symbol\":\"circle\"},\"mode\":\"markers\",\"name\":\"Ryze\",\"orientation\":\"v\",\"showlegend\":true,\"x\":[21268.0],\"xaxis\":\"x\",\"y\":[26873.0],\"yaxis\":\"y\",\"type\":\"scatter\"},{\"hovertemplate\":\"championName=Samira<br>totalDamageDealtToChampions=%{x}<br>totalDamageTaken=%{y}<extra></extra>\",\"legendgroup\":\"Samira\",\"marker\":{\"color\":\"#EF553B\",\"symbol\":\"circle\"},\"mode\":\"markers\",\"name\":\"Samira\",\"orientation\":\"v\",\"showlegend\":true,\"x\":[23570.0],\"xaxis\":\"x\",\"y\":[22023.0],\"yaxis\":\"y\",\"type\":\"scatter\"},{\"hovertemplate\":\"championName=Sejuani<br>totalDamageDealtToChampions=%{x}<br>totalDamageTaken=%{y}<extra></extra>\",\"legendgroup\":\"Sejuani\",\"marker\":{\"color\":\"#00cc96\",\"symbol\":\"circle\"},\"mode\":\"markers\",\"name\":\"Sejuani\",\"orientation\":\"v\",\"showlegend\":true,\"x\":[10676.0],\"xaxis\":\"x\",\"y\":[27209.0],\"yaxis\":\"y\",\"type\":\"scatter\"},{\"hovertemplate\":\"championName=Senna<br>totalDamageDealtToChampions=%{x}<br>totalDamageTaken=%{y}<extra></extra>\",\"legendgroup\":\"Senna\",\"marker\":{\"color\":\"#ab63fa\",\"symbol\":\"circle\"},\"mode\":\"markers\",\"name\":\"Senna\",\"orientation\":\"v\",\"showlegend\":true,\"x\":[17698.0],\"xaxis\":\"x\",\"y\":[17436.0],\"yaxis\":\"y\",\"type\":\"scatter\"},{\"hovertemplate\":\"championName=Seraphine<br>totalDamageDealtToChampions=%{x}<br>totalDamageTaken=%{y}<extra></extra>\",\"legendgroup\":\"Seraphine\",\"marker\":{\"color\":\"#FFA15A\",\"symbol\":\"circle\"},\"mode\":\"markers\",\"name\":\"Seraphine\",\"orientation\":\"v\",\"showlegend\":true,\"x\":[11793.0],\"xaxis\":\"x\",\"y\":[15857.0],\"yaxis\":\"y\",\"type\":\"scatter\"},{\"hovertemplate\":\"championName=Sett<br>totalDamageDealtToChampions=%{x}<br>totalDamageTaken=%{y}<extra></extra>\",\"legendgroup\":\"Sett\",\"marker\":{\"color\":\"#19d3f3\",\"symbol\":\"circle\"},\"mode\":\"markers\",\"name\":\"Sett\",\"orientation\":\"v\",\"showlegend\":true,\"x\":[21149.0],\"xaxis\":\"x\",\"y\":[32905.0],\"yaxis\":\"y\",\"type\":\"scatter\"},{\"hovertemplate\":\"championName=Shaco<br>totalDamageDealtToChampions=%{x}<br>totalDamageTaken=%{y}<extra></extra>\",\"legendgroup\":\"Shaco\",\"marker\":{\"color\":\"#FF6692\",\"symbol\":\"circle\"},\"mode\":\"markers\",\"name\":\"Shaco\",\"orientation\":\"v\",\"showlegend\":true,\"x\":[20040.0],\"xaxis\":\"x\",\"y\":[23116.0],\"yaxis\":\"y\",\"type\":\"scatter\"},{\"hovertemplate\":\"championName=Shen<br>totalDamageDealtToChampions=%{x}<br>totalDamageTaken=%{y}<extra></extra>\",\"legendgroup\":\"Shen\",\"marker\":{\"color\":\"#B6E880\",\"symbol\":\"circle\"},\"mode\":\"markers\",\"name\":\"Shen\",\"orientation\":\"v\",\"showlegend\":true,\"x\":[17923.0],\"xaxis\":\"x\",\"y\":[29446.0],\"yaxis\":\"y\",\"type\":\"scatter\"},{\"hovertemplate\":\"championName=Shyvana<br>totalDamageDealtToChampions=%{x}<br>totalDamageTaken=%{y}<extra></extra>\",\"legendgroup\":\"Shyvana\",\"marker\":{\"color\":\"#FF97FF\",\"symbol\":\"circle\"},\"mode\":\"markers\",\"name\":\"Shyvana\",\"orientation\":\"v\",\"showlegend\":true,\"x\":[29725.0],\"xaxis\":\"x\",\"y\":[31967.0],\"yaxis\":\"y\",\"type\":\"scatter\"},{\"hovertemplate\":\"championName=Singed<br>totalDamageDealtToChampions=%{x}<br>totalDamageTaken=%{y}<extra></extra>\",\"legendgroup\":\"Singed\",\"marker\":{\"color\":\"#FECB52\",\"symbol\":\"circle\"},\"mode\":\"markers\",\"name\":\"Singed\",\"orientation\":\"v\",\"showlegend\":true,\"x\":[17245.0],\"xaxis\":\"x\",\"y\":[27923.0],\"yaxis\":\"y\",\"type\":\"scatter\"},{\"hovertemplate\":\"championName=Sion<br>totalDamageDealtToChampions=%{x}<br>totalDamageTaken=%{y}<extra></extra>\",\"legendgroup\":\"Sion\",\"marker\":{\"color\":\"#636efa\",\"symbol\":\"circle\"},\"mode\":\"markers\",\"name\":\"Sion\",\"orientation\":\"v\",\"showlegend\":true,\"x\":[25442.0],\"xaxis\":\"x\",\"y\":[44366.0],\"yaxis\":\"y\",\"type\":\"scatter\"},{\"hovertemplate\":\"championName=Sivir<br>totalDamageDealtToChampions=%{x}<br>totalDamageTaken=%{y}<extra></extra>\",\"legendgroup\":\"Sivir\",\"marker\":{\"color\":\"#EF553B\",\"symbol\":\"circle\"},\"mode\":\"markers\",\"name\":\"Sivir\",\"orientation\":\"v\",\"showlegend\":true,\"x\":[22604.0],\"xaxis\":\"x\",\"y\":[20226.0],\"yaxis\":\"y\",\"type\":\"scatter\"},{\"hovertemplate\":\"championName=Skarner<br>totalDamageDealtToChampions=%{x}<br>totalDamageTaken=%{y}<extra></extra>\",\"legendgroup\":\"Skarner\",\"marker\":{\"color\":\"#00cc96\",\"symbol\":\"circle\"},\"mode\":\"markers\",\"name\":\"Skarner\",\"orientation\":\"v\",\"showlegend\":true,\"x\":[17515.0],\"xaxis\":\"x\",\"y\":[28926.0],\"yaxis\":\"y\",\"type\":\"scatter\"},{\"hovertemplate\":\"championName=Sona<br>totalDamageDealtToChampions=%{x}<br>totalDamageTaken=%{y}<extra></extra>\",\"legendgroup\":\"Sona\",\"marker\":{\"color\":\"#ab63fa\",\"symbol\":\"circle\"},\"mode\":\"markers\",\"name\":\"Sona\",\"orientation\":\"v\",\"showlegend\":true,\"x\":[11318.0],\"xaxis\":\"x\",\"y\":[20546.0],\"yaxis\":\"y\",\"type\":\"scatter\"},{\"hovertemplate\":\"championName=Soraka<br>totalDamageDealtToChampions=%{x}<br>totalDamageTaken=%{y}<extra></extra>\",\"legendgroup\":\"Soraka\",\"marker\":{\"color\":\"#FFA15A\",\"symbol\":\"circle\"},\"mode\":\"markers\",\"name\":\"Soraka\",\"orientation\":\"v\",\"showlegend\":true,\"x\":[8728.0],\"xaxis\":\"x\",\"y\":[24777.0],\"yaxis\":\"y\",\"type\":\"scatter\"},{\"hovertemplate\":\"championName=Swain<br>totalDamageDealtToChampions=%{x}<br>totalDamageTaken=%{y}<extra></extra>\",\"legendgroup\":\"Swain\",\"marker\":{\"color\":\"#19d3f3\",\"symbol\":\"circle\"},\"mode\":\"markers\",\"name\":\"Swain\",\"orientation\":\"v\",\"showlegend\":true,\"x\":[25941.0],\"xaxis\":\"x\",\"y\":[39517.0],\"yaxis\":\"y\",\"type\":\"scatter\"},{\"hovertemplate\":\"championName=Sylas<br>totalDamageDealtToChampions=%{x}<br>totalDamageTaken=%{y}<extra></extra>\",\"legendgroup\":\"Sylas\",\"marker\":{\"color\":\"#FF6692\",\"symbol\":\"circle\"},\"mode\":\"markers\",\"name\":\"Sylas\",\"orientation\":\"v\",\"showlegend\":true,\"x\":[21607.0],\"xaxis\":\"x\",\"y\":[30076.0],\"yaxis\":\"y\",\"type\":\"scatter\"},{\"hovertemplate\":\"championName=Syndra<br>totalDamageDealtToChampions=%{x}<br>totalDamageTaken=%{y}<extra></extra>\",\"legendgroup\":\"Syndra\",\"marker\":{\"color\":\"#B6E880\",\"symbol\":\"circle\"},\"mode\":\"markers\",\"name\":\"Syndra\",\"orientation\":\"v\",\"showlegend\":true,\"x\":[23219.0],\"xaxis\":\"x\",\"y\":[17352.0],\"yaxis\":\"y\",\"type\":\"scatter\"},{\"hovertemplate\":\"championName=TahmKench<br>totalDamageDealtToChampions=%{x}<br>totalDamageTaken=%{y}<extra></extra>\",\"legendgroup\":\"TahmKench\",\"marker\":{\"color\":\"#FF97FF\",\"symbol\":\"circle\"},\"mode\":\"markers\",\"name\":\"TahmKench\",\"orientation\":\"v\",\"showlegend\":true,\"x\":[18632.0],\"xaxis\":\"x\",\"y\":[36184.0],\"yaxis\":\"y\",\"type\":\"scatter\"},{\"hovertemplate\":\"championName=Taliyah<br>totalDamageDealtToChampions=%{x}<br>totalDamageTaken=%{y}<extra></extra>\",\"legendgroup\":\"Taliyah\",\"marker\":{\"color\":\"#FECB52\",\"symbol\":\"circle\"},\"mode\":\"markers\",\"name\":\"Taliyah\",\"orientation\":\"v\",\"showlegend\":true,\"x\":[21421.0],\"xaxis\":\"x\",\"y\":[20742.0],\"yaxis\":\"y\",\"type\":\"scatter\"},{\"hovertemplate\":\"championName=Talon<br>totalDamageDealtToChampions=%{x}<br>totalDamageTaken=%{y}<extra></extra>\",\"legendgroup\":\"Talon\",\"marker\":{\"color\":\"#636efa\",\"symbol\":\"circle\"},\"mode\":\"markers\",\"name\":\"Talon\",\"orientation\":\"v\",\"showlegend\":true,\"x\":[22150.0],\"xaxis\":\"x\",\"y\":[26628.0],\"yaxis\":\"y\",\"type\":\"scatter\"},{\"hovertemplate\":\"championName=Taric<br>totalDamageDealtToChampions=%{x}<br>totalDamageTaken=%{y}<extra></extra>\",\"legendgroup\":\"Taric\",\"marker\":{\"color\":\"#EF553B\",\"symbol\":\"circle\"},\"mode\":\"markers\",\"name\":\"Taric\",\"orientation\":\"v\",\"showlegend\":true,\"x\":[8756.0],\"xaxis\":\"x\",\"y\":[19911.0],\"yaxis\":\"y\",\"type\":\"scatter\"},{\"hovertemplate\":\"championName=Teemo<br>totalDamageDealtToChampions=%{x}<br>totalDamageTaken=%{y}<extra></extra>\",\"legendgroup\":\"Teemo\",\"marker\":{\"color\":\"#00cc96\",\"symbol\":\"circle\"},\"mode\":\"markers\",\"name\":\"Teemo\",\"orientation\":\"v\",\"showlegend\":true,\"x\":[20178.0],\"xaxis\":\"x\",\"y\":[19500.0],\"yaxis\":\"y\",\"type\":\"scatter\"},{\"hovertemplate\":\"championName=Thresh<br>totalDamageDealtToChampions=%{x}<br>totalDamageTaken=%{y}<extra></extra>\",\"legendgroup\":\"Thresh\",\"marker\":{\"color\":\"#ab63fa\",\"symbol\":\"circle\"},\"mode\":\"markers\",\"name\":\"Thresh\",\"orientation\":\"v\",\"showlegend\":true,\"x\":[7807.0],\"xaxis\":\"x\",\"y\":[19514.0],\"yaxis\":\"y\",\"type\":\"scatter\"},{\"hovertemplate\":\"championName=Tristana<br>totalDamageDealtToChampions=%{x}<br>totalDamageTaken=%{y}<extra></extra>\",\"legendgroup\":\"Tristana\",\"marker\":{\"color\":\"#FFA15A\",\"symbol\":\"circle\"},\"mode\":\"markers\",\"name\":\"Tristana\",\"orientation\":\"v\",\"showlegend\":true,\"x\":[16281.0],\"xaxis\":\"x\",\"y\":[18150.0],\"yaxis\":\"y\",\"type\":\"scatter\"},{\"hovertemplate\":\"championName=Trundle<br>totalDamageDealtToChampions=%{x}<br>totalDamageTaken=%{y}<extra></extra>\",\"legendgroup\":\"Trundle\",\"marker\":{\"color\":\"#19d3f3\",\"symbol\":\"circle\"},\"mode\":\"markers\",\"name\":\"Trundle\",\"orientation\":\"v\",\"showlegend\":true,\"x\":[18839.0],\"xaxis\":\"x\",\"y\":[32520.0],\"yaxis\":\"y\",\"type\":\"scatter\"},{\"hovertemplate\":\"championName=Tryndamere<br>totalDamageDealtToChampions=%{x}<br>totalDamageTaken=%{y}<extra></extra>\",\"legendgroup\":\"Tryndamere\",\"marker\":{\"color\":\"#FF6692\",\"symbol\":\"circle\"},\"mode\":\"markers\",\"name\":\"Tryndamere\",\"orientation\":\"v\",\"showlegend\":true,\"x\":[21585.0],\"xaxis\":\"x\",\"y\":[38237.0],\"yaxis\":\"y\",\"type\":\"scatter\"},{\"hovertemplate\":\"championName=TwistedFate<br>totalDamageDealtToChampions=%{x}<br>totalDamageTaken=%{y}<extra></extra>\",\"legendgroup\":\"TwistedFate\",\"marker\":{\"color\":\"#B6E880\",\"symbol\":\"circle\"},\"mode\":\"markers\",\"name\":\"TwistedFate\",\"orientation\":\"v\",\"showlegend\":true,\"x\":[16501.0],\"xaxis\":\"x\",\"y\":[18895.0],\"yaxis\":\"y\",\"type\":\"scatter\"},{\"hovertemplate\":\"championName=Twitch<br>totalDamageDealtToChampions=%{x}<br>totalDamageTaken=%{y}<extra></extra>\",\"legendgroup\":\"Twitch\",\"marker\":{\"color\":\"#FF97FF\",\"symbol\":\"circle\"},\"mode\":\"markers\",\"name\":\"Twitch\",\"orientation\":\"v\",\"showlegend\":true,\"x\":[23866.0],\"xaxis\":\"x\",\"y\":[19118.0],\"yaxis\":\"y\",\"type\":\"scatter\"},{\"hovertemplate\":\"championName=Udyr<br>totalDamageDealtToChampions=%{x}<br>totalDamageTaken=%{y}<extra></extra>\",\"legendgroup\":\"Udyr\",\"marker\":{\"color\":\"#FECB52\",\"symbol\":\"circle\"},\"mode\":\"markers\",\"name\":\"Udyr\",\"orientation\":\"v\",\"showlegend\":true,\"x\":[21637.0],\"xaxis\":\"x\",\"y\":[24834.0],\"yaxis\":\"y\",\"type\":\"scatter\"},{\"hovertemplate\":\"championName=Urgot<br>totalDamageDealtToChampions=%{x}<br>totalDamageTaken=%{y}<extra></extra>\",\"legendgroup\":\"Urgot\",\"marker\":{\"color\":\"#636efa\",\"symbol\":\"circle\"},\"mode\":\"markers\",\"name\":\"Urgot\",\"orientation\":\"v\",\"showlegend\":true,\"x\":[22727.0],\"xaxis\":\"x\",\"y\":[27159.0],\"yaxis\":\"y\",\"type\":\"scatter\"},{\"hovertemplate\":\"championName=Varus<br>totalDamageDealtToChampions=%{x}<br>totalDamageTaken=%{y}<extra></extra>\",\"legendgroup\":\"Varus\",\"marker\":{\"color\":\"#EF553B\",\"symbol\":\"circle\"},\"mode\":\"markers\",\"name\":\"Varus\",\"orientation\":\"v\",\"showlegend\":true,\"x\":[22540.0],\"xaxis\":\"x\",\"y\":[19185.0],\"yaxis\":\"y\",\"type\":\"scatter\"},{\"hovertemplate\":\"championName=Vayne<br>totalDamageDealtToChampions=%{x}<br>totalDamageTaken=%{y}<extra></extra>\",\"legendgroup\":\"Vayne\",\"marker\":{\"color\":\"#00cc96\",\"symbol\":\"circle\"},\"mode\":\"markers\",\"name\":\"Vayne\",\"orientation\":\"v\",\"showlegend\":true,\"x\":[20920.0],\"xaxis\":\"x\",\"y\":[20024.0],\"yaxis\":\"y\",\"type\":\"scatter\"},{\"hovertemplate\":\"championName=Veigar<br>totalDamageDealtToChampions=%{x}<br>totalDamageTaken=%{y}<extra></extra>\",\"legendgroup\":\"Veigar\",\"marker\":{\"color\":\"#ab63fa\",\"symbol\":\"circle\"},\"mode\":\"markers\",\"name\":\"Veigar\",\"orientation\":\"v\",\"showlegend\":true,\"x\":[23627.0],\"xaxis\":\"x\",\"y\":[19614.0],\"yaxis\":\"y\",\"type\":\"scatter\"},{\"hovertemplate\":\"championName=Velkoz<br>totalDamageDealtToChampions=%{x}<br>totalDamageTaken=%{y}<extra></extra>\",\"legendgroup\":\"Velkoz\",\"marker\":{\"color\":\"#FFA15A\",\"symbol\":\"circle\"},\"mode\":\"markers\",\"name\":\"Velkoz\",\"orientation\":\"v\",\"showlegend\":true,\"x\":[17736.0],\"xaxis\":\"x\",\"y\":[15519.0],\"yaxis\":\"y\",\"type\":\"scatter\"},{\"hovertemplate\":\"championName=Vex<br>totalDamageDealtToChampions=%{x}<br>totalDamageTaken=%{y}<extra></extra>\",\"legendgroup\":\"Vex\",\"marker\":{\"color\":\"#19d3f3\",\"symbol\":\"circle\"},\"mode\":\"markers\",\"name\":\"Vex\",\"orientation\":\"v\",\"showlegend\":true,\"x\":[20081.0],\"xaxis\":\"x\",\"y\":[18500.0],\"yaxis\":\"y\",\"type\":\"scatter\"},{\"hovertemplate\":\"championName=Vi<br>totalDamageDealtToChampions=%{x}<br>totalDamageTaken=%{y}<extra></extra>\",\"legendgroup\":\"Vi\",\"marker\":{\"color\":\"#FF6692\",\"symbol\":\"circle\"},\"mode\":\"markers\",\"name\":\"Vi\",\"orientation\":\"v\",\"showlegend\":true,\"x\":[15448.0],\"xaxis\":\"x\",\"y\":[27062.0],\"yaxis\":\"y\",\"type\":\"scatter\"},{\"hovertemplate\":\"championName=Viego<br>totalDamageDealtToChampions=%{x}<br>totalDamageTaken=%{y}<extra></extra>\",\"legendgroup\":\"Viego\",\"marker\":{\"color\":\"#B6E880\",\"symbol\":\"circle\"},\"mode\":\"markers\",\"name\":\"Viego\",\"orientation\":\"v\",\"showlegend\":true,\"x\":[18564.0],\"xaxis\":\"x\",\"y\":[30341.0],\"yaxis\":\"y\",\"type\":\"scatter\"},{\"hovertemplate\":\"championName=Viktor<br>totalDamageDealtToChampions=%{x}<br>totalDamageTaken=%{y}<extra></extra>\",\"legendgroup\":\"Viktor\",\"marker\":{\"color\":\"#FF97FF\",\"symbol\":\"circle\"},\"mode\":\"markers\",\"name\":\"Viktor\",\"orientation\":\"v\",\"showlegend\":true,\"x\":[24188.0],\"xaxis\":\"x\",\"y\":[16851.0],\"yaxis\":\"y\",\"type\":\"scatter\"},{\"hovertemplate\":\"championName=Vladimir<br>totalDamageDealtToChampions=%{x}<br>totalDamageTaken=%{y}<extra></extra>\",\"legendgroup\":\"Vladimir\",\"marker\":{\"color\":\"#FECB52\",\"symbol\":\"circle\"},\"mode\":\"markers\",\"name\":\"Vladimir\",\"orientation\":\"v\",\"showlegend\":true,\"x\":[24668.0],\"xaxis\":\"x\",\"y\":[31460.0],\"yaxis\":\"y\",\"type\":\"scatter\"},{\"hovertemplate\":\"championName=Volibear<br>totalDamageDealtToChampions=%{x}<br>totalDamageTaken=%{y}<extra></extra>\",\"legendgroup\":\"Volibear\",\"marker\":{\"color\":\"#636efa\",\"symbol\":\"circle\"},\"mode\":\"markers\",\"name\":\"Volibear\",\"orientation\":\"v\",\"showlegend\":true,\"x\":[27444.0],\"xaxis\":\"x\",\"y\":[40429.0],\"yaxis\":\"y\",\"type\":\"scatter\"},{\"hovertemplate\":\"championName=Warwick<br>totalDamageDealtToChampions=%{x}<br>totalDamageTaken=%{y}<extra></extra>\",\"legendgroup\":\"Warwick\",\"marker\":{\"color\":\"#EF553B\",\"symbol\":\"circle\"},\"mode\":\"markers\",\"name\":\"Warwick\",\"orientation\":\"v\",\"showlegend\":true,\"x\":[19646.0],\"xaxis\":\"x\",\"y\":[36949.0],\"yaxis\":\"y\",\"type\":\"scatter\"},{\"hovertemplate\":\"championName=Xayah<br>totalDamageDealtToChampions=%{x}<br>totalDamageTaken=%{y}<extra></extra>\",\"legendgroup\":\"Xayah\",\"marker\":{\"color\":\"#00cc96\",\"symbol\":\"circle\"},\"mode\":\"markers\",\"name\":\"Xayah\",\"orientation\":\"v\",\"showlegend\":true,\"x\":[18987.0],\"xaxis\":\"x\",\"y\":[17811.0],\"yaxis\":\"y\",\"type\":\"scatter\"},{\"hovertemplate\":\"championName=Xerath<br>totalDamageDealtToChampions=%{x}<br>totalDamageTaken=%{y}<extra></extra>\",\"legendgroup\":\"Xerath\",\"marker\":{\"color\":\"#ab63fa\",\"symbol\":\"circle\"},\"mode\":\"markers\",\"name\":\"Xerath\",\"orientation\":\"v\",\"showlegend\":true,\"x\":[20597.0],\"xaxis\":\"x\",\"y\":[14745.0],\"yaxis\":\"y\",\"type\":\"scatter\"},{\"hovertemplate\":\"championName=XinZhao<br>totalDamageDealtToChampions=%{x}<br>totalDamageTaken=%{y}<extra></extra>\",\"legendgroup\":\"XinZhao\",\"marker\":{\"color\":\"#FFA15A\",\"symbol\":\"circle\"},\"mode\":\"markers\",\"name\":\"XinZhao\",\"orientation\":\"v\",\"showlegend\":true,\"x\":[17100.0],\"xaxis\":\"x\",\"y\":[29119.0],\"yaxis\":\"y\",\"type\":\"scatter\"},{\"hovertemplate\":\"championName=Yasuo<br>totalDamageDealtToChampions=%{x}<br>totalDamageTaken=%{y}<extra></extra>\",\"legendgroup\":\"Yasuo\",\"marker\":{\"color\":\"#19d3f3\",\"symbol\":\"circle\"},\"mode\":\"markers\",\"name\":\"Yasuo\",\"orientation\":\"v\",\"showlegend\":true,\"x\":[20365.0],\"xaxis\":\"x\",\"y\":[23630.0],\"yaxis\":\"y\",\"type\":\"scatter\"},{\"hovertemplate\":\"championName=Yone<br>totalDamageDealtToChampions=%{x}<br>totalDamageTaken=%{y}<extra></extra>\",\"legendgroup\":\"Yone\",\"marker\":{\"color\":\"#FF6692\",\"symbol\":\"circle\"},\"mode\":\"markers\",\"name\":\"Yone\",\"orientation\":\"v\",\"showlegend\":true,\"x\":[23237.0],\"xaxis\":\"x\",\"y\":[25367.0],\"yaxis\":\"y\",\"type\":\"scatter\"},{\"hovertemplate\":\"championName=Yorick<br>totalDamageDealtToChampions=%{x}<br>totalDamageTaken=%{y}<extra></extra>\",\"legendgroup\":\"Yorick\",\"marker\":{\"color\":\"#B6E880\",\"symbol\":\"circle\"},\"mode\":\"markers\",\"name\":\"Yorick\",\"orientation\":\"v\",\"showlegend\":true,\"x\":[23550.0],\"xaxis\":\"x\",\"y\":[23070.0],\"yaxis\":\"y\",\"type\":\"scatter\"},{\"hovertemplate\":\"championName=Yuumi<br>totalDamageDealtToChampions=%{x}<br>totalDamageTaken=%{y}<extra></extra>\",\"legendgroup\":\"Yuumi\",\"marker\":{\"color\":\"#FF97FF\",\"symbol\":\"circle\"},\"mode\":\"markers\",\"name\":\"Yuumi\",\"orientation\":\"v\",\"showlegend\":true,\"x\":[8458.0],\"xaxis\":\"x\",\"y\":[9114.0],\"yaxis\":\"y\",\"type\":\"scatter\"},{\"hovertemplate\":\"championName=Zac<br>totalDamageDealtToChampions=%{x}<br>totalDamageTaken=%{y}<extra></extra>\",\"legendgroup\":\"Zac\",\"marker\":{\"color\":\"#FECB52\",\"symbol\":\"circle\"},\"mode\":\"markers\",\"name\":\"Zac\",\"orientation\":\"v\",\"showlegend\":true,\"x\":[16091.0],\"xaxis\":\"x\",\"y\":[37119.0],\"yaxis\":\"y\",\"type\":\"scatter\"},{\"hovertemplate\":\"championName=Zed<br>totalDamageDealtToChampions=%{x}<br>totalDamageTaken=%{y}<extra></extra>\",\"legendgroup\":\"Zed\",\"marker\":{\"color\":\"#636efa\",\"symbol\":\"circle\"},\"mode\":\"markers\",\"name\":\"Zed\",\"orientation\":\"v\",\"showlegend\":true,\"x\":[25143.0],\"xaxis\":\"x\",\"y\":[19488.0],\"yaxis\":\"y\",\"type\":\"scatter\"},{\"hovertemplate\":\"championName=Zeri<br>totalDamageDealtToChampions=%{x}<br>totalDamageTaken=%{y}<extra></extra>\",\"legendgroup\":\"Zeri\",\"marker\":{\"color\":\"#EF553B\",\"symbol\":\"circle\"},\"mode\":\"markers\",\"name\":\"Zeri\",\"orientation\":\"v\",\"showlegend\":true,\"x\":[26561.0],\"xaxis\":\"x\",\"y\":[22083.0],\"yaxis\":\"y\",\"type\":\"scatter\"},{\"hovertemplate\":\"championName=Ziggs<br>totalDamageDealtToChampions=%{x}<br>totalDamageTaken=%{y}<extra></extra>\",\"legendgroup\":\"Ziggs\",\"marker\":{\"color\":\"#00cc96\",\"symbol\":\"circle\"},\"mode\":\"markers\",\"name\":\"Ziggs\",\"orientation\":\"v\",\"showlegend\":true,\"x\":[26949.0],\"xaxis\":\"x\",\"y\":[16348.0],\"yaxis\":\"y\",\"type\":\"scatter\"},{\"hovertemplate\":\"championName=Zilean<br>totalDamageDealtToChampions=%{x}<br>totalDamageTaken=%{y}<extra></extra>\",\"legendgroup\":\"Zilean\",\"marker\":{\"color\":\"#ab63fa\",\"symbol\":\"circle\"},\"mode\":\"markers\",\"name\":\"Zilean\",\"orientation\":\"v\",\"showlegend\":true,\"x\":[10756.0],\"xaxis\":\"x\",\"y\":[18465.0],\"yaxis\":\"y\",\"type\":\"scatter\"},{\"hovertemplate\":\"championName=Zoe<br>totalDamageDealtToChampions=%{x}<br>totalDamageTaken=%{y}<extra></extra>\",\"legendgroup\":\"Zoe\",\"marker\":{\"color\":\"#FFA15A\",\"symbol\":\"circle\"},\"mode\":\"markers\",\"name\":\"Zoe\",\"orientation\":\"v\",\"showlegend\":true,\"x\":[18280.0],\"xaxis\":\"x\",\"y\":[16166.0],\"yaxis\":\"y\",\"type\":\"scatter\"},{\"hovertemplate\":\"championName=Zyra<br>totalDamageDealtToChampions=%{x}<br>totalDamageTaken=%{y}<extra></extra>\",\"legendgroup\":\"Zyra\",\"marker\":{\"color\":\"#19d3f3\",\"symbol\":\"circle\"},\"mode\":\"markers\",\"name\":\"Zyra\",\"orientation\":\"v\",\"showlegend\":true,\"x\":[19398.0],\"xaxis\":\"x\",\"y\":[16520.0],\"yaxis\":\"y\",\"type\":\"scatter\"}],                        {\"template\":{\"data\":{\"histogram2dcontour\":[{\"type\":\"histogram2dcontour\",\"colorbar\":{\"outlinewidth\":0,\"ticks\":\"\"},\"colorscale\":[[0.0,\"#0d0887\"],[0.1111111111111111,\"#46039f\"],[0.2222222222222222,\"#7201a8\"],[0.3333333333333333,\"#9c179e\"],[0.4444444444444444,\"#bd3786\"],[0.5555555555555556,\"#d8576b\"],[0.6666666666666666,\"#ed7953\"],[0.7777777777777778,\"#fb9f3a\"],[0.8888888888888888,\"#fdca26\"],[1.0,\"#f0f921\"]]}],\"choropleth\":[{\"type\":\"choropleth\",\"colorbar\":{\"outlinewidth\":0,\"ticks\":\"\"}}],\"histogram2d\":[{\"type\":\"histogram2d\",\"colorbar\":{\"outlinewidth\":0,\"ticks\":\"\"},\"colorscale\":[[0.0,\"#0d0887\"],[0.1111111111111111,\"#46039f\"],[0.2222222222222222,\"#7201a8\"],[0.3333333333333333,\"#9c179e\"],[0.4444444444444444,\"#bd3786\"],[0.5555555555555556,\"#d8576b\"],[0.6666666666666666,\"#ed7953\"],[0.7777777777777778,\"#fb9f3a\"],[0.8888888888888888,\"#fdca26\"],[1.0,\"#f0f921\"]]}],\"heatmap\":[{\"type\":\"heatmap\",\"colorbar\":{\"outlinewidth\":0,\"ticks\":\"\"},\"colorscale\":[[0.0,\"#0d0887\"],[0.1111111111111111,\"#46039f\"],[0.2222222222222222,\"#7201a8\"],[0.3333333333333333,\"#9c179e\"],[0.4444444444444444,\"#bd3786\"],[0.5555555555555556,\"#d8576b\"],[0.6666666666666666,\"#ed7953\"],[0.7777777777777778,\"#fb9f3a\"],[0.8888888888888888,\"#fdca26\"],[1.0,\"#f0f921\"]]}],\"heatmapgl\":[{\"type\":\"heatmapgl\",\"colorbar\":{\"outlinewidth\":0,\"ticks\":\"\"},\"colorscale\":[[0.0,\"#0d0887\"],[0.1111111111111111,\"#46039f\"],[0.2222222222222222,\"#7201a8\"],[0.3333333333333333,\"#9c179e\"],[0.4444444444444444,\"#bd3786\"],[0.5555555555555556,\"#d8576b\"],[0.6666666666666666,\"#ed7953\"],[0.7777777777777778,\"#fb9f3a\"],[0.8888888888888888,\"#fdca26\"],[1.0,\"#f0f921\"]]}],\"contourcarpet\":[{\"type\":\"contourcarpet\",\"colorbar\":{\"outlinewidth\":0,\"ticks\":\"\"}}],\"contour\":[{\"type\":\"contour\",\"colorbar\":{\"outlinewidth\":0,\"ticks\":\"\"},\"colorscale\":[[0.0,\"#0d0887\"],[0.1111111111111111,\"#46039f\"],[0.2222222222222222,\"#7201a8\"],[0.3333333333333333,\"#9c179e\"],[0.4444444444444444,\"#bd3786\"],[0.5555555555555556,\"#d8576b\"],[0.6666666666666666,\"#ed7953\"],[0.7777777777777778,\"#fb9f3a\"],[0.8888888888888888,\"#fdca26\"],[1.0,\"#f0f921\"]]}],\"surface\":[{\"type\":\"surface\",\"colorbar\":{\"outlinewidth\":0,\"ticks\":\"\"},\"colorscale\":[[0.0,\"#0d0887\"],[0.1111111111111111,\"#46039f\"],[0.2222222222222222,\"#7201a8\"],[0.3333333333333333,\"#9c179e\"],[0.4444444444444444,\"#bd3786\"],[0.5555555555555556,\"#d8576b\"],[0.6666666666666666,\"#ed7953\"],[0.7777777777777778,\"#fb9f3a\"],[0.8888888888888888,\"#fdca26\"],[1.0,\"#f0f921\"]]}],\"mesh3d\":[{\"type\":\"mesh3d\",\"colorbar\":{\"outlinewidth\":0,\"ticks\":\"\"}}],\"scatter\":[{\"fillpattern\":{\"fillmode\":\"overlay\",\"size\":10,\"solidity\":0.2},\"type\":\"scatter\"}],\"parcoords\":[{\"type\":\"parcoords\",\"line\":{\"colorbar\":{\"outlinewidth\":0,\"ticks\":\"\"}}}],\"scatterpolargl\":[{\"type\":\"scatterpolargl\",\"marker\":{\"colorbar\":{\"outlinewidth\":0,\"ticks\":\"\"}}}],\"bar\":[{\"error_x\":{\"color\":\"#2a3f5f\"},\"error_y\":{\"color\":\"#2a3f5f\"},\"marker\":{\"line\":{\"color\":\"#E5ECF6\",\"width\":0.5},\"pattern\":{\"fillmode\":\"overlay\",\"size\":10,\"solidity\":0.2}},\"type\":\"bar\"}],\"scattergeo\":[{\"type\":\"scattergeo\",\"marker\":{\"colorbar\":{\"outlinewidth\":0,\"ticks\":\"\"}}}],\"scatterpolar\":[{\"type\":\"scatterpolar\",\"marker\":{\"colorbar\":{\"outlinewidth\":0,\"ticks\":\"\"}}}],\"histogram\":[{\"marker\":{\"pattern\":{\"fillmode\":\"overlay\",\"size\":10,\"solidity\":0.2}},\"type\":\"histogram\"}],\"scattergl\":[{\"type\":\"scattergl\",\"marker\":{\"colorbar\":{\"outlinewidth\":0,\"ticks\":\"\"}}}],\"scatter3d\":[{\"type\":\"scatter3d\",\"line\":{\"colorbar\":{\"outlinewidth\":0,\"ticks\":\"\"}},\"marker\":{\"colorbar\":{\"outlinewidth\":0,\"ticks\":\"\"}}}],\"scattermapbox\":[{\"type\":\"scattermapbox\",\"marker\":{\"colorbar\":{\"outlinewidth\":0,\"ticks\":\"\"}}}],\"scatterternary\":[{\"type\":\"scatterternary\",\"marker\":{\"colorbar\":{\"outlinewidth\":0,\"ticks\":\"\"}}}],\"scattercarpet\":[{\"type\":\"scattercarpet\",\"marker\":{\"colorbar\":{\"outlinewidth\":0,\"ticks\":\"\"}}}],\"carpet\":[{\"aaxis\":{\"endlinecolor\":\"#2a3f5f\",\"gridcolor\":\"white\",\"linecolor\":\"white\",\"minorgridcolor\":\"white\",\"startlinecolor\":\"#2a3f5f\"},\"baxis\":{\"endlinecolor\":\"#2a3f5f\",\"gridcolor\":\"white\",\"linecolor\":\"white\",\"minorgridcolor\":\"white\",\"startlinecolor\":\"#2a3f5f\"},\"type\":\"carpet\"}],\"table\":[{\"cells\":{\"fill\":{\"color\":\"#EBF0F8\"},\"line\":{\"color\":\"white\"}},\"header\":{\"fill\":{\"color\":\"#C8D4E3\"},\"line\":{\"color\":\"white\"}},\"type\":\"table\"}],\"barpolar\":[{\"marker\":{\"line\":{\"color\":\"#E5ECF6\",\"width\":0.5},\"pattern\":{\"fillmode\":\"overlay\",\"size\":10,\"solidity\":0.2}},\"type\":\"barpolar\"}],\"pie\":[{\"automargin\":true,\"type\":\"pie\"}]},\"layout\":{\"autotypenumbers\":\"strict\",\"colorway\":[\"#636efa\",\"#EF553B\",\"#00cc96\",\"#ab63fa\",\"#FFA15A\",\"#19d3f3\",\"#FF6692\",\"#B6E880\",\"#FF97FF\",\"#FECB52\"],\"font\":{\"color\":\"#2a3f5f\"},\"hovermode\":\"closest\",\"hoverlabel\":{\"align\":\"left\"},\"paper_bgcolor\":\"white\",\"plot_bgcolor\":\"#E5ECF6\",\"polar\":{\"bgcolor\":\"#E5ECF6\",\"angularaxis\":{\"gridcolor\":\"white\",\"linecolor\":\"white\",\"ticks\":\"\"},\"radialaxis\":{\"gridcolor\":\"white\",\"linecolor\":\"white\",\"ticks\":\"\"}},\"ternary\":{\"bgcolor\":\"#E5ECF6\",\"aaxis\":{\"gridcolor\":\"white\",\"linecolor\":\"white\",\"ticks\":\"\"},\"baxis\":{\"gridcolor\":\"white\",\"linecolor\":\"white\",\"ticks\":\"\"},\"caxis\":{\"gridcolor\":\"white\",\"linecolor\":\"white\",\"ticks\":\"\"}},\"coloraxis\":{\"colorbar\":{\"outlinewidth\":0,\"ticks\":\"\"}},\"colorscale\":{\"sequential\":[[0.0,\"#0d0887\"],[0.1111111111111111,\"#46039f\"],[0.2222222222222222,\"#7201a8\"],[0.3333333333333333,\"#9c179e\"],[0.4444444444444444,\"#bd3786\"],[0.5555555555555556,\"#d8576b\"],[0.6666666666666666,\"#ed7953\"],[0.7777777777777778,\"#fb9f3a\"],[0.8888888888888888,\"#fdca26\"],[1.0,\"#f0f921\"]],\"sequentialminus\":[[0.0,\"#0d0887\"],[0.1111111111111111,\"#46039f\"],[0.2222222222222222,\"#7201a8\"],[0.3333333333333333,\"#9c179e\"],[0.4444444444444444,\"#bd3786\"],[0.5555555555555556,\"#d8576b\"],[0.6666666666666666,\"#ed7953\"],[0.7777777777777778,\"#fb9f3a\"],[0.8888888888888888,\"#fdca26\"],[1.0,\"#f0f921\"]],\"diverging\":[[0,\"#8e0152\"],[0.1,\"#c51b7d\"],[0.2,\"#de77ae\"],[0.3,\"#f1b6da\"],[0.4,\"#fde0ef\"],[0.5,\"#f7f7f7\"],[0.6,\"#e6f5d0\"],[0.7,\"#b8e186\"],[0.8,\"#7fbc41\"],[0.9,\"#4d9221\"],[1,\"#276419\"]]},\"xaxis\":{\"gridcolor\":\"white\",\"linecolor\":\"white\",\"ticks\":\"\",\"title\":{\"standoff\":15},\"zerolinecolor\":\"white\",\"automargin\":true,\"zerolinewidth\":2},\"yaxis\":{\"gridcolor\":\"white\",\"linecolor\":\"white\",\"ticks\":\"\",\"title\":{\"standoff\":15},\"zerolinecolor\":\"white\",\"automargin\":true,\"zerolinewidth\":2},\"scene\":{\"xaxis\":{\"backgroundcolor\":\"#E5ECF6\",\"gridcolor\":\"white\",\"linecolor\":\"white\",\"showbackground\":true,\"ticks\":\"\",\"zerolinecolor\":\"white\",\"gridwidth\":2},\"yaxis\":{\"backgroundcolor\":\"#E5ECF6\",\"gridcolor\":\"white\",\"linecolor\":\"white\",\"showbackground\":true,\"ticks\":\"\",\"zerolinecolor\":\"white\",\"gridwidth\":2},\"zaxis\":{\"backgroundcolor\":\"#E5ECF6\",\"gridcolor\":\"white\",\"linecolor\":\"white\",\"showbackground\":true,\"ticks\":\"\",\"zerolinecolor\":\"white\",\"gridwidth\":2}},\"shapedefaults\":{\"line\":{\"color\":\"#2a3f5f\"}},\"annotationdefaults\":{\"arrowcolor\":\"#2a3f5f\",\"arrowhead\":0,\"arrowwidth\":1},\"geo\":{\"bgcolor\":\"white\",\"landcolor\":\"#E5ECF6\",\"subunitcolor\":\"white\",\"showland\":true,\"showlakes\":true,\"lakecolor\":\"white\"},\"title\":{\"x\":0.05},\"mapbox\":{\"style\":\"light\"}}},\"xaxis\":{\"anchor\":\"y\",\"domain\":[0.0,1.0],\"title\":{\"text\":\"totalDamageDealtToChampions\"}},\"yaxis\":{\"anchor\":\"x\",\"domain\":[0.0,1.0],\"title\":{\"text\":\"totalDamageTaken\"}},\"legend\":{\"title\":{\"text\":\"championName\"},\"tracegroupgap\":0},\"margin\":{\"t\":60}},                        {\"responsive\": true}                    ).then(function(){\n",
       "                            \n",
       "var gd = document.getElementById('3242e4b5-132d-4c6f-b928-5bab6bb22dc5');\n",
       "var x = new MutationObserver(function (mutations, observer) {{\n",
       "        var display = window.getComputedStyle(gd).display;\n",
       "        if (!display || display === 'none') {{\n",
       "            console.log([gd, 'removed!']);\n",
       "            Plotly.purge(gd);\n",
       "            observer.disconnect();\n",
       "        }}\n",
       "}});\n",
       "\n",
       "// Listen for the removal of the full notebook cells\n",
       "var notebookContainer = gd.closest('#notebook-container');\n",
       "if (notebookContainer) {{\n",
       "    x.observe(notebookContainer, {childList: true});\n",
       "}}\n",
       "\n",
       "// Listen for the clearing of the current output cell\n",
       "var outputEl = gd.closest('.output');\n",
       "if (outputEl) {{\n",
       "    x.observe(outputEl, {childList: true});\n",
       "}}\n",
       "\n",
       "                        })                };                });            </script>        </div>"
      ]
     },
     "metadata": {},
     "output_type": "display_data"
    }
   ],
   "source": [
    "fig = px.scatter(new_df,\n",
    "                x = 'totalDamageDealtToChampions',\n",
    "                y = 'totalDamageTaken',\n",
    "                color = 'championName')\n",
    "fig.show()"
   ]
  },
  {
   "cell_type": "code",
   "execution_count": 276,
   "id": "a5e67d63",
   "metadata": {},
   "outputs": [
    {
     "data": {
      "text/plain": [
       "Index(['gameId', 'gameDuration', 'gameVersion', 'summonerName',\n",
       "       'summonerLevel', 'participantId', 'championName', 'champExperience',\n",
       "       'teamPosition', 'teamId', 'win', 'kills', 'deaths', 'assists',\n",
       "       'totalDamageDealtToChampions', 'totalDamageTaken', 'g_5', 'g_6', 'g_7',\n",
       "       'g_8', 'g_9', 'g_10', 'g_11', 'g_12', 'g_13', 'g_14', 'g_15', 'g_16',\n",
       "       'g_17', 'g_18', 'g_19', 'g_20', 'g_21', 'g_22', 'g_23', 'g_24', 'g_25'],\n",
       "      dtype='object')"
      ]
     },
     "execution_count": 276,
     "metadata": {},
     "output_type": "execute_result"
    }
   ],
   "source": [
    "df.columns"
   ]
  },
  {
   "cell_type": "code",
   "execution_count": 254,
   "id": "1be7a2ce",
   "metadata": {},
   "outputs": [],
   "source": [
    "# - blue팀 정글포지션인 사람들만 꺼내서 [GAMEID,CHAMPIONNAME,WIN].RENAME(CHAMPIONID -> j_champ) (테이블 이름 - blue_jungle)\n",
    "# - blue팀 탑포지션인 사람들만 꺼내서 [GAMEID,CHAMPIONNAME,WIN].RENAME(CHAMPIONID -> t_champ) (테이블 이름 - blue_top)\n",
    "# - blue팀끼리 merge \n",
    "\n",
    "# - red 동일하게 정글, 탑 뽑아내서 merge\n",
    "\n",
    "\n",
    "# - blue팀과 red팀의 데이터를 merge하기 위해서 enemy_blue / enemy_red 라는 데이터프레임 제작 \n",
    "# - 이후 championName들을 rename을 통해 각각 enemy_j_champ_cham enemy_t_champ으로 변환\n",
    "\n",
    "\n",
    "# - blue팀입장에서 red팀의 데이터 merge\n",
    "# - red 팀 입장에서 blue팀 데이터 merge\n",
    "\n",
    "# - 위에서 만들어진 merge테이블을 concat을 이용해서 하나의 데이터 테이블로 만들기\n",
    "# - games와 win의 횟수를 구하고 win_rate(승률) 컬럼을 추가한 result 테이블 "
   ]
  },
  {
   "cell_type": "code",
   "execution_count": 347,
   "id": "55c08182",
   "metadata": {},
   "outputs": [],
   "source": [
    "blue_team = df[df['teamId'] == 100]\n",
    "red_team = df[df['teamId'] == 200]"
   ]
  },
  {
   "cell_type": "code",
   "execution_count": 348,
   "id": "c6378d3d",
   "metadata": {},
   "outputs": [],
   "source": [
    "lol_df1 = blue_team[['gameId','teamPosition','championName','win']]\n",
    "lol_df2 = red_team[['gameId','teamPosition','championName','win']]"
   ]
  },
  {
   "cell_type": "code",
   "execution_count": 349,
   "id": "6f8b3b98",
   "metadata": {},
   "outputs": [],
   "source": [
    "blue_jungle = lol_df1.loc[lol_df1['teamPosition'] == 'JUNGLE']\n",
    "blue_top = lol_df1.loc[lol_df1['teamPosition'] == 'TOP']"
   ]
  },
  {
   "cell_type": "code",
   "execution_count": 350,
   "id": "94b27e51",
   "metadata": {},
   "outputs": [],
   "source": [
    "red_jungle = lol_df2.loc[lol_df2['teamPosition'] == 'JUNGLE']\n",
    "red_top = lol_df2.loc[lol_df2['teamPosition'] == 'TOP']"
   ]
  },
  {
   "cell_type": "code",
   "execution_count": 351,
   "id": "dbc63004",
   "metadata": {},
   "outputs": [],
   "source": [
    "blue_merge = pd.merge(blue_jungle,blue_top,on=('gameId','win'))\n",
    "red_merge = pd.merge(red_jungle,red_top,on=('gameId','win'))"
   ]
  },
  {
   "cell_type": "code",
   "execution_count": 352,
   "id": "5fe9ea35",
   "metadata": {},
   "outputs": [],
   "source": [
    "all_merge = pd.merge(blue_merge,red_merge, on=('gameId'))\n",
    "all_merge2 = pd.merge(red_merge,blue_merge, on=('gameId'))"
   ]
  },
  {
   "cell_type": "code",
   "execution_count": 354,
   "id": "6ce0a6d2",
   "metadata": {},
   "outputs": [],
   "source": [
    "all_merge.columns = ['gameId','b_j','j_champ','win','b_t','t_champ','r_j','enemy_j_champ','r_w','r_t','enemy_t_champ']\n",
    "all_merge2.columns = ['gameId','r_j','j_champ','win','r_t','t_champ','b_j','enemy_j_champ','b_w','b_t','enemy_t_champ']"
   ]
  },
  {
   "cell_type": "code",
   "execution_count": 355,
   "id": "88721693",
   "metadata": {},
   "outputs": [],
   "source": [
    "data = all_merge[['j_champ','t_champ','enemy_j_champ','enemy_t_champ','win']]"
   ]
  },
  {
   "cell_type": "code",
   "execution_count": 356,
   "id": "d7da9ec3",
   "metadata": {},
   "outputs": [
    {
     "data": {
      "text/html": [
       "<div>\n",
       "<style scoped>\n",
       "    .dataframe tbody tr th:only-of-type {\n",
       "        vertical-align: middle;\n",
       "    }\n",
       "\n",
       "    .dataframe tbody tr th {\n",
       "        vertical-align: top;\n",
       "    }\n",
       "\n",
       "    .dataframe thead th {\n",
       "        text-align: right;\n",
       "    }\n",
       "</style>\n",
       "<table border=\"1\" class=\"dataframe\">\n",
       "  <thead>\n",
       "    <tr style=\"text-align: right;\">\n",
       "      <th></th>\n",
       "      <th>j_champ</th>\n",
       "      <th>t_champ</th>\n",
       "      <th>enemy_j_champ</th>\n",
       "      <th>enemy_t_champ</th>\n",
       "      <th>win</th>\n",
       "    </tr>\n",
       "  </thead>\n",
       "  <tbody>\n",
       "    <tr>\n",
       "      <th>0</th>\n",
       "      <td>Shyvana</td>\n",
       "      <td>Renekton</td>\n",
       "      <td>Kayn</td>\n",
       "      <td>Irelia</td>\n",
       "      <td>True</td>\n",
       "    </tr>\n",
       "    <tr>\n",
       "      <th>1</th>\n",
       "      <td>Shyvana</td>\n",
       "      <td>Quinn</td>\n",
       "      <td>Khazix</td>\n",
       "      <td>Trundle</td>\n",
       "      <td>True</td>\n",
       "    </tr>\n",
       "    <tr>\n",
       "      <th>2</th>\n",
       "      <td>Graves</td>\n",
       "      <td>Poppy</td>\n",
       "      <td>Elise</td>\n",
       "      <td>Kled</td>\n",
       "      <td>False</td>\n",
       "    </tr>\n",
       "    <tr>\n",
       "      <th>3</th>\n",
       "      <td>Vi</td>\n",
       "      <td>Darius</td>\n",
       "      <td>LeeSin</td>\n",
       "      <td>Pantheon</td>\n",
       "      <td>False</td>\n",
       "    </tr>\n",
       "    <tr>\n",
       "      <th>4</th>\n",
       "      <td>Poppy</td>\n",
       "      <td>Kayle</td>\n",
       "      <td>Shaco</td>\n",
       "      <td>Yone</td>\n",
       "      <td>True</td>\n",
       "    </tr>\n",
       "    <tr>\n",
       "      <th>...</th>\n",
       "      <td>...</td>\n",
       "      <td>...</td>\n",
       "      <td>...</td>\n",
       "      <td>...</td>\n",
       "      <td>...</td>\n",
       "    </tr>\n",
       "    <tr>\n",
       "      <th>945</th>\n",
       "      <td>LeeSin</td>\n",
       "      <td>Akali</td>\n",
       "      <td>Hecarim</td>\n",
       "      <td>Nocturne</td>\n",
       "      <td>True</td>\n",
       "    </tr>\n",
       "    <tr>\n",
       "      <th>946</th>\n",
       "      <td>Khazix</td>\n",
       "      <td>Jayce</td>\n",
       "      <td>Belveth</td>\n",
       "      <td>Tryndamere</td>\n",
       "      <td>False</td>\n",
       "    </tr>\n",
       "    <tr>\n",
       "      <th>947</th>\n",
       "      <td>Vi</td>\n",
       "      <td>Aatrox</td>\n",
       "      <td>Elise</td>\n",
       "      <td>Jayce</td>\n",
       "      <td>True</td>\n",
       "    </tr>\n",
       "    <tr>\n",
       "      <th>948</th>\n",
       "      <td>LeeSin</td>\n",
       "      <td>Aatrox</td>\n",
       "      <td>Nocturne</td>\n",
       "      <td>Olaf</td>\n",
       "      <td>True</td>\n",
       "    </tr>\n",
       "    <tr>\n",
       "      <th>949</th>\n",
       "      <td>Nocturne</td>\n",
       "      <td>Riven</td>\n",
       "      <td>LeeSin</td>\n",
       "      <td>Trundle</td>\n",
       "      <td>True</td>\n",
       "    </tr>\n",
       "  </tbody>\n",
       "</table>\n",
       "<p>950 rows × 5 columns</p>\n",
       "</div>"
      ],
      "text/plain": [
       "      j_champ   t_champ enemy_j_champ enemy_t_champ    win\n",
       "0     Shyvana  Renekton          Kayn        Irelia   True\n",
       "1     Shyvana     Quinn        Khazix       Trundle   True\n",
       "2      Graves     Poppy         Elise          Kled  False\n",
       "3          Vi    Darius        LeeSin      Pantheon  False\n",
       "4       Poppy     Kayle         Shaco          Yone   True\n",
       "..        ...       ...           ...           ...    ...\n",
       "945    LeeSin     Akali       Hecarim      Nocturne   True\n",
       "946    Khazix     Jayce       Belveth    Tryndamere  False\n",
       "947        Vi    Aatrox         Elise         Jayce   True\n",
       "948    LeeSin    Aatrox      Nocturne          Olaf   True\n",
       "949  Nocturne     Riven        LeeSin       Trundle   True\n",
       "\n",
       "[950 rows x 5 columns]"
      ]
     },
     "execution_count": 356,
     "metadata": {},
     "output_type": "execute_result"
    }
   ],
   "source": [
    "data"
   ]
  },
  {
   "cell_type": "code",
   "execution_count": 373,
   "id": "5f8dc48f",
   "metadata": {},
   "outputs": [
    {
     "name": "stderr",
     "output_type": "stream",
     "text": [
      "C:\\Users\\NT950QDB-KC59S\\AppData\\Local\\Temp\\ipykernel_95340\\177587854.py:1: SettingWithCopyWarning:\n",
      "\n",
      "\n",
      "A value is trying to be set on a copy of a slice from a DataFrame.\n",
      "Try using .loc[row_indexer,col_indexer] = value instead\n",
      "\n",
      "See the caveats in the documentation: https://pandas.pydata.org/pandas-docs/stable/user_guide/indexing.html#returning-a-view-versus-a-copy\n",
      "\n"
     ]
    }
   ],
   "source": [
    "data['win']=data.apply(lambda x:1 if x.win == 'True' else 0,axis=1)"
   ]
  },
  {
   "cell_type": "code",
   "execution_count": 381,
   "id": "74380c82",
   "metadata": {},
   "outputs": [],
   "source": [
    "games = data[['j_champ','t_champ','enemy_j_champ','enemy_t_champ','win']].groupby(['j_champ','t_champ','enemy_j_champ','enemy_t_champ']).count().rename(columns={'win':'cnt'})"
   ]
  },
  {
   "cell_type": "code",
   "execution_count": 382,
   "id": "512fdef2",
   "metadata": {},
   "outputs": [],
   "source": [
    "games = games.sort_values('cnt',ascending = False)"
   ]
  },
  {
   "cell_type": "code",
   "execution_count": 383,
   "id": "97bb9eb9",
   "metadata": {},
   "outputs": [
    {
     "data": {
      "text/html": [
       "<div>\n",
       "<style scoped>\n",
       "    .dataframe tbody tr th:only-of-type {\n",
       "        vertical-align: middle;\n",
       "    }\n",
       "\n",
       "    .dataframe tbody tr th {\n",
       "        vertical-align: top;\n",
       "    }\n",
       "\n",
       "    .dataframe thead th {\n",
       "        text-align: right;\n",
       "    }\n",
       "</style>\n",
       "<table border=\"1\" class=\"dataframe\">\n",
       "  <thead>\n",
       "    <tr style=\"text-align: right;\">\n",
       "      <th></th>\n",
       "      <th></th>\n",
       "      <th></th>\n",
       "      <th></th>\n",
       "      <th>cnt</th>\n",
       "    </tr>\n",
       "    <tr>\n",
       "      <th>j_champ</th>\n",
       "      <th>t_champ</th>\n",
       "      <th>enemy_j_champ</th>\n",
       "      <th>enemy_t_champ</th>\n",
       "      <th></th>\n",
       "    </tr>\n",
       "  </thead>\n",
       "  <tbody>\n",
       "    <tr>\n",
       "      <th>Amumu</th>\n",
       "      <th>Aatrox</th>\n",
       "      <th>Graves</th>\n",
       "      <th>Trundle</th>\n",
       "      <td>1</td>\n",
       "    </tr>\n",
       "    <tr>\n",
       "      <th rowspan=\"4\" valign=\"top\">Nocturne</th>\n",
       "      <th>Jax</th>\n",
       "      <th>Taliyah</th>\n",
       "      <th>Malphite</th>\n",
       "      <td>1</td>\n",
       "    </tr>\n",
       "    <tr>\n",
       "      <th>Darius</th>\n",
       "      <th>Graves</th>\n",
       "      <th>Trundle</th>\n",
       "      <td>1</td>\n",
       "    </tr>\n",
       "    <tr>\n",
       "      <th>FiddleSticks</th>\n",
       "      <th>Graves</th>\n",
       "      <th>Trundle</th>\n",
       "      <td>1</td>\n",
       "    </tr>\n",
       "    <tr>\n",
       "      <th>Fiora</th>\n",
       "      <th>Graves</th>\n",
       "      <th>Jax</th>\n",
       "      <td>1</td>\n",
       "    </tr>\n",
       "    <tr>\n",
       "      <th>...</th>\n",
       "      <th>...</th>\n",
       "      <th>...</th>\n",
       "      <th>...</th>\n",
       "      <td>...</td>\n",
       "    </tr>\n",
       "    <tr>\n",
       "      <th rowspan=\"2\" valign=\"top\">JarvanIV</th>\n",
       "      <th rowspan=\"2\" valign=\"top\">Yone</th>\n",
       "      <th>LeeSin</th>\n",
       "      <th>KSante</th>\n",
       "      <td>1</td>\n",
       "    </tr>\n",
       "    <tr>\n",
       "      <th>Vi</th>\n",
       "      <th>Renekton</th>\n",
       "      <td>1</td>\n",
       "    </tr>\n",
       "    <tr>\n",
       "      <th rowspan=\"2\" valign=\"top\">Jax</th>\n",
       "      <th>Ashe</th>\n",
       "      <th>Nidalee</th>\n",
       "      <th>Aatrox</th>\n",
       "      <td>1</td>\n",
       "    </tr>\n",
       "    <tr>\n",
       "      <th>Darius</th>\n",
       "      <th>FiddleSticks</th>\n",
       "      <th>Aatrox</th>\n",
       "      <td>1</td>\n",
       "    </tr>\n",
       "    <tr>\n",
       "      <th>Zyra</th>\n",
       "      <th>KSante</th>\n",
       "      <th>Gragas</th>\n",
       "      <th>Olaf</th>\n",
       "      <td>1</td>\n",
       "    </tr>\n",
       "  </tbody>\n",
       "</table>\n",
       "<p>950 rows × 1 columns</p>\n",
       "</div>"
      ],
      "text/plain": [
       "                                                   cnt\n",
       "j_champ  t_champ      enemy_j_champ enemy_t_champ     \n",
       "Amumu    Aatrox       Graves        Trundle          1\n",
       "Nocturne Jax          Taliyah       Malphite         1\n",
       "         Darius       Graves        Trundle          1\n",
       "         FiddleSticks Graves        Trundle          1\n",
       "         Fiora        Graves        Jax              1\n",
       "...                                                ...\n",
       "JarvanIV Yone         LeeSin        KSante           1\n",
       "                      Vi            Renekton         1\n",
       "Jax      Ashe         Nidalee       Aatrox           1\n",
       "         Darius       FiddleSticks  Aatrox           1\n",
       "Zyra     KSante       Gragas        Olaf             1\n",
       "\n",
       "[950 rows x 1 columns]"
      ]
     },
     "execution_count": 383,
     "metadata": {},
     "output_type": "execute_result"
    }
   ],
   "source": [
    "games"
   ]
  },
  {
   "cell_type": "code",
   "execution_count": null,
   "id": "86bdc0ec",
   "metadata": {},
   "outputs": [],
   "source": []
  },
  {
   "cell_type": "code",
   "execution_count": null,
   "id": "0695c5b4",
   "metadata": {},
   "outputs": [],
   "source": []
  },
  {
   "cell_type": "code",
   "execution_count": null,
   "id": "7da85b65",
   "metadata": {},
   "outputs": [],
   "source": []
  },
  {
   "cell_type": "code",
   "execution_count": null,
   "id": "da8581d6",
   "metadata": {},
   "outputs": [],
   "source": []
  },
  {
   "cell_type": "code",
   "execution_count": null,
   "id": "5302ab86",
   "metadata": {},
   "outputs": [],
   "source": []
  },
  {
   "cell_type": "code",
   "execution_count": null,
   "id": "03488ecd",
   "metadata": {},
   "outputs": [],
   "source": []
  },
  {
   "cell_type": "code",
   "execution_count": null,
   "id": "91398f89",
   "metadata": {},
   "outputs": [],
   "source": []
  },
  {
   "cell_type": "code",
   "execution_count": null,
   "id": "64f43709",
   "metadata": {},
   "outputs": [],
   "source": []
  },
  {
   "cell_type": "code",
   "execution_count": null,
   "id": "c7ad3de9",
   "metadata": {},
   "outputs": [],
   "source": [
    "\n"
   ]
  }
 ],
 "metadata": {
  "kernelspec": {
   "display_name": "Python 3 (ipykernel)",
   "language": "python",
   "name": "python3"
  },
  "language_info": {
   "codemirror_mode": {
    "name": "ipython",
    "version": 3
   },
   "file_extension": ".py",
   "mimetype": "text/x-python",
   "name": "python",
   "nbconvert_exporter": "python",
   "pygments_lexer": "ipython3",
   "version": "3.11.5"
  }
 },
 "nbformat": 4,
 "nbformat_minor": 5
}
