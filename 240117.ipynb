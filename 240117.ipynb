{
  "nbformat": 4,
  "nbformat_minor": 0,
  "metadata": {
    "colab": {
      "provenance": [],
      "authorship_tag": "ABX9TyNavbYwqJnS6vgK6Pg910mS",
      "include_colab_link": true
    },
    "kernelspec": {
      "name": "python3",
      "display_name": "Python 3"
    },
    "language_info": {
      "name": "python"
    }
  },
  "cells": [
    {
      "cell_type": "markdown",
      "metadata": {
        "id": "view-in-github",
        "colab_type": "text"
      },
      "source": [
        "<a href=\"https://colab.research.google.com/github/justlikethatHwan/Python/blob/main/240117.ipynb\" target=\"_parent\"><img src=\"https://colab.research.google.com/assets/colab-badge.svg\" alt=\"Open In Colab\"/></a>"
      ]
    },
    {
      "cell_type": "code",
      "execution_count": 2,
      "metadata": {
        "id": "Fw38oA6AqlvX"
      },
      "outputs": [],
      "source": [
        "#KNN 회귀 모델\n",
        "import numpy as np\n",
        "import pandas as pd\n",
        "import matplotlib.pyplot as plt"
      ]
    },
    {
      "cell_type": "code",
      "source": [
        "# 농어의 길이, 무게 데이터\n",
        "# http://bit.ly/perch_data\n",
        "\n",
        "perch_length = np.array([8.4, 13.7, 15.0, 16.2, 17.4, 18.0, 18.7, 19.0, 19.6, 20.0, 21.0,\n",
        "       21.0, 21.0, 21.3, 22.0, 22.0, 22.0, 22.0, 22.0, 22.5, 22.5, 22.7,\n",
        "       23.0, 23.5, 24.0, 24.0, 24.6, 25.0, 25.6, 26.5, 27.3, 27.5, 27.5,\n",
        "       27.5, 28.0, 28.7, 30.0, 32.8, 34.5, 35.0, 36.5, 36.0, 37.0, 37.0,\n",
        "       39.0, 39.0, 39.0, 40.0, 40.0, 40.0, 40.0, 42.0, 43.0, 43.0, 43.5,\n",
        "       44.0])\n",
        "perch_weight = np.array([5.9, 32.0, 40.0, 51.5, 70.0, 100.0, 78.0, 80.0, 85.0, 85.0, 110.0,\n",
        "       115.0, 125.0, 130.0, 120.0, 120.0, 130.0, 135.0, 110.0, 130.0,\n",
        "       150.0, 145.0, 150.0, 170.0, 225.0, 145.0, 188.0, 180.0, 197.0,\n",
        "       218.0, 300.0, 260.0, 265.0, 250.0, 250.0, 300.0, 320.0, 514.0,\n",
        "       556.0, 840.0, 685.0, 700.0, 700.0, 690.0, 900.0, 650.0, 820.0,\n",
        "       850.0, 900.0, 1015.0, 820.0, 1100.0, 1000.0, 1100.0, 1000.0,\n",
        "       1000.0])"
      ],
      "metadata": {
        "id": "EVyHZQp997mb"
      },
      "execution_count": 3,
      "outputs": []
    },
    {
      "cell_type": "code",
      "source": [
        "plt.scatter(perch_length,perch_weight)\n",
        "plt.xlabel('length')\n",
        "plt.ylabel('weight')\n",
        "plt.show()"
      ],
      "metadata": {
        "colab": {
          "base_uri": "https://localhost:8080/",
          "height": 449
        },
        "id": "lAxTox6Q97oM",
        "outputId": "621657ab-5ef3-4180-9d7a-443823c31189"
      },
      "execution_count": 4,
      "outputs": [
        {
          "output_type": "display_data",
          "data": {
            "text/plain": [
              "<Figure size 640x480 with 1 Axes>"
            ],
            "image/png": "[encoded data removed]"
          },
          "metadata": {}
        }
      ]
    },
    {
      "cell_type": "code",
      "source": [
        "from sklearn.model_selection import train_test_split\n",
        "train_input, test_input, train_target, test_target = train_test_split(perch_length,perch_weight, random_state=2)"
      ],
      "metadata": {
        "id": "git4uKZf-ZD7"
      },
      "execution_count": 5,
      "outputs": []
    },
    {
      "cell_type": "code",
      "source": [
        "len(perch_length)"
      ],
      "metadata": {
        "colab": {
          "base_uri": "https://localhost:8080/"
        },
        "id": "w4nSMj26-ZFj",
        "outputId": "b71365e9-d9a8-47e8-bb7b-109109beebc9"
      },
      "execution_count": 6,
      "outputs": [
        {
          "output_type": "execute_result",
          "data": {
            "text/plain": [
              "56"
            ]
          },
          "metadata": {},
          "execution_count": 6
        }
      ]
    },
    {
      "cell_type": "code",
      "source": [
        "train_input.shape"
      ],
      "metadata": {
        "colab": {
          "base_uri": "https://localhost:8080/"
        },
        "id": "mF63wJlL-ZKT",
        "outputId": "70554d81-e8d5-46c3-bbab-2252fe98d73c"
      },
      "execution_count": 7,
      "outputs": [
        {
          "output_type": "execute_result",
          "data": {
            "text/plain": [
              "(42,)"
            ]
          },
          "metadata": {},
          "execution_count": 7
        }
      ]
    },
    {
      "cell_type": "code",
      "source": [
        "train_input = train_input.reshape(-1,1)\n",
        "test_input = test_input.reshape(-1,1)"
      ],
      "metadata": {
        "id": "-BbKlhRB-ZNp"
      },
      "execution_count": 8,
      "outputs": []
    },
    {
      "cell_type": "code",
      "source": [
        "train_input.shape"
      ],
      "metadata": {
        "colab": {
          "base_uri": "https://localhost:8080/"
        },
        "id": "nESRSUGy-ZSY",
        "outputId": "5b0a4fdb-58bc-4f43-f4a3-72f7d0996231"
      },
      "execution_count": 9,
      "outputs": [
        {
          "output_type": "execute_result",
          "data": {
            "text/plain": [
              "(42, 1)"
            ]
          },
          "metadata": {},
          "execution_count": 9
        }
      ]
    },
    {
      "cell_type": "code",
      "source": [
        "x = np.array([8.4,13.7,15.0])"
      ],
      "metadata": {
        "id": "OELDrRtj97p7"
      },
      "execution_count": 10,
      "outputs": []
    },
    {
      "cell_type": "code",
      "source": [
        "x"
      ],
      "metadata": {
        "colab": {
          "base_uri": "https://localhost:8080/"
        },
        "id": "AkA35AxR97tA",
        "outputId": "58843ca9-72e7-4b61-c7df-1f7bcf0c682d"
      },
      "execution_count": 11,
      "outputs": [
        {
          "output_type": "execute_result",
          "data": {
            "text/plain": [
              "array([ 8.4, 13.7, 15. ])"
            ]
          },
          "metadata": {},
          "execution_count": 11
        }
      ]
    },
    {
      "cell_type": "code",
      "source": [
        "x.shape"
      ],
      "metadata": {
        "colab": {
          "base_uri": "https://localhost:8080/"
        },
        "id": "nJA-xBEy97wG",
        "outputId": "bff3cb15-a347-41a9-b842-39fd4f65a1c3"
      },
      "execution_count": 12,
      "outputs": [
        {
          "output_type": "execute_result",
          "data": {
            "text/plain": [
              "(3,)"
            ]
          },
          "metadata": {},
          "execution_count": 12
        }
      ]
    },
    {
      "cell_type": "code",
      "source": [
        "x.reshape(-1,1) # = 3, 1"
      ],
      "metadata": {
        "colab": {
          "base_uri": "https://localhost:8080/"
        },
        "id": "0rJHvOCf97zQ",
        "outputId": "a795860e-163b-48d8-b59f-739394e6045b"
      },
      "execution_count": 13,
      "outputs": [
        {
          "output_type": "execute_result",
          "data": {
            "text/plain": [
              "array([[ 8.4],\n",
              "       [13.7],\n",
              "       [15. ]])"
            ]
          },
          "metadata": {},
          "execution_count": 13
        }
      ]
    },
    {
      "cell_type": "code",
      "source": [
        "from sklearn.neighbors import KNeighborsRegressor\n",
        "\n",
        "knr = KNeighborsRegressor()\n",
        "knr.fit(train_input,train_target)"
      ],
      "metadata": {
        "colab": {
          "base_uri": "https://localhost:8080/",
          "height": 74
        },
        "id": "ZTvb3jph972k",
        "outputId": "c16208b2-ed02-4da7-9eae-6484bac90816"
      },
      "execution_count": 14,
      "outputs": [
        {
          "output_type": "execute_result",
          "data": {
            "text/plain": [
              "KNeighborsRegressor()"
            ],
            "text/html": [
              "<style>#sk-container-id-1 {color: black;background-color: white;}#sk-container-id-1 pre{padding: 0;}#sk-container-id-1 div.sk-toggleable {background-color: white;}#sk-container-id-1 label.sk-toggleable__label {cursor: pointer;display: block;width: 100%;margin-bottom: 0;padding: 0.3em;box-sizing: border-box;text-align: center;}#sk-container-id-1 label.sk-toggleable__label-arrow:before {content: \"▸\";float: left;margin-right: 0.25em;color: #696969;}#sk-container-id-1 label.sk-toggleable__label-arrow:hover:before {color: black;}#sk-container-id-1 div.sk-estimator:hover label.sk-toggleable__label-arrow:before {color: black;}#sk-container-id-1 div.sk-toggleable__content {max-height: 0;max-width: 0;overflow: hidden;text-align: left;background-color: #f0f8ff;}#sk-container-id-1 div.sk-toggleable__content pre {margin: 0.2em;color: black;border-radius: 0.25em;background-color: #f0f8ff;}#sk-container-id-1 input.sk-toggleable__control:checked~div.sk-toggleable__content {max-height: 200px;max-width: 100%;overflow: auto;}#sk-container-id-1 input.sk-toggleable__control:checked~label.sk-toggleable__label-arrow:before {content: \"▾\";}#sk-container-id-1 div.sk-estimator input.sk-toggleable__control:checked~label.sk-toggleable__label {background-color: #d4ebff;}#sk-container-id-1 div.sk-label input.sk-toggleable__control:checked~label.sk-toggleable__label {background-color: #d4ebff;}#sk-container-id-1 input.sk-hidden--visually {border: 0;clip: rect(1px 1px 1px 1px);clip: rect(1px, 1px, 1px, 1px);height: 1px;margin: -1px;overflow: hidden;padding: 0;position: absolute;width: 1px;}#sk-container-id-1 div.sk-estimator {font-family: monospace;background-color: #f0f8ff;border: 1px dotted black;border-radius: 0.25em;box-sizing: border-box;margin-bottom: 0.5em;}#sk-container-id-1 div.sk-estimator:hover {background-color: #d4ebff;}#sk-container-id-1 div.sk-parallel-item::after {content: \"\";width: 100%;border-bottom: 1px solid gray;flex-grow: 1;}#sk-container-id-1 div.sk-label:hover label.sk-toggleable__label {background-color: #d4ebff;}#sk-container-id-1 div.sk-serial::before {content: \"\";position: absolute;border-left: 1px solid gray;box-sizing: border-box;top: 0;bottom: 0;left: 50%;z-index: 0;}#sk-container-id-1 div.sk-serial {display: flex;flex-direction: column;align-items: center;background-color: white;padding-right: 0.2em;padding-left: 0.2em;position: relative;}#sk-container-id-1 div.sk-item {position: relative;z-index: 1;}#sk-container-id-1 div.sk-parallel {display: flex;align-items: stretch;justify-content: center;background-color: white;position: relative;}#sk-container-id-1 div.sk-item::before, #sk-container-id-1 div.sk-parallel-item::before {content: \"\";position: absolute;border-left: 1px solid gray;box-sizing: border-box;top: 0;bottom: 0;left: 50%;z-index: -1;}#sk-container-id-1 div.sk-parallel-item {display: flex;flex-direction: column;z-index: 1;position: relative;background-color: white;}#sk-container-id-1 div.sk-parallel-item:first-child::after {align-self: flex-end;width: 50%;}#sk-container-id-1 div.sk-parallel-item:last-child::after {align-self: flex-start;width: 50%;}#sk-container-id-1 div.sk-parallel-item:only-child::after {width: 0;}#sk-container-id-1 div.sk-dashed-wrapped {border: 1px dashed gray;margin: 0 0.4em 0.5em 0.4em;box-sizing: border-box;padding-bottom: 0.4em;background-color: white;}#sk-container-id-1 div.sk-label label {font-family: monospace;font-weight: bold;display: inline-block;line-height: 1.2em;}#sk-container-id-1 div.sk-label-container {text-align: center;}#sk-container-id-1 div.sk-container {/* jupyter's `normalize.less` sets `[hidden] { display: none; }` but bootstrap.min.css set `[hidden] { display: none !important; }` so we also need the `!important` here to be able to override the default hidden behavior on the sphinx rendered scikit-learn.org. See: https://github.com/scikit-learn/scikit-learn/issues/21755 */display: inline-block !important;position: relative;}#sk-container-id-1 div.sk-text-repr-fallback {display: none;}</style><div id=\"sk-container-id-1\" class=\"sk-top-container\"><div class=\"sk-text-repr-fallback\"><pre>KNeighborsRegressor()</pre><b>In a Jupyter environment, please rerun this cell to show the HTML representation or trust the notebook. <br />On GitHub, the HTML representation is unable to render, please try loading this page with nbviewer.org.</b></div><div class=\"sk-container\" hidden><div class=\"sk-item\"><div class=\"sk-estimator sk-toggleable\"><input class=\"sk-toggleable__control sk-hidden--visually\" id=\"sk-estimator-id-1\" type=\"checkbox\" checked><label for=\"sk-estimator-id-1\" class=\"sk-toggleable__label sk-toggleable__label-arrow\">KNeighborsRegressor</label><div class=\"sk-toggleable__content\"><pre>KNeighborsRegressor()</pre></div></div></div></div></div>"
            ]
          },
          "metadata": {},
          "execution_count": 14
        }
      ]
    },
    {
      "cell_type": "code",
      "source": [
        "knr.score(test_input,test_target)"
      ],
      "metadata": {
        "colab": {
          "base_uri": "https://localhost:8080/"
        },
        "id": "yLd1ulDBAo8r",
        "outputId": "4891a0a1-e2fd-4b8e-91f6-6160c61fe4d2"
      },
      "execution_count": 15,
      "outputs": [
        {
          "output_type": "execute_result",
          "data": {
            "text/plain": [
              "0.9722441694061061"
            ]
          },
          "metadata": {},
          "execution_count": 15
        }
      ]
    },
    {
      "cell_type": "code",
      "source": [
        "from sklearn.metrics import mean_absolute_error\n",
        "\n",
        "test_pred = knr.predict(test_input) # y^ 예측값\n",
        "mae = mean_absolute_error(test_target, test_pred) # 정답과 예측값 mae 지표비교"
      ],
      "metadata": {
        "id": "TwYQp6bSAo-i"
      },
      "execution_count": 16,
      "outputs": []
    },
    {
      "cell_type": "code",
      "source": [
        "mae"
      ],
      "metadata": {
        "colab": {
          "base_uri": "https://localhost:8080/"
        },
        "id": "XM2LiaKpApAL",
        "outputId": "b05c0bc3-c234-44bd-89e6-202424384758"
      },
      "execution_count": 17,
      "outputs": [
        {
          "output_type": "execute_result",
          "data": {
            "text/plain": [
              "44.50714285714286"
            ]
          },
          "metadata": {},
          "execution_count": 17
        }
      ]
    },
    {
      "cell_type": "code",
      "source": [
        "from sklearn.datasets import load_diabetes\n",
        "diabetes = load_diabetes()"
      ],
      "metadata": {
        "id": "TFb6gYyBApDV"
      },
      "execution_count": 18,
      "outputs": []
    },
    {
      "cell_type": "code",
      "source": [
        "input_data = diabetes['data']\n",
        "target_data = diabetes['target']"
      ],
      "metadata": {
        "id": "iOmSrPHWApGZ"
      },
      "execution_count": 19,
      "outputs": []
    },
    {
      "cell_type": "code",
      "source": [
        "input_data[0]"
      ],
      "metadata": {
        "colab": {
          "base_uri": "https://localhost:8080/"
        },
        "id": "1a3nicNaApJk",
        "outputId": "346ba0ee-89ab-406f-9421-52095c852c5a"
      },
      "execution_count": 20,
      "outputs": [
        {
          "output_type": "execute_result",
          "data": {
            "text/plain": [
              "array([ 0.03807591,  0.05068012,  0.06169621,  0.02187239, -0.0442235 ,\n",
              "       -0.03482076, -0.04340085, -0.00259226,  0.01990749, -0.01764613])"
            ]
          },
          "metadata": {},
          "execution_count": 20
        }
      ]
    },
    {
      "cell_type": "code",
      "source": [
        "diabetes.feature_names"
      ],
      "metadata": {
        "colab": {
          "base_uri": "https://localhost:8080/"
        },
        "id": "i2059DqiApLC",
        "outputId": "42ac67fa-ac64-471c-9590-a4ff8204301c"
      },
      "execution_count": 21,
      "outputs": [
        {
          "output_type": "execute_result",
          "data": {
            "text/plain": [
              "['age', 'sex', 'bmi', 'bp', 's1', 's2', 's3', 's4', 's5', 's6']"
            ]
          },
          "metadata": {},
          "execution_count": 21
        }
      ]
    },
    {
      "cell_type": "code",
      "source": [
        "plt.scatter(input_data[:,2], target_data)\n",
        "plt.xlabel('bmi')\n",
        "plt.ylabel('target')\n",
        "plt.show()"
      ],
      "metadata": {
        "colab": {
          "base_uri": "https://localhost:8080/",
          "height": 449
        },
        "id": "q1jKd4CbApMn",
        "outputId": "ace87672-c1ff-461a-dd69-c99d9b7268a3"
      },
      "execution_count": 22,
      "outputs": [
        {
          "output_type": "display_data",
          "data": {
            "text/plain": [
              "<Figure size 640x480 with 1 Axes>"
            ],
            "image/png": "[encoded data removed]"
          },
          "metadata": {}
        }
      ]
    },
    {
      "cell_type": "code",
      "source": [
        "train_input_dia, test_input_dia, train_target_dia, test_target_dia = train_test_split(input_data[:,2], target_data, random_state=2)"
      ],
      "metadata": {
        "id": "5us_AqurApP0"
      },
      "execution_count": 23,
      "outputs": []
    },
    {
      "cell_type": "code",
      "source": [
        "train_input_dia.shape"
      ],
      "metadata": {
        "colab": {
          "base_uri": "https://localhost:8080/"
        },
        "id": "aAJaJk4EDwCq",
        "outputId": "fff0ed0d-2d99-4543-cd24-fa3e0051501e"
      },
      "execution_count": 24,
      "outputs": [
        {
          "output_type": "execute_result",
          "data": {
            "text/plain": [
              "(331,)"
            ]
          },
          "metadata": {},
          "execution_count": 24
        }
      ]
    },
    {
      "cell_type": "code",
      "source": [
        "train_input_dia = train_input_dia.reshape(-1,1)\n",
        "test_input_dia = test_input_dia.reshape(-1,1)"
      ],
      "metadata": {
        "id": "UH-T4VMRDwEb"
      },
      "execution_count": 25,
      "outputs": []
    },
    {
      "cell_type": "code",
      "source": [
        "train_input_dia"
      ],
      "metadata": {
        "colab": {
          "base_uri": "https://localhost:8080/"
        },
        "id": "-yViQ_q_DwI2",
        "outputId": "96581ea2-8267-4fc5-8358-a40d086a7198"
      },
      "execution_count": 26,
      "outputs": [
        {
          "output_type": "execute_result",
          "data": {
            "text/plain": [
              "array([[-0.05578531],\n",
              "       [ 0.10480869],\n",
              "       [ 0.01750591],\n",
              "       [-0.03099563],\n",
              "       [-0.04069594],\n",
              "       [-0.06764124],\n",
              "       [-0.00297252],\n",
              "       [-0.00620595],\n",
              "       [-0.06656343],\n",
              "       [ 0.03367309],\n",
              "       [ 0.16085492],\n",
              "       [-0.01482845],\n",
              "       [ 0.06061839],\n",
              "       [ 0.12744274],\n",
              "       [ 0.04552903],\n",
              "       [-0.03422907],\n",
              "       [-0.05794093],\n",
              "       [-0.01267283],\n",
              "       [-0.08057499],\n",
              "       [-0.02452876],\n",
              "       [-0.05794093],\n",
              "       [-0.01698407],\n",
              "       [-0.03530688],\n",
              "       [-0.06225218],\n",
              "       [-0.02560657],\n",
              "       [-0.01159501],\n",
              "       [-0.0105172 ],\n",
              "       [ 0.01750591],\n",
              "       [ 0.03151747],\n",
              "       [ 0.12313149],\n",
              "       [ 0.03043966],\n",
              "       [-0.00728377],\n",
              "       [-0.03854032],\n",
              "       [-0.03854032],\n",
              "       [ 0.02828403],\n",
              "       [-0.02991782],\n",
              "       [-0.00189471],\n",
              "       [-0.06225218],\n",
              "       [ 0.06061839],\n",
              "       [-0.07949718],\n",
              "       [ 0.05954058],\n",
              "       [-0.0902753 ],\n",
              "       [ 0.07139652],\n",
              "       [ 0.00026092],\n",
              "       [ 0.04552903],\n",
              "       [-0.03961813],\n",
              "       [-0.07195249],\n",
              "       [-0.03099563],\n",
              "       [-0.04824063],\n",
              "       [-0.06440781],\n",
              "       [ 0.09403057],\n",
              "       [-0.02345095],\n",
              "       [ 0.02073935],\n",
              "       [-0.02452876],\n",
              "       [-0.06225218],\n",
              "       [ 0.03043966],\n",
              "       [-0.04500719],\n",
              "       [-0.0374625 ],\n",
              "       [ 0.09295276],\n",
              "       [ 0.05307371],\n",
              "       [ 0.04660684],\n",
              "       [-0.00512814],\n",
              "       [-0.0105172 ],\n",
              "       [-0.03422907],\n",
              "       [-0.03315126],\n",
              "       [-0.02021751],\n",
              "       [ 0.04660684],\n",
              "       [-0.00405033],\n",
              "       [ 0.03043966],\n",
              "       [-0.05578531],\n",
              "       [-0.00405033],\n",
              "       [-0.02668438],\n",
              "       [ 0.01750591],\n",
              "       [-0.00836158],\n",
              "       [ 0.03582872],\n",
              "       [ 0.07462995],\n",
              "       [-0.04285156],\n",
              "       [-0.01159501],\n",
              "       [-0.06117437],\n",
              "       [-0.00189471],\n",
              "       [-0.04500719],\n",
              "       [-0.06332999],\n",
              "       [-0.00620595],\n",
              "       [ 0.09618619],\n",
              "       [-0.01159501],\n",
              "       [ 0.00133873],\n",
              "       [-0.03315126],\n",
              "       [ 0.00241654],\n",
              "       [-0.03099563],\n",
              "       [-0.07626374],\n",
              "       [ 0.0519959 ],\n",
              "       [-0.05039625],\n",
              "       [-0.02345095],\n",
              "       [-0.02345095],\n",
              "       [ 0.06061839],\n",
              "       [ 0.00672779],\n",
              "       [ 0.01858372],\n",
              "       [-0.01590626],\n",
              "       [-0.05147406],\n",
              "       [ 0.03259528],\n",
              "       [-0.01267283],\n",
              "       [ 0.01427248],\n",
              "       [ 0.00457217],\n",
              "       [-0.00189471],\n",
              "       [ 0.00672779],\n",
              "       [ 0.00564998],\n",
              "       [-0.06009656],\n",
              "       [ 0.0250506 ],\n",
              "       [-0.03638469],\n",
              "       [ 0.07355214],\n",
              "       [ 0.06492964],\n",
              "       [ 0.07678558],\n",
              "       [-0.0191397 ],\n",
              "       [-0.03207344],\n",
              "       [ 0.07139652],\n",
              "       [-0.03638469],\n",
              "       [-0.02884001],\n",
              "       [-0.046085  ],\n",
              "       [ 0.0433734 ],\n",
              "       [-0.00081689],\n",
              "       [-0.06009656],\n",
              "       [-0.04716281],\n",
              "       [-0.00297252],\n",
              "       [-0.02560657],\n",
              "       [-0.04716281],\n",
              "       [-0.0105172 ],\n",
              "       [-0.06871905],\n",
              "       [ 0.08864151],\n",
              "       [-0.03854032],\n",
              "       [-0.03530688],\n",
              "       [-0.00836158],\n",
              "       [ 0.00241654],\n",
              "       [ 0.03367309],\n",
              "       [-0.0547075 ],\n",
              "       [-0.00081689],\n",
              "       [-0.00620595],\n",
              "       [-0.03638469],\n",
              "       [-0.02560657],\n",
              "       [-0.02560657],\n",
              "       [-0.06440781],\n",
              "       [-0.05255187],\n",
              "       [-0.0105172 ],\n",
              "       [-0.05686312],\n",
              "       [-0.01375064],\n",
              "       [ 0.02612841],\n",
              "       [-0.08488624],\n",
              "       [-0.04392938],\n",
              "       [-0.04500719],\n",
              "       [ 0.01858372],\n",
              "       [-0.04069594],\n",
              "       [ 0.06816308],\n",
              "       [ 0.01427248],\n",
              "       [-0.03961813],\n",
              "       [ 0.01427248],\n",
              "       [ 0.01427248],\n",
              "       [-0.05362969],\n",
              "       [-0.04177375],\n",
              "       [-0.0374625 ],\n",
              "       [-0.03638469],\n",
              "       [ 0.00133873],\n",
              "       [-0.00943939],\n",
              "       [-0.02345095],\n",
              "       [ 0.02612841],\n",
              "       [ 0.02397278],\n",
              "       [-0.00512814],\n",
              "       [-0.02237314],\n",
              "       [-0.02345095],\n",
              "       [-0.02991782],\n",
              "       [ 0.03906215],\n",
              "       [-0.03530688],\n",
              "       [-0.03099563],\n",
              "       [-0.00620595],\n",
              "       [-0.01590626],\n",
              "       [ 0.02289497],\n",
              "       [-0.04177375],\n",
              "       [ 0.12852056],\n",
              "       [ 0.08109682],\n",
              "       [ 0.03798434],\n",
              "       [ 0.00672779],\n",
              "       [-0.01159501],\n",
              "       [ 0.00349435],\n",
              "       [-0.05578531],\n",
              "       [ 0.06169621],\n",
              "       [ 0.09295276],\n",
              "       [-0.03854032],\n",
              "       [ 0.04984027],\n",
              "       [ 0.06169621],\n",
              "       [ 0.04984027],\n",
              "       [ 0.08001901],\n",
              "       [ 0.097264  ],\n",
              "       [-0.04177375],\n",
              "       [ 0.03906215],\n",
              "       [-0.02237314],\n",
              "       [ 0.08540807],\n",
              "       [ 0.00672779],\n",
              "       [ 0.06816308],\n",
              "       [ 0.05522933],\n",
              "       [ 0.0519959 ],\n",
              "       [-0.05794093],\n",
              "       [-0.01159501],\n",
              "       [-0.00943939],\n",
              "       [-0.02991782],\n",
              "       [-0.04069594],\n",
              "       [ 0.01535029],\n",
              "       [-0.04177375],\n",
              "       [-0.046085  ],\n",
              "       [ 0.06061839],\n",
              "       [ 0.05630715],\n",
              "       [-0.05578531],\n",
              "       [-0.00405033],\n",
              "       [-0.03207344],\n",
              "       [-0.03099563],\n",
              "       [-0.0374625 ],\n",
              "       [-0.02237314],\n",
              "       [ 0.00457217],\n",
              "       [-0.03530688],\n",
              "       [-0.00728377],\n",
              "       [ 0.06169621],\n",
              "       [ 0.05954058],\n",
              "       [-0.0277622 ],\n",
              "       [ 0.05630715],\n",
              "       [ 0.02720622],\n",
              "       [-0.0547075 ],\n",
              "       [ 0.01535029],\n",
              "       [ 0.01966154],\n",
              "       [ 0.01858372],\n",
              "       [-0.06979687],\n",
              "       [-0.00297252],\n",
              "       [-0.06548562],\n",
              "       [ 0.00564998],\n",
              "       [-0.02021751],\n",
              "       [-0.02560657],\n",
              "       [ 0.00133873],\n",
              "       [-0.08919748],\n",
              "       [ 0.04013997],\n",
              "       [ 0.00996123],\n",
              "       [-0.00512814],\n",
              "       [ 0.0347509 ],\n",
              "       [ 0.04013997],\n",
              "       [ 0.04229559],\n",
              "       [-0.06656343],\n",
              "       [ 0.00133873],\n",
              "       [-0.01590626],\n",
              "       [-0.046085  ],\n",
              "       [ 0.01966154],\n",
              "       [ 0.01858372],\n",
              "       [ 0.08864151],\n",
              "       [-0.00836158],\n",
              "       [ 0.00457217],\n",
              "       [-0.02237314],\n",
              "       [-0.0730303 ],\n",
              "       [ 0.00564998],\n",
              "       [ 0.04121778],\n",
              "       [-0.01806189],\n",
              "       [-0.07518593],\n",
              "       [-0.00836158],\n",
              "       [-0.03207344],\n",
              "       [ 0.04984027],\n",
              "       [ 0.01427248],\n",
              "       [-0.06332999],\n",
              "       [-0.06117437],\n",
              "       [ 0.11127556],\n",
              "       [ 0.05630715],\n",
              "       [ 0.02828403],\n",
              "       [-0.07734155],\n",
              "       [-0.01698407],\n",
              "       [-0.02345095],\n",
              "       [ 0.00996123],\n",
              "       [ 0.00996123],\n",
              "       [ 0.05954058],\n",
              "       [ 0.13714305],\n",
              "       [-0.00728377],\n",
              "       [-0.01806189],\n",
              "       [-0.02021751],\n",
              "       [-0.0105172 ],\n",
              "       [ 0.04768465],\n",
              "       [-0.0816528 ],\n",
              "       [ 0.03690653],\n",
              "       [ 0.00888341],\n",
              "       [-0.0816528 ],\n",
              "       [ 0.03906215],\n",
              "       [ 0.01427248],\n",
              "       [ 0.04552903],\n",
              "       [ 0.08864151],\n",
              "       [-0.03422907],\n",
              "       [-0.02129532],\n",
              "       [-0.00728377],\n",
              "       [-0.00943939],\n",
              "       [-0.00943939],\n",
              "       [ 0.01211685],\n",
              "       [-0.06548562],\n",
              "       [ 0.01750591],\n",
              "       [ 0.03690653],\n",
              "       [-0.04069594],\n",
              "       [ 0.03367309],\n",
              "       [-0.046085  ],\n",
              "       [-0.04069594],\n",
              "       [ 0.05415152],\n",
              "       [-0.00728377],\n",
              "       [-0.06548562],\n",
              "       [ 0.02612841],\n",
              "       [-0.06440781],\n",
              "       [-0.05039625],\n",
              "       [ 0.07139652],\n",
              "       [ 0.00564998],\n",
              "       [ 0.0164281 ],\n",
              "       [-0.02452876],\n",
              "       [-0.00836158],\n",
              "       [ 0.02828403],\n",
              "       [ 0.0250506 ],\n",
              "       [ 0.06924089],\n",
              "       [ 0.09295276],\n",
              "       [ 0.05846277],\n",
              "       [ 0.02397278],\n",
              "       [ 0.05415152],\n",
              "       [-0.06548562],\n",
              "       [-0.00620595],\n",
              "       [ 0.00457217],\n",
              "       [-0.0730303 ],\n",
              "       [-0.07087468],\n",
              "       [-0.07410811],\n",
              "       [-0.05794093],\n",
              "       [ 0.03043966],\n",
              "       [-0.07734155],\n",
              "       [ 0.02073935],\n",
              "       [-0.03099563],\n",
              "       [-0.01375064],\n",
              "       [-0.00405033],\n",
              "       [-0.00405033],\n",
              "       [-0.01806189],\n",
              "       [ 0.05954058]])"
            ]
          },
          "metadata": {},
          "execution_count": 26
        }
      ]
    },
    {
      "cell_type": "code",
      "source": [
        "train_input_dia.shape"
      ],
      "metadata": {
        "colab": {
          "base_uri": "https://localhost:8080/"
        },
        "id": "7qKt9rrZDwLp",
        "outputId": "132eae8e-63f9-4d58-868e-9fd7d200b421"
      },
      "execution_count": 27,
      "outputs": [
        {
          "output_type": "execute_result",
          "data": {
            "text/plain": [
              "(331, 1)"
            ]
          },
          "metadata": {},
          "execution_count": 27
        }
      ]
    },
    {
      "cell_type": "code",
      "source": [
        "# 1차원 = 벡터\n",
        "# 2차원 = 행렬\n",
        "# 3차원 = 텐서"
      ],
      "metadata": {
        "id": "13vcy8wCDwNO"
      },
      "execution_count": 28,
      "outputs": []
    },
    {
      "cell_type": "code",
      "source": [
        "# KNN 회귀 모델 선언\n",
        "# 모델 학습\n",
        "# 스코어 확인\n",
        "# mae 값 출"
      ],
      "metadata": {
        "id": "pqtMoeNYDwOl"
      },
      "execution_count": 29,
      "outputs": []
    },
    {
      "cell_type": "code",
      "source": [
        "knn = KNeighborsRegressor()\n",
        "knn.fit(train_input_dia,train_target_dia)\n",
        "knn.score(test_input_dia,test_target_dia)"
      ],
      "metadata": {
        "colab": {
          "base_uri": "https://localhost:8080/"
        },
        "id": "4g9iwwwDDwRh",
        "outputId": "9f35c8d6-32aa-493a-913b-223516548157"
      },
      "execution_count": 30,
      "outputs": [
        {
          "output_type": "execute_result",
          "data": {
            "text/plain": [
              "0.19793310932408736"
            ]
          },
          "metadata": {},
          "execution_count": 30
        }
      ]
    },
    {
      "cell_type": "code",
      "source": [
        "test_pred = knn.predict(test_input_dia)"
      ],
      "metadata": {
        "id": "KXIyYQyzL1wv"
      },
      "execution_count": 31,
      "outputs": []
    },
    {
      "cell_type": "code",
      "source": [
        "mae2 = mean_absolute_error(test_target_dia, test_pred)\n",
        "mae2"
      ],
      "metadata": {
        "colab": {
          "base_uri": "https://localhost:8080/"
        },
        "id": "2EWEfgSoDwUX",
        "outputId": "f30f1161-be36-4af9-f5b8-fc6feb9bf012"
      },
      "execution_count": 32,
      "outputs": [
        {
          "output_type": "execute_result",
          "data": {
            "text/plain": [
              "51.17837837837839"
            ]
          },
          "metadata": {},
          "execution_count": 32
        }
      ]
    },
    {
      "cell_type": "code",
      "source": [
        "# 다항 회귀"
      ],
      "metadata": {
        "id": "EToSNyXADwXM"
      },
      "execution_count": 33,
      "outputs": []
    },
    {
      "cell_type": "code",
      "source": [
        "x = np.array([1,2,3])"
      ],
      "metadata": {
        "id": "Bwz6OO5vL_C1"
      },
      "execution_count": 34,
      "outputs": []
    },
    {
      "cell_type": "code",
      "source": [
        "x**2"
      ],
      "metadata": {
        "colab": {
          "base_uri": "https://localhost:8080/"
        },
        "id": "U4K3zUZBL_Ej",
        "outputId": "5743ecd6-fe1b-420f-fa3e-de48dc815285"
      },
      "execution_count": 35,
      "outputs": [
        {
          "output_type": "execute_result",
          "data": {
            "text/plain": [
              "array([1, 4, 9])"
            ]
          },
          "metadata": {},
          "execution_count": 35
        }
      ]
    },
    {
      "cell_type": "code",
      "source": [
        "train_poly = np.column_stack((train_input**2, train_input))\n",
        "test_poly = np.column_stack((test_input**2, test_input))"
      ],
      "metadata": {
        "id": "rPy_1FwJL_GM"
      },
      "execution_count": 36,
      "outputs": []
    },
    {
      "cell_type": "code",
      "source": [
        "from sklearn.linear_model import LinearRegression"
      ],
      "metadata": {
        "id": "JU8ORsqAL_JV"
      },
      "execution_count": 37,
      "outputs": []
    },
    {
      "cell_type": "code",
      "source": [
        "lr = LinearRegression()\n",
        "lr.fit(train_poly, train_target)\n",
        "lr.score(test_poly, test_target)"
      ],
      "metadata": {
        "colab": {
          "base_uri": "https://localhost:8080/"
        },
        "id": "8UeJXHLQL_MN",
        "outputId": "c19bbbe4-de58-4ca9-e17c-c5b35db45de5"
      },
      "execution_count": 38,
      "outputs": [
        {
          "output_type": "execute_result",
          "data": {
            "text/plain": [
              "0.9834512361883486"
            ]
          },
          "metadata": {},
          "execution_count": 38
        }
      ]
    },
    {
      "cell_type": "code",
      "source": [
        "lr.predict([[50**2,50]])"
      ],
      "metadata": {
        "colab": {
          "base_uri": "https://localhost:8080/"
        },
        "id": "YzKoFlqHL_N1",
        "outputId": "0ba21f71-bcc1-43bd-88ec-b05795e05e8d"
      },
      "execution_count": 39,
      "outputs": [
        {
          "output_type": "execute_result",
          "data": {
            "text/plain": [
              "array([1505.63742339])"
            ]
          },
          "metadata": {},
          "execution_count": 39
        }
      ]
    },
    {
      "cell_type": "code",
      "source": [
        "lr.predict([[15**2,15]])"
      ],
      "metadata": {
        "colab": {
          "base_uri": "https://localhost:8080/"
        },
        "id": "R44hz_9tL_PW",
        "outputId": "ec24ca3c-113e-4545-b9dd-ab1475f3a392"
      },
      "execution_count": 40,
      "outputs": [
        {
          "output_type": "execute_result",
          "data": {
            "text/plain": [
              "array([12.97651294])"
            ]
          },
          "metadata": {},
          "execution_count": 40
        }
      ]
    },
    {
      "cell_type": "code",
      "source": [
        "point = np.arange(15,50)\n",
        "plt.scatter(train_input, train_target)\n",
        "plt.plot(point, 0.9*point**2 - 14.6*point + 34.5)\n",
        "plt.scatter([50],[1574],marker='^')\n",
        "plt.xlabel('length')\n",
        "plt.ylabel('weight')\n",
        "plt.show()"
      ],
      "metadata": {
        "colab": {
          "base_uri": "https://localhost:8080/",
          "height": 449
        },
        "id": "AnJ7eIDtOmjW",
        "outputId": "73251350-6ae3-4c1b-a162-c7e4c97e4ddc"
      },
      "execution_count": 41,
      "outputs": [
        {
          "output_type": "display_data",
          "data": {
            "text/plain": [
              "<Figure size 640x480 with 1 Axes>"
            ],
            "image/png": "[encoded data removed]"
          },
          "metadata": {}
        }
      ]
    },
    {
      "cell_type": "code",
      "source": [
        "import pandas as pd\n",
        "df = pd.read_csv('https://bit.ly/perch_csv_data')\n",
        "perch_full = df.to_numpy()"
      ],
      "metadata": {
        "id": "KDDslhPbOml3"
      },
      "execution_count": 42,
      "outputs": []
    },
    {
      "cell_type": "code",
      "source": [
        "perch_full[:3]"
      ],
      "metadata": {
        "colab": {
          "base_uri": "https://localhost:8080/"
        },
        "id": "bbmFT5a7OYKN",
        "outputId": "895a67e0-d603-47a6-a954-09d47b189475"
      },
      "execution_count": 43,
      "outputs": [
        {
          "output_type": "execute_result",
          "data": {
            "text/plain": [
              "array([[ 8.4 ,  2.11,  1.41],\n",
              "       [13.7 ,  3.53,  2.  ],\n",
              "       [15.  ,  3.82,  2.43]])"
            ]
          },
          "metadata": {},
          "execution_count": 43
        }
      ]
    },
    {
      "cell_type": "code",
      "source": [
        "perch_weight = np.array([5.9, 32.0, 40.0, 51.5, 70.0, 100.0, 78.0, 80.0, 85.0, 85.0, 110.0,\n",
        "       115.0, 125.0, 130.0, 120.0, 120.0, 130.0, 135.0, 110.0, 130.0,\n",
        "       150.0, 145.0, 150.0, 170.0, 225.0, 145.0, 188.0, 180.0, 197.0,\n",
        "       218.0, 300.0, 260.0, 265.0, 250.0, 250.0, 300.0, 320.0, 514.0,\n",
        "       556.0, 840.0, 685.0, 700.0, 700.0, 690.0, 900.0, 650.0, 820.0,\n",
        "       850.0, 900.0, 1015.0, 820.0, 1100.0, 1000.0, 1100.0, 1000.0,\n",
        "       1000.0])"
      ],
      "metadata": {
        "id": "UXd1BppiOYMF"
      },
      "execution_count": 44,
      "outputs": []
    },
    {
      "cell_type": "code",
      "source": [
        "train_input , test_input, train_target, test_target = train_test_split(perch_full, perch_weight, random_state=42)"
      ],
      "metadata": {
        "id": "iZuGmmnaOYOJ"
      },
      "execution_count": 45,
      "outputs": []
    },
    {
      "cell_type": "code",
      "source": [
        "from sklearn.preprocessing import PolynomialFeatures"
      ],
      "metadata": {
        "id": "BdXwJ-eLOYRX"
      },
      "execution_count": 46,
      "outputs": []
    },
    {
      "cell_type": "code",
      "source": [
        "poly = PolynomialFeatures(include_bias=False)\n",
        "poly.fit(train_input)\n",
        "train_poly = poly.transform(train_input)\n",
        "test_poly = poly.transform(test_input)"
      ],
      "metadata": {
        "id": "ZsTZi2JnOYUp"
      },
      "execution_count": 47,
      "outputs": []
    },
    {
      "cell_type": "code",
      "source": [
        "train_input[0], train_poly[0]"
      ],
      "metadata": {
        "colab": {
          "base_uri": "https://localhost:8080/"
        },
        "id": "mBVHiiO-SDac",
        "outputId": "28f8add1-2032-40dd-ca8d-5bd538f18e7a"
      },
      "execution_count": 48,
      "outputs": [
        {
          "output_type": "execute_result",
          "data": {
            "text/plain": [
              "(array([19.6 ,  5.14,  3.04]),\n",
              " array([ 19.6   ,   5.14  ,   3.04  , 384.16  , 100.744 ,  59.584 ,\n",
              "         26.4196,  15.6256,   9.2416]))"
            ]
          },
          "metadata": {},
          "execution_count": 48
        }
      ]
    },
    {
      "cell_type": "code",
      "source": [
        "poly = PolynomialFeatures(degree=5, include_bias=False)\n",
        "poly.fit(train_input)\n",
        "train_poly = poly.transform(train_input)\n",
        "test_poly = poly.transform(test_input)"
      ],
      "metadata": {
        "id": "epguNmNxSDcO"
      },
      "execution_count": 49,
      "outputs": []
    },
    {
      "cell_type": "code",
      "source": [
        "train_poly.shape"
      ],
      "metadata": {
        "colab": {
          "base_uri": "https://localhost:8080/"
        },
        "id": "DquJnwkhSDd4",
        "outputId": "077772c7-413d-41db-df9b-e027b829872c"
      },
      "execution_count": 50,
      "outputs": [
        {
          "output_type": "execute_result",
          "data": {
            "text/plain": [
              "(42, 55)"
            ]
          },
          "metadata": {},
          "execution_count": 50
        }
      ]
    },
    {
      "cell_type": "code",
      "source": [
        "data1 = [1, 2, 3, 4, 5, ..., 55]  # 특성"
      ],
      "metadata": {
        "id": "CwPlxCywSDhD"
      },
      "execution_count": 64,
      "outputs": []
    },
    {
      "cell_type": "code",
      "source": [
        "lr.fit(train_poly, train_target)\n",
        "lr.score(train_poly, train_target)"
      ],
      "metadata": {
        "colab": {
          "base_uri": "https://localhost:8080/"
        },
        "id": "alYdcOxVOYXj",
        "outputId": "495ae013-b424-42de-9a86-871e42b350c4"
      },
      "execution_count": 52,
      "outputs": [
        {
          "output_type": "execute_result",
          "data": {
            "text/plain": [
              "0.9999999999996433"
            ]
          },
          "metadata": {},
          "execution_count": 52
        }
      ]
    },
    {
      "cell_type": "code",
      "source": [
        "lr.score(test_poly, test_target)"
      ],
      "metadata": {
        "colab": {
          "base_uri": "https://localhost:8080/"
        },
        "id": "8kotsNTUllLd",
        "outputId": "ebac8d52-91c8-43f4-d681-b3c66b420f12"
      },
      "execution_count": 53,
      "outputs": [
        {
          "output_type": "execute_result",
          "data": {
            "text/plain": [
              "-144.40579436844948"
            ]
          },
          "metadata": {},
          "execution_count": 53
        }
      ]
    },
    {
      "cell_type": "code",
      "source": [
        "# 당뇨 데이터\n",
        "# 릿지, 라쏘, 파이퍼 파라미터 조정"
      ],
      "metadata": {
        "id": "te3eaBWallNa"
      },
      "execution_count": null,
      "outputs": []
    },
    {
      "cell_type": "code",
      "source": [
        "from sklearn.datasets import load_diabetes\n",
        "diabetes = load_diabetes()\n",
        "input_data = diabetes['data']\n",
        "target_data = diabetes['target']"
      ],
      "metadata": {
        "id": "gDIgpRS-llPO"
      },
      "execution_count": 54,
      "outputs": []
    },
    {
      "cell_type": "code",
      "source": [
        "train_input_dia, test_input_dia, train_target_dia, test_target_dia = train_test_split(input_data, target_data, random_state=2)"
      ],
      "metadata": {
        "id": "9Pnv9e2nllSZ"
      },
      "execution_count": 55,
      "outputs": []
    },
    {
      "cell_type": "code",
      "source": [
        "poly = PolynomialFeatures(degree=1, include_bias=False)\n",
        "poly.fit(train_input_dia)\n",
        "train_poly_dia = poly.transform(train_input_dia)\n",
        "test_poly_dia = poly.transform(test_input_dia)"
      ],
      "metadata": {
        "id": "2oR3kggTllYi"
      },
      "execution_count": 57,
      "outputs": []
    },
    {
      "cell_type": "code",
      "source": [
        "lr = LinearRegression()\n",
        "lr.fit(train_poly_dia, train_target_dia)"
      ],
      "metadata": {
        "colab": {
          "base_uri": "https://localhost:8080/",
          "height": 74
        },
        "id": "Gx_kL_5bm86U",
        "outputId": "fe9db140-27f2-4a52-c6ad-691cccd777b3"
      },
      "execution_count": 58,
      "outputs": [
        {
          "output_type": "execute_result",
          "data": {
            "text/plain": [
              "LinearRegression()"
            ],
            "text/html": [
              "<style>#sk-container-id-2 {color: black;background-color: white;}#sk-container-id-2 pre{padding: 0;}#sk-container-id-2 div.sk-toggleable {background-color: white;}#sk-container-id-2 label.sk-toggleable__label {cursor: pointer;display: block;width: 100%;margin-bottom: 0;padding: 0.3em;box-sizing: border-box;text-align: center;}#sk-container-id-2 label.sk-toggleable__label-arrow:before {content: \"▸\";float: left;margin-right: 0.25em;color: #696969;}#sk-container-id-2 label.sk-toggleable__label-arrow:hover:before {color: black;}#sk-container-id-2 div.sk-estimator:hover label.sk-toggleable__label-arrow:before {color: black;}#sk-container-id-2 div.sk-toggleable__content {max-height: 0;max-width: 0;overflow: hidden;text-align: left;background-color: #f0f8ff;}#sk-container-id-2 div.sk-toggleable__content pre {margin: 0.2em;color: black;border-radius: 0.25em;background-color: #f0f8ff;}#sk-container-id-2 input.sk-toggleable__control:checked~div.sk-toggleable__content {max-height: 200px;max-width: 100%;overflow: auto;}#sk-container-id-2 input.sk-toggleable__control:checked~label.sk-toggleable__label-arrow:before {content: \"▾\";}#sk-container-id-2 div.sk-estimator input.sk-toggleable__control:checked~label.sk-toggleable__label {background-color: #d4ebff;}#sk-container-id-2 div.sk-label input.sk-toggleable__control:checked~label.sk-toggleable__label {background-color: #d4ebff;}#sk-container-id-2 input.sk-hidden--visually {border: 0;clip: rect(1px 1px 1px 1px);clip: rect(1px, 1px, 1px, 1px);height: 1px;margin: -1px;overflow: hidden;padding: 0;position: absolute;width: 1px;}#sk-container-id-2 div.sk-estimator {font-family: monospace;background-color: #f0f8ff;border: 1px dotted black;border-radius: 0.25em;box-sizing: border-box;margin-bottom: 0.5em;}#sk-container-id-2 div.sk-estimator:hover {background-color: #d4ebff;}#sk-container-id-2 div.sk-parallel-item::after {content: \"\";width: 100%;border-bottom: 1px solid gray;flex-grow: 1;}#sk-container-id-2 div.sk-label:hover label.sk-toggleable__label {background-color: #d4ebff;}#sk-container-id-2 div.sk-serial::before {content: \"\";position: absolute;border-left: 1px solid gray;box-sizing: border-box;top: 0;bottom: 0;left: 50%;z-index: 0;}#sk-container-id-2 div.sk-serial {display: flex;flex-direction: column;align-items: center;background-color: white;padding-right: 0.2em;padding-left: 0.2em;position: relative;}#sk-container-id-2 div.sk-item {position: relative;z-index: 1;}#sk-container-id-2 div.sk-parallel {display: flex;align-items: stretch;justify-content: center;background-color: white;position: relative;}#sk-container-id-2 div.sk-item::before, #sk-container-id-2 div.sk-parallel-item::before {content: \"\";position: absolute;border-left: 1px solid gray;box-sizing: border-box;top: 0;bottom: 0;left: 50%;z-index: -1;}#sk-container-id-2 div.sk-parallel-item {display: flex;flex-direction: column;z-index: 1;position: relative;background-color: white;}#sk-container-id-2 div.sk-parallel-item:first-child::after {align-self: flex-end;width: 50%;}#sk-container-id-2 div.sk-parallel-item:last-child::after {align-self: flex-start;width: 50%;}#sk-container-id-2 div.sk-parallel-item:only-child::after {width: 0;}#sk-container-id-2 div.sk-dashed-wrapped {border: 1px dashed gray;margin: 0 0.4em 0.5em 0.4em;box-sizing: border-box;padding-bottom: 0.4em;background-color: white;}#sk-container-id-2 div.sk-label label {font-family: monospace;font-weight: bold;display: inline-block;line-height: 1.2em;}#sk-container-id-2 div.sk-label-container {text-align: center;}#sk-container-id-2 div.sk-container {/* jupyter's `normalize.less` sets `[hidden] { display: none; }` but bootstrap.min.css set `[hidden] { display: none !important; }` so we also need the `!important` here to be able to override the default hidden behavior on the sphinx rendered scikit-learn.org. See: https://github.com/scikit-learn/scikit-learn/issues/21755 */display: inline-block !important;position: relative;}#sk-container-id-2 div.sk-text-repr-fallback {display: none;}</style><div id=\"sk-container-id-2\" class=\"sk-top-container\"><div class=\"sk-text-repr-fallback\"><pre>LinearRegression()</pre><b>In a Jupyter environment, please rerun this cell to show the HTML representation or trust the notebook. <br />On GitHub, the HTML representation is unable to render, please try loading this page with nbviewer.org.</b></div><div class=\"sk-container\" hidden><div class=\"sk-item\"><div class=\"sk-estimator sk-toggleable\"><input class=\"sk-toggleable__control sk-hidden--visually\" id=\"sk-estimator-id-2\" type=\"checkbox\" checked><label for=\"sk-estimator-id-2\" class=\"sk-toggleable__label sk-toggleable__label-arrow\">LinearRegression</label><div class=\"sk-toggleable__content\"><pre>LinearRegression()</pre></div></div></div></div></div>"
            ]
          },
          "metadata": {},
          "execution_count": 58
        }
      ]
    },
    {
      "cell_type": "code",
      "source": [
        "lr.score(train_poly_dia, train_target_dia)"
      ],
      "metadata": {
        "colab": {
          "base_uri": "https://localhost:8080/"
        },
        "id": "EObHnzmzm88J",
        "outputId": "ebeb5d43-9606-4408-9e01-c6b4b13ac688"
      },
      "execution_count": 59,
      "outputs": [
        {
          "output_type": "execute_result",
          "data": {
            "text/plain": [
              "0.536024169786982"
            ]
          },
          "metadata": {},
          "execution_count": 59
        }
      ]
    },
    {
      "cell_type": "code",
      "source": [
        "lr.score(test_poly_dia, test_target_dia)"
      ],
      "metadata": {
        "colab": {
          "base_uri": "https://localhost:8080/"
        },
        "id": "i3bM6fAdm89t",
        "outputId": "9b89eed8-c118-4044-a53b-b7f8e483394f"
      },
      "execution_count": 60,
      "outputs": [
        {
          "output_type": "execute_result",
          "data": {
            "text/plain": [
              "0.4429562235529033"
            ]
          },
          "metadata": {},
          "execution_count": 60
        }
      ]
    },
    {
      "cell_type": "code",
      "source": [
        "# 표전점수 정규화 가공\n",
        "from sklearn.preprocessing import StandardScaler\n",
        "ss = StandardScaler()\n",
        "ss.fit(train_poly)\n",
        "train_scaled = ss.transform(train_poly)\n",
        "test_scaled = ss.transform(test_poly)"
      ],
      "metadata": {
        "id": "Fu7QERITm9A4"
      },
      "execution_count": 61,
      "outputs": []
    },
    {
      "cell_type": "code",
      "source": [
        "# 릿지 모델 활용\n",
        "from sklearn.linear_model import Ridge\n",
        "ridge = Ridge()\n",
        "ridge.fit(train_scaled, train_target)"
      ],
      "metadata": {
        "colab": {
          "base_uri": "https://localhost:8080/",
          "height": 74
        },
        "id": "24anNQGRm9Dp",
        "outputId": "d116d4dc-4086-4232-9335-5ffbdb65f87c"
      },
      "execution_count": 63,
      "outputs": [
        {
          "output_type": "execute_result",
          "data": {
            "text/plain": [
              "Ridge()"
            ],
            "text/html": [
              "<style>#sk-container-id-4 {color: black;background-color: white;}#sk-container-id-4 pre{padding: 0;}#sk-container-id-4 div.sk-toggleable {background-color: white;}#sk-container-id-4 label.sk-toggleable__label {cursor: pointer;display: block;width: 100%;margin-bottom: 0;padding: 0.3em;box-sizing: border-box;text-align: center;}#sk-container-id-4 label.sk-toggleable__label-arrow:before {content: \"▸\";float: left;margin-right: 0.25em;color: #696969;}#sk-container-id-4 label.sk-toggleable__label-arrow:hover:before {color: black;}#sk-container-id-4 div.sk-estimator:hover label.sk-toggleable__label-arrow:before {color: black;}#sk-container-id-4 div.sk-toggleable__content {max-height: 0;max-width: 0;overflow: hidden;text-align: left;background-color: #f0f8ff;}#sk-container-id-4 div.sk-toggleable__content pre {margin: 0.2em;color: black;border-radius: 0.25em;background-color: #f0f8ff;}#sk-container-id-4 input.sk-toggleable__control:checked~div.sk-toggleable__content {max-height: 200px;max-width: 100%;overflow: auto;}#sk-container-id-4 input.sk-toggleable__control:checked~label.sk-toggleable__label-arrow:before {content: \"▾\";}#sk-container-id-4 div.sk-estimator input.sk-toggleable__control:checked~label.sk-toggleable__label {background-color: #d4ebff;}#sk-container-id-4 div.sk-label input.sk-toggleable__control:checked~label.sk-toggleable__label {background-color: #d4ebff;}#sk-container-id-4 input.sk-hidden--visually {border: 0;clip: rect(1px 1px 1px 1px);clip: rect(1px, 1px, 1px, 1px);height: 1px;margin: -1px;overflow: hidden;padding: 0;position: absolute;width: 1px;}#sk-container-id-4 div.sk-estimator {font-family: monospace;background-color: #f0f8ff;border: 1px dotted black;border-radius: 0.25em;box-sizing: border-box;margin-bottom: 0.5em;}#sk-container-id-4 div.sk-estimator:hover {background-color: #d4ebff;}#sk-container-id-4 div.sk-parallel-item::after {content: \"\";width: 100%;border-bottom: 1px solid gray;flex-grow: 1;}#sk-container-id-4 div.sk-label:hover label.sk-toggleable__label {background-color: #d4ebff;}#sk-container-id-4 div.sk-serial::before {content: \"\";position: absolute;border-left: 1px solid gray;box-sizing: border-box;top: 0;bottom: 0;left: 50%;z-index: 0;}#sk-container-id-4 div.sk-serial {display: flex;flex-direction: column;align-items: center;background-color: white;padding-right: 0.2em;padding-left: 0.2em;position: relative;}#sk-container-id-4 div.sk-item {position: relative;z-index: 1;}#sk-container-id-4 div.sk-parallel {display: flex;align-items: stretch;justify-content: center;background-color: white;position: relative;}#sk-container-id-4 div.sk-item::before, #sk-container-id-4 div.sk-parallel-item::before {content: \"\";position: absolute;border-left: 1px solid gray;box-sizing: border-box;top: 0;bottom: 0;left: 50%;z-index: -1;}#sk-container-id-4 div.sk-parallel-item {display: flex;flex-direction: column;z-index: 1;position: relative;background-color: white;}#sk-container-id-4 div.sk-parallel-item:first-child::after {align-self: flex-end;width: 50%;}#sk-container-id-4 div.sk-parallel-item:last-child::after {align-self: flex-start;width: 50%;}#sk-container-id-4 div.sk-parallel-item:only-child::after {width: 0;}#sk-container-id-4 div.sk-dashed-wrapped {border: 1px dashed gray;margin: 0 0.4em 0.5em 0.4em;box-sizing: border-box;padding-bottom: 0.4em;background-color: white;}#sk-container-id-4 div.sk-label label {font-family: monospace;font-weight: bold;display: inline-block;line-height: 1.2em;}#sk-container-id-4 div.sk-label-container {text-align: center;}#sk-container-id-4 div.sk-container {/* jupyter's `normalize.less` sets `[hidden] { display: none; }` but bootstrap.min.css set `[hidden] { display: none !important; }` so we also need the `!important` here to be able to override the default hidden behavior on the sphinx rendered scikit-learn.org. See: https://github.com/scikit-learn/scikit-learn/issues/21755 */display: inline-block !important;position: relative;}#sk-container-id-4 div.sk-text-repr-fallback {display: none;}</style><div id=\"sk-container-id-4\" class=\"sk-top-container\"><div class=\"sk-text-repr-fallback\"><pre>Ridge()</pre><b>In a Jupyter environment, please rerun this cell to show the HTML representation or trust the notebook. <br />On GitHub, the HTML representation is unable to render, please try loading this page with nbviewer.org.</b></div><div class=\"sk-container\" hidden><div class=\"sk-item\"><div class=\"sk-estimator sk-toggleable\"><input class=\"sk-toggleable__control sk-hidden--visually\" id=\"sk-estimator-id-4\" type=\"checkbox\" checked><label for=\"sk-estimator-id-4\" class=\"sk-toggleable__label sk-toggleable__label-arrow\">Ridge</label><div class=\"sk-toggleable__content\"><pre>Ridge()</pre></div></div></div></div></div>"
            ]
          },
          "metadata": {},
          "execution_count": 63
        }
      ]
    },
    {
      "cell_type": "code",
      "source": [
        "ridge.score(train_scaled,train_target)"
      ],
      "metadata": {
        "colab": {
          "base_uri": "https://localhost:8080/"
        },
        "id": "h4soqOw9rIlB",
        "outputId": "ecccede5-e14f-40bf-ff44-2fdd5cc1c225"
      },
      "execution_count": 65,
      "outputs": [
        {
          "output_type": "execute_result",
          "data": {
            "text/plain": [
              "0.9896101671037343"
            ]
          },
          "metadata": {},
          "execution_count": 65
        }
      ]
    },
    {
      "cell_type": "code",
      "source": [
        "ridge.score(test_scaled, test_target)"
      ],
      "metadata": {
        "colab": {
          "base_uri": "https://localhost:8080/"
        },
        "id": "pLGK8POFrIna",
        "outputId": "7ba71da3-e21e-4e62-c73c-e4453f288f78"
      },
      "execution_count": 66,
      "outputs": [
        {
          "output_type": "execute_result",
          "data": {
            "text/plain": [
              "0.9790693977615387"
            ]
          },
          "metadata": {},
          "execution_count": 66
        }
      ]
    },
    {
      "cell_type": "code",
      "source": [
        "import matplotlib.pyplot as plt"
      ],
      "metadata": {
        "id": "2yQC7quurIpA"
      },
      "execution_count": 67,
      "outputs": []
    },
    {
      "cell_type": "code",
      "source": [
        "train_score = []\n",
        "test_score = []\n",
        "alpha_lst = [0.001,0.01,0.1,1,10,100]\n",
        "for alpha in alpha_lst:\n",
        "  ridge = Ridge(alpha=alpha)\n",
        "  ridge.fit(train_scaled, train_target)\n",
        "  score_train = ridge.score(train_scaled, train_target)\n",
        "  train_score.append(score_train)\n",
        "  score_test = ridge.score(test_scaled, test_target)\n",
        "  test_score.append(score_test)"
      ],
      "metadata": {
        "id": "7TiEqHBarIqy"
      },
      "execution_count": 68,
      "outputs": []
    },
    {
      "cell_type": "code",
      "source": [
        "plt.plot(np.log10(alpha_lst),train_score)\n",
        "plt.plot(np.log10(alpha_lst),test_score)\n",
        "plt.xlabel('R^2')\n",
        "plt.show()"
      ],
      "metadata": {
        "colab": {
          "base_uri": "https://localhost:8080/",
          "height": 449
        },
        "id": "gEudsvserIsm",
        "outputId": "7bf3d866-7ebf-4b56-e484-ad821193f993"
      },
      "execution_count": 69,
      "outputs": [
        {
          "output_type": "display_data",
          "data": {
            "text/plain": [
              "<Figure size 640x480 with 1 Axes>"
            ],
            "image/png": "[encoded data removed]"
          },
          "metadata": {}
        }
      ]
    },
    {
      "cell_type": "code",
      "source": [
        "# 라쏘 모델 실습\n",
        "from sklearn.linear_model import Lasso\n",
        "lasso = Lasso()\n",
        "lasso.fit(train_scaled, train_target)"
      ],
      "metadata": {
        "colab": {
          "base_uri": "https://localhost:8080/",
          "height": 74
        },
        "id": "ztROMppjrIuW",
        "outputId": "dbd33aa7-0ce9-40de-cb7b-631d12fafa49"
      },
      "execution_count": 72,
      "outputs": [
        {
          "output_type": "execute_result",
          "data": {
            "text/plain": [
              "Lasso()"
            ],
            "text/html": [
              "<style>#sk-container-id-5 {color: black;background-color: white;}#sk-container-id-5 pre{padding: 0;}#sk-container-id-5 div.sk-toggleable {background-color: white;}#sk-container-id-5 label.sk-toggleable__label {cursor: pointer;display: block;width: 100%;margin-bottom: 0;padding: 0.3em;box-sizing: border-box;text-align: center;}#sk-container-id-5 label.sk-toggleable__label-arrow:before {content: \"▸\";float: left;margin-right: 0.25em;color: #696969;}#sk-container-id-5 label.sk-toggleable__label-arrow:hover:before {color: black;}#sk-container-id-5 div.sk-estimator:hover label.sk-toggleable__label-arrow:before {color: black;}#sk-container-id-5 div.sk-toggleable__content {max-height: 0;max-width: 0;overflow: hidden;text-align: left;background-color: #f0f8ff;}#sk-container-id-5 div.sk-toggleable__content pre {margin: 0.2em;color: black;border-radius: 0.25em;background-color: #f0f8ff;}#sk-container-id-5 input.sk-toggleable__control:checked~div.sk-toggleable__content {max-height: 200px;max-width: 100%;overflow: auto;}#sk-container-id-5 input.sk-toggleable__control:checked~label.sk-toggleable__label-arrow:before {content: \"▾\";}#sk-container-id-5 div.sk-estimator input.sk-toggleable__control:checked~label.sk-toggleable__label {background-color: #d4ebff;}#sk-container-id-5 div.sk-label input.sk-toggleable__control:checked~label.sk-toggleable__label {background-color: #d4ebff;}#sk-container-id-5 input.sk-hidden--visually {border: 0;clip: rect(1px 1px 1px 1px);clip: rect(1px, 1px, 1px, 1px);height: 1px;margin: -1px;overflow: hidden;padding: 0;position: absolute;width: 1px;}#sk-container-id-5 div.sk-estimator {font-family: monospace;background-color: #f0f8ff;border: 1px dotted black;border-radius: 0.25em;box-sizing: border-box;margin-bottom: 0.5em;}#sk-container-id-5 div.sk-estimator:hover {background-color: #d4ebff;}#sk-container-id-5 div.sk-parallel-item::after {content: \"\";width: 100%;border-bottom: 1px solid gray;flex-grow: 1;}#sk-container-id-5 div.sk-label:hover label.sk-toggleable__label {background-color: #d4ebff;}#sk-container-id-5 div.sk-serial::before {content: \"\";position: absolute;border-left: 1px solid gray;box-sizing: border-box;top: 0;bottom: 0;left: 50%;z-index: 0;}#sk-container-id-5 div.sk-serial {display: flex;flex-direction: column;align-items: center;background-color: white;padding-right: 0.2em;padding-left: 0.2em;position: relative;}#sk-container-id-5 div.sk-item {position: relative;z-index: 1;}#sk-container-id-5 div.sk-parallel {display: flex;align-items: stretch;justify-content: center;background-color: white;position: relative;}#sk-container-id-5 div.sk-item::before, #sk-container-id-5 div.sk-parallel-item::before {content: \"\";position: absolute;border-left: 1px solid gray;box-sizing: border-box;top: 0;bottom: 0;left: 50%;z-index: -1;}#sk-container-id-5 div.sk-parallel-item {display: flex;flex-direction: column;z-index: 1;position: relative;background-color: white;}#sk-container-id-5 div.sk-parallel-item:first-child::after {align-self: flex-end;width: 50%;}#sk-container-id-5 div.sk-parallel-item:last-child::after {align-self: flex-start;width: 50%;}#sk-container-id-5 div.sk-parallel-item:only-child::after {width: 0;}#sk-container-id-5 div.sk-dashed-wrapped {border: 1px dashed gray;margin: 0 0.4em 0.5em 0.4em;box-sizing: border-box;padding-bottom: 0.4em;background-color: white;}#sk-container-id-5 div.sk-label label {font-family: monospace;font-weight: bold;display: inline-block;line-height: 1.2em;}#sk-container-id-5 div.sk-label-container {text-align: center;}#sk-container-id-5 div.sk-container {/* jupyter's `normalize.less` sets `[hidden] { display: none; }` but bootstrap.min.css set `[hidden] { display: none !important; }` so we also need the `!important` here to be able to override the default hidden behavior on the sphinx rendered scikit-learn.org. See: https://github.com/scikit-learn/scikit-learn/issues/21755 */display: inline-block !important;position: relative;}#sk-container-id-5 div.sk-text-repr-fallback {display: none;}</style><div id=\"sk-container-id-5\" class=\"sk-top-container\"><div class=\"sk-text-repr-fallback\"><pre>Lasso()</pre><b>In a Jupyter environment, please rerun this cell to show the HTML representation or trust the notebook. <br />On GitHub, the HTML representation is unable to render, please try loading this page with nbviewer.org.</b></div><div class=\"sk-container\" hidden><div class=\"sk-item\"><div class=\"sk-estimator sk-toggleable\"><input class=\"sk-toggleable__control sk-hidden--visually\" id=\"sk-estimator-id-5\" type=\"checkbox\" checked><label for=\"sk-estimator-id-5\" class=\"sk-toggleable__label sk-toggleable__label-arrow\">Lasso</label><div class=\"sk-toggleable__content\"><pre>Lasso()</pre></div></div></div></div></div>"
            ]
          },
          "metadata": {},
          "execution_count": 72
        }
      ]
    },
    {
      "cell_type": "code",
      "source": [
        "lasso.score(train_scaled, train_target)"
      ],
      "metadata": {
        "colab": {
          "base_uri": "https://localhost:8080/"
        },
        "id": "ukIXUE84rIwO",
        "outputId": "9efbe0d1-8b75-4394-c656-a0e06e2a99b0"
      },
      "execution_count": 73,
      "outputs": [
        {
          "output_type": "execute_result",
          "data": {
            "text/plain": [
              "0.989789897208096"
            ]
          },
          "metadata": {},
          "execution_count": 73
        }
      ]
    },
    {
      "cell_type": "code",
      "source": [
        "lasso.score(test_scaled, test_target)"
      ],
      "metadata": {
        "colab": {
          "base_uri": "https://localhost:8080/"
        },
        "id": "SSaSQPs4rIyF",
        "outputId": "bb58cfb9-d70c-4a65-ab44-055a7aea5134"
      },
      "execution_count": 74,
      "outputs": [
        {
          "output_type": "execute_result",
          "data": {
            "text/plain": [
              "0.9800593698421883"
            ]
          },
          "metadata": {},
          "execution_count": 74
        }
      ]
    },
    {
      "cell_type": "code",
      "source": [
        "import matplotlib.pyplot as plt\n",
        "train_score = []\n",
        "test_score = []\n",
        "alpha_lst = [0.001,0.01,0.1,1,10,100]\n",
        "for alpha in alpha_lst:\n",
        "  lasso = Lasso(alpha=alpha)\n",
        "  lasso.fit(train_scaled, train_target)\n",
        "  score_train = lasso.score(train_scaled, train_target)\n",
        "  train_score.append(score_train)\n",
        "  score_test = lasso.score(test_scaled, test_target)\n",
        "  test_score.append(score_test)"
      ],
      "metadata": {
        "colab": {
          "base_uri": "https://localhost:8080/"
        },
        "id": "ISXYG3BSrIz3",
        "outputId": "c2bc6f25-795b-4b8b-f6db-4973e9d6632a"
      },
      "execution_count": 75,
      "outputs": [
        {
          "output_type": "stream",
          "name": "stderr",
          "text": [
            "/usr/local/lib/python3.10/dist-packages/sklearn/linear_model/_coordinate_descent.py:631: ConvergenceWarning: Objective did not converge. You might want to increase the number of iterations, check the scale of the features or consider increasing regularisation. Duality gap: 2.336e+04, tolerance: 5.183e+02\n",
            "  model = cd_fast.enet_coordinate_descent(\n",
            "/usr/local/lib/python3.10/dist-packages/sklearn/linear_model/_coordinate_descent.py:631: ConvergenceWarning: Objective did not converge. You might want to increase the number of iterations, check the scale of the features or consider increasing regularisation. Duality gap: 2.025e+04, tolerance: 5.183e+02\n",
            "  model = cd_fast.enet_coordinate_descent(\n",
            "/usr/local/lib/python3.10/dist-packages/sklearn/linear_model/_coordinate_descent.py:631: ConvergenceWarning: Objective did not converge. You might want to increase the number of iterations, check the scale of the features or consider increasing regularisation. Duality gap: 8.062e+02, tolerance: 5.183e+02\n",
            "  model = cd_fast.enet_coordinate_descent(\n"
          ]
        }
      ]
    },
    {
      "cell_type": "code",
      "source": [
        "plt.plot(np.log10(alpha_lst),train_score)\n",
        "plt.plot(np.log10(alpha_lst),test_score)\n",
        "plt.xlabel('R^2')\n",
        "plt.show()"
      ],
      "metadata": {
        "colab": {
          "base_uri": "https://localhost:8080/",
          "height": 449
        },
        "id": "T1IGYBrdrI1m",
        "outputId": "ffffa2ed-c36e-4419-d04a-ab2e894c2784"
      },
      "execution_count": 76,
      "outputs": [
        {
          "output_type": "display_data",
          "data": {
            "text/plain": [
              "<Figure size 640x480 with 1 Axes>"
            ],
            "image/png": "[encoded data removed]"
          },
          "metadata": {}
        }
      ]
    },
    {
      "cell_type": "code",
      "source": [],
      "metadata": {
        "id": "YblgbSkorI3q"
      },
      "execution_count": 63,
      "outputs": []
    },
    {
      "cell_type": "code",
      "source": [],
      "metadata": {
        "id": "A8pnWxQZrI5L"
      },
      "execution_count": 63,
      "outputs": []
    },
    {
      "cell_type": "code",
      "source": [],
      "metadata": {
        "id": "RY8pD6tMrI7H"
      },
      "execution_count": 63,
      "outputs": []
    },
    {
      "cell_type": "code",
      "source": [],
      "metadata": {
        "id": "12-jGQkIrI82"
      },
      "execution_count": 63,
      "outputs": []
    },
    {
      "cell_type": "code",
      "source": [],
      "metadata": {
        "id": "zRpf_ZDOrI-8"
      },
      "execution_count": null,
      "outputs": []
    }
  ]
}